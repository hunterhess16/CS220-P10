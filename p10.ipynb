{
 "cells": [
  {
   "cell_type": "code",
   "execution_count": 2,
   "id": "1fb8956e",
   "metadata": {
    "cell_type": "code",
    "deletable": false,
    "editable": false
   },
   "outputs": [],
   "source": [
    "import otter\n",
    "# nb_name should be the name of your notebook without the .ipynb extension\n",
    "nb_name = \"p10\"\n",
    "py_filename = nb_name + \".py\"\n",
    "grader = otter.Notebook(nb_name + \".ipynb\")"
   ]
  },
  {
   "cell_type": "code",
   "execution_count": 3,
   "id": "b3c0611c",
   "metadata": {
    "deletable": false
   },
   "outputs": [],
   "source": [
    "import p10_test"
   ]
  },
  {
   "cell_type": "markdown",
   "id": "f4b42f5f",
   "metadata": {
    "deletable": false,
    "editable": false
   },
   "source": [
    "# Project 10: Stars and Planets"
   ]
  },
  {
   "cell_type": "markdown",
   "id": "a8c01ea1",
   "metadata": {
    "deletable": false,
    "editable": false
   },
   "source": [
    "## Learning Objectives:\n",
    "\n",
    "In this project, you will demonstrate how to:\n",
    "\n",
    "* use `os` module to get information of files in a directory,\n",
    "* use `os` module to get paths of files,\n",
    "* look up data between JSON and CSV files using unique keys,\n",
    "* read JSON and CSV files to store data to `namedTuple` objects,\n",
    "* clean up missing values and handle cases when the file is too corrupt to parse,\n",
    "\n",
    "Please go through [Lab-P10](https://git.doit.wisc.edu/cdis/cs/courses/cs220/cs220-s23-projects/-/tree/main/lab-p10) before working on this project. The lab introduces some useful techniques related to this project."
   ]
  },
  {
   "cell_type": "markdown",
   "id": "275b9124",
   "metadata": {
    "deletable": false,
    "editable": false
   },
   "source": [
    "## Note on Academic Misconduct:\n",
    "\n",
    "**IMPORTANT**: P10 and P11 are two parts of the same data analysis. You **cannot** switch project partners between these two projects. That is if you partner up with someone for P10, you have to sustain that partnership until end of P11. Now may be a good time to review [our course policies](https://cs220.cs.wisc.edu/s23/syllabus.html)."
   ]
  },
  {
   "cell_type": "markdown",
   "id": "fedae2f1",
   "metadata": {
    "deletable": false,
    "editable": false
   },
   "source": [
    "## Testing your code:\n",
    "\n",
    "Along with this notebook, you must have downloaded the file `p10_test.py`. If you are curious about how we test your code, you can explore this file, and specifically the value of the variable `expected_json`, to understand the expected answers to the questions."
   ]
  },
  {
   "cell_type": "markdown",
   "id": "86ca6379",
   "metadata": {
    "deletable": false,
    "editable": false
   },
   "source": [
    "## Setup:\n",
    "\n",
    "Before proceeding much further, download `data.zip` and extract it to a directory on your\n",
    "computer (using [Mac directions](http://osxdaily.com/2017/11/05/how-open-zip-file-mac/) or\n",
    "[Windows directions](https://support.microsoft.com/en-us/help/4028088/windows-zip-and-unzip-files)).\n",
    "\n",
    "You need to make sure that the project files are stored in the following structure:\n",
    "\n",
    "```\n",
    "+-- p10.ipynb\n",
    "+-- p10_test.py\n",
    "+-- data\n",
    "|   +-- .DS_Store\n",
    "|   +-- .ipynb_checkpoints\n",
    "|   +-- mapping_1.json\n",
    "|   +-- mapping_2.json\n",
    "|   +-- mapping_3.json\n",
    "|   +-- mapping_4.json\n",
    "|   +-- mapping_5.json\n",
    "|   +-- planets_1.csv\n",
    "|   +-- planets_2.csv\n",
    "|   +-- planets_3.csv\n",
    "|   +-- planets_4.csv\n",
    "|   +-- planets_5.csv\n",
    "|   +-- stars_1.csv\n",
    "|   +-- stars_2.csv\n",
    "|   +-- stars_3.csv\n",
    "|   +-- stars_4.csv\n",
    "|   +-- stars_5.csv\n",
    "```\n",
    "\n",
    "Make sure that the files inside `data.zip` are inside the `data` directory. If you place your files inside some other directory, then your code will **fail on Gradescope** even after passing local tests."
   ]
  },
  {
   "cell_type": "markdown",
   "id": "b2433d61",
   "metadata": {
    "deletable": false,
    "editable": false
   },
   "source": [
    "## Project Description:\n",
    "\n",
    "Cleaning data is an important part of a data scientist's work cycle. As you have already seen, the data we will be analyzing in P10 and P11 has been split up into 15 different files of different formats. Even worse, as you shall see later in this project, some of these files have been corrupted, and lots of data is missing. Unfortunately, in the real world, a lot of data that you will come across will be in rough shape, and it is your job to clean it up before you can analyze it. In P10, you will combine the data in these different files to create a few manageable data structures, which can be easily analyzed. In the process, you will also have to deal with broken CSV files (by skipping rows with broken data), and broken JSON files (by skipping the files entirely).\n",
    "\n",
    "After you create these data structures, in P11, you will dive deeper by analyzing this data and arrive at some exciting conclusions about various planets and stars outside our Solar System."
   ]
  },
  {
   "cell_type": "markdown",
   "id": "eb71a2bf",
   "metadata": {
    "deletable": false,
    "editable": false
   },
   "source": [
    "## The Data:\n",
    "\n",
    "In P10 and P11, you will be studying stars and planets outside our Solar System using this dataset from the [NASA Exoplanet Archive](https://exoplanetarchive.ipac.caltech.edu/cgi-bin/TblView/nph-tblView?app=ExoTbls&config=PSCompPars). You will use Python to ask some interesting questions about the laws of the universe and explore the habitability of other planets in our universe. The raw data from the [NASA Exoplanet Archive](https://exoplanetarchive.ipac.caltech.edu/cgi-bin/TblView/nph-tblView?app=ExoTbls&config=PSCompPars) has been parsed and stored in multiple different files of different formats. You can find these files inside `data.zip`.\n",
    "\n",
    "You can open each of these files using Microsoft Excel or some other Spreadsheet viewing software to see how the data is stored. For example, these are the first three rows of the file `stars_1.csv`:\n",
    "\n",
    "|Name|Spectral Type|Stellar Effective Temperature [K]|Stellar Radius [Solar Radius]|Stellar Mass [Solar mass]|Stellar Luminosity [log(Solar)]|Stellar Surface Gravity [log10(cm/s**2)]|Stellar Age [Gyr]|\n",
    "|----|-------------|---------------------------------|-----------------------------|-------------------------|-------------------------------|----------------------------------------|-----------------|\n",
    "|11 Com|G8 III|4742.00|19.00|2.70|2.243|2.31||\n",
    "|11 UMi|K4 III|4213.00|29.79|2.78|2.430|1.93|1.560|\n",
    "|14 And|K0 III|4813.00|11.00|2.20|1.763|2.63|4.500|\n",
    "\n",
    "As you might have already guessed, this file contains data on a number of *stars* outside our solar system along with some important statistics about these stars. The columns here are as follows:\n",
    "\n",
    "- `Name`: The name given to the star by the International Astronomical Union,\n",
    "- `Spectral Type`: The Spectral Classification of the star as per the Morgan–Keenan (MK) system,\n",
    "- `Stellar Effective Temperature [K]`: The temperature of a black body (in units of Kelvin) that would emit the observed radiation of the star,\n",
    "- `Stellar Radius [Solar Radius]`: The radius of the star (in units of the radius of the Sun),\n",
    "- `Stellar Mass [Solar mass]`: The mass of the star (in units of the mass of the Sun),\n",
    "- `Stellar Luminosity [log(Solar)]`: The total amount of energy radiated by the star each second (represented by the logarithm of the energy radiated by the Sun in each second),\n",
    "- `Stellar Surface Gravity [log10(cm/s**2)]`: The acceleration due to the gravity of the Star at its surface (represented by the logarithm of the acceleration measured in centimeter per second squared),\n",
    "- `Stellar Age [Gyr]`: The total age of the star (in units of Giga years, i.e., billions of years).\n",
    "\n",
    "The four other files `stars_2.csv`, `stars_3.csv`, `stars_4.csv`, and `stars_5.csv` also store similar data in the same format. At this stage of the project, it is alright if you do not understand what these columns mean - they will be explained to you when they become necessary (in P11).\n",
    "\n",
    "On the other hand, here are the first three rows of the file `planets_1.csv`:\n",
    "\n",
    "|Planet Name|Discovery Method|Discovery Year|Controversial Flag|Orbital Period [days]|Planet Radius [Earth Radius]|Planet Mass [Earth Mass]|Orbit Semi-Major Axis [au]|Eccentricity|Equilibrium Temperature [K]|Insolation Flux [Earth Flux]|\n",
    "|-----------|----------------|--------------|------------------|---------------------|----------------------------|------------------------|---------------------------|------------|---------------------------|----------------------------|\n",
    "|11 Com b|Radial Velocity|2007|0|326.03|12.1|6165.6|1.29|0.231|||\n",
    "|11 UMi b|Radial Velocity|2009|0|516.21997|12.3|4684.8142|1.53|0.08|||\n",
    "|14 And b|Radial Velocity|2008|0|185.84|12.9|1525.5|0.83|0|||\n",
    "\n",
    "This file contains data on a number of *planets* outside our solar system along with some important statistics about these planets. The columns here are as follows:\n",
    "\n",
    "- `Planet Name`: The name given to the planet by the International Astronomical Union,\n",
    "- `Discovery Method`: The method by which the planet was discovered,\n",
    "- `Discovery Year`: The year in which the planet was discovered,\n",
    "- `Controversial Flag`: Indicates whether the status of the discovered object as a planet was disputed at the time of discovery, \n",
    "- `Orbital Period [days]`: The amount of time (in units of days) it takes for the planet to complete one orbit around its star,\n",
    "- `Planet Radius [Earth Radius]`: The radius of the planet (in units of the radius of the Earth),\n",
    "- `Planet Mass [Earth Mass]`: The mass of the planet (in units of the mass of the Earth),\n",
    "- `Orbit Semi-Major Axis [au]`: The semi-major axis of the planet's elliptical orbit around its host star (in units of Astronomical Units),\n",
    "- `Eccentricity`: The eccentricity of the planet's orbit around its host star,\n",
    "- `Equilibrium Temperature [K]`: The temperature of the planet (in units of Kelvin) if it were a black body heated only by its host star,\n",
    "- `Insolation Flux [Earth Flux]`:  The amount of radiation the planet received from its host star per unit of area (in units of the Insolation Flux of the Earth from the Sun).\n",
    "\n",
    "The four other files `planets_2.csv`, `planets_3.csv`, `planets_4.csv`, and `planets_5.csv` also store similar data in the same format. At this stage of the project, it is alright if you do not understand what these columns mean - they will be explained to you when they become necessary (in P11).\n",
    "\n",
    "\n",
    "Finally, if you take a look at `mapping_1.json` (you can open json files using any Text Editor), you will see that the first three entries look like this:\n",
    "\n",
    "```\n",
    "{\"11 Com b\": \"11 Com\", \"11 UMi b\": \"11 UMi\", \"14 And b\": \"14 And\", ...}\n",
    "```\n",
    "\n",
    "This file contains a *mapping* from each *planet* in `planets_1.csv` to the *star* in `stars_1.csv` that the planet orbits. Similarly, `mapping_2.json` contains a *mapping* from each *planet* in `planets_2.csv` to the *star* in `stars_2.csv` that the planet orbits. The pattern also holds true for `mapping_3.json`, `mapping_4.json`, and `mapping_5.json`."
   ]
  },
  {
   "cell_type": "markdown",
   "id": "d1eb59ea",
   "metadata": {
    "deletable": false,
    "editable": false
   },
   "source": [
    "## Project Requirements:\n",
    "\n",
    "You **may not** hardcode indices in your code, unless the question explicitly says to. If you open your `.csv` files with Excel, manually count through the rows and use this number to loop through the dataset, this is also considered as hardcoding. We'll **manually deduct** points from your autograder score on Gradescope during code review.\n",
    "\n",
    "**Store** your final answer for each question in the **variable specified for each question**. This step is important because Otter grades your work by comparing the value of this variable against the correct answer.\n",
    "\n",
    "For some of the questions, we'll ask you to write (then use) a function to compute the answer. If you compute the answer **without** creating the function we ask you to write, we'll **manually deduct** points from your autograder score on Gradescope, even if the way you did it produced the correct answer.\n",
    "\n",
    "Required Functions:\n",
    "- `star_cell`\n",
    "- `get_stars`\n",
    "- `planet_cell`\n",
    "- `get_planets`\n",
    "\n",
    "In this project, you will also be required to define certain **data structures**. If you do not create these data structures exactly as specified, we'll **manually deduct** points from your autograder score on Gradescope, even if the way you did it produced the correct answer.\n",
    "\n",
    "Required Data Structures:\n",
    "- `Star` (**namedtuple**)\n",
    "- `stars_dict` (**dictionary** mapping **strings** to `Star` objects)\n",
    "- `Planet` (**namedtuple**)\n",
    "- `planets_list` (**list** of `Planet` objects)\n",
    "\n",
    "In addition, you are also **required** to follow the requirements below:\n",
    "\n",
    "* You **must** never use the output of the `os.listdir` function directly. You **must** always first remove all files and directories that start with `\".\"`, and sort the list before doing anything with it.\n",
    "* You are **not** allowed to use *bare* `try/except` blocks. In other words, you can **not** use `try/except` without explicitly specifying the type of exceptions that you want to catch.\n",
    "* You are **only** allowed to use Python commands and concepts that have been taught in the course prior to the release of P10. In particular, this means that you are **not** allowed to use **modules** like `pandas` to answer the questions in this project.\n",
    "* Please do not dsplay `start_dict` or `planets_dict` anywhere in the notebook unless explicitly mentioned. Please remove such print statements before submission.\n",
    "\n",
    "We will **manually deduct** points if you do **not** follow these guidelines.\n",
    "\n",
    "For more details on what will cause you to lose points during code review and specific requirements, please take a look at the [Grading rubric](https://git.doit.wisc.edu/cdis/cs/courses/cs220/cs220-s23-projects/-/blob/main/p10/rubric.md)."
   ]
  },
  {
   "cell_type": "markdown",
   "id": "e48a30c5",
   "metadata": {
    "deletable": false,
    "editable": false,
    "lines_to_next_cell": 0
   },
   "source": [
    "## Questions and Functions:\n",
    "\n",
    "Let us start by importing all the modules we will need for this project."
   ]
  },
  {
   "cell_type": "code",
   "execution_count": 4,
   "id": "a21e9311",
   "metadata": {
    "lines_to_next_cell": 0,
    "tags": []
   },
   "outputs": [],
   "source": [
    "# it is considered a good coding practice to place all import statements at the top of the notebook\n",
    "# please place all your import statements in this cell if you need to import any more modules for this project\n",
    "import os\n",
    "from collections import namedtuple\n",
    "import csv\n",
    "import json\n",
    "from json import JSONDecodeError"
   ]
  },
  {
   "cell_type": "markdown",
   "id": "c76cb103",
   "metadata": {
    "deletable": false,
    "editable": false
   },
   "source": [
    "### File handling:\n",
    "\n",
    "In the next questions, you will be using functions in the `os` module to make **lists** of files and paths in the `data` directory. All your **lists** **must** satisfy the following conditions:\n",
    "\n",
    "* Any files with names beginning with `\".\"` **must** be **excluded**.\n",
    "* The list **must** be in **reverse-alphabetical** order."
   ]
  },
  {
   "cell_type": "markdown",
   "id": "b4bd1260",
   "metadata": {
    "deletable": false,
    "editable": false
   },
   "source": [
    "**Question 1:** What are the **names** of the files present in the `data` directory\n",
    "\n",
    "Your output **must** be a **list** of **strings** representing the **names** of the files."
   ]
  },
  {
   "cell_type": "code",
   "execution_count": 5,
   "id": "008004e3",
   "metadata": {
    "lines_to_next_cell": 0,
    "tags": []
   },
   "outputs": [
    {
     "data": {
      "text/plain": [
       "['stars_5.csv',\n",
       " 'stars_4.csv',\n",
       " 'stars_3.csv',\n",
       " 'stars_2.csv',\n",
       " 'stars_1.csv',\n",
       " 'planets_5.csv',\n",
       " 'planets_4.csv',\n",
       " 'planets_3.csv',\n",
       " 'planets_2.csv',\n",
       " 'planets_1.csv',\n",
       " 'mapping_5.json',\n",
       " 'mapping_4.json',\n",
       " 'mapping_3.json',\n",
       " 'mapping_2.json',\n",
       " 'mapping_1.json']"
      ]
     },
     "execution_count": 5,
     "metadata": {},
     "output_type": "execute_result"
    }
   ],
   "source": [
    "# compute and store the answer in the variable 'files_in_data', then display it\n",
    "all_files = os.listdir('data')\n",
    "\n",
    "actual_files = []\n",
    "for file in all_files:\n",
    "    if file[0] == \".\":\n",
    "        continue\n",
    "    actual_files.append(file)\n",
    "actual_files\n",
    "\n",
    "files_in_data = sorted(actual_files, reverse = True)\n",
    "files_in_data"
   ]
  },
  {
   "cell_type": "code",
   "execution_count": 6,
   "id": "c95d46e9",
   "metadata": {
    "deletable": false,
    "editable": false
   },
   "outputs": [
    {
     "data": {
      "text/html": [
       "<p><strong><pre style='display: inline;'>q1</pre></strong> passed! 🎉</p>"
      ],
      "text/plain": [
       "q1 results: All test cases passed!"
      ]
     },
     "execution_count": 6,
     "metadata": {},
     "output_type": "execute_result"
    }
   ],
   "source": [
    "grader.check(\"q1\")"
   ]
  },
  {
   "cell_type": "markdown",
   "id": "26a178ec",
   "metadata": {
    "deletable": false,
    "editable": false
   },
   "source": [
    "**Question 2:** What are the **paths** of all the files in the `data` directory?\n",
    "\n",
    "Your output **must** be a **list** of **strings** representing the **paths** of the files. You **must** use the `files_in_data` variable created in the previous question to answer this.\n",
    "\n",
    "**Warning:** Please **do not hardcode** `\"/\"` or `\"\\\"` in your path because doing so will cause your function to **fail** on a computer that's not using the same operating system as yours. This may result in your code failing on Gradescope."
   ]
  },
  {
   "cell_type": "code",
   "execution_count": 7,
   "id": "0145dbc4",
   "metadata": {
    "lines_to_next_cell": 0,
    "tags": []
   },
   "outputs": [
    {
     "data": {
      "text/plain": [
       "['data/stars_5.csv',\n",
       " 'data/stars_4.csv',\n",
       " 'data/stars_3.csv',\n",
       " 'data/stars_2.csv',\n",
       " 'data/stars_1.csv',\n",
       " 'data/planets_5.csv',\n",
       " 'data/planets_4.csv',\n",
       " 'data/planets_3.csv',\n",
       " 'data/planets_2.csv',\n",
       " 'data/planets_1.csv',\n",
       " 'data/mapping_5.json',\n",
       " 'data/mapping_4.json',\n",
       " 'data/mapping_3.json',\n",
       " 'data/mapping_2.json',\n",
       " 'data/mapping_1.json']"
      ]
     },
     "execution_count": 7,
     "metadata": {},
     "output_type": "execute_result"
    }
   ],
   "source": [
    "# compute and store the answer in the variable 'file_paths', then display it\n",
    "file_paths = []\n",
    "for file in files_in_data:\n",
    "    file_paths.append(os.path.join(\"data\", file))\n",
    "file_paths"
   ]
  },
  {
   "cell_type": "code",
   "execution_count": 8,
   "id": "68eb1e38",
   "metadata": {
    "deletable": false,
    "editable": false
   },
   "outputs": [
    {
     "data": {
      "text/html": [
       "<p><strong><pre style='display: inline;'>q2</pre></strong> passed! 🌟</p>"
      ],
      "text/plain": [
       "q2 results: All test cases passed!"
      ]
     },
     "execution_count": 8,
     "metadata": {},
     "output_type": "execute_result"
    }
   ],
   "source": [
    "grader.check(\"q2\")"
   ]
  },
  {
   "cell_type": "markdown",
   "id": "781e1b4e",
   "metadata": {
    "deletable": false,
    "editable": false
   },
   "source": [
    "**Question 3:** What are the **paths** of all the **CSV files** present in `data` directory?\n",
    "\n",
    "Your output **must** be filtered to **only** include files ending in `.csv`. You **must** use either the `files_in_data` or `file_paths` variables created in the previous questions to answer this.\n",
    "\n",
    "**Warning:** Please **do not hardcode** `\"/\"` or `\"\\\"` in your path because doing so will cause your function to **fail** on a computer that's not using the same operating system as yours. This may result in your code failing on Gradescope."
   ]
  },
  {
   "cell_type": "code",
   "execution_count": 9,
   "id": "f04ef7d3",
   "metadata": {
    "lines_to_next_cell": 0,
    "tags": []
   },
   "outputs": [
    {
     "data": {
      "text/plain": [
       "['data/stars_5.csv',\n",
       " 'data/stars_4.csv',\n",
       " 'data/stars_3.csv',\n",
       " 'data/stars_2.csv',\n",
       " 'data/stars_1.csv',\n",
       " 'data/planets_5.csv',\n",
       " 'data/planets_4.csv',\n",
       " 'data/planets_3.csv',\n",
       " 'data/planets_2.csv',\n",
       " 'data/planets_1.csv']"
      ]
     },
     "execution_count": 9,
     "metadata": {},
     "output_type": "execute_result"
    }
   ],
   "source": [
    "# compute and store the answer in the variable 'csv_file_paths', then display it\n",
    "csv_file_paths = []\n",
    "for file in files_in_data:\n",
    "    if file[-3:] == \"csv\":\n",
    "        csv_file_paths.append(os.path.join(\"data\", file))\n",
    "sorted(csv_file_paths, reverse = True)\n",
    "csv_file_paths"
   ]
  },
  {
   "cell_type": "code",
   "execution_count": 10,
   "id": "3ee22f17",
   "metadata": {
    "deletable": false,
    "editable": false
   },
   "outputs": [
    {
     "data": {
      "text/html": [
       "<p><strong><pre style='display: inline;'>q3</pre></strong> passed! ✨</p>"
      ],
      "text/plain": [
       "q3 results: All test cases passed!"
      ]
     },
     "execution_count": 10,
     "metadata": {},
     "output_type": "execute_result"
    }
   ],
   "source": [
    "grader.check(\"q3\")"
   ]
  },
  {
   "cell_type": "markdown",
   "id": "e80ed130",
   "metadata": {
    "deletable": false,
    "editable": false
   },
   "source": [
    "**Question 4:** What are the **paths** of all the files present in `data` directory, that **begin** with the phrase `'stars'`?\n",
    "\n",
    "Your output **must** be filtered to **only** include files start with `stars`. You **must** use either the `files_in_data` or `file_paths` variables created in the previous questions to answer this.\n",
    "\n",
    "**Warning:** Please **do not hardcode** `\"/\"` or `\"\\\"` in your path because doing so will cause your function to **fail** on a computer that's not using the same operating system as yours. This may result in your code failing on Gradescope."
   ]
  },
  {
   "cell_type": "code",
   "execution_count": 11,
   "id": "f1bc89f4",
   "metadata": {
    "lines_to_next_cell": 0,
    "tags": []
   },
   "outputs": [
    {
     "data": {
      "text/plain": [
       "['data/stars_5.csv',\n",
       " 'data/stars_4.csv',\n",
       " 'data/stars_3.csv',\n",
       " 'data/stars_2.csv',\n",
       " 'data/stars_1.csv']"
      ]
     },
     "execution_count": 11,
     "metadata": {},
     "output_type": "execute_result"
    }
   ],
   "source": [
    "# compute and store the answer in the variable 'stars_paths', then display it\n",
    "stars_paths = []\n",
    "for file in files_in_data:\n",
    "    if file[:5] == \"stars\":\n",
    "        stars_paths.append(os.path.join(\"data\", file))\n",
    "stars_paths\n",
    "    "
   ]
  },
  {
   "cell_type": "code",
   "execution_count": 12,
   "id": "37f723d2",
   "metadata": {
    "deletable": false,
    "editable": false
   },
   "outputs": [
    {
     "data": {
      "text/html": [
       "<p><strong><pre style='display: inline;'>q4</pre></strong> passed! 🚀</p>"
      ],
      "text/plain": [
       "q4 results: All test cases passed!"
      ]
     },
     "execution_count": 12,
     "metadata": {},
     "output_type": "execute_result"
    }
   ],
   "source": [
    "grader.check(\"q4\")"
   ]
  },
  {
   "cell_type": "markdown",
   "id": "48dbcd85",
   "metadata": {
    "deletable": false,
    "editable": false
   },
   "source": [
    "### Data Structure 1: namedtuple `Star`\n",
    "\n",
    "You will be using named tuples to store the data in the `stars_1.csv`, ..., `stars_5.csv` files. Before you start reading these files however, you **must** create a new `Star` type (using namedtuple). It **must** have the following attributes:\n",
    "\n",
    "* `spectral_type`,\n",
    "* `stellar_effective_temperature`,\n",
    "* `stellar_radius`,\n",
    "* `stellar_mass`,\n",
    "* `stellar_luminosity`,\n",
    "* `stellar_surface_gravity`,\n",
    "* `stellar_age`."
   ]
  },
  {
   "cell_type": "code",
   "execution_count": 13,
   "id": "e427a4a4",
   "metadata": {
    "lines_to_next_cell": 0,
    "tags": []
   },
   "outputs": [],
   "source": [
    "# define the namedtuple 'Star' here\n",
    "star_attributes = ['spectral_type',\n",
    "                  'stellar_effective_temperature',\n",
    "                  'stellar_radius',\n",
    "                  'stellar_mass',\n",
    "                  'stellar_luminosity',\n",
    "                  'stellar_surface_gravity',\n",
    "                  'stellar_age']\n",
    "\n",
    "Star = namedtuple(\"Star\", star_attributes)"
   ]
  },
  {
   "cell_type": "code",
   "execution_count": 14,
   "id": "56b33e7c",
   "metadata": {
    "tags": []
   },
   "outputs": [
    {
     "data": {
      "text/plain": [
       "Star(spectral_type='G2 V', stellar_effective_temperature=5780.0, stellar_radius=1.0, stellar_mass=1.0, stellar_luminosity=0.0, stellar_surface_gravity=4.44, stellar_age=4.6)"
      ]
     },
     "execution_count": 14,
     "metadata": {},
     "output_type": "execute_result"
    }
   ],
   "source": [
    "# run this following cell to initialize and test an example Star object\n",
    "# if this cell fails to execute, you have likely not defined the namedtuple 'Star' correctly\n",
    "\n",
    "sun = Star('G2 V', 5780.0, 1.0, 1.0, 0.0, 4.44, 4.6)\n",
    "\n",
    "sun"
   ]
  },
  {
   "cell_type": "code",
   "execution_count": 15,
   "id": "bf4eb124",
   "metadata": {
    "deletable": false,
    "editable": false
   },
   "outputs": [
    {
     "data": {
      "text/html": [
       "<p><strong><pre style='display: inline;'>star_object</pre></strong> passed! ✨</p>"
      ],
      "text/plain": [
       "star_object results: All test cases passed!"
      ]
     },
     "execution_count": 15,
     "metadata": {},
     "output_type": "execute_result"
    }
   ],
   "source": [
    "grader.check(\"star_object\")"
   ]
  },
  {
   "cell_type": "markdown",
   "id": "906a4ad4",
   "metadata": {
    "deletable": false,
    "editable": false
   },
   "source": [
    "### Creating `Star` objects\n",
    "\n",
    "Now that we have created the `Star` namedtuple, our next objective will be to read the files `stars_1.csv`, ..., `stars_5.csv` and create `Star` objects out of all the stars in there. In order to process the CSV files, you will first need to copy/paste the `process_csv` function you have been using since P6."
   ]
  },
  {
   "cell_type": "code",
   "execution_count": 16,
   "id": "04b3a1a1",
   "metadata": {
    "tags": []
   },
   "outputs": [],
   "source": [
    "# copy & paste the process_csv file from previous projects here\n",
    "def process_csv(filename):\n",
    "    example_file = open(filename, encoding=\"utf-8\")\n",
    "    example_reader = csv.reader(example_file)\n",
    "    example_data = list(example_reader)\n",
    "    example_file.close()\n",
    "    return example_data"
   ]
  },
  {
   "cell_type": "markdown",
   "id": "cf37a6d1",
   "metadata": {
    "deletable": false,
    "editable": false
   },
   "source": [
    "You are now ready to read the data in `stars_1.csv` using `process_csv` and convert the data into `Star` objects. In the cell below, you **must** read the data in `stars_1.csv` and extract the **header** and the non-header **rows** of the file."
   ]
  },
  {
   "cell_type": "code",
   "execution_count": 17,
   "id": "090501e2",
   "metadata": {
    "tags": []
   },
   "outputs": [],
   "source": [
    "# replace the ... with your code\n",
    "\n",
    "stars_1_csv = process_csv(os.path.join(\"data\", \"stars_1.csv\")) # read the data in 'stars_1.csv'\n",
    "stars_header = stars_1_csv[0]\n",
    "stars_1_rows = stars_1_csv[1:]"
   ]
  },
  {
   "cell_type": "code",
   "execution_count": 18,
   "id": "609d8e94",
   "metadata": {
    "tags": []
   },
   "outputs": [
    {
     "data": {
      "text/plain": [
       "['Name',\n",
       " 'Spectral Type',\n",
       " 'Stellar Effective Temperature [K]',\n",
       " 'Stellar Radius [Solar Radius]',\n",
       " 'Stellar Mass [Solar mass]',\n",
       " 'Stellar Luminosity [log(Solar)]',\n",
       " 'Stellar Surface Gravity [log10(cm/s**2)]',\n",
       " 'Stellar Age [Gyr]']"
      ]
     },
     "execution_count": 18,
     "metadata": {},
     "output_type": "execute_result"
    }
   ],
   "source": [
    "stars_header"
   ]
  },
  {
   "cell_type": "code",
   "execution_count": 19,
   "id": "254fbf39",
   "metadata": {},
   "outputs": [
    {
     "data": {
      "text/plain": [
       "[['11 Com', 'G8 III', '4742', '19', '2.7', '2.243', '2.31', ''],\n",
       " ['11 UMi', 'K4 III', '4213', '29.79', '2.78', '2.43', '1.93', '1.56'],\n",
       " ['14 And', 'K0 III', '4813', '11', '2.2', '1.763', '2.63', '4.5'],\n",
       " ['16 Cyg B', 'G3 V', '5750', '1.13', '1.08', '0.097', '4.36', '7.4'],\n",
       " ['17 Sco', 'K3 III', '4157', '25.92', '1.22', '2.254', '1.7', '5.13'],\n",
       " ['18 Del', 'G6 III', '4979', '8.5', '2.3', '1.602', '2.82', '1.1'],\n",
       " ['1RXS J160929.1-210524',\n",
       "  'K7 V',\n",
       "  '4060',\n",
       "  '1.31',\n",
       "  '0.85',\n",
       "  '-0.37',\n",
       "  '4',\n",
       "  '0.005'],\n",
       " ['24 Boo', 'G3 IV', '4893', '10.64', '0.99', '1.774', '2.42', '6.92'],\n",
       " ['2MASS J04372171+2651014',\n",
       "  'M V',\n",
       "  '3100',\n",
       "  '0.84',\n",
       "  '0.17',\n",
       "  '-1.164',\n",
       "  '4.5',\n",
       "  '2.5'],\n",
       " ['2MASS J01033563-5515561 A', 'M5.5/M6', '', '', '0.19', '', '', '0.03'],\n",
       " ['2MASS J01225093-2439505',\n",
       "  'M3.5 V',\n",
       "  '3530',\n",
       "  '0.37',\n",
       "  '0.4',\n",
       "  '-1.72',\n",
       "  '4.86',\n",
       "  '0.12'],\n",
       " ['2MASS J02192210-3925225',\n",
       "  'M6',\n",
       "  '3064',\n",
       "  '0.28',\n",
       "  '0.11',\n",
       "  '-2.23',\n",
       "  '4.59',\n",
       "  '0.035'],\n",
       " ['2MASS J04414489+2301513',\n",
       "  'M8.5',\n",
       "  '2936',\n",
       "  '0.23',\n",
       "  '0.02',\n",
       "  '-2.444',\n",
       "  '5.01',\n",
       "  '0.001'],\n",
       " ['2MASS J12073346-3932539',\n",
       "  'M8',\n",
       "  '2825',\n",
       "  '0.22',\n",
       "  '0.02',\n",
       "  '-2.561',\n",
       "  '5.03',\n",
       "  '0.008'],\n",
       " ['2MASS J22362452+4751425',\n",
       "  'K7 V',\n",
       "  '4045',\n",
       "  '0.64',\n",
       "  '0.6',\n",
       "  '-1.021',\n",
       "  '4.62',\n",
       "  '0.12'],\n",
       " ['30 Ari B', 'F6 V', '6331', '1.41', '1.93', '0.381', '4.43', '0.91'],\n",
       " ['4 UMa', 'K1 III', '4415', '18.11', '1.23', '2.062', '1.8', '4.604'],\n",
       " ['42 Dra', 'K1.5 III', '4200', '22.03', '0.98', '2.155', '1.71', '9.49'],\n",
       " ['51 Eri', 'F0 IV', '7295', '1.49', '1.75', '0.85', '4.31', '0.02'],\n",
       " ['51 Peg', 'G5V', '5758', '1.18', '1.03', '0.136', '4.31', '10'],\n",
       " ['6 Lyn', 'K0 IV', '4938', '5.2', '1.44', '1.176', '3.19', '2.353'],\n",
       " ['70 Vir', 'G5V', '5495', '1.89', '1.09', '0.451', '3.95', '7.77'],\n",
       " ['75 Cet', 'G3 III', '4846', '10.5', '2.49', '1.73', '2.63', ''],\n",
       " ['8 UMi', 'K0', '4847', '10.3', '1.44', '1.725', '2.57', '1.7'],\n",
       " ['81 Cet', 'G5 III', '4785', '11', '2.4', '1.778', '2.35', ''],\n",
       " ['91 Aqr', 'K0 III', '4665', '11', '1.4', '1.692', '2.52', '3.56'],\n",
       " ['AB Aur', '', '9770', '2.96', '2.4', '1.771', '3.77', '0.003'],\n",
       " ['AB Pic', 'K2 V', '5285', '1', '0.9', '-0.226', '4.53', '0.03'],\n",
       " ['AF Lep', 'F8 V', '6100', '1.25', '1.2', '0.29', '4.4', '0.024'],\n",
       " ['BD+03 2562', '', '4095', '32.35', '1.14', '2.7', '1.89', '5.2'],\n",
       " ['BD+14 4559', 'K2 V', '4864', '0.86', '0.49', '-0.32', '4.26', ''],\n",
       " ['BD+15 2375', 'G5', '4649', '8.95', '1.08', '1.57', '2.61', '7.41'],\n",
       " ['BD+15 2940', 'K0', '4796', '14.7', '1.1', '2.01', '2.8', '7.1'],\n",
       " ['BD+20 274', 'K5 III', '4296', '17.3', '0.8', '1.96', '1.99', ''],\n",
       " ['BD+20 594', 'G', '5766', '1.08', '1.67', '-0.056', '4.5', '3.34'],\n",
       " ['BD+45 564', 'K1', '5004', '0.81', '0.81', '-0.399', '4.22', ''],\n",
       " ['BD+48 738', 'K0 III', '4414', '11', '0.74', '1.69', '2.24', ''],\n",
       " ['BD+48 740', 'K3 III', '4534', '10.33', '1.09', '1.64', '2.48', ''],\n",
       " ['BD+49 828', 'K0', '4943', '7.6', '1.52', '1.47', '2.85', '2.34'],\n",
       " ['BD+55 362', 'K3', '5012', '0.9', '0.91', '-0.313', '4.09', ''],\n",
       " ['BD+60 1417', 'K0', '4993', '0.8', '1', '0.356', '4.55', '0.1'],\n",
       " ['BD+63 1405', 'K0', '5000', '0.8', '0.82', '-0.413', '4.2', ''],\n",
       " ['BD-00 4475', 'G0', '5040', '0.84', '0.81', '-0.35', '4.25', ''],\n",
       " ['BD-10 3166', 'K0 V', '5393', '0.91', '1.47', '-0.191', '4.69', '1'],\n",
       " ['BD-13 2130', 'G5 IV/V', '4545', '19.17', '2.12', '2.043', '2.2', '0.74'],\n",
       " ['BD-17 63', 'K5 V', '4714', '0.69', '0.74', '-0.678', '4.26', '4.3'],\n",
       " ['CD Cet', 'M5.0 V', '3130', '0.17', '0.16', '-2.533', '4.93', '3'],\n",
       " ['CFBDSIR J145829+101343', '', '580.5', '', '0.02', '', '4.72', ''],\n",
       " ['CFHTWIR-Oph 98 A',\n",
       "  'M9-L1',\n",
       "  '2320',\n",
       "  '0.24',\n",
       "  '0.01',\n",
       "  '-2.85',\n",
       "  '3.85',\n",
       "  '0.003'],\n",
       " ['CHXR 73', 'M3.5', '3099', '', '0.35', '', '', '0.002'],\n",
       " ['CI Tau', 'K7', '3807', '1.88', '0.9', '-0.108', '', '0.003'],\n",
       " ['COCONUTS-2 A', 'M3 V', '3406', '0.39', '0.37', '-1.732', '4.83', '0.475'],\n",
       " ['CT Cha', 'K5e', '4403', '1.68', '', '-0.102', '3.66', '0.002'],\n",
       " ['CoRoT-1', 'G0 V', '5950', '1.11', '0.95', '0.298', '4.25', '1.6'],\n",
       " ['CoRoT-10', 'K1 V', '5075', '0.79', '0.89', '-0.726', '4.65', '3'],\n",
       " ['CoRoT-11', 'F6 V', '6440', '1.37', '1.27', '0.378', '4.22', '2'],\n",
       " ['CoRoT-12', '', '5675', '1.12', '1.08', '0.07', '4.38', '6.3'],\n",
       " ['CoRoT-13', 'G0 V', '5945', '1.01', '1.09', '0.073', '4.46', '1.635'],\n",
       " ['CoRoT-14', 'F9 V', '6035', '1.21', '1.13', '0.119', '4.35', '4.2'],\n",
       " ['CoRoT-16', 'G5 V', '5650', '1.19', '1.1', '-0.435', '4.36', '6.73'],\n",
       " ['CoRoT-17', 'G2 V', '5740', '1.59', '1.04', '0.134', '4.4', '10.7'],\n",
       " ['CoRoT-18', 'G9 V', '5440', '1', '0.95', '-0.17', '4.4', '0.032'],\n",
       " ['CoRoT-19', 'F9 V', '6090', '1.65', '1.21', '0.544', '4.07', '5'],\n",
       " ['CoRoT-2', '', '5625', '0.91', '0.96', '-0.131', '4.53', '2.7'],\n",
       " ['CoRoT-21', 'F8 IV', '6200', '1.95', '1.29', '0.705', '3.7', '4.1'],\n",
       " ['CoRoT-22', 'G3 V', '5939', '1.14', '1.1', '0.014', '4.36', '3.3'],\n",
       " ['CoRoT-23', 'G0 V', '5900', '1.61', '1.14', '0.087', '4.3', '7.2'],\n",
       " ['CoRoT-25', 'F9', '6040', '1.19', '1.09', '0.141', '4.31', '4.5'],\n",
       " ['CoRoT-26', 'G5', '5590', '1.79', '1.09', '0.451', '3.99', '8.6'],\n",
       " ['CoRoT-27', 'G2', '5900', '1.08', '1.05', '-0.166', '4.4', '4.21'],\n",
       " ['CoRoT-28', 'G8/9 IV', '5150', '1.78', '1.01', '0.388', '3.6', '12'],\n",
       " ['CoRoT-29', 'K0 V', '5260', '0.9', '0.97', '-0.094', '4.3', '4.5'],\n",
       " ['CoRoT-3', 'F3 V', '6740', '1.56', '1.37', '0.391', '4.22', '2.2'],\n",
       " ['CoRoT-30', 'G3 V', '5650', '0.91', '0.98', '-0.197', '4.4', '3'],\n",
       " ['CoRoT-31', 'G2 IV', '5700', '2.15', '1.25', '0.398', '3.85', '4.7'],\n",
       " ['CoRoT-35', 'F6 V', '6390', '1.65', '1.01', '0.362', '4.01', '6.1'],\n",
       " ['CoRoT-36', 'F3 V', '6730', '1.52', '1.32', '0.813', '4.16', '2.1'],\n",
       " ['CoRoT-4', '', '6190', '1.17', '1.16', '0.185', '4.41', '1'],\n",
       " ['CoRoT-5', 'F9 V', '6100', '1.19', '1', '0.18', '4.19', '6.9'],\n",
       " ['CoRoT-6', 'F9 V', '6090', '1.03', '1.05', '0.026', '4.43', '2.5'],\n",
       " ['CoRoT-8', 'K1 V', '5080', '0.77', '0.88', '-0.4', '4.58', '3'],\n",
       " ['CoRoT-9', 'G3 V', '5625', '0.96', '0.96', '-0.254', '4.54', '6'],\n",
       " ['CoRoTID 223977153', 'G0 VI', '5970', '0.79', '1.08', '-0.155', '4.67', ''],\n",
       " ['DE CVn', '', '3579', '0.42', '0.51', '-1.574', '4.8', ''],\n",
       " ['DENIS-P J082303.1-491201', 'L1.5', '', '', '0.07', '', '', '1'],\n",
       " ['DH Tau', 'M0.5', '4371', '0.27', '0.33', '-0.212', '4', '0.001'],\n",
       " ['DMPP-2', 'F5 V', '6500', '1.78', '1.44', '0.104', '4.1', '2'],\n",
       " ['DMPP-3 A', 'K0 V', '5138', '0.91', '0.87', '-0.293', '4.3', '10.9'],\n",
       " ['DP Leo', '', '13500', '0.01', '0.69', '-2.4', '', ''],\n",
       " ['DS Tuc A', 'G6 V', '5428', '0.96', '1.01', '-0.14', '4.6', '0.045'],\n",
       " ['EPIC 201170410', '', '3648', '0.28', '0.29', '-1.9', '5', ''],\n",
       " ['EPIC 201238110', '', '3587', '0.37', '0.41', '-1.508', '4.78', ''],\n",
       " ['EPIC 201427007', '', '5633', '0.94', '0.93', '-0.049', '4.4', ''],\n",
       " ['EPIC 201497682', '', '4991', '0.55', '0.78', '-0.766', '4.63', ''],\n",
       " ['EPIC 201595106', '', '5820', '0.93', '1.02', '-0.026', '4.6', ''],\n",
       " ['EPIC 201757695', '', '4520', '0.66', '0.73', '-0.364', '4.66', ''],\n",
       " ['EPIC 201841433', '', '5053', '0.63', '0.8', '-0.635', '4.59', ''],\n",
       " ['EPIC 206032309', '', '3489', '0.37', '0.22', '-1.73', '4.85', ''],\n",
       " ['EPIC 206215704', '', '3297', '0.25', '0.41', '-2.088', '4.9', ''],\n",
       " ['EPIC 211822797', 'M0', '4057', '0.58', '0.62', '-1.153', '4.7', '0.79'],\n",
       " ['EPIC 211945201', 'G0', '6069', '1.39', '1.17', '0.373', '4.22', '3.99'],\n",
       " ['EPIC 212424622', '', '5782.33', '1.22', '1.11', '0.179', '4.3', ''],\n",
       " ['EPIC 212499991', '', '4982.79', '0.76', '0.91', '-0.497', '4.61', ''],\n",
       " ['EPIC 220492298', '', '5620', '0.89', '0.95', '-0.009', '4.5', ''],\n",
       " ['EPIC 228836835', '', '3782', '0.32', '0.42', '-1.612', '5', ''],\n",
       " ['EPIC 246851721', 'F5 V', '6202', '1.59', '1.32', '0.526', '4.16', '3.02'],\n",
       " ['EPIC 248847494', '', '4898', '2.7', '0.9', '0.548', '3.52', ''],\n",
       " ['FU Tau', 'M7.25', '2838', '', '0.05', '-0.699', '', '0.001'],\n",
       " ['G 9-40', 'M2.5 V', '3348', '0.31', '0.29', '-1.971', '4.93', '9.9'],\n",
       " ['GJ 1151', 'M 4.5V', '3280', '0.18', '0.16', '-2.48', '5.09', ''],\n",
       " ['GJ 1214', 'M4 V', '3250', '0.21', '0.18', '-2.337', '5.03', '3'],\n",
       " ['GJ 1252', 'M3', '3458', '0.39', '0.38', '-1.708', '4.89', '3.9'],\n",
       " ['GJ 1265', 'M4.5 V', '3236', '0.19', '0.18', '-2.439', '5.09', ''],\n",
       " ['GJ 160.2', 'M0 V', '4347', '0.66', '0.69', '-0.796', '4.61', ''],\n",
       " ['GJ 179', 'M3.5 V', '3370', '0.38', '0.36', '-1.796', '4.83', ''],\n",
       " ['GJ 2056', 'M0V:', '4069.95', '0.71', '0.62', '-0.905', '4.48', ''],\n",
       " ['GJ 251', 'M3.0 V', '3451', '0.36', '0.36', '-1.772', '4.96', ''],\n",
       " ['GJ 27.1', 'M0.5 V', '3542', '0.52', '0.53', '-1.585', '4.72', ''],\n",
       " ['GJ 3021', 'G6 V', '5540', '0.9', '0.9', '-0.18', '4.7', '0.37'],\n",
       " ['GJ 3082', 'M4', '3910', '0.47', '0.47', '-1.463', '4.77', ''],\n",
       " ['GJ 3090', 'M2 V', '3556', '0.52', '0.52', '-1.342', '4.73', ''],\n",
       " ['GJ 3222', 'K0V', '5257.46', '0.93', '0.89', '-0.252', '4.43', ''],\n",
       " ['GJ 328', 'M1', '3900', '0.65', '0.69', '-0.993', '4.61', ''],\n",
       " ['GJ 3341', 'M2.5', '3526', '0.44', '0.47', '-1.538', '4.77', ''],\n",
       " ['GJ 338 B', 'M0 V', '4014', '0.58', '0.64', '-1.101', '4.68', '4'],\n",
       " ['GJ 3470', 'M1.5', '3600', '0.55', '0.54', '-1.538', '4.7', '1.65'],\n",
       " ['GJ 3634', 'M2.5', '3517', '0.43', '0.45', '-1.699', '4.78', '5'],\n",
       " ['GJ 367', 'M1.0 V', '3522', '0.46', '0.45', '-1.541', '4.78', ''],\n",
       " ['GJ 3779', 'M4.0 V', '3324', '0.28', '0.27', '-2.062', '5.05', ''],\n",
       " ['GJ 393', 'M2.0 V', '3579', '0.43', '0.43', '-1.571', '4.88', ''],\n",
       " ['GJ 3942', 'M0', '3867', '0.61', '0.63', '-1.12', '4.65', ''],\n",
       " ['GJ 422', 'M3.5 V', '3323', '0.37', '0.35', '-1.959', '4.85', ''],\n",
       " ['GJ 4276', 'M4.0', '3387', '0.41', '0.41', '-1.706', '4.97', '6.9'],\n",
       " ['GJ 436', 'M2.5 V', '3586.11', '0.46', '0.47', '-1.585', '4.79', '6'],\n",
       " ['GJ 463', 'M3 V', '3540', '0.49', '0.49', '-1.523', '4.86', ''],\n",
       " ['GJ 480', 'M3.5 Ve', '3381', '0.46', '0.45', '-1.612', '4.78', ''],\n",
       " ['GJ 486', 'M3.5 V', '3340', '0.33', '0.32', '-1.917', '4.89', ''],\n",
       " ['GJ 504', 'G0 V', '6234', '1.26', '1.22', '0.332', '4.6', '0.16'],\n",
       " ['GJ 514', 'M0.5-1.0 V', '3728', '0.5', '0.51', '-1.367', '4.76', '0.8'],\n",
       " ['GJ 536', 'M1 V', '3685', '0.5', '0.52', '-1.377', '4.75', '0.4'],\n",
       " ['GJ 625', 'M2', '3499', '0.31', '0.3', '-1.894', '4.94', ''],\n",
       " ['GJ 649', 'M1.5', '3700', '0.5', '0.54', '-1.365', '4.76', '0.44'],\n",
       " ['GJ 674', 'M2.5', '3600', '0.36', '0.35', '-1.796', '4.86', '0.55'],\n",
       " ['GJ 680', 'K5', '3563', '0.46', '0.46', '-1.514', '4.77', ''],\n",
       " ['GJ 685', 'M0.5', '3816', '0.54', '0.55', '-1.253', '4.72', ''],\n",
       " ['GJ 720 A', 'M0.5 V', '3837', '0.56', '0.57', '-1.217', '4.71', ''],\n",
       " ['GJ 740', 'M1.0 V', '3913', '0.56', '0.58', '-1.206', '4.68', ''],\n",
       " ['GJ 832', 'M1.5', '3472', '0.44', '0.45', '-1.585', '4.7', '9.24'],\n",
       " ['GJ 86', 'K1V', '5182', '0.77', '0.93', '-0.39', '4.63', '11.3'],\n",
       " ['GJ 896 A', 'M3.5 V', '3345', '0.39', '0.44', '-1.755', '4.83', ''],\n",
       " ['GJ 9066', 'M5.0 V', '3154', '0.16', '0.15', '-2.595', '5.01', ''],\n",
       " ['GJ 96', 'M2', '3785', '0.58', '0.6', '-1.052', '4.67', ''],\n",
       " ['GJ 9689', 'M0.5', '3836', '0.57', '0.59', '-1.2', '4.69', '8.9'],\n",
       " ['GJ 9714', 'K5V', '4263', '0.66', '0.67', '-0.884', '4.62', ''],\n",
       " ['GPX-1', 'F2', '7000', '1.56', '1.68', '0.727', '4.27', '0.27'],\n",
       " ['GQ Lup', 'K7e V', '4360', '1.94', '0.7', '-0.072', '3.65', '0.001'],\n",
       " ['GSC 06214-00210', 'K7', '4200', '0.9', '0.9', '-0.42', '4.37', '0.005'],\n",
       " ['GU Psc', 'M3', '4031.81', '0.45', '0.33', '-1.602', '4.78', '0.1'],\n",
       " ['Gaia-1', '', '5470', '0.95', '0.95', '-0.159', '4.44', ''],\n",
       " ['Gaia-2', '', '5720', '1.06', '1', '0.057', '4.37', ''],\n",
       " ['Gl 378', 'M1', '3879', '0.56', '0.56', '-1.222', '4.69', ''],\n",
       " ['Gl 49', 'M1.5 V', '3805', '0.51', '0.52', '-1.306', '4.69', ''],\n",
       " ['Gl 686', 'M1.0 V', '3656', '0.43', '0.43', '-1.53', '4.87', ''],\n",
       " ['HAT-P-1', 'G0 V', '5980', '1.17', '1.15', '0.225', '4.36', '3.6'],\n",
       " ['HAT-P-12', 'K4', '4650', '0.7', '0.73', '-0.678', '4.61', '2.5'],\n",
       " ['HAT-P-14', 'F5 V', '6600', '1.82', '2.65', '0.644', '4.25', '1.6'],\n",
       " ['HAT-P-15', 'G5', '5568', '1.07', '1', '0', '4.38', '6.8'],\n",
       " ['HAT-P-16', 'F8', '6158', '1.24', '1.22', '0.294', '4.34', '2'],\n",
       " ['HAT-P-18', 'K2', '4803', '0.75', '0.77', '-0.569', '4.57', '12.4'],\n",
       " ['HAT-P-19', 'K1', '4990', '0.82', '0.84', '-0.432', '4.54', '8.8'],\n",
       " ['HAT-P-2', 'F8', '6380', '1.39', '1.33', '0.53', '4.16', '1.44'],\n",
       " ['HAT-P-20', 'K3', '4595', '0.69', '0.76', '-0.721', '4.63', '6.7'],\n",
       " ['HAT-P-21', 'G3', '5588', '1.21', '1.24', '0.025', '4.33', '10.2'],\n",
       " ['HAT-P-22', 'G5 V', '5302', '1.11', '1.13', '-0.114', '4.36', '12.4'],\n",
       " ['HAT-P-23', 'G0', '5905', '0.96', '0.58', '0.199', '4.33', '4'],\n",
       " ['HAT-P-24', 'F8', '6373', '1.38', '1.37', '0.408', '4.27', '2.8'],\n",
       " ['HAT-P-25', 'G5', '5519', '0.92', '1.01', '-0.152', '4.52', '3.2'],\n",
       " ['HAT-P-26', 'K1', '5079', '0.87', '1.12', '-0.359', '4.56', '9'],\n",
       " ['HAT-P-27', 'G8', '5316', '0.86', '0.92', '-0.269', '4.53', '4.4'],\n",
       " ['HAT-P-28', 'G3', '5680', '1.1', '1.03', '0.053', '4.36', '6.1'],\n",
       " ['HAT-P-29', 'F8', '6087', '1.3', '1.45', '0.272', '4.34', '2.2'],\n",
       " ['HAT-P-3', 'K', '5185', '0.87', '1.06', '-0.36', '4.56', '1.6'],\n",
       " ['HAT-P-30', 'F7', '6304', '1.31', '1.55', '0.312', '4.36', '1'],\n",
       " ['HAT-P-31', '', '6065', '1.39', '1.31', '0.433', '4.26', '3.17'],\n",
       " ['HAT-P-32', '', '6001', '1.37', '1.13', '0.338', '4.22', '2.7'],\n",
       " ['HAT-P-33', 'F4', '6446', '1.79', '1.82', '0.618', '4.15', '2.3'],\n",
       " ['HAT-P-34', '', '6442', '1.53', '1.39', '0.6', '4.21', '1.7'],\n",
       " ['HAT-P-35', '', '6096', '1.44', '1.24', '0.383', '4.21', '3.5'],\n",
       " ['HAT-P-36', 'G5 V', '5620', '1.04', '1.03', '0.022', '4.42', '6.6'],\n",
       " ['HAT-P-37', '', '5500', '0.88', '0.93', '-0.208', '4.51', '3.6'],\n",
       " ['HAT-P-38', 'G5', '5330', '0.92', '0.89', '-0.208', '4.37', '10.1'],\n",
       " ['HAT-P-39', '', '6430', '1.62', '1.4', '0.607', '4.07', '2'],\n",
       " ['HAT-P-4', 'F', '5860', '1.62', '0.56', '0.431', '4.14', '3.9'],\n",
       " ['HAT-P-40', '', '6080', '1.94', '1.03', '0.778', '3.93', '2.7'],\n",
       " ['HAT-P-41', '', '6390', '2.05', '2.56', '0.628', '4.14', '2.2'],\n",
       " ['HAT-P-42', '', '5743', '1.53', '1.18', '0.356', '4.14', '5.2'],\n",
       " ['HAT-P-43', 'F9', '5693', '1.08', '1.03', '0.06', '4.38', '5.7'],\n",
       " ['HAT-P-45', '', '6330', '1.32', '1.26', '0.4', '4.3', '2'],\n",
       " ['HAT-P-46', '', '6120', '1.4', '1.28', '0.391', '4.25', '2.5'],\n",
       " ['HAT-P-49', 'F', '6820', '2.06', '2.22', '0.814', '4.1', '1.5'],\n",
       " ['HAT-P-5', 'G', '5960', '1.12', '1.04', '0.187', '4.37', '2.6'],\n",
       " ['HAT-P-50', 'F5', '6280', '1.7', '1.27', '0.603', '4.07', '3.37'],\n",
       " ['HAT-P-51', 'G7', '5449', '1.04', '0.98', '-0.066', '4.39', '8.2'],\n",
       " ['HAT-P-52', 'K1', '5131', '0.89', '0.89', '-0.305', '4.48', '9.4'],\n",
       " ['HAT-P-53', '', '5956', '1.21', '1.09', '0.217', '4.31', '4.67'],\n",
       " ['HAT-P-54', 'K7', '4390', '0.62', '0.65', '-0.902', '4.67', '3.9'],\n",
       " ['HAT-P-55', '', '5808', '1.01', '1.01', '0.064', '4.43', '4.2'],\n",
       " ['HAT-P-56', 'F8', '6566', '1.47', '1.42', '0.553', '3.39', '2.01'],\n",
       " ['HAT-P-57', 'A8 V', '6330', '1.85', '2.77', '0.806', '4.25', '1'],\n",
       " ['HAT-P-58', '', '6078', '1.53', '1.03', '0.456', '4.08', '7.11'],\n",
       " ['HAT-P-59', '', '5678', '1.1', '1.01', '0.054', '4.36', '7.3'],\n",
       " ['HAT-P-6', '', '6570', '1.62', '1.79', '0.553', '4.22', '2.3'],\n",
       " ['HAT-P-60', '', '6212', '2.2', '1.44', '0.809', '3.91', '2.765'],\n",
       " ['HAT-P-61', '', '5587', '0.94', '1', '-0.115', '4.5', '2.6'],\n",
       " ['HAT-P-62', '', '5629', '1.17', '1.02', '0.091', '4.31', '8.1'],\n",
       " ['HAT-P-63', '', '5400', '0.97', '0.93', '-0.146', '4.43', '9'],\n",
       " ['HAT-P-64', '', '6457', '1.74', '1.3', '0.668', '4.07', '2.88'],\n",
       " ['HAT-P-65', 'G2', '5835', '1.86', '1.21', '0.555', '3.98', '5.46'],\n",
       " ['HAT-P-66', 'G0', '6002', '1.88', '1.26', '0.615', '3.99', '4.66'],\n",
       " ['HAT-P-67', '', '6406', '2.55', '1.64', '0.939', '3.85', '1.24'],\n",
       " ['HAT-P-68', 'K', '4508', '0.67', '0.68', '-0.779', '4.62', '11.1'],\n",
       " ['HAT-P-69', '', '7394', '1.93', '1.65', '1', '4.11', '1.27'],\n",
       " ['HAT-P-7', '', '6389', '2', '1.56', '0.814', '4.07', '2.07'],\n",
       " ['HAT-P-70', '', '8450', '1.86', '1.89', '1.223', '4.18', '0.6'],\n",
       " ['HAT-P-8', 'F6', '6200', '1.57', '1.27', '0.519', '4.15', '3.4'],\n",
       " ['HAT-P-9', 'F7', '6350', '1.34', '1.28', '0.418', '4.29', '1.6'],\n",
       " ['HATS-1', '', '5870', '1.04', '0.99', '0.041', '4.4', '6'],\n",
       " ['HATS-10', '', '5880', '1.1', '1.1', '0.117', '4.39', '3.3'],\n",
       " ['HATS-11', 'G0', '6563', '1.54', '1.33', '0.403', '4.19', '7.7'],\n",
       " ['HATS-12', 'F', '6357', '1.17', '1.16', '0.863', '4.36', '2.36'],\n",
       " ['HATS-13', '', '5523', '0.89', '0.96', '-0.321', '4.52', '2.5'],\n",
       " ['HATS-14', '', '5346', '0.93', '0.97', '-0.173', '4.48', '4.9'],\n",
       " ['HATS-15', 'G9 V', '5311', '0.92', '0.87', '-0.204', '4.45', '11'],\n",
       " ['HATS-16', 'G3 V', '5738', '1.24', '0.97', '0.173', '4.24', '9.5'],\n",
       " ['HATS-17', 'G V', '5846', '1.09', '1.13', '0.093', '4.42', '2.1'],\n",
       " ['HATS-18', 'G V', '5600', '1.02', '1.04', '-0.032', '4.44', '4.2'],\n",
       " ['HATS-2', 'K', '5227', '0.9', '0.88', '-0.268', '4.48', '9.7'],\n",
       " ['HATS-22', 'K V', '4803', '0.69', '0.76', '-0.646', '4.64', ''],\n",
       " ['HATS-23', 'G V', '5780', '1.2', '1.12', '0.155', '4.33', '4.2'],\n",
       " ['HATS-24', 'F V', '6125', '1.12', '1.07', '0.19', '4.37', '3.7'],\n",
       " ['HATS-25', 'G', '5715', '1.11', '0.99', '0.068', '4.35', '7.5'],\n",
       " ['HATS-26', 'F', '6071', '2.04', '1.3', '0.704', '3.94', '4.04'],\n",
       " ['HATS-27', 'F', '6438', '1.74', '1.42', '0.669', '4.11', '2.3'],\n",
       " ['HATS-28', 'G', '5498', '0.92', '0.93', '-0.157', '4.48', '6.2'],\n",
       " ['HATS-29', 'G', '5670', '1.07', '1.03', '0.029', '4.39', '5.5'],\n",
       " ['HATS-3', 'F', '6351', '1.4', '1.21', '0.456', '4.22', '3.2'],\n",
       " ['HATS-30', 'G', '5943', '1.06', '1.09', '0.097', '4.42', '2.3'],\n",
       " ['HATS-31', '', '6050', '1.87', '1.27', '0.619', '4', '4.3'],\n",
       " ['HATS-32', '', '5700', '1.1', '1.1', '0.057', '4.4', '3.5'],\n",
       " ['HATS-33', '', '5659', '1.02', '1.06', '-0.018', '4.45', '3'],\n",
       " ['HATS-34', '', '5380', '0.98', '0.96', '-0.14', '4.44', '7.7'],\n",
       " ['HATS-35', '', '6300', '1.43', '1.32', '0.465', '4.24', '2.13'],\n",
       " ['HATS-36', 'G0 V', '5950', '1.1', '1.1', '0.215', '4.4', '0.62'],\n",
       " ['HATS-37 A', '', '5326', '0.88', '0.84', '-0.256', '4.48', '11.46'],\n",
       " ['HATS-38', '', '5732', '1.1', '0.89', '0.072', '4.3', '11.89'],\n",
       " ['HATS-39', '', '6572', '1.62', '1.38', '0.64', '4.16', '2.06'],\n",
       " ['HATS-4', 'G', '5403', '0.93', '1', '-0.187', '4.51', '2.1'],\n",
       " ['HATS-40', '', '6460', '2.26', '1.56', '0.903', '3.92', '2.07'],\n",
       " ['HATS-41', '', '6424', '1.71', '1.5', '0.653', '4.14', '1.34'],\n",
       " ['HATS-42', '', '6060', '1.48', '1.27', '0.425', '4.2', '3.26'],\n",
       " ['HATS-43', '', '5099', '0.81', '0.84', '-0.398', '4.54', '8.6'],\n",
       " ['HATS-44', '', '5080', '0.85', '0.86', '-0.398', '4.51', '9.7'],\n",
       " ['HATS-45', '', '6450', '1.32', '1.27', '0.425', '4.31', '1.52'],\n",
       " ['HATS-46', '', '5495', '0.85', '0.92', '-0.23', '4.54', '3'],\n",
       " ['HATS-47', '', '4512', '0.66', '0.67', '-0.796', '4.63', '8.1'],\n",
       " ['HATS-48 A', '', '4546', '0.72', '0.73', '-0.709', '4.59', '11.97'],\n",
       " ['HATS-49', '', '4405', '0.7', '0.71', '-0.785', '4.6', '10.5'],\n",
       " ['HATS-5', 'G', '5304', '0.87', '0.94', '-0.268', '4.53', '3.6'],\n",
       " ['HATS-50', '', '5990', '1.12', '1.17', '0.143', '4.41', '1.2'],\n",
       " ['HATS-51', '', '5758', '1.44', '1.19', '0.31', '4.2', '4.74'],\n",
       " ['HATS-52', '', '6010', '1.05', '1.11', '0.068', '4.45', '1.2'],\n",
       " ['HATS-53', '', '5644', '1.1', '0.96', '0.045', '4.34', '9'],\n",
       " ['HATS-54', 'G6 V', '5621', '1.23', '1.05', '0.115', '4.2', '7.96'],\n",
       " ['HATS-55', '', '6214', '1.13', '1.2', '0.229', '4.41', '0.4'],\n",
       " ['HATS-56', '', '6536', '2.2', '1.57', '0.898', '3.95', '1.894'],\n",
       " ['HATS-57', '', '5587', '0.96', '1.03', '-0.094', '4.48', '2.5'],\n",
       " ['HATS-58 A', '', '7175', '1.43', '1.46', '0.689', '4.29', '0.31'],\n",
       " ['HATS-6', 'M1 V', '3724', '0.57', '0.57', '-1.1', '4.68', '8.1'],\n",
       " ['HATS-60', '', '5688', '1.46', '1.1', '0.3', '4.15', '7.55'],\n",
       " ['HATS-61', '', '5542', '1.66', '1.08', '0.369', '4.03', '8.9'],\n",
       " ['HATS-62', '', '5416', '0.93', '0.9', '-0.173', '4.45', '9.55'],\n",
       " ['HATS-63', '', '5627', '1.07', '0.93', '0.012', '4.35', '10.3'],\n",
       " ['HATS-64', '', '6554', '2.11', '1.56', '0.867', '3.98', '1.861'],\n",
       " ['HATS-65', '', '6277', '1.31', '1.26', '0.377', '4.3', '1.78'],\n",
       " ['HATS-66', '', '6626', '1.84', '1.41', '0.767', '4.06', '2.17'],\n",
       " ['HATS-67', '', '6594', '1.44', '1.44', '0.547', '4.28', '0.51'],\n",
       " ['HATS-68', '', '6147', '1.75', '1.35', '0.592', '4.08', '3.02'],\n",
       " ['HATS-69', '', '5137', '0.88', '0.89', '-0.318', '4.5', '8'],\n",
       " ['HATS-7', 'K2', '4985', '0.82', '0.85', '-0.434', '4.54', '7.8'],\n",
       " ['HATS-70', '', '7930', '1.88', '1.78', '1.079', '4.17', '0.81'],\n",
       " ['HATS-71', 'M3 V', '3405', '0.48', '0.49', '-1.56', '4.77', '3.2'],\n",
       " ['HATS-72', '', '4656.1', '0.72', '0.73', '-0.659', '4.59', '12.17'],\n",
       " ['HATS-74 A', '', '3776.9', '0.58', '0.6', '-1.216', '4.7', '11'],\n",
       " ['HATS-75', '', '3790.4', '0.58', '0.6', '-1.197', '4.68', '14.9'],\n",
       " ['HATS-76', '', '4016', '0.63', '0.66', '-1.038', '4.67', '4.6'],\n",
       " ['HATS-77', '', '4071', '0.64', '0.66', '-0.992', '4.64', '12.1'],\n",
       " ['HATS-8', '', '5679', '1.09', '1.06', '-0.025', '4.39', '5.1'],\n",
       " ['HATS-9', '', '5599', '1.56', '1.1', '0.312', '4.1', '10.8'],\n",
       " ['HD 100546', 'B9 Vne', '10500', '1.85', '2.4', '1.5', '4.33', '0.005'],\n",
       " ['HD 100655', 'G9 III', '4891', '10.06', '2.28', '1.633', '2.79', '1.309'],\n",
       " ['HD 100777', 'G8 V', '5533', '1.04', '0.83', '0.021', '4.32', '2'],\n",
       " ['HD 101930', 'K1 V', '5108', '0.86', '0.57', '-0.31', '4.33', '1'],\n",
       " ['HD 102117', 'G6 V', '5655', '1.23', '1.06', '0.157', '4.29', '10'],\n",
       " ['HD 102195', 'K0 V', '5301', '0.82', '0.76', '-0.334', '4.49', '2.4'],\n",
       " ['HD 102272', 'K0', '4790', '10.3', '1.45', '1.662', '2.58', ''],\n",
       " ['HD 102365', 'G3/5V', '5630', '0.95', '0.85', '-0.057', '4.57', '9'],\n",
       " ['HD 102843', 'K0 V', '5436', '0.96', '0.95', '-0.138', '4.46', ''],\n",
       " ['HD 102956', 'G5', '4985', '4.55', '1.66', '1.064', '3.38', '2.3'],\n",
       " ['HD 103197', 'K1 V(P)', '5250', '0.88', '0.8', '-0.328', '4.45', '9.1'],\n",
       " ['HD 103720', 'K3 V', '5017', '0.73', '0.79', '-0.458', '4.43', '3.8'],\n",
       " ['HD 103774', 'F5 V', '6489', '1.58', '1.33', '0.544', '4.26', '1.05'],\n",
       " ['HD 103891', 'F9', '6072', '2.22', '1.28', '0.786', '3.79', '3.68'],\n",
       " ['HD 103949', 'K3 V', '4792', '0.75', '0.77', '-0.569', '4.59', ''],\n",
       " ['HD 104067', 'K2 V', '4937', '0.74', '0.62', '-0.513', '4.49', '4.33'],\n",
       " ['HD 10442', 'K0 IV', '4912', '1.97', '1.01', '0.31', '3.19', '10.65'],\n",
       " ['HD 104985', 'G9 III', '4877', '11', '2.3', '1.778', '2.85', ''],\n",
       " ['HD 105779', 'G2', '5792', '0.94', '0.89', '-0.108', '4.36', '7.54'],\n",
       " ['HD 106252', 'G0', '5874', '1.1', '1.01', '0.123', '4.36', '4.19'],\n",
       " ['HD 106270', 'G5 IV', '5509', '2.66', '1.39', '0.756', '3.72', '4.3'],\n",
       " ['HD 10647', 'F9 V', '6218', '1.1', '1.11', '0.149', '4.62', '1.4'],\n",
       " ['HD 106515 A', 'G5 V', '5362', '0.91', '0.93', '-0.164', '4.41', '11.7'],\n",
       " ['HD 106906', 'F5 V', '6516', '2.12', '1.5', '0.75', '3.9', '0.013'],\n",
       " ['HD 10697', 'G5 IV', '5680', '1.86', '0.99', '0.477', '3.96', '6.98'],\n",
       " ['HD 108147',\n",
       "  'F8 V CH+0.4',\n",
       "  '6255.73',\n",
       "  '1.21',\n",
       "  '1.22',\n",
       "  '0.303',\n",
       "  '4.36',\n",
       "  '3.2'],\n",
       " ['HD 108341', 'K2 V', '5122', '0.79', '0.84', '-0.37', '4.45', '4.9'],\n",
       " ['HD 108863', 'K0', '4878', '5.74', '1.59', '1.225', '3.07', '1.8'],\n",
       " ['HD 109246', 'G0 V', '5844', '1.07', '1.2', '0.1', '4.46', ''],\n",
       " ['HD 109286', 'G4 V', '5694', '1.09', '0.98', '-0.084', '4.44', ''],\n",
       " ['HD 109749', 'G3 V', '5824', '1.22', '1.13', '0.19', '4.31', '3.3'],\n",
       " ['HD 10975', 'K0 III', '4840', '11.16', '1.41', '1.79', '2.48', ''],\n",
       " ['HD 109988', '', '5185.97', '0.87', '0.88', '-0.307', '4.5', ''],\n",
       " ['HD 110014', 'K2 III', '4445', '20.9', '2.17', '2.304', '2.1', '0.95'],\n",
       " ['HD 110082', 'F8 V', '6200', '1.19', '1.21', '0.281', '4.2', '0.25'],\n",
       " ['HD 110537', 'G6/8 V', '5718', '1.17', '1.02', '0.117', '4.31', ''],\n",
       " ['HD 11112', '', '5905.64', '1.47', '1.07', '0.377', '4.13', ''],\n",
       " ['HD 111591', 'K0 III', '4884', '8.03', '1.94', '1.581', '3.1', '1.41'],\n",
       " ['HD 111998', 'F5 V', '6557', '1.45', '1.18', '0.512', '4.19', '1.9'],\n",
       " ['HD 112640', 'K0 III', '4155', '39', '1.8', '2.453', '1.7', '1.6'],\n",
       " ['HD 113996', 'K5 III', '4181', '25.11', '1.49', '2.464', '1.86', '3.24'],\n",
       " ['HD 114082', 'F3 V', '6651', '1.49', '1.47', '0.583', '4.19', '0.015'],\n",
       " ['HD 114386', 'K3V', '4836', '0.76', '0.6', '-0.54', '4.45', '1'],\n",
       " ['HD 114613', 'G4 IV', '5641', '2.14', '1.27', '0.608', '3.87', '4.55'],\n",
       " ['HD 114729', 'G0 V', '5844', '1.47', '0.94', '0.421', '4.05', '10.116'],\n",
       " ['HD 11505', '', '5757.15', '1.2', '1.03', '0.151', '4.3', ''],\n",
       " ['HD 115954', 'G0 V', '5957', '1.21', '1.18', '0.481', '4.15', ''],\n",
       " ['HD 117207', 'G8 IV/V', '5732', '1.07', '1.05', '0.066', '4.37', '4.192'],\n",
       " ['HD 11755', 'G5', '4312', '20.58', '0.72', '2.169', '1.67', '10.2'],\n",
       " ['HD 117618', 'G2 V', '5990', '1.2', '1.08', '0.213', '4.41', '5.6'],\n",
       " ['HD 118203', 'K0', '5864', '2.06', '1.84', '0.646', '4.08', '4.6'],\n",
       " ['HD 11977', 'G8 III/IV', '4970', '10.09', '1.91', '1.839', '2.9', '1.2'],\n",
       " ['HD 120084', 'G7 III', '4892', '9.12', '2.5', '1.64', '2.71', '1.02'],\n",
       " ['HD 121504', 'G2 V', '6027', '1.07', '1.62', '0.19', '4.59', '1.2'],\n",
       " ['HD 122562', '', '4956', '2.17', '1.24', '0.407', '', ''],\n",
       " ['HD 124330', 'G4 IV', '5873', '1.3', '1.15', '0.338', '4.24', ''],\n",
       " ['HD 12484', 'F8', '5920', '1', '1.01', '0.022', '4.65', ''],\n",
       " ['HD 125271', '', '4703.93', '0.75', '0.75', '-0.604', '4.56', ''],\n",
       " ['HD 125390', 'G7 V', '4850', '6.47', '1.82', '1.124', '3.13', ''],\n",
       " ['HD 125595', 'K4 V', '4691', '0.74', '0.29', '-0.617', '4.17', '3.53'],\n",
       " ['HD 12648', 'G5', '4835', '11.02', '0.67', '1.753', '2.18', '4.5'],\n",
       " ['HD 126525', 'G4 V', '5638', '0.98', '0.9', '-0.04', '4.38', '9.67'],\n",
       " ['HD 126614', 'G8 IV', '5568', '1.37', '0.96', '0.083', '4.17', '7.2'],\n",
       " ['HD 127506', 'K3V', '4595.32', '0.74', '0.73', '-0.663', '4.57', ''],\n",
       " ['HD 128356', 'K3 V', '4875', '0.85', '0.65', '-0.444', '4.52', '10'],\n",
       " ['HD 129445', 'G6 V', '5605', '1.18', '0.99', '0.09', '4.31', ''],\n",
       " ['HD 130322', 'K0 V', '5387', '0.85', '0.92', '-0.235', '4.52', '0.35'],\n",
       " ['HD 131496', 'K0', '4846', '4.44', '1.34', '0.991', '3.18', '2.7'],\n",
       " ['HD 13167', 'G3 V', '5671', '2.39', '1.35', '0.96', '3.72', ''],\n",
       " ['HD 13189', 'K2', '4175', '38.41', '2.24', '2.636', '1.62', ''],\n",
       " ['HD 132406', 'G0', '5783', '1.34', '1.03', '0.26', '4.2', '7.187'],\n",
       " ['HD 132563', 'F8', '6289', '1.3', '1.23', '0.374', '4.3', '2.31'],\n",
       " ['HD 133131 B', 'G2 V', '5805', '0.99', '0.93', '-0.009', '4.41', '9.7'],\n",
       " ['HD 135872', '', '4992', '3.93', '1.65', '0.937', '', ''],\n",
       " ['HD 136118', '', '6182.43', '1.68', '1.18', '0.569', '4.06', ''],\n",
       " ['HD 136418', 'G5', '4989', '3.78', '1.48', '0.833', '3.45', '4'],\n",
       " ['HD 136925', '', '5773.19', '1.19', '0.88', '0.134', '4.23', ''],\n",
       " ['HD 13724', '', '5835.31', '1.04', '1', '0.055', '4.42', ''],\n",
       " ['HD 137388', 'K2 IV', '5181', '0.88', '0.68', '-0.337', '4.39', '6.45'],\n",
       " ['HD 13931', 'G0', '5867', '1.25', '1.3', '0.196', '4.36', '8.4'],\n",
       " ['HD 139357', 'K0', '4700', '11.47', '2.69', '1.823', '2.9', '3.07'],\n",
       " ['HD 1397', 'G5 III/IV', '5521', '2.34', '1.32', '0.66', '3.82', '4.51'],\n",
       " ['HD 14067', 'G9 III', '4815', '12.4', '2.58', '1.898', '2.61', '0.69'],\n",
       " ['HD 141004', 'G0Vvar', '5885.38', '1.39', '1.05', '0.346', '4.17', '6.32'],\n",
       " ['HD 141937', 'G2/G3 V', '5870', '1.03', '1.09', '0.022', '4.45', '2.32'],\n",
       " ['HD 142022 A', 'K0', '5421', '1.04', '0.9', '0.004', '4.35', '7'],\n",
       " ['HD 142245', 'K0', '4922', '4.63', '3.5', '1.13', '3.65', '2.3'],\n",
       " ['HD 142415', 'G1 V', '5940', '1.04', '1.07', '0.06', '4.44', '1.1'],\n",
       " ['HD 143105', 'F5', '6380', '1.65', '1.51', '0.556', '4.37', ''],\n",
       " ['HD 143361', 'G6 V', '5507', '0.92', '0.97', '-0.092', '4.47', '2.942'],\n",
       " ['HD 144899', '', '6126', '1.65', '1.16', '0.537', '4.07', ''],\n",
       " ['HD 145377', 'G3 V', '6014', '1.05', '1.2', '0.193', '4.47', '1.3'],\n",
       " ['HD 145457', 'K0', '4769', '10.52', '1.23', '1.655', '2.48', '2.605'],\n",
       " ['HD 145934', 'K0', '4823.75', '6.93', '2.06', '1.355', '3.01', '1.56'],\n",
       " ['HD 147379', 'M1', '4156', '0.63', '0.6', '-0.971', '4.65', ''],\n",
       " ['HD 147513', 'G3/5V', '5883', '0.98', '1.11', '-0.01', '4.51', '0.3'],\n",
       " ['HD 14787', 'G5', '4946', '5.01', '1.43', '1.115', '3.23', ''],\n",
       " ['HD 148156', 'G0/2 V', '6308', '1.21', '1.22', '0.25', '4.56', ''],\n",
       " ['HD 148427', 'K0 III/IV', '5025', '3.86', '1.64', '0.78', '3.48', '2.5'],\n",
       " ['HD 149026', 'G0', '6179', '1.41', '1.42', '0.48', '4.37', '2.6'],\n",
       " ['HD 149143', 'G0', '5856', '1.44', '1.2', '0.35', '4.25', '4.28'],\n",
       " ['HD 149806', 'K0V', '5352.05', '0.89', '0.93', '-0.245', '4.51', '8.36'],\n",
       " ['HD 150010', 'K2 III', '4153', '16.2', '1.3', '1.982', '2.1', '4.9'],\n",
       " ['HD 1502', 'K0', '4947', '4.67', '1.46', '1.064', '3.18', '2.4'],\n",
       " ['HD 150706', 'G0 V', '5961', '0.96', '1.17', '0.032', '4.5', '3'],\n",
       " ['HD 152079', 'G6 V', '5907', '1.13', '1.15', '0.107', '4.37', '1.622'],\n",
       " ['HD 152581', 'K0', '5027', '5.14', '1.3', '1.173', '3.29', '12'],\n",
       " ['HD 153950', 'F8 V', '6124', '1.28', '1.25', '0.346', '4.32', '4.3'],\n",
       " ['HD 154088', 'K0 IV-V', '5374', '0.95', '0.91', '-0.131', '4.37', '8'],\n",
       " ['HD 154345', 'G8V', '5468', '0.85', '0.71', '-0.219', '4.43', '9.527'],\n",
       " ['HD 154672', 'G3 IV', '5743', '1.32', '1.18', '0.257', '4.27', '8'],\n",
       " ['HD 155193', 'F8 IV', '6239', '1.76', '1.22', '0.641', '4.26', ''],\n",
       " ['HD 155233', 'K1 III', '4960', '5.03', '1.69', '1.129', '3.17', ''],\n",
       " ['HD 156411', 'F8 IV/V', '5900', '2.16', '1.25', '0.731', '4.07', '4.28'],\n",
       " ['HD 156846', 'G0 V', '6090', '1.9', '1.38', '0.697', '4.02', '2.4'],\n",
       " ['HD 158038', 'K0', '4860', '4.5', '1.3', '1.076', '3.24', '2.5'],\n",
       " ['HD 158996', 'K5 III', '4069', '50.3', '1.8', '3.015', '1.4', '1.6'],\n",
       " ['HD 161178', 'G9 III', '4786', '10.95', '1.06', '1.751', '2.38', ''],\n",
       " ['HD 16141', 'G5 IV', '5757', '1.48', '1.11', '0.366', '4.14', '7.51'],\n",
       " ['HD 16175', 'G0', '5981', '1.72', '1.63', '0.508', '4.18', '3.3'],\n",
       " ['HD 162020', 'K3 V', '4723', '0.75', '0.42', '-0.602', '4.31', '6'],\n",
       " ['HD 16417', 'G1 V', '5841', '1.64', '1.2', '0.443', '4.16', '7'],\n",
       " ['HD 164509', 'G5', '5859', '1.11', '1.12', '0.12', '4.44', '2.32'],\n",
       " ['HD 164595', 'G2 V', '5790', '1.02', '0.99', '0.017', '4.44', '7.12'],\n",
       " ['HD 164604', 'K3.5 V', '4684', '0.77', '0.77', '-0.588', '4.62', ''],\n",
       " ['HD 165155', 'G8 V', '5426', '0.95', '1.02', '-0.155', '4.49', '11'],\n",
       " ['HD 1666', 'F7 V', '6317', '1.93', '1.5', '0.73', '4.06', '1.76'],\n",
       " ['HD 166724', 'K0 IV-V', '5127', '0.8', '0.81', '-0.509', '4.43', '4'],\n",
       " ['HD 167042', 'K1 IV', '5010', '4.3', '1.72', '1.023', '3.29', '2.2'],\n",
       " ['HD 167768', 'G8 III', '4851', '9.7', '1.08', '1.669', '2.5', '5.31'],\n",
       " ['HD 168009', 'G2V', '5778.33', '1.21', '0.99', '0.15', '4.27', '9.68'],\n",
       " ['HD 168746', 'G5', '5570', '1.09', '1.07', '0.041', '4.39', '8'],\n",
       " ['HD 168863', '', '4905', '0.78', '0.8', '-0.501', '4.56', ''],\n",
       " ['HD 1690', 'K1 III', '4374', '21.66', '1.86', '1.52', '2.04', '6.7'],\n",
       " ['HD 16905', '', '4866.12', '0.77', '0.79', '-0.518', '4.56', ''],\n",
       " ['HD 169142', '', '7246', '1.54', '1.85', '0.768', '4.28', '0.006'],\n",
       " ['HD 170469', 'G5 IV', '5842', '1.24', '1.1', '0.204', '4.3', '6.7'],\n",
       " ['HD 17092', 'K0 III', '4326', '13.58', '6.73', '1.756', '3', '2.6'],\n",
       " ['HD 171028', 'G0', '5671', '2.47', '1.53', '0.733', '3.84', '8.59'],\n",
       " ['HD 171238', 'G8 V', '5440', '1.01', '0.96', '-0.09', '4.43', '7.56'],\n",
       " ['HD 17156', 'G5', '6040', '1.55', '1.41', '0.39', '4.2', '3.37'],\n",
       " ['HD 173416', 'G8', '4683', '13.5', '2', '1.892', '2.48', '1.73'],\n",
       " ['HD 174205', 'K2', '4308', '26.6', '1.8', '2.378', '1.8', '1.7'],\n",
       " ['HD 175167', 'G5 IV/V', '5635', '1.75', '1', '0.456', '4.09', ''],\n",
       " ['HD 175541', 'G8 IV', '5013', '4.19', '1.39', '0.934', '3.33', '1.9'],\n",
       " ['HD 175607', 'G6 V', '5392', '0.7', '0.71', '-0.271', '4.64', '10.32'],\n",
       " ['HD 17674', 'G0 V', '5904', '1.18', '0.98', '0.205', '4.34', '8.4'],\n",
       " ['HD 177565', 'G8V', '5627', '0.97', '1', '-0.054', '4.39', '6.88'],\n",
       " ['HD 178911 B', 'G5', '5588', '1.08', '1.24', '-0.043', '4.46', ''],\n",
       " ['HD 179079', 'G5 IV', '5646', '1.63', '1.14', '0.38', '4.16', '6.99'],\n",
       " ['HD 179949', 'F8 V', '6168', '1.27', '1.21', '0.301', '4.34', '1'],\n",
       " ['HD 180053', 'K0', '5131', '4.06', '1.75', '1.099', '3.54', ''],\n",
       " ['HD 18015', 'G6 IV', '5603', '3.13', '1.49', '0.974', '3.64', ''],\n",
       " ['HD 180314', 'K0', '4924', '8.13', '2.2', '1.643', '2.96', '1.295'],\n",
       " ['HD 180617', 'M2.5 V', '3534', '0.48', '0.48', '-1.49', '4.9', ''],\n",
       " ['HD 180902', 'K0 III/IV', '4961', '4.16', '1.41', '0.973', '3.36', '2.8'],\n",
       " ['HD 181234', 'G5', '5386', '1.06', '0.94', '-0.099', '4.37', '6.32'],\n",
       " ['HD 181342', 'K0 III', '4945', '4.71', '1.69', '1.079', '3.28', '1.8'],\n",
       " ['HD 181720', 'G1 V', '5736', '1.5', '1.03', '0.288', '4.09', ''],\n",
       " ['HD 183579', 'G2 V', '5788', '0.99', '1.03', '0.012', '4.5', '2.6'],\n",
       " ['HD 185269', 'G0 IV', '5923', '2', '1.3', '0.694', '3.92', '4'],\n",
       " ['HD 18599', 'K2 V', '5145', '0.77', '0.86', '-0.429', '4.54', '0.4'],\n",
       " ['HD 187085', 'G0 V', '6117', '1.27', '1.19', '2.13', '4.28', '2.747'],\n",
       " ['HD 18742', 'G8/K0 IV', '4940', '5.13', '1.36', '1.143', '3.09', '2.3'],\n",
       " ['HD 188015', 'G5 IV', '5746', '1.13', '1.09', '0.059', '4.45', '6.61'],\n",
       " ['HD 188641', '', '5897.32', '1.94', '1.07', '0.615', '3.89', ''],\n",
       " ['HD 189733', 'K2 V', '5052', '0.75', '0.79', '-0.461', '4.49', '1.4'],\n",
       " ['HD 190007', 'K3/4V', '4610', '0.79', '0.77', '-0.68', '4.58', '1'],\n",
       " ['HD 190228', '', '5238', '2.59', '1.42', '0.657', '', ''],\n",
       " ['HD 190647', 'G5 V', '5656', '1.38', '1.07', '0.297', '4.16', '7.957'],\n",
       " ['HD 190984', 'F8 V', '5988', '1.53', '0.91', '0.43', '4.02', ''],\n",
       " ['HD 191806', 'K0', '6010', '1.4', '1.07', '0.348', '4.45', '2.9'],\n",
       " ['HD 192263', 'K2 V', '4976', '0.74', '0.66', '-0.47', '4.51', '2.09'],\n",
       " ['HD 192699', 'G8 IV', '5041', '4.41', '1.38', '1.009', '3.25', '1.8'],\n",
       " ['HD 194490', '', '5861.32', '1.15', '1.06', '0.147', '4.34', ''],\n",
       " ['HD 195019', 'G3 IV-V', '5751', '1.48', '1.21', '0.333', '4.18', '3.2'],\n",
       " ['HD 196050', 'G4 V', '5879', '1.42', '1.31', '0.26', '4.25', '1.6'],\n",
       " ['HD 196067', 'G1 V', '6017', '1.73', '1.29', '0.572', '4.24', '3.3'],\n",
       " ['HD 19615', 'K0', '4263', '32.3', '1.1', '2.515', '1.4', '6.7'],\n",
       " ['HD 196885 A', 'F8 V', '6254', '1.31', '1.28', '0.38', '4.31', '3.12'],\n",
       " ['HD 197037', 'F7 V', '6150', '1.1', '1.11', '0.239', '4.4', '1.9'],\n",
       " ['HD 199509', 'G3V', '5796.02', '0.92', '1.04', '-0.084', '4.51', '1.6'],\n",
       " ['HD 19994', 'F8 V', '6188', '1.8', '1.36', '0.58', '4.29', '2.4'],\n",
       " ['HD 202206', 'G6 V', '5766', '1.04', '1.07', '0.035', '4.5', '2.9'],\n",
       " ['HD 202772 A', '', '6272', '2.59', '1.72', '0.971', '3.85', '1.7'],\n",
       " ['HD 203030', 'G8 V', '5603', '0.86', '0.94', '-0.227', '4.64', '0.1'],\n",
       " ['HD 20329', '', '5596', '1.13', '0.9', '0.049', '4.4', '11'],\n",
       " ['HD 203473', 'G5', '5780', '1.33', '1.12', '0.25', '4.09', '5.22'],\n",
       " ['HD 2039', 'G2/G3 IV/V', '5945', '1.19', '1.23', '0.194', '4.38', '6'],\n",
       " ['HD 204941', 'K1/2V', '5026', '0.78', '0.58', '-0.509', '4.42', '6.67'],\n",
       " ['HD 205158', '', '6133.55', '1.88', '1.16', '0.653', '3.96', ''],\n",
       " ['HD 205739', 'F7 V', '6176', '1.33', '1.22', '0.36', '4.29', '2.84'],\n",
       " ['HD 206255', 'G5 IV/V', '5635', '2.22', '1.42', '0.652', '3.75', ''],\n",
       " ['HD 206610', 'K0 III', '4842', '6.12', '1.55', '1.276', '3.22', '3'],\n",
       " ['HD 20782', 'G1.5 V', '5782.13', '1.13', '1.04', '0.107', '4.35', '5.53'],\n",
       " ['HD 207897', 'K0 V', '5070', '0.78', '0.8', '-0.444', '4.56', '7.1'],\n",
       " ['HD 208487', 'G2 V', '6067', '1.2', '1.13', '0.244', '4.33', '8.15'],\n",
       " ['HD 208527', 'M1 III', '4035', '51.1', '1.6', '2.863', '1.4', '2'],\n",
       " ['HD 20868', 'K3/4 IV', '4802', '0.76', '0.39', '-0.529', '4.26', '4.5'],\n",
       " ['HD 208897', 'K0', '4860', '4.98', '1.25', '1.09', '3.13', ''],\n",
       " ['HD 209458', 'G0 V', '6091', '1.19', '1.23', '0.231', '4.45', '3.1'],\n",
       " ['HD 210193', 'G3 V', '5790', '1.06', '1.04', '0.056', '4.43', ''],\n",
       " ['HD 210277', 'G0 V', '5538', '1.07', '1.01', '-0.032', '4.38', '12'],\n",
       " ['HD 210702', 'K1 III', '4951', '4.92', '1.61', '1.149', '3.28', '2.1'],\n",
       " ['HD 211403', 'F7 V', '6273', '1.21', '1.2', '0.364', '4.3', ''],\n",
       " ['HD 211810', 'G5', '5652', '1.13', '1.03', '0.07', '4.26', ''],\n",
       " ['HD 211970', 'K7 V', '4127', '0.57', '0.61', '-1.065', '4.69', ''],\n",
       " ['HD 212301', 'F8 V', '6239', '1.16', '1.55', '0.243', '4.5', '1'],\n",
       " ['HD 212771', 'G8 IV', '5003', '5.27', '1.56', '1.188', '3.31', '6'],\n",
       " ['HD 213240', 'G0/1 V', '5979', '1.51', '1.57', '0.429', '4.27', '4.6'],\n",
       " ['HD 213472', '', '5729.54', '1.43', '1.05', '0.285', '4.14', ''],\n",
       " ['HD 213519', '', '5840', '1.08', '1.05', '0.089', '4.39', ''],\n",
       " ['HD 21411', 'G8 V', '5605', '0.83', '0.89', '-0.266', '4.51', ''],\n",
       " ['HD 214823', 'G0', '6215', '2.04', '1.11', '0.638', '4.05', '2.7'],\n",
       " ['HD 216435', 'G0 V', '5999', '1.8', '1.3', '0.557', '4.15', '3'],\n",
       " ['HD 216437', 'G2/3IV', '5909', '1.39', '1.17', '0.35', '4.19', '4.75'],\n",
       " ['HD 216536', 'K0', '4639', '9.83', '0.81', '1.8', '2.36', '3.8'],\n",
       " ['HD 216770', 'G9 V CN+1', '5399', '0.93', '0.74', '-0.1', '4.37', '3.1'],\n",
       " ['HD 217850', 'G8 V', '5544', '1.21', '1.03', '0.1', '4.17', '7.59'],\n",
       " ['HD 217958', '', '5930.64', '1.33', '1.08', '0.292', '4.23', ''],\n",
       " ['HD 218566', 'K3V', '4730', '0.85', '0.76', '-0.452', '4.46', '8.5'],\n",
       " ['HD 219077', 'G8 V', '5362', '1.91', '0.92', '0.425', '4', '8.9'],\n",
       " ['HD 219139', 'G5 III', '4831', '11.22', '1.46', '1.795', '2.48', ''],\n",
       " ['HD 219415', 'K0 III', '4820', '2.9', '1', '0.62', '3.51', '7.233'],\n",
       " ['HD 219666', '', '5527', '1.03', '0.92', '-0.028', '4.4', '10'],\n",
       " ['HD 220074', 'M2 III', '3787', '54.92', '2.2', '2.894', '1.3', '4.5'],\n",
       " ['HD 220197', 'G5', '5683', '0.98', '0.91', '-0.003', '4.42', '10.165'],\n",
       " ['HD 220689', 'G3 V', '5921', '1.07', '1.02', '0.093', '4.36', '4.586'],\n",
       " ['HD 220773', 'F9', '5940', '1.68', '1.16', '0.498', '4.24', '4.4'],\n",
       " ['HD 220842', 'F8', '5960', '1.42', '1.13', '0.357', '4.24', ''],\n",
       " ['HD 221287', 'F7 V', '6304', '1.14', '1.25', '0.22', '4.43', '1.3'],\n",
       " ['HD 221416', 'K0 IV/V', '5080', '2.94', '1.21', '0.712', '3.58', '4.9'],\n",
       " ['HD 221420', 'G2 V', '5847', '1.95', '1.06', '0.603', '4.03', '3.65'],\n",
       " ['HD 221585', 'G8 IV', '5620', '1.85', '1.19', '0.422', '4.05', '6.2'],\n",
       " ['HD 222076', 'K0 III', '4806', '4.1', '1.07', '0.929', '3.31', ''],\n",
       " ['HD 222155', 'G2 V', '5701', '1.85', '1.21', '0.509', '3.99', '8.2'],\n",
       " ['HD 222582', 'G5 V', '5790', '1.13', '1.12', '0.115', '4.38', '10.24'],\n",
       " ['HD 224538', 'F9 IV/V', '6097', '1.54', '1.23', '0.47', '4.19', '2'],\n",
       " ['HD 224693', 'G2 V', '5894', '1.93', '1.31', '0.61', '4.38', '4.12'],\n",
       " ['HD 22496', 'K5/M0V', '4385', '0.67', '0.68', '-1.174', '4.69', ''],\n",
       " ['HD 22532', 'G8 III/IV', '5038', '5.69', '1.57', '1.274', '3.09', ''],\n",
       " ['HD 22781', 'K1', '5027', '0.74', '0.75', '-0.476', '4.6', '4.8'],\n",
       " ['HD 23079', 'F9.5 V', '5974', '1.07', '1.12', '0.133', '4.43', '2'],\n",
       " ['HD 23127', 'G2 V', '5843', '1.49', '1.21', '0.452', '4.15', '4.508'],\n",
       " ['HD 231701', 'F8 V', '6101', '1.53', '1.21', '0.47', '4.31', '3.43'],\n",
       " ['HD 233604', 'K5', '4791', '10.9', '1.5', '1.75', '2.55', '2.4'],\n",
       " ['HD 233832', 'G0', '4981', '0.68', '0.71', '-0.523', '4.49', '5.417'],\n",
       " ['HD 23596', 'F8 V', '6040', '1.53', '1.1', '0.458', '4.23', '5.68'],\n",
       " ['HD 238090', 'M0.0 V', '3933', '0.57', '0.58', '-1.154', '4.7', ''],\n",
       " ['HD 238914', 'K7', '4769', '12.73', '1.47', '1.85', '2.37', ''],\n",
       " ['HD 240210', 'K3 III', '4297', '25.46', '0.82', '1.55', '2.31', '5.085'],\n",
       " ['HD 240237', 'K2 III', '3926', '71.23', '8.76', '2.49', '1.67', '4.42'],\n",
       " ['HD 24064', 'K0', '4052', '40', '1.61', '2.546', '1.44', '9'],\n",
       " ['HD 24085', 'G0 V', '6034', '1.41', '1.22', '0.377', '4.2', ''],\n",
       " ['HD 25015', 'K1 V', '5160', '0.83', '0.86', '-0.384', '4.4', '4'],\n",
       " ['HD 25171', 'F8 V', '6125', '1.23', '1.08', '0.276', '4.26', '4.802'],\n",
       " ['HD 25723', 'K1 III', '4766', '13.76', '2.12', '1.944', '2.5', '0.95'],\n",
       " ['HD 26161', '', '6057.62', '1.46', '1.13', '0.393', '4.16', ''],\n",
       " ['HD 2638', 'K1 V', '5186', '0.94', '0.77', '-0.33', '4.38', '3'],\n",
       " ['HD 2685', '', '6801', '1.56', '1.43', '0.668', '4.21', '1.31'],\n",
       " ['HD 26965', 'K0 V', '5072', '0.87', '0.78', '-0.34', '4.45', '6.9'],\n",
       " ['HD 27442', 'K1/2III', '4846', '3.18', '1.23', '0.851', '3.78', '10'],\n",
       " ['HD 27631', 'G3 IV-V', '5737', '0.92', '0.94', '-0.056', '4.46', '4.01'],\n",
       " ['HD 27969', 'G0 V', '5966', '1.27', '1.16', '0.528', '4.12', ''],\n",
       " ['HD 28192', '', '5919.87', '1.07', '1.08', '0.103', '4.41', ''],\n",
       " ['HD 28254', 'G1 IV/V', '5664', '1.48', '1.06', '0.34', '4.12', ''],\n",
       " ['HD 285507', 'K4.5 V', '4503', '0.69', '0.82', '-0.719', '4.67', '0.625'],\n",
       " ['HD 285968', 'M2 V', '3703.49', '0.48', '0.5', '-1.658', '4.75', '3.62'],\n",
       " ['HD 28678', 'G8 IV', '4972', '6.48', '1.53', '1.36', '3.06', '1.8'],\n",
       " ['HD 29021', 'G5', '5560', '0.85', '0.85', '-0.181', '4.44', '7.4'],\n",
       " ['HD 290327', 'G8 V', '5505', '0.95', '0.84', '-0.14', '4.41', ''],\n",
       " ['HD 29399', 'K1 III', '4845', '4.5', '1.17', '1.002', '3.25', '6.2'],\n",
       " ['HD 2952', 'K0 III', '4844', '10.76', '1.97', '1.85', '2.67', ''],\n",
       " ['HD 29985', '', '4678', '0.57', '0.75', '-0.846', '4.79', ''],\n",
       " ['HD 30562', 'F8 V', '5882', '1.61', '1.12', '0.45', '4.07', '3.6'],\n",
       " ['HD 30669', 'G9 V', '5400', '0.91', '0.92', '-0.146', '4.37', '4.8'],\n",
       " ['HD 30856', 'K0 III', '4895', '4.4', '1.17', '0.996', '3.2', '3.8'],\n",
       " ['HD 31253', 'F8', '6130', '1.75', '1.7', '0.517', '4.18', '3'],\n",
       " ['HD 32518', 'K1 III', '4580', '10.22', '1.13', '1.666', '2.1', '5.83'],\n",
       " ['HD 32963', 'G5', '5727', '1.11', '0.94', '0.064', '4.41', '4.99'],\n",
       " ['HD 330075', 'K1', '5000', '0.84', '0.47', '-0.33', '4.26', '6.2'],\n",
       " ['HD 331093', 'K0', '5544', '1.11', '1.03', '0.006', '4.2', ''],\n",
       " ['HD 332231', 'F8', '6089', '1.28', '1.13', '0.305', '4.28', '4.3'],\n",
       " ['HD 33283', 'G3/G5 V', '5935', '1.97', '1.38', '0.64', '4.12', '3.63'],\n",
       " ['HD 33564', 'F6 V', '6250', '1.44', '1.25', '0.535', '4', '3'],\n",
       " ['HD 35759', 'G0', '6060', '1.76', '1.15', '0.537', '4.24', ''],\n",
       " ['HD 360', 'G8 III', '4770', '10.86', '1.69', '1.742', '2.59', ''],\n",
       " ['HD 3651', 'K0 V', '5221', '0.87', '0.8', '-0.274', '4.45', '3'],\n",
       " ['HD 3765', 'K2V', '5049.8', '0.83', '0.85', '-0.416', '4.53', '2'],\n",
       " ['HD 38283', 'F9.5 V', '5981', '1.49', '1.37', '0.411', '4.23', '6.2'],\n",
       " ['HD 38801', 'K0', '5338', '2.03', '1.21', '0.659', '3.88', '6.072'],\n",
       " ['HD 39855', 'G8 V', '5576', '0.74', '0.87', '-0.316', '4.66', ''],\n",
       " ['HD 40956', 'K0', '4869', '8.56', '2', '1.664', '3.02', '1.35'],\n",
       " ['HD 40979', 'F8 V', '6165', '1.21', '1.45', '0.291', '4.43', '3.56'],\n",
       " ['HD 41004 A', 'K1/K2 V', '5310', '0.85', '0.95', '-0.293', '4.37', '1'],\n",
       " ['HD 41004 B', 'M2 V', '5036', '1.04', '0.4', '-0.202', '4.33', ''],\n",
       " ['HD 4113', 'G5', '5688', '1.08', '1.01', '0.086', '4.4', '6.4'],\n",
       " ['HD 42012', 'K0', '5405', '0.82', '0.83', '-0.27', '4.45', '4.1'],\n",
       " ['HD 4208',\n",
       "  'G7 V Fe-1 CH-0.5',\n",
       "  '5717',\n",
       "  '0.85',\n",
       "  '0.88',\n",
       "  '-0.1',\n",
       "  '4.5',\n",
       "  '3.813'],\n",
       " ['HD 42618', 'G4 V', '5727', '1', '1.01', '-0.009', '4.44', '3.72'],\n",
       " ['HD 4308', 'G5V', '5686', '1.02', '0.93', '-0.004', '4.39', '4.3'],\n",
       " ['HD 4313', 'G5', '4943', '5.14', '1.63', '1.149', '3.24', '2'],\n",
       " ['HD 43691', 'G0', '6093', '1.6', '1.32', '0.5', '4.28', '2.39'],\n",
       " ['HD 44219', 'G2 V', '5752', '1.32', '1', '0.26', '4.21', ''],\n",
       " ['HD 45350', 'G5 V', '5566', '1.26', '0.98', '0.141', '4.23', '8'],\n",
       " ['HD 45652', 'G8/K0', '5294', '0.94', '0.92', '-0.2', '4.2', '8.4'],\n",
       " ['HD 457', '', '6114.04', '1.28', '1.15', '0.316', '4.28', ''],\n",
       " ['HD 46375', 'K1 IV-V', '5285', '0.91', '0.92', '-0.245', '4.53', '9'],\n",
       " ['HD 47536', 'K1 III', '4380', '23.47', '2.1', '2.248', '2.13', '10.15'],\n",
       " ['HD 4760', 'K2', '4076', '42.4', '1.05', '2.93', '1.62', ''],\n",
       " ['HD 48265', 'G5 IV/V', '5733', '1.9', '1.31', '0.584', '3.97', '4.201'],\n",
       " ['HD 4917', 'K0 III/IV', '4802', '5.01', '1.32', '1.456', '2.97', ''],\n",
       " ['HD 49674', 'G5 V', '5602', '1.02', '1.03', '-0.022', '4.44', '3.62'],\n",
       " ['HD 50554', 'F8 V', '5987', '1.02', '1.04', '0.143', '4.33', '2.16'],\n",
       " ['HD 52265', 'G0V', '6136', '1.32', '1.2', '0.297', '4.36', '3.5'],\n",
       " ['HD 55696', 'G0 V', '6012', '1.52', '1.29', '0.43', '4.03', '2.64'],\n",
       " ['HD 5583', '', '4830', '9.09', '1.01', '1.61', '2.53', '7.41'],\n",
       " ['HD 5608', 'K0', '4877', '5.14', '1.53', '1.179', '3.19', '1.72'],\n",
       " ['HD 564', 'G2/G3 V', '5902', '1.01', '0.96', '0.019', '4.53', '5.5'],\n",
       " ['HD 56414', '', '8500', '1.75', '1.89', '1.158', '4.26', '0.42'],\n",
       " ['HD 56957', '', '5743', '1.78', '1.03', '0.491', '3.95', ''],\n",
       " ['HD 5891', 'G5', '4673', '10.64', '1.93', '1.595', '2.67', '1.5'],\n",
       " ['HD 59686 A', 'K2 III', '4658', '13.2', '1.9', '1.822', '2.49', '1.73'],\n",
       " ['HD 60292', 'K0 III', '4348', '27', '1.7', '2.394', '1.9', '1.8'],\n",
       " ['HD 62509', 'K0IIIvar', '4892.63', '8.9', '2', '1.612', '2.78', '0.98'],\n",
       " ['HD 62549', '', '5930.46', '1.23', '1.08', '0.228', '4.29', ''],\n",
       " ['HD 63454', 'K4 V', '4812', '0.77', '0.42', '-0.592', '4.28', '1'],\n",
       " ['HD 63765', 'G9 V', '5449', '0.83', '0.65', '-0.256', '4.41', '4.77'],\n",
       " ['HD 64114', 'G7 V', '5676', '0.88', '0.95', '-0.137', '4.52', ''],\n",
       " ['HD 64121', 'G8/K0 III', '5078', '5.44', '1.64', '1.248', '3.19', ''],\n",
       " ['HD 6434', 'G2/3 V', '5769', '1.12', '1.1', '0.05', '4.38', '11.27'],\n",
       " ['HD 66141', 'K2 III', '4323', '21.4', '1.1', '2.24', '1.78', '6.84'],\n",
       " ['HD 6718', 'G5 V', '5801', '0.95', '1.08', '0.053', '4.51', ''],\n",
       " ['HD 68402', 'G5 IV/V', '5950', '1.02', '1.12', '0.068', '4.47', '2'],\n",
       " ['HD 69123', 'K1 III', '4842', '7.72', '1.68', '1.47', '2.86', ''],\n",
       " ['HD 70573', 'G1-1.5 V', '5737', '0.98', '1', '-0.001', '4.59', '0.102'],\n",
       " ['HD 70642', 'G5', '5732', '0.98', '1.08', '0.012', '4.46', '0.919'],\n",
       " ['HD 7199', 'K1 IV', '5371', '0.97', '0.77', '-0.155', '4.35', '6.79'],\n",
       " ['HD 72490', 'G5', '4934', '4.96', '1.21', '1.091', '3.21', ''],\n",
       " ['HD 72892', 'G5 V', '5688', '1.22', '1.01', '0.146', '4.27', '8'],\n",
       " ['HD 73534', 'G5', '4917', '2.58', '1.16', '0.522', '3.6', '7.04'],\n",
       " ['HD 7449', 'F9.5 V', '6024', '0.97', '1.2', '0.101', '4.52', '2.1'],\n",
       " ['HD 75289', 'G0', '6117', '1.23', '1.29', '0.312', '4.37', '5.6'],\n",
       " ['HD 75898', 'G0', '5963', '1.58', '1.26', '0.46', '4.21', '3.56'],\n",
       " ['HD 76700', 'G6 V', '5644', '1.37', '0.99', '0.257', '4.16', '11'],\n",
       " ['HD 76920', 'K1 III', '4698', '7.47', '1.17', '1.38', '2.94', '7.1'],\n",
       " ['HD 77338', 'K0 IV', '5341', '0.97', '1.37', '-0.26', '4.6', ''],\n",
       " ['HD 79181', 'G8 III', '4862', '11.06', '1.28', '1.79', '2.45', ''],\n",
       " ['HD 79498', 'G5', '5748', '1.05', '1.08', '0.03', '4.37', '2.71'],\n",
       " ['HD 80606', 'G5', '5561', '1.04', '1.15', '-0.002', '4.42', '5.9'],\n",
       " ['HD 80653', 'G2', '5910', '1.22', '1.18', '0.24', '4.34', '2.67'],\n",
       " ['HD 80869', 'G1 V', '5837', '1.06', '1.06', '0.4', '4.18', ''],\n",
       " ['HD 80883', '', '5177.91', '0.81', '0.88', '-0.367', '4.56', ''],\n",
       " ['HD 80913', '', '6013.24', '1.65', '1.11', '0.508', '4.05', ''],\n",
       " ['HD 81040', 'G2/G3', '5755', '0.91', '1.03', '-0.077', '4.54', '0.73'],\n",
       " ['HD 81688', 'G5', '4753', '13', '2.1', '1.857', '2.22', '1.48'],\n",
       " ['HD 82886', 'G0', '4953', '5.26', '2.53', '1.143', '3.4', '7'],\n",
       " ['HD 8326', 'K2 V', '4914', '0.78', '0.8', '-0.492', '4.55', ''],\n",
       " ['HD 8535', 'G0 V', '6136', '1.19', '1.13', '0.333', '4.46', ''],\n",
       " ['HD 85390', 'K1.5 V', '5186', '0.8', '0.76', '-0.367', '4.41', '7.2'],\n",
       " ['HD 85512', 'K5 V', '4300', '0.71', '0.43', '-0.775', '4.36', '5.61'],\n",
       " ['HD 8574', 'F8', '6064', '1.38', '1.34', '0.376', '4.28', '5.6'],\n",
       " ['HD 86065', '', '4927.56', '0.78', '0.81', '-0.49', '4.56', ''],\n",
       " ['HD 86081', 'F8', '5939', '1.46', '1.21', '0.38', '4.18', '3.61'],\n",
       " ['HD 86264', 'F7 V', '6210', '1.88', '1.26', '0.66', '4.02', '2.24'],\n",
       " ['HD 8673', 'F5', '6389.05', '1.5', '1.28', '0.53', '4.19', ''],\n",
       " ['HD 86950', 'K1 III', '4805', '8.8', '1.66', '1.56', '2.66', ''],\n",
       " ['HD 87646', 'G', '5770', '1.55', '1.12', '0.96', '4.1', ''],\n",
       " ['HD 87883', 'K0', '4980', '0.8', '0.81', '-0.471', '4.55', '7.6'],\n",
       " ['HD 88072', '', '5785.33', '1.03', '1.04', '0.031', '4.43', ''],\n",
       " ['HD 88133', 'G5', '5392', '2.2', '1.26', '0.497', '3.88', '5.37'],\n",
       " ['HD 89307', 'G0', '5955', '1.1', '1.27', '0.131', '4.46', '2.31'],\n",
       " ['HD 89345', 'G5', '5576', '1.75', '1.16', '0.425', '4.02', '7.53'],\n",
       " ['HD 89744', 'F7 V', '6291', '2.13', '1.86', '0.796', '4.07', '1.88'],\n",
       " ['HD 90156', 'G5V', '5599', '0.92', '0.84', '-0.143', '4.48', '4.4'],\n",
       " ['HD 9174', 'G8 IV', '5577', '1.67', '1.03', '0.382', '4.03', '9'],\n",
       " ['HD 93083', 'K3 V', '4995', '0.85', '0.7', '-0.387', '4.26', '1'],\n",
       " ['HD 94834', 'K0', '4798', '4.2', '1.11', '0.993', '3.22', ''],\n",
       " ['HD 95086', 'A8 III', '7595', '1.49', '1.6', '0.821', '4.34', '0.017'],\n",
       " ['HD 95127', 'K0', '4218', '41.01', '3.7', '2.28', '1.78', '5.5'],\n",
       " ['HD 95338', 'K0.5 V', '5212', '0.87', '0.83', '-0.31', '4.54', '5.08'],\n",
       " ['HD 95544', 'G3 V', '5722', '1.09', '1.01', '0.478', '4.07', ''],\n",
       " ['HD 95872', 'K0 V', '5312', '0.84', '0.7', '-0.242', '4.43', '10'],\n",
       " ['HD 96063', 'G6 V', '5020', '4.75', '1.37', '1.104', '3.33', '9'],\n",
       " ['HD 96127', 'K2 III', '3943', '51.1', '10.94', '2.86', '2.06', '4.067'],\n",
       " ['HD 96167', 'G5', '5733', '1.94', '1.27', '0.57', '3.99', '4.85'],\n",
       " ['HD 96992', 'K0', '4725', '7.43', '0.96', '1.47', '2.76', ''],\n",
       " ['HD 97037', '', '5874.1', '1.26', '1.06', '0.234', '4.26', ''],\n",
       " ['HD 97048', 'Be9.5/AO', '10000', '2.25', '2.4', '1.602', '4.14', '0.003'],\n",
       " ['HD 97658', 'K1 V', '5212', '0.73', '0.85', '-0.455', '4.64', '3.9'],\n",
       " ['HD 98219', 'K0 III/IV', '4925', '4.6', '1.41', '1.049', '3.36', '4'],\n",
       " ['HD 98649', 'G3/G5 V', '5759', '1.01', '1.02', '-0.014', '4.38', '4.44'],\n",
       " ['HD 98736', 'G5', '5271', '0.93', '0.92', '-0.22', '4.47', '7.39'],\n",
       " ['HD 99109', 'G8/K0 IV', '5282', '0.98', '0.76', '-0.172', '4.34', '1'],\n",
       " ['HD 99283', 'K0 III', '4886', '11.21', '1.76', '1.81', '2.57', ''],\n",
       " ['HD 99492', 'K2 V', '4815', '0.83', '0.48', '-0.475', '4.28', '4.8'],\n",
       " ['HIP 105854', 'K2 III', '4780', '10.31', '2.1', '1.67', '2.94', ''],\n",
       " ['HIP 107772', 'M0 V', '4006', '0.51', '0.63', '-1.163', '4.73', ''],\n",
       " ['HIP 107773', 'K1 III', '4945', '11.6', '2.42', '1.87', '2.6', ''],\n",
       " ['HIP 109384', 'G5', '5180', '0.83', '0.78', '-0.319', '4.43', ''],\n",
       " ['HIP 109600', 'G5', '5530', '0.97', '0.87', '-0.079', '4.45', ''],\n",
       " ['HIP 114933', 'K0 III', '4823', '5.27', '1.39', '1.14', '2.99', '3.4'],\n",
       " ['HIP 116454', 'K1', '5089', '0.72', '0.81', '-0.471', '4.59', '2'],\n",
       " ['HIP 12961', 'M0', '3901', '0.65', '0.69', '-1.003', '4.65', ''],\n",
       " ['HIP 21152', 'F5 V', '6655', '1.59', '1.4', '0.636', '4.3', '0.65'],\n",
       " ['HIP 34222', 'K7 V', '4050', '0.62', '0.62', '-1.033', '4.65', ''],\n",
       " ['HIP 35173', 'K2 V', '4881', '0.77', '0.79', '-0.514', '4.52', ''],\n",
       " ['HIP 35965', '', '4836', '0.7', '0.78', '-0.62', '4.64', ''],\n",
       " ['HIP 4845', 'K7V', '4010', '0.6', '0.62', '-1.034', '4.62', ''],\n",
       " ['HIP 48714', 'M0.5 Ve', '4015.5', '0.6', '0.58', '-1.156', '4.66', ''],\n",
       " ['HIP 55507', 'M0', '4171', '0.72', '0.65', '-0.845', '4.53', ''],\n",
       " ['HIP 56640', 'K1 III', '4769', '4.93', '1.75', '1.05', '2.91', '9.15'],\n",
       " ['HIP 5763', 'K6 V', '4352', '0.75', '0.72', '-0.74', '4.52', ''],\n",
       " ['HIP 63242', 'G8', '4830', '10.28', '1.54', '1.63', '2.53', ''],\n",
       " ['HIP 65 A', 'K4 V', '4590', '0.72', '0.78', '-0.678', '4.61', '4.1'],\n",
       " ['HIP 65426', 'A2 V', '8840', '1.77', '1.96', '1.269', '4.32', '0.014'],\n",
       " ['HIP 65891', 'K0 III', '5000', '8.93', '2.49', '1.65', '2.9', ''],\n",
       " ['HIP 67522', 'G1 V', '5675', '1.38', '1.22', '0.243', '4.2', '0.017'],\n",
       " ['HIP 67537', 'K1 III', '4985', '8.69', '2.32', '1.617', '2.85', ''],\n",
       " ['HIP 70849', 'K7 V', '4105', '0.63', '0.63', '-1.048', '4.62', '3'],\n",
       " ['HIP 71135', 'M1', '4146', '0.68', '0.66', '-0.908', '4.54', ''],\n",
       " ['HIP 74890', 'K1 III', '4850', '5.77', '1.74', '1.215', '3.1', ''],\n",
       " ['HIP 75056 A', 'A2 V', '8610', '1.65', '1.92', '1.129', '4.34', '0.012'],\n",
       " ['HIP 75092', 'K0 III', '4891', '4.53', '1.28', '1.02', '3.09', '4.3'],\n",
       " ['HIP 78530', 'B9 V', '10500', '2.11', '2.5', '1.368', '4.13', '0.005'],\n",
       " ['HIP 79098 AB', 'B9 V', '9193.75', '', '3.75', '', '', '0.01'],\n",
       " ['HIP 79431', 'M3 V', '3191', '0.48', '0.49', '-1.549', '4.76', ''],\n",
       " ['HIP 86221', 'K5 V', '', '', '0.79', '', '', ''],\n",
       " ['HIP 90988', 'K1 III', '4883', '3.94', '1.61', '0.89', '3.32', '4.55'],\n",
       " ['HIP 91258', 'G5 V', '5519', '0.89', '0.97', '-0.222', '4.53', '2.4'],\n",
       " ['HIP 94235', 'G V', '5991', '1.08', '1.09', '0.138', '4.46', '0.118'],\n",
       " ['HIP 948', '', '4497', '0.69', '0.71', '-0.758', '4.61', ''],\n",
       " ['HIP 97233', 'K0', '5020', '5.34', '1.81', '1.204', '3.26', ''],\n",
       " ['HN Peg', 'G0 V', '6186', '1.01', '1.08', '0.06', '4.48', '0.3'],\n",
       " ['HR 2562', 'F5 V', '6785', '1.47', '1.3', '0.531', '4.4', '0.6'],\n",
       " ['HR 5183', 'G0 V', '5794', '1.53', '1.07', '0.397', '4.02', '7.7'],\n",
       " ['HR 810', 'G0V', '6167', '1.13', '1.34', '0.253', '4.46', '2.72'],\n",
       " ['IC 4651 9122', '', '4740.1', '10.27', '2.1', '1.636', '2.52', '1.14'],\n",
       " ['K2-10', 'F9', '5620', '0.98', '0.92', '-0.101', '4.5', ''],\n",
       " ['K2-100', 'G0 V', '5945', '1.24', '1.15', '0.25', '4.33', '0.75'],\n",
       " ['K2-101', 'K3', '4927', '0.76', '0.82', '-0.595', '4.59', '0.79'],\n",
       " ['K2-102', 'K5', '4695', '0.71', '0.77', '-0.657', '4.53', '0.79'],\n",
       " ['K2-104', 'M2.5e', '3712', '0.48', '0.51', '-1.434', '4.78', '0.79'],\n",
       " ['K2-105', 'K1', '5636', '0.97', '1.05', '-0.189', '4.49', '0.6'],\n",
       " ['K2-107', 'F9 IV', '6061', '1.81', '1.3', '0.464', '4.04', '4.25'],\n",
       " ['K2-108', '', '5599', '1.76', '1.17', '0.405', '4.02', '7.8'],\n",
       " ['K2-11', 'G8', '5433', '5.15', '1.35', '-0.31', '4.56', ''],\n",
       " ['K2-110', 'K3 V', '4950', '0.71', '0.75', '-0.567', '4.61', '8'],\n",
       " ['K2-113', 'G', '5660', '1.24', '1.04', '0.009', '4.27', '5.9'],\n",
       " ['K2-114', '', '4920', '0.82', '0.86', '-0.445', '4.54', '7.2'],\n",
       " ['K2-115', 'G4', '5657', '0.88', '0.95', '-0.145', '4.53', '10.7'],\n",
       " ['K2-116', '', '4348.35', '0.67', '0.69', '-0.746', '4.64', ''],\n",
       " ['K2-118', '', '4726.29', '0.73', '0.76', '-0.561', '4.53', ''],\n",
       " ['K2-119', '', '4740', '0.71', '0.76', '-0.685', '4.62', ''],\n",
       " ['K2-12', 'F9', '5800', '1.01', '1.01', '0.072', '4.3', ''],\n",
       " ['K2-120', '', '4349.9', '0.67', '0.69', '-0.664', '', ''],\n",
       " ['K2-121', '', '4690', '0.67', '0.69', '-0.745', '4.63', ''],\n",
       " ['K2-122', 'M0', '4009', '0.59', '0.63', '-1.102', '4.69', ''],\n",
       " ['K2-123', '', '4035', '0.59', '0.62', '-1.143', '4.69', ''],\n",
       " ['K2-124', '', '3570', '0.39', '0.39', '-1.659', '4.86', ''],\n",
       " ['K2-125', '', '3654.47', '0.4', '0.49', '-1.641', '4.83', ''],\n",
       " ['K2-126', '', '4339', '0.65', '0.69', '-0.878', '4.66', ''],\n",
       " ['K2-127', '', '4575', '0.66', '0.72', '-0.254', '4.65', ''],\n",
       " ['K2-128', '', '4469.51', '0.78', '0.71', '-0.822', '4.7', ''],\n",
       " ['K2-129', '', '3459.09', '0.36', '0.36', '-1.828', '4.87', ''],\n",
       " ['K2-13', 'G3', '5698', '0.78', '0.8', '-0.135', '4.33', ''],\n",
       " ['K2-130', '', '4356.47', '0.74', '0.7', '-0.799', '4.62', ''],\n",
       " ['K2-131', '', '5200', '0.81', '0.84', '-0.479', '4.6', ''],\n",
       " ['K2-132', '', '4840', '3.85', '1.08', '0.943', '3.3', '8.5'],\n",
       " ['K2-137', 'M3 V', '3697', '0.29', '0.46', '-1.484', '5', ''],\n",
       " ['K2-139', 'K0 V', '5370', '0.88', '0.96', '-0.299', '4.54', '1.8'],\n",
       " ['K2-14', 'M0', '3789', '0.45', '0.47', '-0.968', '4.89', ''],\n",
       " ['K2-140', 'G6 V', '5585', '1.06', '0.96', '-0.049', '4.4', '9.8'],\n",
       " ['K2-147', '', '3775', '0.31', '0.58', '-1.292', '5', ''],\n",
       " ['K2-149', 'M1.0 V', '3745', '0.57', '0.59', '-1.31', '4.71', ''],\n",
       " ['K2-15', 'G8', '5131', '0.68', '0.72', '-0.453', '4.57', ''],\n",
       " ['K2-150', 'M2.5 V', '3499', '0.44', '0.46', '-1.585', '4.82', ''],\n",
       " ['K2-151', 'M1.5 V', '3695', '0.45', '0.47', '-1.553', '4.8', ''],\n",
       " ['K2-152', 'M0.0 V', '4044', '0.61', '0.63', '-1.06', '4.67', ''],\n",
       " ['K2-153', 'M3.0 V', '3845', '0.53', '0.55', '-1.367', '4.73', ''],\n",
       " ['K2-156', '', '4460', '0.62', '0.66', '-0.838', '4.7', ''],\n",
       " ['K2-157', '', '5456', '0.88', '0.94', '-0.21', '4.5', ''],\n",
       " ['K2-159', '', '5425', '0.83', '0.9', '-0.296', '4.56', ''],\n",
       " ['K2-160', '', '5649', '0.91', '0.98', '-0.137', '4.61', ''],\n",
       " ['K2-161', '', '4972', '2.57', '0.99', '0.919', '3.63', ''],\n",
       " ['K2-162', '', '4842', '0.69', '0.75', '-0.657', '4.63', ''],\n",
       " ['K2-163', '', '4937', '0.76', '0.83', '-0.541', '4.71', ''],\n",
       " ['K2-164', '', '5791', '2.2', '1.18', '0.59', '3.81', ''],\n",
       " ['K2-167', 'F7 V', '6141', '1.46', '1.34', '0.436', '4.24', '2.1'],\n",
       " ['K2-169', '', '5548', '0.92', '0.99', '-0.161', '4.56', ''],\n",
       " ['K2-17', 'K7', '4320', '0.66', '0.71', '-0.997', '4.8', ''],\n",
       " ['K2-171', '', '5250', '1.72', '0.89', '0.516', '3.95', ''],\n",
       " ['K2-173', '', '5580', '0.84', '0.88', '-0.06', '4.52', ''],\n",
       " ['K2-174', '', '4455', '0.68', '0.7', '-0.773', '4.62', ''],\n",
       " ['K2-175', '', '5909', '1.42', '1.09', '0.419', '4.11', ''],\n",
       " ['K2-176', '', '5428', '0.86', '0.94', '-0.348', '4.63', ''],\n",
       " ['K2-177', '', '6063', '1.21', '1.21', '0.342', '4.38', ''],\n",
       " ['K2-178', '', '5525', '0.89', '0.95', '-0.284', '4.55', ''],\n",
       " ['K2-179', '', '5015', '0.77', '0.82', '-0.523', '4.63', ''],\n",
       " ['K2-180', 'K2 V', '5306', '0.72', '0.72', '-0.439', '4.57', '9.5'],\n",
       " ['K2-181', '', '5608', '1.07', '0.99', '-0.013', '4.38', ''],\n",
       " ['K2-182', '', '5170', '0.79', '0.86', '-0.408', '4.61', '2.07'],\n",
       " ['K2-184', '', '5245', '0.75', '0.84', '-0.399', '4.62', ''],\n",
       " ['K2-186', '', '5784', '0.98', '1.02', '0.05', '4.45', ''],\n",
       " ['K2-191', '', '5176', '0.84', '0.9', '-0.345', '4.57', ''],\n",
       " ['K2-192', '', '5222', '0.81', '0.9', '-0.36', '4.57', ''],\n",
       " ['K2-193', '', '5817', '0.98', '1.01', '-0.076', '4.46', ''],\n",
       " ['K2-194', '', '5979', '1.28', '1.11', '0.363', '4.21', ''],\n",
       " ['K2-196', '', '6045', '1.54', '1.16', '0.644', '4.08', ''],\n",
       " ['K2-197', '', '5667', '0.93', '1', '-0.114', '4.5', ''],\n",
       " ['K2-200', '', '5233', '0.79', '0.86', '-0.429', '4.71', ''],\n",
       " ['K2-202', '', '5491', '0.91', '0.97', '-0.335', '4.55', ''],\n",
       " ['K2-203', '', '5000', '0.76', '0.79', '-0.485', '4.43', ''],\n",
       " ['K2-204', '', '5755', '1.18', '1.01', '0.253', '4.23', ''],\n",
       " ['K2-205', '', '5890', '1.08', '0.95', '0.194', '4.25', ''],\n",
       " ['K2-206', '', '5043', '0.76', '0.79', '-0.435', '4.46', ''],\n",
       " ['K2-207', '', '5522', '0.93', '0.94', '-0.173', '4.41', ''],\n",
       " ['K2-208', '', '5582', '0.86', '0.93', '-0.214', '4.62', ''],\n",
       " ['K2-209', '', '4720', '0.71', '0.74', '-0.588', '4.46', ''],\n",
       " ['K2-210', '', '5500', '0.89', '0.91', '-0.249', '4.6', ''],\n",
       " ['K2-211', '', '5360', '0.79', '0.88', '-0.386', '4.7', ''],\n",
       " ['K2-212', '', '4349', '0.68', '0.62', '-0.91', '4.72', ''],\n",
       " ['K2-213', '', '5794', '1.2', '1.07', '0.247', '4.25', ''],\n",
       " ['K2-214', '', '5854', '1.27', '1.05', '0.196', '4.25', ''],\n",
       " ['K2-215', '', '5704', '0.97', '1', '-0.026', '4.41', ''],\n",
       " ['K2-216', 'K5 V', '4503', '0.72', '0.7', '-0.721', '4.57', ''],\n",
       " ['K2-217', '', '5967', '1.33', '1.1', '0.232', '4.17', ''],\n",
       " ['K2-218', '', '5757', '1.01', '1.05', '-0.003', '4.45', ''],\n",
       " ['K2-22', 'M0 V', '3879', '0.58', '0.6', '-1.074', '4.7', ''],\n",
       " ['K2-220', '', '5660', '1.02', '0.96', '-0.061', '4.4', ''],\n",
       " ['K2-221', '', '5716', '0.95', '1.01', '-0.064', '4.57', ''],\n",
       " ['K2-222', '', '6058', '1.09', '1', '0.139', '4.37', ''],\n",
       " ['K2-225', '', '5742', '1.7', '1.27', '0.395', '4.08', ''],\n",
       " ['K2-226', '', '5424', '0.91', '0.88', '-0.276', '4.47', ''],\n",
       " ['K2-227', '', '5673', '0.89', '0.95', '-0.167', '4.58', ''],\n",
       " ['K2-228', '', '4715', '0.65', '0.71', '-0.849', '4.66', ''],\n",
       " ['K2-230', '', '5945', '1.39', '1.11', '0.317', '4.2', ''],\n",
       " ['K2-231', '', '5695', '0.95', '1.01', '-0.112', '4.48', '3'],\n",
       " ['K2-232', '', '6154', '1.16', '1.19', '0.238', '4.38', '1.43'],\n",
       " ['K2-237', 'F9 V', '6360', '1.26', '1.26', '0.371', '4.34', '1.02'],\n",
       " ['K2-238', 'G2 V', '5630', '1.59', '1.19', '0.36', '4.11', '5.63'],\n",
       " ['K2-241', '', '5262', '0.75', '0.71', '-0.446', '4.54', ''],\n",
       " ['K2-242', '', '3459', '0.37', '0.38', '-1.808', '4.89', ''],\n",
       " ['K2-244', '', '5677', '0.92', '0.86', '-0.118', '4.44', ''],\n",
       " ['K2-245', '', '5793', '1.25', '0.83', '0.172', '4.16', ''],\n",
       " ['K2-246', '', '5610', '0.94', '0.87', '-0.151', '4.43', ''],\n",
       " ['K2-248', '', '5528', '0.92', '0.88', '-0.189', '4.45', ''],\n",
       " ['K2-249', '', '6504', '1.57', '1.32', '0.336', '4.16', ''],\n",
       " ['K2-25', 'M4.5 V', '3207', '0.29', '0.26', '-2.088', '4.94', '0.73'],\n",
       " ['K2-250', '', '5172', '0.81', '0.8', '-0.426', '4.53', ''],\n",
       " ['K2-251', '', '3717', '0.49', '0.52', '-1.342', '4.76', ''],\n",
       " ['K2-252', '', '5152', '0.82', '0.79', '-0.408', '4.5', ''],\n",
       " ['K2-253', '', '6027', '1.1', '1.08', '-0.077', '4.39', ''],\n",
       " ['K2-255', '', '4676', '0.69', '0.71', '-0.79', '4.62', ''],\n",
       " ['K2-256', '', '5219', '0.78', '0.84', '-0.469', '4.58', ''],\n",
       " ['K2-257', '', '3725', '0.5', '0.52', '-1.381', '4.76', ''],\n",
       " ['K2-258', '', '6351', '1.31', '1.21', '0.272', '4.29', ''],\n",
       " ['K2-259', '', '6059', '1.13', '1.14', '0.167', '4.39', ''],\n",
       " ['K2-26', 'M1.0 V', '3785', '0.52', '0.56', '-1.31', '4.72', '1'],\n",
       " ['K2-260', 'F6 V', '6367', '1.69', '1.39', '0.543', '4.15', '1.9'],\n",
       " ['K2-261', 'G7 IV/V', '5445', '1.64', '1.09', '0.328', '4.04', '9.3'],\n",
       " ['K2-263', 'G9 V', '5368', '0.85', '0.88', '-0.26', '4.51', '7'],\n",
       " ['K2-265', 'G8 V', '5477', '0.98', '0.92', '-0.18', '4.42', '9.7'],\n",
       " ['K2-269', '', '6209', '1.45', '1.16', '0.468', '4.18', ''],\n",
       " ['K2-27', '', '5248', '0.89', '0.87', '-0.27', '4.48', '10.3'],\n",
       " ['K2-271', '', '5644', '0.99', '0.83', '-0.05', '4.37', ''],\n",
       " ['K2-272', '', '5397', '0.83', '0.86', '-0.302', '4.53', ''],\n",
       " ['K2-273', '', '5161', '0.85', '0.89', '-0.353', '4.53', ''],\n",
       " ['K2-274', '', '5044', '0.7', '0.79', '-0.509', '4.64', ''],\n",
       " ['K2-276', '', '5139', '0.85', '0.82', '-0.405', '4.49', ''],\n",
       " ['K2-277', '', '5741', '0.97', '1.02', '-0.052', '4.48', ''],\n",
       " ['K2-278', '', '6747', '1.61', '1.4', '0.399', '4.17', ''],\n",
       " ['K2-279', '', '5558', '0.86', '0.79', '-0.205', '4.46', ''],\n",
       " ['K2-28', 'M4', '3214', '0.29', '0.26', '-1.94', '4.93', ''],\n",
       " ['K2-280', '', '5500', '1.28', '1.03', '0.14', '4.21', '8.96'],\n",
       " ['K2-281', '', '4812', '0.76', '0.82', '-0.647', '4.59', ''],\n",
       " ['K2-283', '', '5060', '0.82', '0.89', '-0.524', '4.56', ''],\n",
       " ['K2-284', '', '4140', '0.61', '0.63', '-1.013', '4.67', '0.12'],\n",
       " ['K2-286', 'M0 V', '3926', '0.62', '0.64', '-1.046', '4.7', ''],\n",
       " ['K2-287', '', '5695', '1.07', '1.06', '-0.108', '4.4', '4.5'],\n",
       " ['K2-288 B', 'M3 V', '3341', '0.32', '0.33', '-1.93', '4.96', '1'],\n",
       " ['K2-289', '', '5529', '1.02', '0.95', '-0.505', '4.39', ''],\n",
       " ['K2-29', 'G7 V', '5358', '0.86', '0.94', '-0.295', '4.54', '2.6'],\n",
       " ['K2-291', '', '5520', '0.9', '0.93', '-0.166', '4.5', '3.72'],\n",
       " ['K2-292', 'G3 V', '5725', '1.09', '1', '0.093', '4.33', '6.8'],\n",
       " ['K2-293', '', '5532', '0.95', '0.96', '-0.18', '4.52', ''],\n",
       " ['K2-294', '', '5612', '1.2', '0.99', '0.088', '4.2', ''],\n",
       " ['K2-295', 'K5 V', '4444', '0.7', '0.74', '-0.716', '4.63', ''],\n",
       " ['K2-30', 'G6 V', '5425', '0.84', '0.9', '-0.256', '4.54', '3.9'],\n",
       " ['K2-308', '', '6100', '1.24', '1.09', '0.283', '3.94', ''],\n",
       " ['K2-31', 'G7 V', '5280', '0.78', '0.91', '-0.11', '4.6', ''],\n",
       " ['K2-315', 'M(3.5+/-0.5) V', '3300', '0.2', '0.17', '-2.387', '5.09', '1'],\n",
       " ['K2-317', '', '3387', '0.38', '0.4', '-1.871', '4.89', ''],\n",
       " ['K2-318', '', '3851', '0.55', '0.56', '-1.277', '4.7', ''],\n",
       " ['K2-319', '', '5440', '0.9', '0.95', '-0.237', '4.51', ''],\n",
       " ['K2-320', '', '3157', '0.3', '0.12', '-2.125', '4.55', ''],\n",
       " ['K2-321', '', '3855', '0.58', '0.6', '-1.254', '4.68', ''],\n",
       " ['K2-322', '', '4141', '0.6', '0.63', '-1.039', '4.68', ''],\n",
       " ['K2-323', '', '3710', '0.55', '0.48', '-1.339', '4.63', ''],\n",
       " ['K2-324', '', '3752', '0.51', '0.52', '-1.333', '4.74', ''],\n",
       " ['K2-325', '', '3287', '0.3', '0.27', '-2.048', '4.84', ''],\n",
       " ['K2-326', '', '3924', '0.69', '0.51', '-0.978', '4.46', ''],\n",
       " ['K2-329', '', '5282', '0.82', '0.9', '-0.325', '4.57', '1.8'],\n",
       " ['K2-33', 'M3.3', '3540', '1.05', '0.56', '-0.824', '4.06', '0.009'],\n",
       " ['K2-330', '', '6232', '1.5', '1.23', '0.477', '4.18', ''],\n",
       " ['K2-332', '', '3315', '0.28', '0.27', '-2.065', '4.97', ''],\n",
       " ['K2-333', '', '5880', '1.22', '1.06', '0.165', '4.29', ''],\n",
       " ['K2-334', '', '6502', '1.49', '1.36', '0.514', '4.22', ''],\n",
       " ['K2-335', '', '6222', '1.33', '1.23', '0.395', '4.28', ''],\n",
       " ['K2-336', '', '5424', '0.8', '0.86', '-0.345', '4.56', ''],\n",
       " ['K2-337', '', '5869', '1.32', '0.94', '0.25', '4.17', ''],\n",
       " ['K2-338', '', '4558', '0.63', '0.66', '-0.836', '4.65', ''],\n",
       " ['K2-339', '', '4857', '0.72', '0.74', '-0.652', '4.59', ''],\n",
       " ['K2-34', 'F', '6168', '1.42', '1.16', '0.4', '4.2', '2.88'],\n",
       " ['K2-340', '', '5532', '1.13', '0.93', '-0.002', '4.3', ''],\n",
       " ['K2-341', '', '5817', '1.16', '0.98', '0.126', '4.3', ''],\n",
       " ['K2-342', '', '5920', '1.09', '1.01', '0.093', '4.36', ''],\n",
       " ['K2-344', '', '4374', '0.49', '0.51', '-1.225', '4.76', ''],\n",
       " ['K2-345', '', '3779', '0.52', '0.56', '-1.32', '4.74', ''],\n",
       " ['K2-346', '', '4801', '0.7', '0.71', '-0.663', '4.6', ''],\n",
       " ['K2-347', '', '4599', '0.63', '0.66', '-0.894', '4.65', ''],\n",
       " ['K2-349', '', '4385', '0.49', '0.54', '-0.366', '4.78', ''],\n",
       " ['K2-351', '', '5769', '1.05', '1.02', '0.024', '4.4', ''],\n",
       " ['K2-353', '', '5698', '0.99', '0.87', '-0.076', '4.38', ''],\n",
       " ['K2-354', '', '3669', '0.41', '0.43', '-1.614', '4.86', ''],\n",
       " ['K2-355', '', '5790', '0.92', '0.96', '-0.115', '4.49', ''],\n",
       " ['K2-356', '', '5568', '0.86', '0.9', '-0.244', '4.52', ''],\n",
       " ['K2-357', '', '5794', '1', '0.98', '-0.066', '4.43', ''],\n",
       " ['K2-358', '', '5650', '0.91', '0.93', '-0.161', '4.49', ''],\n",
       " ['K2-365', '', '5561', '1.05', '0.82', '-0.014', '4.31', ''],\n",
       " ['K2-366', '', '5601', '0.94', '0.83', '-0.109', '4.41', ''],\n",
       " ['K2-367', '', '4348', '0.62', '0.76', '-0.854', '4.73', ''],\n",
       " ['K2-369', '', '5682', '0.88', '0.73', '-0.121', '4.42', ''],\n",
       " ['K2-370', 'G8', '5377', '0.97', '0.98', '-0.127', '4.45', ''],\n",
       " ['K2-371', '', '4925', '0.74', '0.96', '-0.517', '4.68', ''],\n",
       " ['K2-372', '', '5479', '0.92', '0.85', '-0.122', '4.44', ''],\n",
       " ['K2-373', '', '6138', '1.49', '1.16', '0.432', '4.16', ''],\n",
       " ['K2-375', '', '5822', '1.54', '1.12', '0.396', '4.11', ''],\n",
       " ['K2-376', 'G1', '5937', '1.15', '0.91', '0.189', '4.28', ''],\n",
       " ['K2-377', '', '4200', '0.69', '0.82', '-0.818', '4.67', ''],\n",
       " ['K2-378', '', '4823', '0.73', '0.92', '-0.567', '4.67', ''],\n",
       " ['K2-379', '', '4603', '0.75', '0.86', '-0.633', '4.62', ''],\n",
       " ['K2-380', '', '5911', '1.32', '0.99', '0.202', '4.19', ''],\n",
       " ['K2-382', '', '5452', '0.81', '0.92', '-0.28', '4.58', ''],\n",
       " ['K2-383', '', '5129', '0.8', '1.06', '-0.397', '4.66', ''],\n",
       " ['K2-385', '', '4844', '0.76', '0.93', '-0.519', '4.64', ''],\n",
       " ['K2-386', '', '5749', '0.97', '0.91', '-0.019', '4.42', ''],\n",
       " ['K2-387', '', '3572', '0.59', '0.57', '-1.239', '4.66', ''],\n",
       " ['K2-388', 'G8', '5367', '0.9', '0.84', '-0.212', '4.46', ''],\n",
       " ['K2-39', '', '4881', '2.97', '0.66', '0.674', '3.44', '3.09'],\n",
       " ['K2-390', 'G4', '5558', '0.97', '0.79', '-0.099', '4.37', ''],\n",
       " ['K2-391', 'G7', '5543', '0.57', '0.76', '0.391', '4.97', ''],\n",
       " ['K2-392', 'G3', '5726', '1.06', '0.84', '0.048', '4.31', ''],\n",
       " ['K2-393', '', '5678', '1.07', '0.88', '0.043', '4.32', ''],\n",
       " ['K2-394', '', '4938', '0.63', '0.48', '-0.858', '4.52', ''],\n",
       " ['K2-397', 'G7', '5387', '0.97', '0.94', '-0.145', '4.44', ''],\n",
       " ['K2-399', 'F9', '5690', '1.54', '0.78', '0.415', '3.96', ''],\n",
       " ['K2-4', '', '4014.73', '0.57', '0.64', '-0.915', '4.85', ''],\n",
       " ['K2-400', 'M3', '3578', '0.38', '0.37', '-1.748', '4.85', ''],\n",
       " ['K2-401', 'K7', '4213', '0.68', '0.87', '-0.835', '4.72', ''],\n",
       " ['K2-402', 'G2', '5716', '1.28', '0.94', '0.209', '4.2', ''],\n",
       " ['K2-403', 'G4', '5511', '0.89', '0.78', '-0.171', '4.44', ''],\n",
       " ['K2-404', 'M1', '3748', '0.55', '0.55', '-1.239', '4.7', ''],\n",
       " ['K2-405', 'K0', '4927', '0.77', '1.03', '-0.488', '4.69', ''],\n",
       " ['K2-406', 'G4', '5784', '0.96', '0.8', '-0.06', '4.37', ''],\n",
       " ['K2-408', 'G7', '5335', '0.78', '0.81', '-0.33', '4.56', ''],\n",
       " ['K2-409', 'G4', '5742', '1.23', '0.89', '0.172', '4.2', ''],\n",
       " ['K2-411', '', '5711', '1.38', '1.02', '0.258', '4.17', ''],\n",
       " ['K2-412', '', '5590', '0.98', '0.89', '-0.071', '4.41', ''],\n",
       " ['K2-42', '', '4613', '0.64', '0.7', '-0.703', '4.66', ''],\n",
       " ['K2-44', '', '5912', '1.58', '1.15', '0.43', '4.1', ''],\n",
       " ['K2-45', '', '4103', '0.45', '0.5', '-0.74', '4.82', ''],\n",
       " ['K2-46', '', '6256', '1.29', '0.96', '0.413', '4.2', ''],\n",
       " ['K2-47', '', '5054', '0.76', '0.75', '-0.482', '4.54', ''],\n",
       " ['K2-48', '', '4899', '0.73', '0.77', '-0.657', '4.6', ''],\n",
       " ['K2-49', '', '4175', '0.45', '0.51', '-0.774', '4.81', ''],\n",
       " ['K2-52', '', '7147', '2.19', '1.69', '0.027', '3.98', ''],\n",
       " ['K2-53', '', '5263', '0.81', '0.85', '-0.579', '4.55', ''],\n",
       " ['K2-54', '', '3798', '0.38', '0.42', '-1.011', '4.89', ''],\n",
       " ['K2-55', '', '4456', '0.63', '0.7', '-0.784', '4.67', ''],\n",
       " ['K2-57', '', '4434', '0.62', '0.68', '-0.83', '4.68', ''],\n",
       " ['K2-6', '', '5850', '0.96', '0.97', '-0.12', '4.4', ''],\n",
       " ['K2-60', 'G4 V', '5500', '1.12', '0.97', '0.282', '4.07', '10'],\n",
       " ['K2-61', '', '6293', '1.36', '1.21', '-0.015', '4.25', ''],\n",
       " ['K2-64', '', '5312', '0.73', '0.74', '-0.234', '4.58', ''],\n",
       " ['K2-65', '', '5213', '0.84', '0.87', '-0.328', '4.53', ''],\n",
       " ['K2-66', '', '5887', '1.67', '1.11', '0.506', '4.03', ''],\n",
       " ['K2-68', '', '4746', '0.68', '0.73', '-0.673', '4.63', ''],\n",
       " ['K2-69', '', '4127', '0.49', '0.55', '-1.356', '4.79', ''],\n",
       " ['K2-7', '', '5772', '0.96', '0.97', '0.405', '3.82', ''],\n",
       " ['K2-70', '', '5622', '0.93', '0.94', '-0.429', '4.48', ''],\n",
       " ['K2-71', '', '4006', '0.43', '0.48', '-1.519', '4.85', ''],\n",
       " ['K2-73', '', '5922', '1.06', '1.05', '0.076', '4.41', ''],\n",
       " ['K2-74', '', '6060', '0.98', '0.96', '0.06', '4.44', ''],\n",
       " ['K2-77', '', '4970', '0.76', '0.8', '-0.5', '4.47', '0.85'],\n",
       " ['K2-79', '', '5926', '1.25', '1.06', '0.018', '4.25', ''],\n",
       " ['K2-81', '', '4674.13', '0.63', '0.75', '-0.569', '4.67', ''],\n",
       " ['K2-85', '', '4427', '0.68', '0.68', '-0.812', '4.3', ''],\n",
       " ['K2-86', '', '5482', '0.76', '0.79', '-0.386', '4.58', ''],\n",
       " ['K2-87', '', '5747', '1.4', '1.16', '-0.098', '4.21', ''],\n",
       " ['K2-88', '', '3537', '0.26', '0.26', '-1.545', '5.02', ''],\n",
       " ['K2-89', '', '3691', '0.32', '0.35', '-1.327', '4.96', ''],\n",
       " ...]"
      ]
     },
     "execution_count": 19,
     "metadata": {},
     "output_type": "execute_result"
    }
   ],
   "source": [
    "stars_1_rows"
   ]
  },
  {
   "cell_type": "markdown",
   "id": "ada5e28c",
   "metadata": {
    "deletable": false,
    "editable": false
   },
   "source": [
    "If you wish to **verify** that you have read the file and defined the variables correctly, you can check that `stars_header` has the value:\n",
    "\n",
    "```python\n",
    "['Name', 'Spectral Type', 'Stellar Effective Temperature [K]', 'Stellar Radius [Solar Radius]',\n",
    " 'Stellar Mass [Solar mass]', 'Stellar Luminosity [log(Solar)]', \n",
    " 'Stellar Surface Gravity [log10(cm/s**2)]', 'Stellar Age [Gyr]']\n",
    "```\n",
    "\n",
    "and that `stars_1_rows` has **1551** rows of which the **first three** are:\n",
    "\n",
    "```python\n",
    "[['11 Com', 'G8 III', '4742.00', '19.00', '2.70', '2.243', '2.31', ''],\n",
    " ['11 UMi', 'K4 III', '4213.00', '29.79', '2.78', '2.430', '1.93', '1.560'],\n",
    " ['14 And', 'K0 III', '4813.00', '11.00', '2.20', '1.763', '2.63', '4.500']]\n",
    "```"
   ]
  },
  {
   "cell_type": "markdown",
   "id": "fa52057a",
   "metadata": {
    "deletable": false,
    "editable": false
   },
   "source": [
    "### Function 1: `star_cell(row_idx, col_name, stars_rows, header=stars_header)`\n",
    "\n",
    "This function **must** read the **list** of **lists** `stars_rows`, and extract the value at **row** index `row_idx` and **column** index `col_idx`. The function **must** typecast the value based on `col_name`. If the value in `stars_rows` is **missing** (i.e., it is `''`), then the value returned **must** be `None`.\n",
    "\n",
    "The **column** of `stars_rows` where the value should be obtained from, and the correct **data type** for the value are listed in the table below:\n",
    "\n",
    "|Column of `stars_rows`|Data Type|\n",
    "|------|---------|\n",
    "|Name|**string**|\n",
    "|Spectral Type|**string**|\n",
    "|Stellar Effective Temperature [K]|**float**|\n",
    "|Stellar Radius [Solar Radius]|**float**|\n",
    "|Stellar Mass [Solar mass]|**float**|\n",
    "|Stellar Luminosity [log(Solar)]|**float**|\n",
    "|Stellar Surface Gravity [log10(cm/s**2)]|**float**|\n",
    "|Stellar Age [Gyr]|**float**|\n",
    "\n",
    "You are **allowed** to copy/paste this function from Lab-P10."
   ]
  },
  {
   "cell_type": "code",
   "execution_count": 20,
   "id": "f1c3fb1c",
   "metadata": {
    "tags": []
   },
   "outputs": [],
   "source": [
    "# define the 'star_cell' function here\n",
    "def star_cell(row_idx, col_name, stars_rows, header=stars_header):\n",
    "    col_idx = header.index(col_name)\n",
    "    val = stars_rows[row_idx][col_idx]\n",
    "    if val == \"\":\n",
    "        return None\n",
    "    elif col_name == \"Stellar Effective Temperature [K]\" or col_name == \"Stellar Radius [Solar Radius]\" or col_name == \"Stellar Mass [Solar mass]\" or col_name == \"Stellar Luminosity [log(Solar)]\" or col_name == \"Stellar Surface Gravity [log10(cm/s**2)]\" or col_name == \"Stellar Age [Gyr]\":\n",
    "            val = float(val)\n",
    "    elif col_name == \"Name\" or col_name == \"Spectral Type\":\n",
    "        val = str(val)\n",
    "    return val"
   ]
  },
  {
   "cell_type": "markdown",
   "id": "d9d9774d",
   "metadata": {
    "deletable": false,
    "editable": false
   },
   "source": [
    "**Question 5:** Create a `Star` object for the **third** star in `\"stars_1.csv\"`.\n",
    "\n",
    "You **must** access the values in `stars_1.csv` using the `star_cell` function. Note that the third star would be at **index** 2.\n",
    "\n",
    "The **attribute** of the `Star` namedtuple object, the corresponding **column** of the `stars_1.csv` file where the value should be obtained from, and the correct **data type** for the value are listed in the table below:\n",
    "\n",
    "|Attribute of `Star` object|Column of `stars_1.csv`|Data Type|\n",
    "|---------|------|---------|\n",
    "|`spectral_type`|Spectral Type|**string**|\n",
    "|`stellar_effective_temperature`|Stellar Effective Temperature [K]|**float**|\n",
    "|`stellar_radius`|Stellar Radius [Solar Radius]|**float**|\n",
    "|`stellar_mass`|Stellar Mass [Solar mass]|**float**|\n",
    "|`stellar_luminosity`|Stellar Luminosity [log(Solar)]|**float**|\n",
    "|`stellar_surface_gravity`|Stellar Surface Gravity [log10(cm/s**2)]|**float**|\n",
    "|`stellar_age`|Stellar Age [Gyr]|**float**|"
   ]
  },
  {
   "cell_type": "code",
   "execution_count": 21,
   "id": "703a66e7",
   "metadata": {
    "lines_to_next_cell": 0,
    "tags": []
   },
   "outputs": [
    {
     "data": {
      "text/plain": [
       "Star(spectral_type='K0 III', stellar_effective_temperature=4813.0, stellar_radius=11.0, stellar_mass=2.2, stellar_luminosity=1.763, stellar_surface_gravity=2.63, stellar_age=4.5)"
      ]
     },
     "execution_count": 21,
     "metadata": {},
     "output_type": "execute_result"
    }
   ],
   "source": [
    " # compute and store the answer in the variable 'third_star', then display it\n",
    "row_idx = 2\n",
    "\n",
    "spectral_type = star_cell(row_idx, \"Spectral Type\", stars_1_rows)\n",
    "stellar_effective_temp = star_cell(row_idx, \"Stellar Effective Temperature [K]\", stars_1_rows)\n",
    "stellar_radius = star_cell(row_idx, \"Stellar Radius [Solar Radius]\", stars_1_rows)\n",
    "stellar_mass = star_cell(row_idx, \"Stellar Mass [Solar mass]\", stars_1_rows)\n",
    "stellar_luminosity = star_cell(row_idx, \"Stellar Luminosity [log(Solar)]\", stars_1_rows)\n",
    "stellar_surface_gravity = star_cell(row_idx, \"Stellar Surface Gravity [log10(cm/s**2)]\", stars_1_rows)\n",
    "stellar_age = star_cell(row_idx, \"Stellar Age [Gyr]\", stars_1_rows)\n",
    "\n",
    "third_star = Star(spectral_type, stellar_effective_temp, stellar_radius, \n",
    "                  stellar_mass, stellar_luminosity,\n",
    "                  stellar_surface_gravity, stellar_age)\n",
    "\n",
    "third_star"
   ]
  },
  {
   "cell_type": "code",
   "execution_count": 22,
   "id": "2760ff2e",
   "metadata": {
    "deletable": false,
    "editable": false
   },
   "outputs": [
    {
     "data": {
      "text/html": [
       "<p><strong><pre style='display: inline;'>q5</pre></strong> passed! 🙌</p>"
      ],
      "text/plain": [
       "q5 results: All test cases passed!"
      ]
     },
     "execution_count": 22,
     "metadata": {},
     "output_type": "execute_result"
    }
   ],
   "source": [
    "grader.check(\"q5\")"
   ]
  },
  {
   "cell_type": "markdown",
   "id": "c6c130bc",
   "metadata": {
    "deletable": false,
    "editable": false
   },
   "source": [
    "### Function 2:  `get_stars(star_file)`\n",
    "\n",
    "This function **must** take in as its input, the path of a CSV file `star_file` which contains data on stars in the same format as `stars_1.csv`. It **must** return a **dictionary** mapping the `Name` of each star in `star_file` to a `Star` object containing all the other details of the star.\n",
    "\n",
    "You **must** access the values in `stars_file` using the `star_cell` function.\n",
    "\n",
    "You **must not** hardcode the name of the directory `data` into the `get_stars` function. Instead, you must pass it as a part of the argument `star_file`, by including it in the **path** `star_file`.\n",
    "\n",
    "Once again, as a reminder, the attributes of the `Star` objects should be obtained from the **rows** of `star_file` and stored as follows:\n",
    "\n",
    "|Attribute of `Star` object|Column of `star_file`|Data Type|\n",
    "|---------|------|---------|\n",
    "|`spectral_type`|Spectral Type|**string**|\n",
    "|`stellar_effective_temperature`|Stellar Effective Temperature [K]|**float**|\n",
    "|`stellar_radius`|Stellar Radius [Solar Radius]|**float**|\n",
    "|`stellar_mass`|Stellar Mass [Solar mass]|**float**|\n",
    "|`stellar_luminosity`|Stellar Luminosity [log(Solar)]|**float**|\n",
    "|`stellar_surface_gravity`|Stellar Surface Gravity [log10(cm/s**2)]|**float**|\n",
    "|`stellar_age`|Stellar Age [Gyr]|**float**|\n",
    "\n",
    "In case any data in `star_file` is **missing**, the corresponding value should be `None`.\n",
    "\n",
    "For example, when this function is called with the file `stars_1.csv` as the input, the **dictionary** returned should look like:\n",
    "\n",
    "```python\n",
    "{'11 Com': Star(spectral_type='G8 III', stellar_effective_temperature=4742.0, \n",
    "                stellar_radius=19.0, stellar_mass=2.7, stellar_luminosity=2.243, \n",
    "                stellar_surface_gravity=2.31, stellar_age=None),\n",
    " '11 UMi': Star(spectral_type='K4 III', stellar_effective_temperature=4213.0, \n",
    "                stellar_radius=29.79, stellar_mass=2.78, stellar_luminosity=2.43, \n",
    "                stellar_surface_gravity=1.93, stellar_age=1.56),\n",
    " '14 And': Star(spectral_type='K0 III', stellar_effective_temperature=4813.0, \n",
    "                stellar_radius=11.0, stellar_mass=2.2, stellar_luminosity=1.763, \n",
    "                stellar_surface_gravity=2.63, stellar_age=4.5),\n",
    " ...\n",
    "}\n",
    "```"
   ]
  },
  {
   "cell_type": "code",
   "execution_count": 23,
   "id": "66c553c3",
   "metadata": {
    "tags": []
   },
   "outputs": [],
   "source": [
    "# define the function 'get_stars' here\n",
    "def get_stars(star_file):\n",
    "    dictionary = {}\n",
    "    data = process_csv(os.path.join(\"data\", star_file))\n",
    "    stars_header = data[0]\n",
    "    rows = data[1:]\n",
    "    for row_idx in range(len(rows)):\n",
    "        star_name = star_cell(row_idx, \"Name\", rows)\n",
    "        spectral_type = star_cell(row_idx, \"Spectral Type\", rows)\n",
    "        stellar_effective_temp = star_cell(row_idx, \"Stellar Effective Temperature [K]\", rows)\n",
    "        stellar_radius = star_cell(row_idx, \"Stellar Radius [Solar Radius]\", rows)\n",
    "        stellar_mass = star_cell(row_idx, \"Stellar Mass [Solar mass]\", rows)\n",
    "        stellar_luminosity = star_cell(row_idx, \"Stellar Luminosity [log(Solar)]\", rows)\n",
    "        stellar_surface_gravity = star_cell(row_idx, \"Stellar Surface Gravity [log10(cm/s**2)]\", rows)\n",
    "        stellar_age = star_cell(row_idx, \"Stellar Age [Gyr]\", rows)\n",
    "       \n",
    "        star_tuple = Star(spectral_type, stellar_effective_temp, stellar_radius, \n",
    "                          stellar_mass, stellar_luminosity, stellar_surface_gravity, stellar_age)\n",
    "        \n",
    "        dictionary[star_name] = star_tuple\n",
    "    return dictionary "
   ]
  },
  {
   "cell_type": "code",
   "execution_count": 24,
   "id": "add5372a",
   "metadata": {
    "tags": []
   },
   "outputs": [
    {
     "data": {
      "text/plain": [
       "{'11 Com': Star(spectral_type='G8 III', stellar_effective_temperature=4742.0, stellar_radius=19.0, stellar_mass=2.7, stellar_luminosity=2.243, stellar_surface_gravity=2.31, stellar_age=None),\n",
       " '11 UMi': Star(spectral_type='K4 III', stellar_effective_temperature=4213.0, stellar_radius=29.79, stellar_mass=2.78, stellar_luminosity=2.43, stellar_surface_gravity=1.93, stellar_age=1.56),\n",
       " '14 And': Star(spectral_type='K0 III', stellar_effective_temperature=4813.0, stellar_radius=11.0, stellar_mass=2.2, stellar_luminosity=1.763, stellar_surface_gravity=2.63, stellar_age=4.5),\n",
       " '16 Cyg B': Star(spectral_type='G3 V', stellar_effective_temperature=5750.0, stellar_radius=1.13, stellar_mass=1.08, stellar_luminosity=0.097, stellar_surface_gravity=4.36, stellar_age=7.4),\n",
       " '17 Sco': Star(spectral_type='K3 III', stellar_effective_temperature=4157.0, stellar_radius=25.92, stellar_mass=1.22, stellar_luminosity=2.254, stellar_surface_gravity=1.7, stellar_age=5.13),\n",
       " '18 Del': Star(spectral_type='G6 III', stellar_effective_temperature=4979.0, stellar_radius=8.5, stellar_mass=2.3, stellar_luminosity=1.602, stellar_surface_gravity=2.82, stellar_age=1.1),\n",
       " '1RXS J160929.1-210524': Star(spectral_type='K7 V', stellar_effective_temperature=4060.0, stellar_radius=1.31, stellar_mass=0.85, stellar_luminosity=-0.37, stellar_surface_gravity=4.0, stellar_age=0.005),\n",
       " '24 Boo': Star(spectral_type='G3 IV', stellar_effective_temperature=4893.0, stellar_radius=10.64, stellar_mass=0.99, stellar_luminosity=1.774, stellar_surface_gravity=2.42, stellar_age=6.92),\n",
       " '2MASS J04372171+2651014': Star(spectral_type='M V', stellar_effective_temperature=3100.0, stellar_radius=0.84, stellar_mass=0.17, stellar_luminosity=-1.164, stellar_surface_gravity=4.5, stellar_age=2.5),\n",
       " '2MASS J01033563-5515561 A': Star(spectral_type='M5.5/M6', stellar_effective_temperature=None, stellar_radius=None, stellar_mass=0.19, stellar_luminosity=None, stellar_surface_gravity=None, stellar_age=0.03),\n",
       " '2MASS J01225093-2439505': Star(spectral_type='M3.5 V', stellar_effective_temperature=3530.0, stellar_radius=0.37, stellar_mass=0.4, stellar_luminosity=-1.72, stellar_surface_gravity=4.86, stellar_age=0.12),\n",
       " '2MASS J02192210-3925225': Star(spectral_type='M6', stellar_effective_temperature=3064.0, stellar_radius=0.28, stellar_mass=0.11, stellar_luminosity=-2.23, stellar_surface_gravity=4.59, stellar_age=0.035),\n",
       " '2MASS J04414489+2301513': Star(spectral_type='M8.5', stellar_effective_temperature=2936.0, stellar_radius=0.23, stellar_mass=0.02, stellar_luminosity=-2.444, stellar_surface_gravity=5.01, stellar_age=0.001),\n",
       " '2MASS J12073346-3932539': Star(spectral_type='M8', stellar_effective_temperature=2825.0, stellar_radius=0.22, stellar_mass=0.02, stellar_luminosity=-2.561, stellar_surface_gravity=5.03, stellar_age=0.008),\n",
       " '2MASS J22362452+4751425': Star(spectral_type='K7 V', stellar_effective_temperature=4045.0, stellar_radius=0.64, stellar_mass=0.6, stellar_luminosity=-1.021, stellar_surface_gravity=4.62, stellar_age=0.12),\n",
       " '30 Ari B': Star(spectral_type='F6 V', stellar_effective_temperature=6331.0, stellar_radius=1.41, stellar_mass=1.93, stellar_luminosity=0.381, stellar_surface_gravity=4.43, stellar_age=0.91),\n",
       " '4 UMa': Star(spectral_type='K1 III', stellar_effective_temperature=4415.0, stellar_radius=18.11, stellar_mass=1.23, stellar_luminosity=2.062, stellar_surface_gravity=1.8, stellar_age=4.604),\n",
       " '42 Dra': Star(spectral_type='K1.5 III', stellar_effective_temperature=4200.0, stellar_radius=22.03, stellar_mass=0.98, stellar_luminosity=2.155, stellar_surface_gravity=1.71, stellar_age=9.49),\n",
       " '51 Eri': Star(spectral_type='F0 IV', stellar_effective_temperature=7295.0, stellar_radius=1.49, stellar_mass=1.75, stellar_luminosity=0.85, stellar_surface_gravity=4.31, stellar_age=0.02),\n",
       " '51 Peg': Star(spectral_type='G5V', stellar_effective_temperature=5758.0, stellar_radius=1.18, stellar_mass=1.03, stellar_luminosity=0.136, stellar_surface_gravity=4.31, stellar_age=10.0),\n",
       " '6 Lyn': Star(spectral_type='K0 IV', stellar_effective_temperature=4938.0, stellar_radius=5.2, stellar_mass=1.44, stellar_luminosity=1.176, stellar_surface_gravity=3.19, stellar_age=2.353),\n",
       " '70 Vir': Star(spectral_type='G5V', stellar_effective_temperature=5495.0, stellar_radius=1.89, stellar_mass=1.09, stellar_luminosity=0.451, stellar_surface_gravity=3.95, stellar_age=7.77),\n",
       " '75 Cet': Star(spectral_type='G3 III', stellar_effective_temperature=4846.0, stellar_radius=10.5, stellar_mass=2.49, stellar_luminosity=1.73, stellar_surface_gravity=2.63, stellar_age=None),\n",
       " '8 UMi': Star(spectral_type='K0', stellar_effective_temperature=4847.0, stellar_radius=10.3, stellar_mass=1.44, stellar_luminosity=1.725, stellar_surface_gravity=2.57, stellar_age=1.7),\n",
       " '81 Cet': Star(spectral_type='G5 III', stellar_effective_temperature=4785.0, stellar_radius=11.0, stellar_mass=2.4, stellar_luminosity=1.778, stellar_surface_gravity=2.35, stellar_age=None),\n",
       " '91 Aqr': Star(spectral_type='K0 III', stellar_effective_temperature=4665.0, stellar_radius=11.0, stellar_mass=1.4, stellar_luminosity=1.692, stellar_surface_gravity=2.52, stellar_age=3.56),\n",
       " 'AB Aur': Star(spectral_type=None, stellar_effective_temperature=9770.0, stellar_radius=2.96, stellar_mass=2.4, stellar_luminosity=1.771, stellar_surface_gravity=3.77, stellar_age=0.003),\n",
       " 'AB Pic': Star(spectral_type='K2 V', stellar_effective_temperature=5285.0, stellar_radius=1.0, stellar_mass=0.9, stellar_luminosity=-0.226, stellar_surface_gravity=4.53, stellar_age=0.03),\n",
       " 'AF Lep': Star(spectral_type='F8 V', stellar_effective_temperature=6100.0, stellar_radius=1.25, stellar_mass=1.2, stellar_luminosity=0.29, stellar_surface_gravity=4.4, stellar_age=0.024),\n",
       " 'BD+03 2562': Star(spectral_type=None, stellar_effective_temperature=4095.0, stellar_radius=32.35, stellar_mass=1.14, stellar_luminosity=2.7, stellar_surface_gravity=1.89, stellar_age=5.2),\n",
       " 'BD+14 4559': Star(spectral_type='K2 V', stellar_effective_temperature=4864.0, stellar_radius=0.86, stellar_mass=0.49, stellar_luminosity=-0.32, stellar_surface_gravity=4.26, stellar_age=None),\n",
       " 'BD+15 2375': Star(spectral_type='G5', stellar_effective_temperature=4649.0, stellar_radius=8.95, stellar_mass=1.08, stellar_luminosity=1.57, stellar_surface_gravity=2.61, stellar_age=7.41),\n",
       " 'BD+15 2940': Star(spectral_type='K0', stellar_effective_temperature=4796.0, stellar_radius=14.7, stellar_mass=1.1, stellar_luminosity=2.01, stellar_surface_gravity=2.8, stellar_age=7.1),\n",
       " 'BD+20 274': Star(spectral_type='K5 III', stellar_effective_temperature=4296.0, stellar_radius=17.3, stellar_mass=0.8, stellar_luminosity=1.96, stellar_surface_gravity=1.99, stellar_age=None),\n",
       " 'BD+20 594': Star(spectral_type='G', stellar_effective_temperature=5766.0, stellar_radius=1.08, stellar_mass=1.67, stellar_luminosity=-0.056, stellar_surface_gravity=4.5, stellar_age=3.34),\n",
       " 'BD+45 564': Star(spectral_type='K1', stellar_effective_temperature=5004.0, stellar_radius=0.81, stellar_mass=0.81, stellar_luminosity=-0.399, stellar_surface_gravity=4.22, stellar_age=None),\n",
       " 'BD+48 738': Star(spectral_type='K0 III', stellar_effective_temperature=4414.0, stellar_radius=11.0, stellar_mass=0.74, stellar_luminosity=1.69, stellar_surface_gravity=2.24, stellar_age=None),\n",
       " 'BD+48 740': Star(spectral_type='K3 III', stellar_effective_temperature=4534.0, stellar_radius=10.33, stellar_mass=1.09, stellar_luminosity=1.64, stellar_surface_gravity=2.48, stellar_age=None),\n",
       " 'BD+49 828': Star(spectral_type='K0', stellar_effective_temperature=4943.0, stellar_radius=7.6, stellar_mass=1.52, stellar_luminosity=1.47, stellar_surface_gravity=2.85, stellar_age=2.34),\n",
       " 'BD+55 362': Star(spectral_type='K3', stellar_effective_temperature=5012.0, stellar_radius=0.9, stellar_mass=0.91, stellar_luminosity=-0.313, stellar_surface_gravity=4.09, stellar_age=None),\n",
       " 'BD+60 1417': Star(spectral_type='K0', stellar_effective_temperature=4993.0, stellar_radius=0.8, stellar_mass=1.0, stellar_luminosity=0.356, stellar_surface_gravity=4.55, stellar_age=0.1),\n",
       " 'BD+63 1405': Star(spectral_type='K0', stellar_effective_temperature=5000.0, stellar_radius=0.8, stellar_mass=0.82, stellar_luminosity=-0.413, stellar_surface_gravity=4.2, stellar_age=None),\n",
       " 'BD-00 4475': Star(spectral_type='G0', stellar_effective_temperature=5040.0, stellar_radius=0.84, stellar_mass=0.81, stellar_luminosity=-0.35, stellar_surface_gravity=4.25, stellar_age=None),\n",
       " 'BD-10 3166': Star(spectral_type='K0 V', stellar_effective_temperature=5393.0, stellar_radius=0.91, stellar_mass=1.47, stellar_luminosity=-0.191, stellar_surface_gravity=4.69, stellar_age=1.0),\n",
       " 'BD-13 2130': Star(spectral_type='G5 IV/V', stellar_effective_temperature=4545.0, stellar_radius=19.17, stellar_mass=2.12, stellar_luminosity=2.043, stellar_surface_gravity=2.2, stellar_age=0.74),\n",
       " 'BD-17 63': Star(spectral_type='K5 V', stellar_effective_temperature=4714.0, stellar_radius=0.69, stellar_mass=0.74, stellar_luminosity=-0.678, stellar_surface_gravity=4.26, stellar_age=4.3),\n",
       " 'CD Cet': Star(spectral_type='M5.0 V', stellar_effective_temperature=3130.0, stellar_radius=0.17, stellar_mass=0.16, stellar_luminosity=-2.533, stellar_surface_gravity=4.93, stellar_age=3.0),\n",
       " 'CFBDSIR J145829+101343': Star(spectral_type=None, stellar_effective_temperature=580.5, stellar_radius=None, stellar_mass=0.02, stellar_luminosity=None, stellar_surface_gravity=4.72, stellar_age=None),\n",
       " 'CFHTWIR-Oph 98 A': Star(spectral_type='M9-L1', stellar_effective_temperature=2320.0, stellar_radius=0.24, stellar_mass=0.01, stellar_luminosity=-2.85, stellar_surface_gravity=3.85, stellar_age=0.003),\n",
       " 'CHXR 73': Star(spectral_type='M3.5', stellar_effective_temperature=3099.0, stellar_radius=None, stellar_mass=0.35, stellar_luminosity=None, stellar_surface_gravity=None, stellar_age=0.002),\n",
       " 'CI Tau': Star(spectral_type='K7', stellar_effective_temperature=3807.0, stellar_radius=1.88, stellar_mass=0.9, stellar_luminosity=-0.108, stellar_surface_gravity=None, stellar_age=0.003),\n",
       " 'COCONUTS-2 A': Star(spectral_type='M3 V', stellar_effective_temperature=3406.0, stellar_radius=0.39, stellar_mass=0.37, stellar_luminosity=-1.732, stellar_surface_gravity=4.83, stellar_age=0.475),\n",
       " 'CT Cha': Star(spectral_type='K5e', stellar_effective_temperature=4403.0, stellar_radius=1.68, stellar_mass=None, stellar_luminosity=-0.102, stellar_surface_gravity=3.66, stellar_age=0.002),\n",
       " 'CoRoT-1': Star(spectral_type='G0 V', stellar_effective_temperature=5950.0, stellar_radius=1.11, stellar_mass=0.95, stellar_luminosity=0.298, stellar_surface_gravity=4.25, stellar_age=1.6),\n",
       " 'CoRoT-10': Star(spectral_type='K1 V', stellar_effective_temperature=5075.0, stellar_radius=0.79, stellar_mass=0.89, stellar_luminosity=-0.726, stellar_surface_gravity=4.65, stellar_age=3.0),\n",
       " 'CoRoT-11': Star(spectral_type='F6 V', stellar_effective_temperature=6440.0, stellar_radius=1.37, stellar_mass=1.27, stellar_luminosity=0.378, stellar_surface_gravity=4.22, stellar_age=2.0),\n",
       " 'CoRoT-12': Star(spectral_type=None, stellar_effective_temperature=5675.0, stellar_radius=1.12, stellar_mass=1.08, stellar_luminosity=0.07, stellar_surface_gravity=4.38, stellar_age=6.3),\n",
       " 'CoRoT-13': Star(spectral_type='G0 V', stellar_effective_temperature=5945.0, stellar_radius=1.01, stellar_mass=1.09, stellar_luminosity=0.073, stellar_surface_gravity=4.46, stellar_age=1.635),\n",
       " 'CoRoT-14': Star(spectral_type='F9 V', stellar_effective_temperature=6035.0, stellar_radius=1.21, stellar_mass=1.13, stellar_luminosity=0.119, stellar_surface_gravity=4.35, stellar_age=4.2),\n",
       " 'CoRoT-16': Star(spectral_type='G5 V', stellar_effective_temperature=5650.0, stellar_radius=1.19, stellar_mass=1.1, stellar_luminosity=-0.435, stellar_surface_gravity=4.36, stellar_age=6.73),\n",
       " 'CoRoT-17': Star(spectral_type='G2 V', stellar_effective_temperature=5740.0, stellar_radius=1.59, stellar_mass=1.04, stellar_luminosity=0.134, stellar_surface_gravity=4.4, stellar_age=10.7),\n",
       " 'CoRoT-18': Star(spectral_type='G9 V', stellar_effective_temperature=5440.0, stellar_radius=1.0, stellar_mass=0.95, stellar_luminosity=-0.17, stellar_surface_gravity=4.4, stellar_age=0.032),\n",
       " 'CoRoT-19': Star(spectral_type='F9 V', stellar_effective_temperature=6090.0, stellar_radius=1.65, stellar_mass=1.21, stellar_luminosity=0.544, stellar_surface_gravity=4.07, stellar_age=5.0),\n",
       " 'CoRoT-2': Star(spectral_type=None, stellar_effective_temperature=5625.0, stellar_radius=0.91, stellar_mass=0.96, stellar_luminosity=-0.131, stellar_surface_gravity=4.53, stellar_age=2.7),\n",
       " 'CoRoT-21': Star(spectral_type='F8 IV', stellar_effective_temperature=6200.0, stellar_radius=1.95, stellar_mass=1.29, stellar_luminosity=0.705, stellar_surface_gravity=3.7, stellar_age=4.1),\n",
       " 'CoRoT-22': Star(spectral_type='G3 V', stellar_effective_temperature=5939.0, stellar_radius=1.14, stellar_mass=1.1, stellar_luminosity=0.014, stellar_surface_gravity=4.36, stellar_age=3.3),\n",
       " 'CoRoT-23': Star(spectral_type='G0 V', stellar_effective_temperature=5900.0, stellar_radius=1.61, stellar_mass=1.14, stellar_luminosity=0.087, stellar_surface_gravity=4.3, stellar_age=7.2),\n",
       " 'CoRoT-25': Star(spectral_type='F9', stellar_effective_temperature=6040.0, stellar_radius=1.19, stellar_mass=1.09, stellar_luminosity=0.141, stellar_surface_gravity=4.31, stellar_age=4.5),\n",
       " 'CoRoT-26': Star(spectral_type='G5', stellar_effective_temperature=5590.0, stellar_radius=1.79, stellar_mass=1.09, stellar_luminosity=0.451, stellar_surface_gravity=3.99, stellar_age=8.6),\n",
       " 'CoRoT-27': Star(spectral_type='G2', stellar_effective_temperature=5900.0, stellar_radius=1.08, stellar_mass=1.05, stellar_luminosity=-0.166, stellar_surface_gravity=4.4, stellar_age=4.21),\n",
       " 'CoRoT-28': Star(spectral_type='G8/9 IV', stellar_effective_temperature=5150.0, stellar_radius=1.78, stellar_mass=1.01, stellar_luminosity=0.388, stellar_surface_gravity=3.6, stellar_age=12.0),\n",
       " 'CoRoT-29': Star(spectral_type='K0 V', stellar_effective_temperature=5260.0, stellar_radius=0.9, stellar_mass=0.97, stellar_luminosity=-0.094, stellar_surface_gravity=4.3, stellar_age=4.5),\n",
       " 'CoRoT-3': Star(spectral_type='F3 V', stellar_effective_temperature=6740.0, stellar_radius=1.56, stellar_mass=1.37, stellar_luminosity=0.391, stellar_surface_gravity=4.22, stellar_age=2.2),\n",
       " 'CoRoT-30': Star(spectral_type='G3 V', stellar_effective_temperature=5650.0, stellar_radius=0.91, stellar_mass=0.98, stellar_luminosity=-0.197, stellar_surface_gravity=4.4, stellar_age=3.0),\n",
       " 'CoRoT-31': Star(spectral_type='G2 IV', stellar_effective_temperature=5700.0, stellar_radius=2.15, stellar_mass=1.25, stellar_luminosity=0.398, stellar_surface_gravity=3.85, stellar_age=4.7),\n",
       " 'CoRoT-35': Star(spectral_type='F6 V', stellar_effective_temperature=6390.0, stellar_radius=1.65, stellar_mass=1.01, stellar_luminosity=0.362, stellar_surface_gravity=4.01, stellar_age=6.1),\n",
       " 'CoRoT-36': Star(spectral_type='F3 V', stellar_effective_temperature=6730.0, stellar_radius=1.52, stellar_mass=1.32, stellar_luminosity=0.813, stellar_surface_gravity=4.16, stellar_age=2.1),\n",
       " 'CoRoT-4': Star(spectral_type=None, stellar_effective_temperature=6190.0, stellar_radius=1.17, stellar_mass=1.16, stellar_luminosity=0.185, stellar_surface_gravity=4.41, stellar_age=1.0),\n",
       " 'CoRoT-5': Star(spectral_type='F9 V', stellar_effective_temperature=6100.0, stellar_radius=1.19, stellar_mass=1.0, stellar_luminosity=0.18, stellar_surface_gravity=4.19, stellar_age=6.9),\n",
       " 'CoRoT-6': Star(spectral_type='F9 V', stellar_effective_temperature=6090.0, stellar_radius=1.03, stellar_mass=1.05, stellar_luminosity=0.026, stellar_surface_gravity=4.43, stellar_age=2.5),\n",
       " 'CoRoT-8': Star(spectral_type='K1 V', stellar_effective_temperature=5080.0, stellar_radius=0.77, stellar_mass=0.88, stellar_luminosity=-0.4, stellar_surface_gravity=4.58, stellar_age=3.0),\n",
       " 'CoRoT-9': Star(spectral_type='G3 V', stellar_effective_temperature=5625.0, stellar_radius=0.96, stellar_mass=0.96, stellar_luminosity=-0.254, stellar_surface_gravity=4.54, stellar_age=6.0),\n",
       " 'CoRoTID 223977153': Star(spectral_type='G0 VI', stellar_effective_temperature=5970.0, stellar_radius=0.79, stellar_mass=1.08, stellar_luminosity=-0.155, stellar_surface_gravity=4.67, stellar_age=None),\n",
       " 'DE CVn': Star(spectral_type=None, stellar_effective_temperature=3579.0, stellar_radius=0.42, stellar_mass=0.51, stellar_luminosity=-1.574, stellar_surface_gravity=4.8, stellar_age=None),\n",
       " 'DENIS-P J082303.1-491201': Star(spectral_type='L1.5', stellar_effective_temperature=None, stellar_radius=None, stellar_mass=0.07, stellar_luminosity=None, stellar_surface_gravity=None, stellar_age=1.0),\n",
       " 'DH Tau': Star(spectral_type='M0.5', stellar_effective_temperature=4371.0, stellar_radius=0.27, stellar_mass=0.33, stellar_luminosity=-0.212, stellar_surface_gravity=4.0, stellar_age=0.001),\n",
       " 'DMPP-2': Star(spectral_type='F5 V', stellar_effective_temperature=6500.0, stellar_radius=1.78, stellar_mass=1.44, stellar_luminosity=0.104, stellar_surface_gravity=4.1, stellar_age=2.0),\n",
       " 'DMPP-3 A': Star(spectral_type='K0 V', stellar_effective_temperature=5138.0, stellar_radius=0.91, stellar_mass=0.87, stellar_luminosity=-0.293, stellar_surface_gravity=4.3, stellar_age=10.9),\n",
       " 'DP Leo': Star(spectral_type=None, stellar_effective_temperature=13500.0, stellar_radius=0.01, stellar_mass=0.69, stellar_luminosity=-2.4, stellar_surface_gravity=None, stellar_age=None),\n",
       " 'DS Tuc A': Star(spectral_type='G6 V', stellar_effective_temperature=5428.0, stellar_radius=0.96, stellar_mass=1.01, stellar_luminosity=-0.14, stellar_surface_gravity=4.6, stellar_age=0.045),\n",
       " 'EPIC 201170410': Star(spectral_type=None, stellar_effective_temperature=3648.0, stellar_radius=0.28, stellar_mass=0.29, stellar_luminosity=-1.9, stellar_surface_gravity=5.0, stellar_age=None),\n",
       " 'EPIC 201238110': Star(spectral_type=None, stellar_effective_temperature=3587.0, stellar_radius=0.37, stellar_mass=0.41, stellar_luminosity=-1.508, stellar_surface_gravity=4.78, stellar_age=None),\n",
       " 'EPIC 201427007': Star(spectral_type=None, stellar_effective_temperature=5633.0, stellar_radius=0.94, stellar_mass=0.93, stellar_luminosity=-0.049, stellar_surface_gravity=4.4, stellar_age=None),\n",
       " 'EPIC 201497682': Star(spectral_type=None, stellar_effective_temperature=4991.0, stellar_radius=0.55, stellar_mass=0.78, stellar_luminosity=-0.766, stellar_surface_gravity=4.63, stellar_age=None),\n",
       " 'EPIC 201595106': Star(spectral_type=None, stellar_effective_temperature=5820.0, stellar_radius=0.93, stellar_mass=1.02, stellar_luminosity=-0.026, stellar_surface_gravity=4.6, stellar_age=None),\n",
       " 'EPIC 201757695': Star(spectral_type=None, stellar_effective_temperature=4520.0, stellar_radius=0.66, stellar_mass=0.73, stellar_luminosity=-0.364, stellar_surface_gravity=4.66, stellar_age=None),\n",
       " 'EPIC 201841433': Star(spectral_type=None, stellar_effective_temperature=5053.0, stellar_radius=0.63, stellar_mass=0.8, stellar_luminosity=-0.635, stellar_surface_gravity=4.59, stellar_age=None),\n",
       " 'EPIC 206032309': Star(spectral_type=None, stellar_effective_temperature=3489.0, stellar_radius=0.37, stellar_mass=0.22, stellar_luminosity=-1.73, stellar_surface_gravity=4.85, stellar_age=None),\n",
       " 'EPIC 206215704': Star(spectral_type=None, stellar_effective_temperature=3297.0, stellar_radius=0.25, stellar_mass=0.41, stellar_luminosity=-2.088, stellar_surface_gravity=4.9, stellar_age=None),\n",
       " 'EPIC 211822797': Star(spectral_type='M0', stellar_effective_temperature=4057.0, stellar_radius=0.58, stellar_mass=0.62, stellar_luminosity=-1.153, stellar_surface_gravity=4.7, stellar_age=0.79),\n",
       " 'EPIC 211945201': Star(spectral_type='G0', stellar_effective_temperature=6069.0, stellar_radius=1.39, stellar_mass=1.17, stellar_luminosity=0.373, stellar_surface_gravity=4.22, stellar_age=3.99),\n",
       " 'EPIC 212424622': Star(spectral_type=None, stellar_effective_temperature=5782.33, stellar_radius=1.22, stellar_mass=1.11, stellar_luminosity=0.179, stellar_surface_gravity=4.3, stellar_age=None),\n",
       " 'EPIC 212499991': Star(spectral_type=None, stellar_effective_temperature=4982.79, stellar_radius=0.76, stellar_mass=0.91, stellar_luminosity=-0.497, stellar_surface_gravity=4.61, stellar_age=None),\n",
       " 'EPIC 220492298': Star(spectral_type=None, stellar_effective_temperature=5620.0, stellar_radius=0.89, stellar_mass=0.95, stellar_luminosity=-0.009, stellar_surface_gravity=4.5, stellar_age=None),\n",
       " 'EPIC 228836835': Star(spectral_type=None, stellar_effective_temperature=3782.0, stellar_radius=0.32, stellar_mass=0.42, stellar_luminosity=-1.612, stellar_surface_gravity=5.0, stellar_age=None),\n",
       " 'EPIC 246851721': Star(spectral_type='F5 V', stellar_effective_temperature=6202.0, stellar_radius=1.59, stellar_mass=1.32, stellar_luminosity=0.526, stellar_surface_gravity=4.16, stellar_age=3.02),\n",
       " 'EPIC 248847494': Star(spectral_type=None, stellar_effective_temperature=4898.0, stellar_radius=2.7, stellar_mass=0.9, stellar_luminosity=0.548, stellar_surface_gravity=3.52, stellar_age=None),\n",
       " 'FU Tau': Star(spectral_type='M7.25', stellar_effective_temperature=2838.0, stellar_radius=None, stellar_mass=0.05, stellar_luminosity=-0.699, stellar_surface_gravity=None, stellar_age=0.001),\n",
       " 'G 9-40': Star(spectral_type='M2.5 V', stellar_effective_temperature=3348.0, stellar_radius=0.31, stellar_mass=0.29, stellar_luminosity=-1.971, stellar_surface_gravity=4.93, stellar_age=9.9),\n",
       " 'GJ 1151': Star(spectral_type='M 4.5V', stellar_effective_temperature=3280.0, stellar_radius=0.18, stellar_mass=0.16, stellar_luminosity=-2.48, stellar_surface_gravity=5.09, stellar_age=None),\n",
       " 'GJ 1214': Star(spectral_type='M4 V', stellar_effective_temperature=3250.0, stellar_radius=0.21, stellar_mass=0.18, stellar_luminosity=-2.337, stellar_surface_gravity=5.03, stellar_age=3.0),\n",
       " 'GJ 1252': Star(spectral_type='M3', stellar_effective_temperature=3458.0, stellar_radius=0.39, stellar_mass=0.38, stellar_luminosity=-1.708, stellar_surface_gravity=4.89, stellar_age=3.9),\n",
       " 'GJ 1265': Star(spectral_type='M4.5 V', stellar_effective_temperature=3236.0, stellar_radius=0.19, stellar_mass=0.18, stellar_luminosity=-2.439, stellar_surface_gravity=5.09, stellar_age=None),\n",
       " 'GJ 160.2': Star(spectral_type='M0 V', stellar_effective_temperature=4347.0, stellar_radius=0.66, stellar_mass=0.69, stellar_luminosity=-0.796, stellar_surface_gravity=4.61, stellar_age=None),\n",
       " 'GJ 179': Star(spectral_type='M3.5 V', stellar_effective_temperature=3370.0, stellar_radius=0.38, stellar_mass=0.36, stellar_luminosity=-1.796, stellar_surface_gravity=4.83, stellar_age=None),\n",
       " 'GJ 2056': Star(spectral_type='M0V:', stellar_effective_temperature=4069.95, stellar_radius=0.71, stellar_mass=0.62, stellar_luminosity=-0.905, stellar_surface_gravity=4.48, stellar_age=None),\n",
       " 'GJ 251': Star(spectral_type='M3.0 V', stellar_effective_temperature=3451.0, stellar_radius=0.36, stellar_mass=0.36, stellar_luminosity=-1.772, stellar_surface_gravity=4.96, stellar_age=None),\n",
       " 'GJ 27.1': Star(spectral_type='M0.5 V', stellar_effective_temperature=3542.0, stellar_radius=0.52, stellar_mass=0.53, stellar_luminosity=-1.585, stellar_surface_gravity=4.72, stellar_age=None),\n",
       " 'GJ 3021': Star(spectral_type='G6 V', stellar_effective_temperature=5540.0, stellar_radius=0.9, stellar_mass=0.9, stellar_luminosity=-0.18, stellar_surface_gravity=4.7, stellar_age=0.37),\n",
       " 'GJ 3082': Star(spectral_type='M4', stellar_effective_temperature=3910.0, stellar_radius=0.47, stellar_mass=0.47, stellar_luminosity=-1.463, stellar_surface_gravity=4.77, stellar_age=None),\n",
       " 'GJ 3090': Star(spectral_type='M2 V', stellar_effective_temperature=3556.0, stellar_radius=0.52, stellar_mass=0.52, stellar_luminosity=-1.342, stellar_surface_gravity=4.73, stellar_age=None),\n",
       " 'GJ 3222': Star(spectral_type='K0V', stellar_effective_temperature=5257.46, stellar_radius=0.93, stellar_mass=0.89, stellar_luminosity=-0.252, stellar_surface_gravity=4.43, stellar_age=None),\n",
       " 'GJ 328': Star(spectral_type='M1', stellar_effective_temperature=3900.0, stellar_radius=0.65, stellar_mass=0.69, stellar_luminosity=-0.993, stellar_surface_gravity=4.61, stellar_age=None),\n",
       " 'GJ 3341': Star(spectral_type='M2.5', stellar_effective_temperature=3526.0, stellar_radius=0.44, stellar_mass=0.47, stellar_luminosity=-1.538, stellar_surface_gravity=4.77, stellar_age=None),\n",
       " 'GJ 338 B': Star(spectral_type='M0 V', stellar_effective_temperature=4014.0, stellar_radius=0.58, stellar_mass=0.64, stellar_luminosity=-1.101, stellar_surface_gravity=4.68, stellar_age=4.0),\n",
       " 'GJ 3470': Star(spectral_type='M1.5', stellar_effective_temperature=3600.0, stellar_radius=0.55, stellar_mass=0.54, stellar_luminosity=-1.538, stellar_surface_gravity=4.7, stellar_age=1.65),\n",
       " 'GJ 3634': Star(spectral_type='M2.5', stellar_effective_temperature=3517.0, stellar_radius=0.43, stellar_mass=0.45, stellar_luminosity=-1.699, stellar_surface_gravity=4.78, stellar_age=5.0),\n",
       " 'GJ 367': Star(spectral_type='M1.0 V', stellar_effective_temperature=3522.0, stellar_radius=0.46, stellar_mass=0.45, stellar_luminosity=-1.541, stellar_surface_gravity=4.78, stellar_age=None),\n",
       " 'GJ 3779': Star(spectral_type='M4.0 V', stellar_effective_temperature=3324.0, stellar_radius=0.28, stellar_mass=0.27, stellar_luminosity=-2.062, stellar_surface_gravity=5.05, stellar_age=None),\n",
       " 'GJ 393': Star(spectral_type='M2.0 V', stellar_effective_temperature=3579.0, stellar_radius=0.43, stellar_mass=0.43, stellar_luminosity=-1.571, stellar_surface_gravity=4.88, stellar_age=None),\n",
       " 'GJ 3942': Star(spectral_type='M0', stellar_effective_temperature=3867.0, stellar_radius=0.61, stellar_mass=0.63, stellar_luminosity=-1.12, stellar_surface_gravity=4.65, stellar_age=None),\n",
       " 'GJ 422': Star(spectral_type='M3.5 V', stellar_effective_temperature=3323.0, stellar_radius=0.37, stellar_mass=0.35, stellar_luminosity=-1.959, stellar_surface_gravity=4.85, stellar_age=None),\n",
       " 'GJ 4276': Star(spectral_type='M4.0', stellar_effective_temperature=3387.0, stellar_radius=0.41, stellar_mass=0.41, stellar_luminosity=-1.706, stellar_surface_gravity=4.97, stellar_age=6.9),\n",
       " 'GJ 436': Star(spectral_type='M2.5 V', stellar_effective_temperature=3586.11, stellar_radius=0.46, stellar_mass=0.47, stellar_luminosity=-1.585, stellar_surface_gravity=4.79, stellar_age=6.0),\n",
       " 'GJ 463': Star(spectral_type='M3 V', stellar_effective_temperature=3540.0, stellar_radius=0.49, stellar_mass=0.49, stellar_luminosity=-1.523, stellar_surface_gravity=4.86, stellar_age=None),\n",
       " 'GJ 480': Star(spectral_type='M3.5 Ve', stellar_effective_temperature=3381.0, stellar_radius=0.46, stellar_mass=0.45, stellar_luminosity=-1.612, stellar_surface_gravity=4.78, stellar_age=None),\n",
       " 'GJ 486': Star(spectral_type='M3.5 V', stellar_effective_temperature=3340.0, stellar_radius=0.33, stellar_mass=0.32, stellar_luminosity=-1.917, stellar_surface_gravity=4.89, stellar_age=None),\n",
       " 'GJ 504': Star(spectral_type='G0 V', stellar_effective_temperature=6234.0, stellar_radius=1.26, stellar_mass=1.22, stellar_luminosity=0.332, stellar_surface_gravity=4.6, stellar_age=0.16),\n",
       " 'GJ 514': Star(spectral_type='M0.5-1.0 V', stellar_effective_temperature=3728.0, stellar_radius=0.5, stellar_mass=0.51, stellar_luminosity=-1.367, stellar_surface_gravity=4.76, stellar_age=0.8),\n",
       " 'GJ 536': Star(spectral_type='M1 V', stellar_effective_temperature=3685.0, stellar_radius=0.5, stellar_mass=0.52, stellar_luminosity=-1.377, stellar_surface_gravity=4.75, stellar_age=0.4),\n",
       " 'GJ 625': Star(spectral_type='M2', stellar_effective_temperature=3499.0, stellar_radius=0.31, stellar_mass=0.3, stellar_luminosity=-1.894, stellar_surface_gravity=4.94, stellar_age=None),\n",
       " 'GJ 649': Star(spectral_type='M1.5', stellar_effective_temperature=3700.0, stellar_radius=0.5, stellar_mass=0.54, stellar_luminosity=-1.365, stellar_surface_gravity=4.76, stellar_age=0.44),\n",
       " 'GJ 674': Star(spectral_type='M2.5', stellar_effective_temperature=3600.0, stellar_radius=0.36, stellar_mass=0.35, stellar_luminosity=-1.796, stellar_surface_gravity=4.86, stellar_age=0.55),\n",
       " 'GJ 680': Star(spectral_type='K5', stellar_effective_temperature=3563.0, stellar_radius=0.46, stellar_mass=0.46, stellar_luminosity=-1.514, stellar_surface_gravity=4.77, stellar_age=None),\n",
       " 'GJ 685': Star(spectral_type='M0.5', stellar_effective_temperature=3816.0, stellar_radius=0.54, stellar_mass=0.55, stellar_luminosity=-1.253, stellar_surface_gravity=4.72, stellar_age=None),\n",
       " 'GJ 720 A': Star(spectral_type='M0.5 V', stellar_effective_temperature=3837.0, stellar_radius=0.56, stellar_mass=0.57, stellar_luminosity=-1.217, stellar_surface_gravity=4.71, stellar_age=None),\n",
       " 'GJ 740': Star(spectral_type='M1.0 V', stellar_effective_temperature=3913.0, stellar_radius=0.56, stellar_mass=0.58, stellar_luminosity=-1.206, stellar_surface_gravity=4.68, stellar_age=None),\n",
       " 'GJ 832': Star(spectral_type='M1.5', stellar_effective_temperature=3472.0, stellar_radius=0.44, stellar_mass=0.45, stellar_luminosity=-1.585, stellar_surface_gravity=4.7, stellar_age=9.24),\n",
       " 'GJ 86': Star(spectral_type='K1V', stellar_effective_temperature=5182.0, stellar_radius=0.77, stellar_mass=0.93, stellar_luminosity=-0.39, stellar_surface_gravity=4.63, stellar_age=11.3),\n",
       " 'GJ 896 A': Star(spectral_type='M3.5 V', stellar_effective_temperature=3345.0, stellar_radius=0.39, stellar_mass=0.44, stellar_luminosity=-1.755, stellar_surface_gravity=4.83, stellar_age=None),\n",
       " 'GJ 9066': Star(spectral_type='M5.0 V', stellar_effective_temperature=3154.0, stellar_radius=0.16, stellar_mass=0.15, stellar_luminosity=-2.595, stellar_surface_gravity=5.01, stellar_age=None),\n",
       " 'GJ 96': Star(spectral_type='M2', stellar_effective_temperature=3785.0, stellar_radius=0.58, stellar_mass=0.6, stellar_luminosity=-1.052, stellar_surface_gravity=4.67, stellar_age=None),\n",
       " 'GJ 9689': Star(spectral_type='M0.5', stellar_effective_temperature=3836.0, stellar_radius=0.57, stellar_mass=0.59, stellar_luminosity=-1.2, stellar_surface_gravity=4.69, stellar_age=8.9),\n",
       " 'GJ 9714': Star(spectral_type='K5V', stellar_effective_temperature=4263.0, stellar_radius=0.66, stellar_mass=0.67, stellar_luminosity=-0.884, stellar_surface_gravity=4.62, stellar_age=None),\n",
       " 'GPX-1': Star(spectral_type='F2', stellar_effective_temperature=7000.0, stellar_radius=1.56, stellar_mass=1.68, stellar_luminosity=0.727, stellar_surface_gravity=4.27, stellar_age=0.27),\n",
       " 'GQ Lup': Star(spectral_type='K7e V', stellar_effective_temperature=4360.0, stellar_radius=1.94, stellar_mass=0.7, stellar_luminosity=-0.072, stellar_surface_gravity=3.65, stellar_age=0.001),\n",
       " 'GSC 06214-00210': Star(spectral_type='K7', stellar_effective_temperature=4200.0, stellar_radius=0.9, stellar_mass=0.9, stellar_luminosity=-0.42, stellar_surface_gravity=4.37, stellar_age=0.005),\n",
       " 'GU Psc': Star(spectral_type='M3', stellar_effective_temperature=4031.81, stellar_radius=0.45, stellar_mass=0.33, stellar_luminosity=-1.602, stellar_surface_gravity=4.78, stellar_age=0.1),\n",
       " 'Gaia-1': Star(spectral_type=None, stellar_effective_temperature=5470.0, stellar_radius=0.95, stellar_mass=0.95, stellar_luminosity=-0.159, stellar_surface_gravity=4.44, stellar_age=None),\n",
       " 'Gaia-2': Star(spectral_type=None, stellar_effective_temperature=5720.0, stellar_radius=1.06, stellar_mass=1.0, stellar_luminosity=0.057, stellar_surface_gravity=4.37, stellar_age=None),\n",
       " 'Gl 378': Star(spectral_type='M1', stellar_effective_temperature=3879.0, stellar_radius=0.56, stellar_mass=0.56, stellar_luminosity=-1.222, stellar_surface_gravity=4.69, stellar_age=None),\n",
       " 'Gl 49': Star(spectral_type='M1.5 V', stellar_effective_temperature=3805.0, stellar_radius=0.51, stellar_mass=0.52, stellar_luminosity=-1.306, stellar_surface_gravity=4.69, stellar_age=None),\n",
       " 'Gl 686': Star(spectral_type='M1.0 V', stellar_effective_temperature=3656.0, stellar_radius=0.43, stellar_mass=0.43, stellar_luminosity=-1.53, stellar_surface_gravity=4.87, stellar_age=None),\n",
       " 'HAT-P-1': Star(spectral_type='G0 V', stellar_effective_temperature=5980.0, stellar_radius=1.17, stellar_mass=1.15, stellar_luminosity=0.225, stellar_surface_gravity=4.36, stellar_age=3.6),\n",
       " 'HAT-P-12': Star(spectral_type='K4', stellar_effective_temperature=4650.0, stellar_radius=0.7, stellar_mass=0.73, stellar_luminosity=-0.678, stellar_surface_gravity=4.61, stellar_age=2.5),\n",
       " 'HAT-P-14': Star(spectral_type='F5 V', stellar_effective_temperature=6600.0, stellar_radius=1.82, stellar_mass=2.65, stellar_luminosity=0.644, stellar_surface_gravity=4.25, stellar_age=1.6),\n",
       " 'HAT-P-15': Star(spectral_type='G5', stellar_effective_temperature=5568.0, stellar_radius=1.07, stellar_mass=1.0, stellar_luminosity=0.0, stellar_surface_gravity=4.38, stellar_age=6.8),\n",
       " 'HAT-P-16': Star(spectral_type='F8', stellar_effective_temperature=6158.0, stellar_radius=1.24, stellar_mass=1.22, stellar_luminosity=0.294, stellar_surface_gravity=4.34, stellar_age=2.0),\n",
       " 'HAT-P-18': Star(spectral_type='K2', stellar_effective_temperature=4803.0, stellar_radius=0.75, stellar_mass=0.77, stellar_luminosity=-0.569, stellar_surface_gravity=4.57, stellar_age=12.4),\n",
       " 'HAT-P-19': Star(spectral_type='K1', stellar_effective_temperature=4990.0, stellar_radius=0.82, stellar_mass=0.84, stellar_luminosity=-0.432, stellar_surface_gravity=4.54, stellar_age=8.8),\n",
       " 'HAT-P-2': Star(spectral_type='F8', stellar_effective_temperature=6380.0, stellar_radius=1.39, stellar_mass=1.33, stellar_luminosity=0.53, stellar_surface_gravity=4.16, stellar_age=1.44),\n",
       " 'HAT-P-20': Star(spectral_type='K3', stellar_effective_temperature=4595.0, stellar_radius=0.69, stellar_mass=0.76, stellar_luminosity=-0.721, stellar_surface_gravity=4.63, stellar_age=6.7),\n",
       " 'HAT-P-21': Star(spectral_type='G3', stellar_effective_temperature=5588.0, stellar_radius=1.21, stellar_mass=1.24, stellar_luminosity=0.025, stellar_surface_gravity=4.33, stellar_age=10.2),\n",
       " 'HAT-P-22': Star(spectral_type='G5 V', stellar_effective_temperature=5302.0, stellar_radius=1.11, stellar_mass=1.13, stellar_luminosity=-0.114, stellar_surface_gravity=4.36, stellar_age=12.4),\n",
       " 'HAT-P-23': Star(spectral_type='G0', stellar_effective_temperature=5905.0, stellar_radius=0.96, stellar_mass=0.58, stellar_luminosity=0.199, stellar_surface_gravity=4.33, stellar_age=4.0),\n",
       " 'HAT-P-24': Star(spectral_type='F8', stellar_effective_temperature=6373.0, stellar_radius=1.38, stellar_mass=1.37, stellar_luminosity=0.408, stellar_surface_gravity=4.27, stellar_age=2.8),\n",
       " 'HAT-P-25': Star(spectral_type='G5', stellar_effective_temperature=5519.0, stellar_radius=0.92, stellar_mass=1.01, stellar_luminosity=-0.152, stellar_surface_gravity=4.52, stellar_age=3.2),\n",
       " 'HAT-P-26': Star(spectral_type='K1', stellar_effective_temperature=5079.0, stellar_radius=0.87, stellar_mass=1.12, stellar_luminosity=-0.359, stellar_surface_gravity=4.56, stellar_age=9.0),\n",
       " 'HAT-P-27': Star(spectral_type='G8', stellar_effective_temperature=5316.0, stellar_radius=0.86, stellar_mass=0.92, stellar_luminosity=-0.269, stellar_surface_gravity=4.53, stellar_age=4.4),\n",
       " 'HAT-P-28': Star(spectral_type='G3', stellar_effective_temperature=5680.0, stellar_radius=1.1, stellar_mass=1.03, stellar_luminosity=0.053, stellar_surface_gravity=4.36, stellar_age=6.1),\n",
       " 'HAT-P-29': Star(spectral_type='F8', stellar_effective_temperature=6087.0, stellar_radius=1.3, stellar_mass=1.45, stellar_luminosity=0.272, stellar_surface_gravity=4.34, stellar_age=2.2),\n",
       " 'HAT-P-3': Star(spectral_type='K', stellar_effective_temperature=5185.0, stellar_radius=0.87, stellar_mass=1.06, stellar_luminosity=-0.36, stellar_surface_gravity=4.56, stellar_age=1.6),\n",
       " 'HAT-P-30': Star(spectral_type='F7', stellar_effective_temperature=6304.0, stellar_radius=1.31, stellar_mass=1.55, stellar_luminosity=0.312, stellar_surface_gravity=4.36, stellar_age=1.0),\n",
       " 'HAT-P-31': Star(spectral_type=None, stellar_effective_temperature=6065.0, stellar_radius=1.39, stellar_mass=1.31, stellar_luminosity=0.433, stellar_surface_gravity=4.26, stellar_age=3.17),\n",
       " 'HAT-P-32': Star(spectral_type=None, stellar_effective_temperature=6001.0, stellar_radius=1.37, stellar_mass=1.13, stellar_luminosity=0.338, stellar_surface_gravity=4.22, stellar_age=2.7),\n",
       " 'HAT-P-33': Star(spectral_type='F4', stellar_effective_temperature=6446.0, stellar_radius=1.79, stellar_mass=1.82, stellar_luminosity=0.618, stellar_surface_gravity=4.15, stellar_age=2.3),\n",
       " 'HAT-P-34': Star(spectral_type=None, stellar_effective_temperature=6442.0, stellar_radius=1.53, stellar_mass=1.39, stellar_luminosity=0.6, stellar_surface_gravity=4.21, stellar_age=1.7),\n",
       " 'HAT-P-35': Star(spectral_type=None, stellar_effective_temperature=6096.0, stellar_radius=1.44, stellar_mass=1.24, stellar_luminosity=0.383, stellar_surface_gravity=4.21, stellar_age=3.5),\n",
       " 'HAT-P-36': Star(spectral_type='G5 V', stellar_effective_temperature=5620.0, stellar_radius=1.04, stellar_mass=1.03, stellar_luminosity=0.022, stellar_surface_gravity=4.42, stellar_age=6.6),\n",
       " 'HAT-P-37': Star(spectral_type=None, stellar_effective_temperature=5500.0, stellar_radius=0.88, stellar_mass=0.93, stellar_luminosity=-0.208, stellar_surface_gravity=4.51, stellar_age=3.6),\n",
       " 'HAT-P-38': Star(spectral_type='G5', stellar_effective_temperature=5330.0, stellar_radius=0.92, stellar_mass=0.89, stellar_luminosity=-0.208, stellar_surface_gravity=4.37, stellar_age=10.1),\n",
       " 'HAT-P-39': Star(spectral_type=None, stellar_effective_temperature=6430.0, stellar_radius=1.62, stellar_mass=1.4, stellar_luminosity=0.607, stellar_surface_gravity=4.07, stellar_age=2.0),\n",
       " 'HAT-P-4': Star(spectral_type='F', stellar_effective_temperature=5860.0, stellar_radius=1.62, stellar_mass=0.56, stellar_luminosity=0.431, stellar_surface_gravity=4.14, stellar_age=3.9),\n",
       " 'HAT-P-40': Star(spectral_type=None, stellar_effective_temperature=6080.0, stellar_radius=1.94, stellar_mass=1.03, stellar_luminosity=0.778, stellar_surface_gravity=3.93, stellar_age=2.7),\n",
       " 'HAT-P-41': Star(spectral_type=None, stellar_effective_temperature=6390.0, stellar_radius=2.05, stellar_mass=2.56, stellar_luminosity=0.628, stellar_surface_gravity=4.14, stellar_age=2.2),\n",
       " 'HAT-P-42': Star(spectral_type=None, stellar_effective_temperature=5743.0, stellar_radius=1.53, stellar_mass=1.18, stellar_luminosity=0.356, stellar_surface_gravity=4.14, stellar_age=5.2),\n",
       " 'HAT-P-43': Star(spectral_type='F9', stellar_effective_temperature=5693.0, stellar_radius=1.08, stellar_mass=1.03, stellar_luminosity=0.06, stellar_surface_gravity=4.38, stellar_age=5.7),\n",
       " 'HAT-P-45': Star(spectral_type=None, stellar_effective_temperature=6330.0, stellar_radius=1.32, stellar_mass=1.26, stellar_luminosity=0.4, stellar_surface_gravity=4.3, stellar_age=2.0),\n",
       " 'HAT-P-46': Star(spectral_type=None, stellar_effective_temperature=6120.0, stellar_radius=1.4, stellar_mass=1.28, stellar_luminosity=0.391, stellar_surface_gravity=4.25, stellar_age=2.5),\n",
       " 'HAT-P-49': Star(spectral_type='F', stellar_effective_temperature=6820.0, stellar_radius=2.06, stellar_mass=2.22, stellar_luminosity=0.814, stellar_surface_gravity=4.1, stellar_age=1.5),\n",
       " 'HAT-P-5': Star(spectral_type='G', stellar_effective_temperature=5960.0, stellar_radius=1.12, stellar_mass=1.04, stellar_luminosity=0.187, stellar_surface_gravity=4.37, stellar_age=2.6),\n",
       " 'HAT-P-50': Star(spectral_type='F5', stellar_effective_temperature=6280.0, stellar_radius=1.7, stellar_mass=1.27, stellar_luminosity=0.603, stellar_surface_gravity=4.07, stellar_age=3.37),\n",
       " 'HAT-P-51': Star(spectral_type='G7', stellar_effective_temperature=5449.0, stellar_radius=1.04, stellar_mass=0.98, stellar_luminosity=-0.066, stellar_surface_gravity=4.39, stellar_age=8.2),\n",
       " 'HAT-P-52': Star(spectral_type='K1', stellar_effective_temperature=5131.0, stellar_radius=0.89, stellar_mass=0.89, stellar_luminosity=-0.305, stellar_surface_gravity=4.48, stellar_age=9.4),\n",
       " 'HAT-P-53': Star(spectral_type=None, stellar_effective_temperature=5956.0, stellar_radius=1.21, stellar_mass=1.09, stellar_luminosity=0.217, stellar_surface_gravity=4.31, stellar_age=4.67),\n",
       " 'HAT-P-54': Star(spectral_type='K7', stellar_effective_temperature=4390.0, stellar_radius=0.62, stellar_mass=0.65, stellar_luminosity=-0.902, stellar_surface_gravity=4.67, stellar_age=3.9),\n",
       " 'HAT-P-55': Star(spectral_type=None, stellar_effective_temperature=5808.0, stellar_radius=1.01, stellar_mass=1.01, stellar_luminosity=0.064, stellar_surface_gravity=4.43, stellar_age=4.2),\n",
       " 'HAT-P-56': Star(spectral_type='F8', stellar_effective_temperature=6566.0, stellar_radius=1.47, stellar_mass=1.42, stellar_luminosity=0.553, stellar_surface_gravity=3.39, stellar_age=2.01),\n",
       " 'HAT-P-57': Star(spectral_type='A8 V', stellar_effective_temperature=6330.0, stellar_radius=1.85, stellar_mass=2.77, stellar_luminosity=0.806, stellar_surface_gravity=4.25, stellar_age=1.0),\n",
       " 'HAT-P-58': Star(spectral_type=None, stellar_effective_temperature=6078.0, stellar_radius=1.53, stellar_mass=1.03, stellar_luminosity=0.456, stellar_surface_gravity=4.08, stellar_age=7.11),\n",
       " 'HAT-P-59': Star(spectral_type=None, stellar_effective_temperature=5678.0, stellar_radius=1.1, stellar_mass=1.01, stellar_luminosity=0.054, stellar_surface_gravity=4.36, stellar_age=7.3),\n",
       " 'HAT-P-6': Star(spectral_type=None, stellar_effective_temperature=6570.0, stellar_radius=1.62, stellar_mass=1.79, stellar_luminosity=0.553, stellar_surface_gravity=4.22, stellar_age=2.3),\n",
       " 'HAT-P-60': Star(spectral_type=None, stellar_effective_temperature=6212.0, stellar_radius=2.2, stellar_mass=1.44, stellar_luminosity=0.809, stellar_surface_gravity=3.91, stellar_age=2.765),\n",
       " 'HAT-P-61': Star(spectral_type=None, stellar_effective_temperature=5587.0, stellar_radius=0.94, stellar_mass=1.0, stellar_luminosity=-0.115, stellar_surface_gravity=4.5, stellar_age=2.6),\n",
       " 'HAT-P-62': Star(spectral_type=None, stellar_effective_temperature=5629.0, stellar_radius=1.17, stellar_mass=1.02, stellar_luminosity=0.091, stellar_surface_gravity=4.31, stellar_age=8.1),\n",
       " 'HAT-P-63': Star(spectral_type=None, stellar_effective_temperature=5400.0, stellar_radius=0.97, stellar_mass=0.93, stellar_luminosity=-0.146, stellar_surface_gravity=4.43, stellar_age=9.0),\n",
       " 'HAT-P-64': Star(spectral_type=None, stellar_effective_temperature=6457.0, stellar_radius=1.74, stellar_mass=1.3, stellar_luminosity=0.668, stellar_surface_gravity=4.07, stellar_age=2.88),\n",
       " 'HAT-P-65': Star(spectral_type='G2', stellar_effective_temperature=5835.0, stellar_radius=1.86, stellar_mass=1.21, stellar_luminosity=0.555, stellar_surface_gravity=3.98, stellar_age=5.46),\n",
       " 'HAT-P-66': Star(spectral_type='G0', stellar_effective_temperature=6002.0, stellar_radius=1.88, stellar_mass=1.26, stellar_luminosity=0.615, stellar_surface_gravity=3.99, stellar_age=4.66),\n",
       " 'HAT-P-67': Star(spectral_type=None, stellar_effective_temperature=6406.0, stellar_radius=2.55, stellar_mass=1.64, stellar_luminosity=0.939, stellar_surface_gravity=3.85, stellar_age=1.24),\n",
       " 'HAT-P-68': Star(spectral_type='K', stellar_effective_temperature=4508.0, stellar_radius=0.67, stellar_mass=0.68, stellar_luminosity=-0.779, stellar_surface_gravity=4.62, stellar_age=11.1),\n",
       " 'HAT-P-69': Star(spectral_type=None, stellar_effective_temperature=7394.0, stellar_radius=1.93, stellar_mass=1.65, stellar_luminosity=1.0, stellar_surface_gravity=4.11, stellar_age=1.27),\n",
       " 'HAT-P-7': Star(spectral_type=None, stellar_effective_temperature=6389.0, stellar_radius=2.0, stellar_mass=1.56, stellar_luminosity=0.814, stellar_surface_gravity=4.07, stellar_age=2.07),\n",
       " 'HAT-P-70': Star(spectral_type=None, stellar_effective_temperature=8450.0, stellar_radius=1.86, stellar_mass=1.89, stellar_luminosity=1.223, stellar_surface_gravity=4.18, stellar_age=0.6),\n",
       " 'HAT-P-8': Star(spectral_type='F6', stellar_effective_temperature=6200.0, stellar_radius=1.57, stellar_mass=1.27, stellar_luminosity=0.519, stellar_surface_gravity=4.15, stellar_age=3.4),\n",
       " 'HAT-P-9': Star(spectral_type='F7', stellar_effective_temperature=6350.0, stellar_radius=1.34, stellar_mass=1.28, stellar_luminosity=0.418, stellar_surface_gravity=4.29, stellar_age=1.6),\n",
       " 'HATS-1': Star(spectral_type=None, stellar_effective_temperature=5870.0, stellar_radius=1.04, stellar_mass=0.99, stellar_luminosity=0.041, stellar_surface_gravity=4.4, stellar_age=6.0),\n",
       " 'HATS-10': Star(spectral_type=None, stellar_effective_temperature=5880.0, stellar_radius=1.1, stellar_mass=1.1, stellar_luminosity=0.117, stellar_surface_gravity=4.39, stellar_age=3.3),\n",
       " 'HATS-11': Star(spectral_type='G0', stellar_effective_temperature=6563.0, stellar_radius=1.54, stellar_mass=1.33, stellar_luminosity=0.403, stellar_surface_gravity=4.19, stellar_age=7.7),\n",
       " 'HATS-12': Star(spectral_type='F', stellar_effective_temperature=6357.0, stellar_radius=1.17, stellar_mass=1.16, stellar_luminosity=0.863, stellar_surface_gravity=4.36, stellar_age=2.36),\n",
       " 'HATS-13': Star(spectral_type=None, stellar_effective_temperature=5523.0, stellar_radius=0.89, stellar_mass=0.96, stellar_luminosity=-0.321, stellar_surface_gravity=4.52, stellar_age=2.5),\n",
       " 'HATS-14': Star(spectral_type=None, stellar_effective_temperature=5346.0, stellar_radius=0.93, stellar_mass=0.97, stellar_luminosity=-0.173, stellar_surface_gravity=4.48, stellar_age=4.9),\n",
       " 'HATS-15': Star(spectral_type='G9 V', stellar_effective_temperature=5311.0, stellar_radius=0.92, stellar_mass=0.87, stellar_luminosity=-0.204, stellar_surface_gravity=4.45, stellar_age=11.0),\n",
       " 'HATS-16': Star(spectral_type='G3 V', stellar_effective_temperature=5738.0, stellar_radius=1.24, stellar_mass=0.97, stellar_luminosity=0.173, stellar_surface_gravity=4.24, stellar_age=9.5),\n",
       " 'HATS-17': Star(spectral_type='G V', stellar_effective_temperature=5846.0, stellar_radius=1.09, stellar_mass=1.13, stellar_luminosity=0.093, stellar_surface_gravity=4.42, stellar_age=2.1),\n",
       " 'HATS-18': Star(spectral_type='G V', stellar_effective_temperature=5600.0, stellar_radius=1.02, stellar_mass=1.04, stellar_luminosity=-0.032, stellar_surface_gravity=4.44, stellar_age=4.2),\n",
       " 'HATS-2': Star(spectral_type='K', stellar_effective_temperature=5227.0, stellar_radius=0.9, stellar_mass=0.88, stellar_luminosity=-0.268, stellar_surface_gravity=4.48, stellar_age=9.7),\n",
       " 'HATS-22': Star(spectral_type='K V', stellar_effective_temperature=4803.0, stellar_radius=0.69, stellar_mass=0.76, stellar_luminosity=-0.646, stellar_surface_gravity=4.64, stellar_age=None),\n",
       " 'HATS-23': Star(spectral_type='G V', stellar_effective_temperature=5780.0, stellar_radius=1.2, stellar_mass=1.12, stellar_luminosity=0.155, stellar_surface_gravity=4.33, stellar_age=4.2),\n",
       " 'HATS-24': Star(spectral_type='F V', stellar_effective_temperature=6125.0, stellar_radius=1.12, stellar_mass=1.07, stellar_luminosity=0.19, stellar_surface_gravity=4.37, stellar_age=3.7),\n",
       " 'HATS-25': Star(spectral_type='G', stellar_effective_temperature=5715.0, stellar_radius=1.11, stellar_mass=0.99, stellar_luminosity=0.068, stellar_surface_gravity=4.35, stellar_age=7.5),\n",
       " 'HATS-26': Star(spectral_type='F', stellar_effective_temperature=6071.0, stellar_radius=2.04, stellar_mass=1.3, stellar_luminosity=0.704, stellar_surface_gravity=3.94, stellar_age=4.04),\n",
       " 'HATS-27': Star(spectral_type='F', stellar_effective_temperature=6438.0, stellar_radius=1.74, stellar_mass=1.42, stellar_luminosity=0.669, stellar_surface_gravity=4.11, stellar_age=2.3),\n",
       " 'HATS-28': Star(spectral_type='G', stellar_effective_temperature=5498.0, stellar_radius=0.92, stellar_mass=0.93, stellar_luminosity=-0.157, stellar_surface_gravity=4.48, stellar_age=6.2),\n",
       " 'HATS-29': Star(spectral_type='G', stellar_effective_temperature=5670.0, stellar_radius=1.07, stellar_mass=1.03, stellar_luminosity=0.029, stellar_surface_gravity=4.39, stellar_age=5.5),\n",
       " 'HATS-3': Star(spectral_type='F', stellar_effective_temperature=6351.0, stellar_radius=1.4, stellar_mass=1.21, stellar_luminosity=0.456, stellar_surface_gravity=4.22, stellar_age=3.2),\n",
       " 'HATS-30': Star(spectral_type='G', stellar_effective_temperature=5943.0, stellar_radius=1.06, stellar_mass=1.09, stellar_luminosity=0.097, stellar_surface_gravity=4.42, stellar_age=2.3),\n",
       " 'HATS-31': Star(spectral_type=None, stellar_effective_temperature=6050.0, stellar_radius=1.87, stellar_mass=1.27, stellar_luminosity=0.619, stellar_surface_gravity=4.0, stellar_age=4.3),\n",
       " 'HATS-32': Star(spectral_type=None, stellar_effective_temperature=5700.0, stellar_radius=1.1, stellar_mass=1.1, stellar_luminosity=0.057, stellar_surface_gravity=4.4, stellar_age=3.5),\n",
       " 'HATS-33': Star(spectral_type=None, stellar_effective_temperature=5659.0, stellar_radius=1.02, stellar_mass=1.06, stellar_luminosity=-0.018, stellar_surface_gravity=4.45, stellar_age=3.0),\n",
       " 'HATS-34': Star(spectral_type=None, stellar_effective_temperature=5380.0, stellar_radius=0.98, stellar_mass=0.96, stellar_luminosity=-0.14, stellar_surface_gravity=4.44, stellar_age=7.7),\n",
       " 'HATS-35': Star(spectral_type=None, stellar_effective_temperature=6300.0, stellar_radius=1.43, stellar_mass=1.32, stellar_luminosity=0.465, stellar_surface_gravity=4.24, stellar_age=2.13),\n",
       " 'HATS-36': Star(spectral_type='G0 V', stellar_effective_temperature=5950.0, stellar_radius=1.1, stellar_mass=1.1, stellar_luminosity=0.215, stellar_surface_gravity=4.4, stellar_age=0.62),\n",
       " 'HATS-37 A': Star(spectral_type=None, stellar_effective_temperature=5326.0, stellar_radius=0.88, stellar_mass=0.84, stellar_luminosity=-0.256, stellar_surface_gravity=4.48, stellar_age=11.46),\n",
       " 'HATS-38': Star(spectral_type=None, stellar_effective_temperature=5732.0, stellar_radius=1.1, stellar_mass=0.89, stellar_luminosity=0.072, stellar_surface_gravity=4.3, stellar_age=11.89),\n",
       " 'HATS-39': Star(spectral_type=None, stellar_effective_temperature=6572.0, stellar_radius=1.62, stellar_mass=1.38, stellar_luminosity=0.64, stellar_surface_gravity=4.16, stellar_age=2.06),\n",
       " 'HATS-4': Star(spectral_type='G', stellar_effective_temperature=5403.0, stellar_radius=0.93, stellar_mass=1.0, stellar_luminosity=-0.187, stellar_surface_gravity=4.51, stellar_age=2.1),\n",
       " 'HATS-40': Star(spectral_type=None, stellar_effective_temperature=6460.0, stellar_radius=2.26, stellar_mass=1.56, stellar_luminosity=0.903, stellar_surface_gravity=3.92, stellar_age=2.07),\n",
       " 'HATS-41': Star(spectral_type=None, stellar_effective_temperature=6424.0, stellar_radius=1.71, stellar_mass=1.5, stellar_luminosity=0.653, stellar_surface_gravity=4.14, stellar_age=1.34),\n",
       " 'HATS-42': Star(spectral_type=None, stellar_effective_temperature=6060.0, stellar_radius=1.48, stellar_mass=1.27, stellar_luminosity=0.425, stellar_surface_gravity=4.2, stellar_age=3.26),\n",
       " 'HATS-43': Star(spectral_type=None, stellar_effective_temperature=5099.0, stellar_radius=0.81, stellar_mass=0.84, stellar_luminosity=-0.398, stellar_surface_gravity=4.54, stellar_age=8.6),\n",
       " 'HATS-44': Star(spectral_type=None, stellar_effective_temperature=5080.0, stellar_radius=0.85, stellar_mass=0.86, stellar_luminosity=-0.398, stellar_surface_gravity=4.51, stellar_age=9.7),\n",
       " 'HATS-45': Star(spectral_type=None, stellar_effective_temperature=6450.0, stellar_radius=1.32, stellar_mass=1.27, stellar_luminosity=0.425, stellar_surface_gravity=4.31, stellar_age=1.52),\n",
       " 'HATS-46': Star(spectral_type=None, stellar_effective_temperature=5495.0, stellar_radius=0.85, stellar_mass=0.92, stellar_luminosity=-0.23, stellar_surface_gravity=4.54, stellar_age=3.0),\n",
       " 'HATS-47': Star(spectral_type=None, stellar_effective_temperature=4512.0, stellar_radius=0.66, stellar_mass=0.67, stellar_luminosity=-0.796, stellar_surface_gravity=4.63, stellar_age=8.1),\n",
       " 'HATS-48 A': Star(spectral_type=None, stellar_effective_temperature=4546.0, stellar_radius=0.72, stellar_mass=0.73, stellar_luminosity=-0.709, stellar_surface_gravity=4.59, stellar_age=11.97),\n",
       " 'HATS-49': Star(spectral_type=None, stellar_effective_temperature=4405.0, stellar_radius=0.7, stellar_mass=0.71, stellar_luminosity=-0.785, stellar_surface_gravity=4.6, stellar_age=10.5),\n",
       " 'HATS-5': Star(spectral_type='G', stellar_effective_temperature=5304.0, stellar_radius=0.87, stellar_mass=0.94, stellar_luminosity=-0.268, stellar_surface_gravity=4.53, stellar_age=3.6),\n",
       " 'HATS-50': Star(spectral_type=None, stellar_effective_temperature=5990.0, stellar_radius=1.12, stellar_mass=1.17, stellar_luminosity=0.143, stellar_surface_gravity=4.41, stellar_age=1.2),\n",
       " 'HATS-51': Star(spectral_type=None, stellar_effective_temperature=5758.0, stellar_radius=1.44, stellar_mass=1.19, stellar_luminosity=0.31, stellar_surface_gravity=4.2, stellar_age=4.74),\n",
       " 'HATS-52': Star(spectral_type=None, stellar_effective_temperature=6010.0, stellar_radius=1.05, stellar_mass=1.11, stellar_luminosity=0.068, stellar_surface_gravity=4.45, stellar_age=1.2),\n",
       " 'HATS-53': Star(spectral_type=None, stellar_effective_temperature=5644.0, stellar_radius=1.1, stellar_mass=0.96, stellar_luminosity=0.045, stellar_surface_gravity=4.34, stellar_age=9.0),\n",
       " 'HATS-54': Star(spectral_type='G6 V', stellar_effective_temperature=5621.0, stellar_radius=1.23, stellar_mass=1.05, stellar_luminosity=0.115, stellar_surface_gravity=4.2, stellar_age=7.96),\n",
       " 'HATS-55': Star(spectral_type=None, stellar_effective_temperature=6214.0, stellar_radius=1.13, stellar_mass=1.2, stellar_luminosity=0.229, stellar_surface_gravity=4.41, stellar_age=0.4),\n",
       " 'HATS-56': Star(spectral_type=None, stellar_effective_temperature=6536.0, stellar_radius=2.2, stellar_mass=1.57, stellar_luminosity=0.898, stellar_surface_gravity=3.95, stellar_age=1.894),\n",
       " 'HATS-57': Star(spectral_type=None, stellar_effective_temperature=5587.0, stellar_radius=0.96, stellar_mass=1.03, stellar_luminosity=-0.094, stellar_surface_gravity=4.48, stellar_age=2.5),\n",
       " 'HATS-58 A': Star(spectral_type=None, stellar_effective_temperature=7175.0, stellar_radius=1.43, stellar_mass=1.46, stellar_luminosity=0.689, stellar_surface_gravity=4.29, stellar_age=0.31),\n",
       " 'HATS-6': Star(spectral_type='M1 V', stellar_effective_temperature=3724.0, stellar_radius=0.57, stellar_mass=0.57, stellar_luminosity=-1.1, stellar_surface_gravity=4.68, stellar_age=8.1),\n",
       " 'HATS-60': Star(spectral_type=None, stellar_effective_temperature=5688.0, stellar_radius=1.46, stellar_mass=1.1, stellar_luminosity=0.3, stellar_surface_gravity=4.15, stellar_age=7.55),\n",
       " 'HATS-61': Star(spectral_type=None, stellar_effective_temperature=5542.0, stellar_radius=1.66, stellar_mass=1.08, stellar_luminosity=0.369, stellar_surface_gravity=4.03, stellar_age=8.9),\n",
       " 'HATS-62': Star(spectral_type=None, stellar_effective_temperature=5416.0, stellar_radius=0.93, stellar_mass=0.9, stellar_luminosity=-0.173, stellar_surface_gravity=4.45, stellar_age=9.55),\n",
       " 'HATS-63': Star(spectral_type=None, stellar_effective_temperature=5627.0, stellar_radius=1.07, stellar_mass=0.93, stellar_luminosity=0.012, stellar_surface_gravity=4.35, stellar_age=10.3),\n",
       " 'HATS-64': Star(spectral_type=None, stellar_effective_temperature=6554.0, stellar_radius=2.11, stellar_mass=1.56, stellar_luminosity=0.867, stellar_surface_gravity=3.98, stellar_age=1.861),\n",
       " 'HATS-65': Star(spectral_type=None, stellar_effective_temperature=6277.0, stellar_radius=1.31, stellar_mass=1.26, stellar_luminosity=0.377, stellar_surface_gravity=4.3, stellar_age=1.78),\n",
       " 'HATS-66': Star(spectral_type=None, stellar_effective_temperature=6626.0, stellar_radius=1.84, stellar_mass=1.41, stellar_luminosity=0.767, stellar_surface_gravity=4.06, stellar_age=2.17),\n",
       " 'HATS-67': Star(spectral_type=None, stellar_effective_temperature=6594.0, stellar_radius=1.44, stellar_mass=1.44, stellar_luminosity=0.547, stellar_surface_gravity=4.28, stellar_age=0.51),\n",
       " 'HATS-68': Star(spectral_type=None, stellar_effective_temperature=6147.0, stellar_radius=1.75, stellar_mass=1.35, stellar_luminosity=0.592, stellar_surface_gravity=4.08, stellar_age=3.02),\n",
       " 'HATS-69': Star(spectral_type=None, stellar_effective_temperature=5137.0, stellar_radius=0.88, stellar_mass=0.89, stellar_luminosity=-0.318, stellar_surface_gravity=4.5, stellar_age=8.0),\n",
       " 'HATS-7': Star(spectral_type='K2', stellar_effective_temperature=4985.0, stellar_radius=0.82, stellar_mass=0.85, stellar_luminosity=-0.434, stellar_surface_gravity=4.54, stellar_age=7.8),\n",
       " 'HATS-70': Star(spectral_type=None, stellar_effective_temperature=7930.0, stellar_radius=1.88, stellar_mass=1.78, stellar_luminosity=1.079, stellar_surface_gravity=4.17, stellar_age=0.81),\n",
       " 'HATS-71': Star(spectral_type='M3 V', stellar_effective_temperature=3405.0, stellar_radius=0.48, stellar_mass=0.49, stellar_luminosity=-1.56, stellar_surface_gravity=4.77, stellar_age=3.2),\n",
       " 'HATS-72': Star(spectral_type=None, stellar_effective_temperature=4656.1, stellar_radius=0.72, stellar_mass=0.73, stellar_luminosity=-0.659, stellar_surface_gravity=4.59, stellar_age=12.17),\n",
       " 'HATS-74 A': Star(spectral_type=None, stellar_effective_temperature=3776.9, stellar_radius=0.58, stellar_mass=0.6, stellar_luminosity=-1.216, stellar_surface_gravity=4.7, stellar_age=11.0),\n",
       " 'HATS-75': Star(spectral_type=None, stellar_effective_temperature=3790.4, stellar_radius=0.58, stellar_mass=0.6, stellar_luminosity=-1.197, stellar_surface_gravity=4.68, stellar_age=14.9),\n",
       " 'HATS-76': Star(spectral_type=None, stellar_effective_temperature=4016.0, stellar_radius=0.63, stellar_mass=0.66, stellar_luminosity=-1.038, stellar_surface_gravity=4.67, stellar_age=4.6),\n",
       " 'HATS-77': Star(spectral_type=None, stellar_effective_temperature=4071.0, stellar_radius=0.64, stellar_mass=0.66, stellar_luminosity=-0.992, stellar_surface_gravity=4.64, stellar_age=12.1),\n",
       " 'HATS-8': Star(spectral_type=None, stellar_effective_temperature=5679.0, stellar_radius=1.09, stellar_mass=1.06, stellar_luminosity=-0.025, stellar_surface_gravity=4.39, stellar_age=5.1),\n",
       " 'HATS-9': Star(spectral_type=None, stellar_effective_temperature=5599.0, stellar_radius=1.56, stellar_mass=1.1, stellar_luminosity=0.312, stellar_surface_gravity=4.1, stellar_age=10.8),\n",
       " 'HD 100546': Star(spectral_type='B9 Vne', stellar_effective_temperature=10500.0, stellar_radius=1.85, stellar_mass=2.4, stellar_luminosity=1.5, stellar_surface_gravity=4.33, stellar_age=0.005),\n",
       " 'HD 100655': Star(spectral_type='G9 III', stellar_effective_temperature=4891.0, stellar_radius=10.06, stellar_mass=2.28, stellar_luminosity=1.633, stellar_surface_gravity=2.79, stellar_age=1.309),\n",
       " 'HD 100777': Star(spectral_type='G8 V', stellar_effective_temperature=5533.0, stellar_radius=1.04, stellar_mass=0.83, stellar_luminosity=0.021, stellar_surface_gravity=4.32, stellar_age=2.0),\n",
       " 'HD 101930': Star(spectral_type='K1 V', stellar_effective_temperature=5108.0, stellar_radius=0.86, stellar_mass=0.57, stellar_luminosity=-0.31, stellar_surface_gravity=4.33, stellar_age=1.0),\n",
       " 'HD 102117': Star(spectral_type='G6 V', stellar_effective_temperature=5655.0, stellar_radius=1.23, stellar_mass=1.06, stellar_luminosity=0.157, stellar_surface_gravity=4.29, stellar_age=10.0),\n",
       " 'HD 102195': Star(spectral_type='K0 V', stellar_effective_temperature=5301.0, stellar_radius=0.82, stellar_mass=0.76, stellar_luminosity=-0.334, stellar_surface_gravity=4.49, stellar_age=2.4),\n",
       " 'HD 102272': Star(spectral_type='K0', stellar_effective_temperature=4790.0, stellar_radius=10.3, stellar_mass=1.45, stellar_luminosity=1.662, stellar_surface_gravity=2.58, stellar_age=None),\n",
       " 'HD 102365': Star(spectral_type='G3/5V', stellar_effective_temperature=5630.0, stellar_radius=0.95, stellar_mass=0.85, stellar_luminosity=-0.057, stellar_surface_gravity=4.57, stellar_age=9.0),\n",
       " 'HD 102843': Star(spectral_type='K0 V', stellar_effective_temperature=5436.0, stellar_radius=0.96, stellar_mass=0.95, stellar_luminosity=-0.138, stellar_surface_gravity=4.46, stellar_age=None),\n",
       " 'HD 102956': Star(spectral_type='G5', stellar_effective_temperature=4985.0, stellar_radius=4.55, stellar_mass=1.66, stellar_luminosity=1.064, stellar_surface_gravity=3.38, stellar_age=2.3),\n",
       " 'HD 103197': Star(spectral_type='K1 V(P)', stellar_effective_temperature=5250.0, stellar_radius=0.88, stellar_mass=0.8, stellar_luminosity=-0.328, stellar_surface_gravity=4.45, stellar_age=9.1),\n",
       " 'HD 103720': Star(spectral_type='K3 V', stellar_effective_temperature=5017.0, stellar_radius=0.73, stellar_mass=0.79, stellar_luminosity=-0.458, stellar_surface_gravity=4.43, stellar_age=3.8),\n",
       " 'HD 103774': Star(spectral_type='F5 V', stellar_effective_temperature=6489.0, stellar_radius=1.58, stellar_mass=1.33, stellar_luminosity=0.544, stellar_surface_gravity=4.26, stellar_age=1.05),\n",
       " 'HD 103891': Star(spectral_type='F9', stellar_effective_temperature=6072.0, stellar_radius=2.22, stellar_mass=1.28, stellar_luminosity=0.786, stellar_surface_gravity=3.79, stellar_age=3.68),\n",
       " 'HD 103949': Star(spectral_type='K3 V', stellar_effective_temperature=4792.0, stellar_radius=0.75, stellar_mass=0.77, stellar_luminosity=-0.569, stellar_surface_gravity=4.59, stellar_age=None),\n",
       " 'HD 104067': Star(spectral_type='K2 V', stellar_effective_temperature=4937.0, stellar_radius=0.74, stellar_mass=0.62, stellar_luminosity=-0.513, stellar_surface_gravity=4.49, stellar_age=4.33),\n",
       " 'HD 10442': Star(spectral_type='K0 IV', stellar_effective_temperature=4912.0, stellar_radius=1.97, stellar_mass=1.01, stellar_luminosity=0.31, stellar_surface_gravity=3.19, stellar_age=10.65),\n",
       " 'HD 104985': Star(spectral_type='G9 III', stellar_effective_temperature=4877.0, stellar_radius=11.0, stellar_mass=2.3, stellar_luminosity=1.778, stellar_surface_gravity=2.85, stellar_age=None),\n",
       " 'HD 105779': Star(spectral_type='G2', stellar_effective_temperature=5792.0, stellar_radius=0.94, stellar_mass=0.89, stellar_luminosity=-0.108, stellar_surface_gravity=4.36, stellar_age=7.54),\n",
       " 'HD 106252': Star(spectral_type='G0', stellar_effective_temperature=5874.0, stellar_radius=1.1, stellar_mass=1.01, stellar_luminosity=0.123, stellar_surface_gravity=4.36, stellar_age=4.19),\n",
       " 'HD 106270': Star(spectral_type='G5 IV', stellar_effective_temperature=5509.0, stellar_radius=2.66, stellar_mass=1.39, stellar_luminosity=0.756, stellar_surface_gravity=3.72, stellar_age=4.3),\n",
       " 'HD 10647': Star(spectral_type='F9 V', stellar_effective_temperature=6218.0, stellar_radius=1.1, stellar_mass=1.11, stellar_luminosity=0.149, stellar_surface_gravity=4.62, stellar_age=1.4),\n",
       " 'HD 106515 A': Star(spectral_type='G5 V', stellar_effective_temperature=5362.0, stellar_radius=0.91, stellar_mass=0.93, stellar_luminosity=-0.164, stellar_surface_gravity=4.41, stellar_age=11.7),\n",
       " 'HD 106906': Star(spectral_type='F5 V', stellar_effective_temperature=6516.0, stellar_radius=2.12, stellar_mass=1.5, stellar_luminosity=0.75, stellar_surface_gravity=3.9, stellar_age=0.013),\n",
       " 'HD 10697': Star(spectral_type='G5 IV', stellar_effective_temperature=5680.0, stellar_radius=1.86, stellar_mass=0.99, stellar_luminosity=0.477, stellar_surface_gravity=3.96, stellar_age=6.98),\n",
       " 'HD 108147': Star(spectral_type='F8 V CH+0.4', stellar_effective_temperature=6255.73, stellar_radius=1.21, stellar_mass=1.22, stellar_luminosity=0.303, stellar_surface_gravity=4.36, stellar_age=3.2),\n",
       " 'HD 108341': Star(spectral_type='K2 V', stellar_effective_temperature=5122.0, stellar_radius=0.79, stellar_mass=0.84, stellar_luminosity=-0.37, stellar_surface_gravity=4.45, stellar_age=4.9),\n",
       " 'HD 108863': Star(spectral_type='K0', stellar_effective_temperature=4878.0, stellar_radius=5.74, stellar_mass=1.59, stellar_luminosity=1.225, stellar_surface_gravity=3.07, stellar_age=1.8),\n",
       " 'HD 109246': Star(spectral_type='G0 V', stellar_effective_temperature=5844.0, stellar_radius=1.07, stellar_mass=1.2, stellar_luminosity=0.1, stellar_surface_gravity=4.46, stellar_age=None),\n",
       " 'HD 109286': Star(spectral_type='G4 V', stellar_effective_temperature=5694.0, stellar_radius=1.09, stellar_mass=0.98, stellar_luminosity=-0.084, stellar_surface_gravity=4.44, stellar_age=None),\n",
       " 'HD 109749': Star(spectral_type='G3 V', stellar_effective_temperature=5824.0, stellar_radius=1.22, stellar_mass=1.13, stellar_luminosity=0.19, stellar_surface_gravity=4.31, stellar_age=3.3),\n",
       " 'HD 10975': Star(spectral_type='K0 III', stellar_effective_temperature=4840.0, stellar_radius=11.16, stellar_mass=1.41, stellar_luminosity=1.79, stellar_surface_gravity=2.48, stellar_age=None),\n",
       " 'HD 109988': Star(spectral_type=None, stellar_effective_temperature=5185.97, stellar_radius=0.87, stellar_mass=0.88, stellar_luminosity=-0.307, stellar_surface_gravity=4.5, stellar_age=None),\n",
       " 'HD 110014': Star(spectral_type='K2 III', stellar_effective_temperature=4445.0, stellar_radius=20.9, stellar_mass=2.17, stellar_luminosity=2.304, stellar_surface_gravity=2.1, stellar_age=0.95),\n",
       " 'HD 110082': Star(spectral_type='F8 V', stellar_effective_temperature=6200.0, stellar_radius=1.19, stellar_mass=1.21, stellar_luminosity=0.281, stellar_surface_gravity=4.2, stellar_age=0.25),\n",
       " 'HD 110537': Star(spectral_type='G6/8 V', stellar_effective_temperature=5718.0, stellar_radius=1.17, stellar_mass=1.02, stellar_luminosity=0.117, stellar_surface_gravity=4.31, stellar_age=None),\n",
       " 'HD 11112': Star(spectral_type=None, stellar_effective_temperature=5905.64, stellar_radius=1.47, stellar_mass=1.07, stellar_luminosity=0.377, stellar_surface_gravity=4.13, stellar_age=None),\n",
       " 'HD 111591': Star(spectral_type='K0 III', stellar_effective_temperature=4884.0, stellar_radius=8.03, stellar_mass=1.94, stellar_luminosity=1.581, stellar_surface_gravity=3.1, stellar_age=1.41),\n",
       " 'HD 111998': Star(spectral_type='F5 V', stellar_effective_temperature=6557.0, stellar_radius=1.45, stellar_mass=1.18, stellar_luminosity=0.512, stellar_surface_gravity=4.19, stellar_age=1.9),\n",
       " 'HD 112640': Star(spectral_type='K0 III', stellar_effective_temperature=4155.0, stellar_radius=39.0, stellar_mass=1.8, stellar_luminosity=2.453, stellar_surface_gravity=1.7, stellar_age=1.6),\n",
       " 'HD 113996': Star(spectral_type='K5 III', stellar_effective_temperature=4181.0, stellar_radius=25.11, stellar_mass=1.49, stellar_luminosity=2.464, stellar_surface_gravity=1.86, stellar_age=3.24),\n",
       " 'HD 114082': Star(spectral_type='F3 V', stellar_effective_temperature=6651.0, stellar_radius=1.49, stellar_mass=1.47, stellar_luminosity=0.583, stellar_surface_gravity=4.19, stellar_age=0.015),\n",
       " 'HD 114386': Star(spectral_type='K3V', stellar_effective_temperature=4836.0, stellar_radius=0.76, stellar_mass=0.6, stellar_luminosity=-0.54, stellar_surface_gravity=4.45, stellar_age=1.0),\n",
       " 'HD 114613': Star(spectral_type='G4 IV', stellar_effective_temperature=5641.0, stellar_radius=2.14, stellar_mass=1.27, stellar_luminosity=0.608, stellar_surface_gravity=3.87, stellar_age=4.55),\n",
       " 'HD 114729': Star(spectral_type='G0 V', stellar_effective_temperature=5844.0, stellar_radius=1.47, stellar_mass=0.94, stellar_luminosity=0.421, stellar_surface_gravity=4.05, stellar_age=10.116),\n",
       " 'HD 11505': Star(spectral_type=None, stellar_effective_temperature=5757.15, stellar_radius=1.2, stellar_mass=1.03, stellar_luminosity=0.151, stellar_surface_gravity=4.3, stellar_age=None),\n",
       " 'HD 115954': Star(spectral_type='G0 V', stellar_effective_temperature=5957.0, stellar_radius=1.21, stellar_mass=1.18, stellar_luminosity=0.481, stellar_surface_gravity=4.15, stellar_age=None),\n",
       " 'HD 117207': Star(spectral_type='G8 IV/V', stellar_effective_temperature=5732.0, stellar_radius=1.07, stellar_mass=1.05, stellar_luminosity=0.066, stellar_surface_gravity=4.37, stellar_age=4.192),\n",
       " 'HD 11755': Star(spectral_type='G5', stellar_effective_temperature=4312.0, stellar_radius=20.58, stellar_mass=0.72, stellar_luminosity=2.169, stellar_surface_gravity=1.67, stellar_age=10.2),\n",
       " 'HD 117618': Star(spectral_type='G2 V', stellar_effective_temperature=5990.0, stellar_radius=1.2, stellar_mass=1.08, stellar_luminosity=0.213, stellar_surface_gravity=4.41, stellar_age=5.6),\n",
       " 'HD 118203': Star(spectral_type='K0', stellar_effective_temperature=5864.0, stellar_radius=2.06, stellar_mass=1.84, stellar_luminosity=0.646, stellar_surface_gravity=4.08, stellar_age=4.6),\n",
       " 'HD 11977': Star(spectral_type='G8 III/IV', stellar_effective_temperature=4970.0, stellar_radius=10.09, stellar_mass=1.91, stellar_luminosity=1.839, stellar_surface_gravity=2.9, stellar_age=1.2),\n",
       " 'HD 120084': Star(spectral_type='G7 III', stellar_effective_temperature=4892.0, stellar_radius=9.12, stellar_mass=2.5, stellar_luminosity=1.64, stellar_surface_gravity=2.71, stellar_age=1.02),\n",
       " 'HD 121504': Star(spectral_type='G2 V', stellar_effective_temperature=6027.0, stellar_radius=1.07, stellar_mass=1.62, stellar_luminosity=0.19, stellar_surface_gravity=4.59, stellar_age=1.2),\n",
       " 'HD 122562': Star(spectral_type=None, stellar_effective_temperature=4956.0, stellar_radius=2.17, stellar_mass=1.24, stellar_luminosity=0.407, stellar_surface_gravity=None, stellar_age=None),\n",
       " 'HD 124330': Star(spectral_type='G4 IV', stellar_effective_temperature=5873.0, stellar_radius=1.3, stellar_mass=1.15, stellar_luminosity=0.338, stellar_surface_gravity=4.24, stellar_age=None),\n",
       " 'HD 12484': Star(spectral_type='F8', stellar_effective_temperature=5920.0, stellar_radius=1.0, stellar_mass=1.01, stellar_luminosity=0.022, stellar_surface_gravity=4.65, stellar_age=None),\n",
       " 'HD 125271': Star(spectral_type=None, stellar_effective_temperature=4703.93, stellar_radius=0.75, stellar_mass=0.75, stellar_luminosity=-0.604, stellar_surface_gravity=4.56, stellar_age=None),\n",
       " 'HD 125390': Star(spectral_type='G7 V', stellar_effective_temperature=4850.0, stellar_radius=6.47, stellar_mass=1.82, stellar_luminosity=1.124, stellar_surface_gravity=3.13, stellar_age=None),\n",
       " 'HD 125595': Star(spectral_type='K4 V', stellar_effective_temperature=4691.0, stellar_radius=0.74, stellar_mass=0.29, stellar_luminosity=-0.617, stellar_surface_gravity=4.17, stellar_age=3.53),\n",
       " 'HD 12648': Star(spectral_type='G5', stellar_effective_temperature=4835.0, stellar_radius=11.02, stellar_mass=0.67, stellar_luminosity=1.753, stellar_surface_gravity=2.18, stellar_age=4.5),\n",
       " 'HD 126525': Star(spectral_type='G4 V', stellar_effective_temperature=5638.0, stellar_radius=0.98, stellar_mass=0.9, stellar_luminosity=-0.04, stellar_surface_gravity=4.38, stellar_age=9.67),\n",
       " 'HD 126614': Star(spectral_type='G8 IV', stellar_effective_temperature=5568.0, stellar_radius=1.37, stellar_mass=0.96, stellar_luminosity=0.083, stellar_surface_gravity=4.17, stellar_age=7.2),\n",
       " 'HD 127506': Star(spectral_type='K3V', stellar_effective_temperature=4595.32, stellar_radius=0.74, stellar_mass=0.73, stellar_luminosity=-0.663, stellar_surface_gravity=4.57, stellar_age=None),\n",
       " 'HD 128356': Star(spectral_type='K3 V', stellar_effective_temperature=4875.0, stellar_radius=0.85, stellar_mass=0.65, stellar_luminosity=-0.444, stellar_surface_gravity=4.52, stellar_age=10.0),\n",
       " 'HD 129445': Star(spectral_type='G6 V', stellar_effective_temperature=5605.0, stellar_radius=1.18, stellar_mass=0.99, stellar_luminosity=0.09, stellar_surface_gravity=4.31, stellar_age=None),\n",
       " 'HD 130322': Star(spectral_type='K0 V', stellar_effective_temperature=5387.0, stellar_radius=0.85, stellar_mass=0.92, stellar_luminosity=-0.235, stellar_surface_gravity=4.52, stellar_age=0.35),\n",
       " 'HD 131496': Star(spectral_type='K0', stellar_effective_temperature=4846.0, stellar_radius=4.44, stellar_mass=1.34, stellar_luminosity=0.991, stellar_surface_gravity=3.18, stellar_age=2.7),\n",
       " 'HD 13167': Star(spectral_type='G3 V', stellar_effective_temperature=5671.0, stellar_radius=2.39, stellar_mass=1.35, stellar_luminosity=0.96, stellar_surface_gravity=3.72, stellar_age=None),\n",
       " 'HD 13189': Star(spectral_type='K2', stellar_effective_temperature=4175.0, stellar_radius=38.41, stellar_mass=2.24, stellar_luminosity=2.636, stellar_surface_gravity=1.62, stellar_age=None),\n",
       " 'HD 132406': Star(spectral_type='G0', stellar_effective_temperature=5783.0, stellar_radius=1.34, stellar_mass=1.03, stellar_luminosity=0.26, stellar_surface_gravity=4.2, stellar_age=7.187),\n",
       " 'HD 132563': Star(spectral_type='F8', stellar_effective_temperature=6289.0, stellar_radius=1.3, stellar_mass=1.23, stellar_luminosity=0.374, stellar_surface_gravity=4.3, stellar_age=2.31),\n",
       " 'HD 133131 B': Star(spectral_type='G2 V', stellar_effective_temperature=5805.0, stellar_radius=0.99, stellar_mass=0.93, stellar_luminosity=-0.009, stellar_surface_gravity=4.41, stellar_age=9.7),\n",
       " 'HD 135872': Star(spectral_type=None, stellar_effective_temperature=4992.0, stellar_radius=3.93, stellar_mass=1.65, stellar_luminosity=0.937, stellar_surface_gravity=None, stellar_age=None),\n",
       " 'HD 136118': Star(spectral_type=None, stellar_effective_temperature=6182.43, stellar_radius=1.68, stellar_mass=1.18, stellar_luminosity=0.569, stellar_surface_gravity=4.06, stellar_age=None),\n",
       " 'HD 136418': Star(spectral_type='G5', stellar_effective_temperature=4989.0, stellar_radius=3.78, stellar_mass=1.48, stellar_luminosity=0.833, stellar_surface_gravity=3.45, stellar_age=4.0),\n",
       " 'HD 136925': Star(spectral_type=None, stellar_effective_temperature=5773.19, stellar_radius=1.19, stellar_mass=0.88, stellar_luminosity=0.134, stellar_surface_gravity=4.23, stellar_age=None),\n",
       " 'HD 13724': Star(spectral_type=None, stellar_effective_temperature=5835.31, stellar_radius=1.04, stellar_mass=1.0, stellar_luminosity=0.055, stellar_surface_gravity=4.42, stellar_age=None),\n",
       " 'HD 137388': Star(spectral_type='K2 IV', stellar_effective_temperature=5181.0, stellar_radius=0.88, stellar_mass=0.68, stellar_luminosity=-0.337, stellar_surface_gravity=4.39, stellar_age=6.45),\n",
       " 'HD 13931': Star(spectral_type='G0', stellar_effective_temperature=5867.0, stellar_radius=1.25, stellar_mass=1.3, stellar_luminosity=0.196, stellar_surface_gravity=4.36, stellar_age=8.4),\n",
       " 'HD 139357': Star(spectral_type='K0', stellar_effective_temperature=4700.0, stellar_radius=11.47, stellar_mass=2.69, stellar_luminosity=1.823, stellar_surface_gravity=2.9, stellar_age=3.07),\n",
       " 'HD 1397': Star(spectral_type='G5 III/IV', stellar_effective_temperature=5521.0, stellar_radius=2.34, stellar_mass=1.32, stellar_luminosity=0.66, stellar_surface_gravity=3.82, stellar_age=4.51),\n",
       " 'HD 14067': Star(spectral_type='G9 III', stellar_effective_temperature=4815.0, stellar_radius=12.4, stellar_mass=2.58, stellar_luminosity=1.898, stellar_surface_gravity=2.61, stellar_age=0.69),\n",
       " 'HD 141004': Star(spectral_type='G0Vvar', stellar_effective_temperature=5885.38, stellar_radius=1.39, stellar_mass=1.05, stellar_luminosity=0.346, stellar_surface_gravity=4.17, stellar_age=6.32),\n",
       " 'HD 141937': Star(spectral_type='G2/G3 V', stellar_effective_temperature=5870.0, stellar_radius=1.03, stellar_mass=1.09, stellar_luminosity=0.022, stellar_surface_gravity=4.45, stellar_age=2.32),\n",
       " 'HD 142022 A': Star(spectral_type='K0', stellar_effective_temperature=5421.0, stellar_radius=1.04, stellar_mass=0.9, stellar_luminosity=0.004, stellar_surface_gravity=4.35, stellar_age=7.0),\n",
       " 'HD 142245': Star(spectral_type='K0', stellar_effective_temperature=4922.0, stellar_radius=4.63, stellar_mass=3.5, stellar_luminosity=1.13, stellar_surface_gravity=3.65, stellar_age=2.3),\n",
       " 'HD 142415': Star(spectral_type='G1 V', stellar_effective_temperature=5940.0, stellar_radius=1.04, stellar_mass=1.07, stellar_luminosity=0.06, stellar_surface_gravity=4.44, stellar_age=1.1),\n",
       " 'HD 143105': Star(spectral_type='F5', stellar_effective_temperature=6380.0, stellar_radius=1.65, stellar_mass=1.51, stellar_luminosity=0.556, stellar_surface_gravity=4.37, stellar_age=None),\n",
       " 'HD 143361': Star(spectral_type='G6 V', stellar_effective_temperature=5507.0, stellar_radius=0.92, stellar_mass=0.97, stellar_luminosity=-0.092, stellar_surface_gravity=4.47, stellar_age=2.942),\n",
       " 'HD 144899': Star(spectral_type=None, stellar_effective_temperature=6126.0, stellar_radius=1.65, stellar_mass=1.16, stellar_luminosity=0.537, stellar_surface_gravity=4.07, stellar_age=None),\n",
       " 'HD 145377': Star(spectral_type='G3 V', stellar_effective_temperature=6014.0, stellar_radius=1.05, stellar_mass=1.2, stellar_luminosity=0.193, stellar_surface_gravity=4.47, stellar_age=1.3),\n",
       " 'HD 145457': Star(spectral_type='K0', stellar_effective_temperature=4769.0, stellar_radius=10.52, stellar_mass=1.23, stellar_luminosity=1.655, stellar_surface_gravity=2.48, stellar_age=2.605),\n",
       " 'HD 145934': Star(spectral_type='K0', stellar_effective_temperature=4823.75, stellar_radius=6.93, stellar_mass=2.06, stellar_luminosity=1.355, stellar_surface_gravity=3.01, stellar_age=1.56),\n",
       " 'HD 147379': Star(spectral_type='M1', stellar_effective_temperature=4156.0, stellar_radius=0.63, stellar_mass=0.6, stellar_luminosity=-0.971, stellar_surface_gravity=4.65, stellar_age=None),\n",
       " 'HD 147513': Star(spectral_type='G3/5V', stellar_effective_temperature=5883.0, stellar_radius=0.98, stellar_mass=1.11, stellar_luminosity=-0.01, stellar_surface_gravity=4.51, stellar_age=0.3),\n",
       " 'HD 14787': Star(spectral_type='G5', stellar_effective_temperature=4946.0, stellar_radius=5.01, stellar_mass=1.43, stellar_luminosity=1.115, stellar_surface_gravity=3.23, stellar_age=None),\n",
       " 'HD 148156': Star(spectral_type='G0/2 V', stellar_effective_temperature=6308.0, stellar_radius=1.21, stellar_mass=1.22, stellar_luminosity=0.25, stellar_surface_gravity=4.56, stellar_age=None),\n",
       " 'HD 148427': Star(spectral_type='K0 III/IV', stellar_effective_temperature=5025.0, stellar_radius=3.86, stellar_mass=1.64, stellar_luminosity=0.78, stellar_surface_gravity=3.48, stellar_age=2.5),\n",
       " 'HD 149026': Star(spectral_type='G0', stellar_effective_temperature=6179.0, stellar_radius=1.41, stellar_mass=1.42, stellar_luminosity=0.48, stellar_surface_gravity=4.37, stellar_age=2.6),\n",
       " 'HD 149143': Star(spectral_type='G0', stellar_effective_temperature=5856.0, stellar_radius=1.44, stellar_mass=1.2, stellar_luminosity=0.35, stellar_surface_gravity=4.25, stellar_age=4.28),\n",
       " 'HD 149806': Star(spectral_type='K0V', stellar_effective_temperature=5352.05, stellar_radius=0.89, stellar_mass=0.93, stellar_luminosity=-0.245, stellar_surface_gravity=4.51, stellar_age=8.36),\n",
       " 'HD 150010': Star(spectral_type='K2 III', stellar_effective_temperature=4153.0, stellar_radius=16.2, stellar_mass=1.3, stellar_luminosity=1.982, stellar_surface_gravity=2.1, stellar_age=4.9),\n",
       " 'HD 1502': Star(spectral_type='K0', stellar_effective_temperature=4947.0, stellar_radius=4.67, stellar_mass=1.46, stellar_luminosity=1.064, stellar_surface_gravity=3.18, stellar_age=2.4),\n",
       " 'HD 150706': Star(spectral_type='G0 V', stellar_effective_temperature=5961.0, stellar_radius=0.96, stellar_mass=1.17, stellar_luminosity=0.032, stellar_surface_gravity=4.5, stellar_age=3.0),\n",
       " 'HD 152079': Star(spectral_type='G6 V', stellar_effective_temperature=5907.0, stellar_radius=1.13, stellar_mass=1.15, stellar_luminosity=0.107, stellar_surface_gravity=4.37, stellar_age=1.622),\n",
       " 'HD 152581': Star(spectral_type='K0', stellar_effective_temperature=5027.0, stellar_radius=5.14, stellar_mass=1.3, stellar_luminosity=1.173, stellar_surface_gravity=3.29, stellar_age=12.0),\n",
       " 'HD 153950': Star(spectral_type='F8 V', stellar_effective_temperature=6124.0, stellar_radius=1.28, stellar_mass=1.25, stellar_luminosity=0.346, stellar_surface_gravity=4.32, stellar_age=4.3),\n",
       " 'HD 154088': Star(spectral_type='K0 IV-V', stellar_effective_temperature=5374.0, stellar_radius=0.95, stellar_mass=0.91, stellar_luminosity=-0.131, stellar_surface_gravity=4.37, stellar_age=8.0),\n",
       " 'HD 154345': Star(spectral_type='G8V', stellar_effective_temperature=5468.0, stellar_radius=0.85, stellar_mass=0.71, stellar_luminosity=-0.219, stellar_surface_gravity=4.43, stellar_age=9.527),\n",
       " 'HD 154672': Star(spectral_type='G3 IV', stellar_effective_temperature=5743.0, stellar_radius=1.32, stellar_mass=1.18, stellar_luminosity=0.257, stellar_surface_gravity=4.27, stellar_age=8.0),\n",
       " 'HD 155193': Star(spectral_type='F8 IV', stellar_effective_temperature=6239.0, stellar_radius=1.76, stellar_mass=1.22, stellar_luminosity=0.641, stellar_surface_gravity=4.26, stellar_age=None),\n",
       " 'HD 155233': Star(spectral_type='K1 III', stellar_effective_temperature=4960.0, stellar_radius=5.03, stellar_mass=1.69, stellar_luminosity=1.129, stellar_surface_gravity=3.17, stellar_age=None),\n",
       " 'HD 156411': Star(spectral_type='F8 IV/V', stellar_effective_temperature=5900.0, stellar_radius=2.16, stellar_mass=1.25, stellar_luminosity=0.731, stellar_surface_gravity=4.07, stellar_age=4.28),\n",
       " 'HD 156846': Star(spectral_type='G0 V', stellar_effective_temperature=6090.0, stellar_radius=1.9, stellar_mass=1.38, stellar_luminosity=0.697, stellar_surface_gravity=4.02, stellar_age=2.4),\n",
       " 'HD 158038': Star(spectral_type='K0', stellar_effective_temperature=4860.0, stellar_radius=4.5, stellar_mass=1.3, stellar_luminosity=1.076, stellar_surface_gravity=3.24, stellar_age=2.5),\n",
       " 'HD 158996': Star(spectral_type='K5 III', stellar_effective_temperature=4069.0, stellar_radius=50.3, stellar_mass=1.8, stellar_luminosity=3.015, stellar_surface_gravity=1.4, stellar_age=1.6),\n",
       " 'HD 161178': Star(spectral_type='G9 III', stellar_effective_temperature=4786.0, stellar_radius=10.95, stellar_mass=1.06, stellar_luminosity=1.751, stellar_surface_gravity=2.38, stellar_age=None),\n",
       " 'HD 16141': Star(spectral_type='G5 IV', stellar_effective_temperature=5757.0, stellar_radius=1.48, stellar_mass=1.11, stellar_luminosity=0.366, stellar_surface_gravity=4.14, stellar_age=7.51),\n",
       " 'HD 16175': Star(spectral_type='G0', stellar_effective_temperature=5981.0, stellar_radius=1.72, stellar_mass=1.63, stellar_luminosity=0.508, stellar_surface_gravity=4.18, stellar_age=3.3),\n",
       " 'HD 162020': Star(spectral_type='K3 V', stellar_effective_temperature=4723.0, stellar_radius=0.75, stellar_mass=0.42, stellar_luminosity=-0.602, stellar_surface_gravity=4.31, stellar_age=6.0),\n",
       " 'HD 16417': Star(spectral_type='G1 V', stellar_effective_temperature=5841.0, stellar_radius=1.64, stellar_mass=1.2, stellar_luminosity=0.443, stellar_surface_gravity=4.16, stellar_age=7.0),\n",
       " 'HD 164509': Star(spectral_type='G5', stellar_effective_temperature=5859.0, stellar_radius=1.11, stellar_mass=1.12, stellar_luminosity=0.12, stellar_surface_gravity=4.44, stellar_age=2.32),\n",
       " 'HD 164595': Star(spectral_type='G2 V', stellar_effective_temperature=5790.0, stellar_radius=1.02, stellar_mass=0.99, stellar_luminosity=0.017, stellar_surface_gravity=4.44, stellar_age=7.12),\n",
       " 'HD 164604': Star(spectral_type='K3.5 V', stellar_effective_temperature=4684.0, stellar_radius=0.77, stellar_mass=0.77, stellar_luminosity=-0.588, stellar_surface_gravity=4.62, stellar_age=None),\n",
       " 'HD 165155': Star(spectral_type='G8 V', stellar_effective_temperature=5426.0, stellar_radius=0.95, stellar_mass=1.02, stellar_luminosity=-0.155, stellar_surface_gravity=4.49, stellar_age=11.0),\n",
       " 'HD 1666': Star(spectral_type='F7 V', stellar_effective_temperature=6317.0, stellar_radius=1.93, stellar_mass=1.5, stellar_luminosity=0.73, stellar_surface_gravity=4.06, stellar_age=1.76),\n",
       " 'HD 166724': Star(spectral_type='K0 IV-V', stellar_effective_temperature=5127.0, stellar_radius=0.8, stellar_mass=0.81, stellar_luminosity=-0.509, stellar_surface_gravity=4.43, stellar_age=4.0),\n",
       " 'HD 167042': Star(spectral_type='K1 IV', stellar_effective_temperature=5010.0, stellar_radius=4.3, stellar_mass=1.72, stellar_luminosity=1.023, stellar_surface_gravity=3.29, stellar_age=2.2),\n",
       " 'HD 167768': Star(spectral_type='G8 III', stellar_effective_temperature=4851.0, stellar_radius=9.7, stellar_mass=1.08, stellar_luminosity=1.669, stellar_surface_gravity=2.5, stellar_age=5.31),\n",
       " 'HD 168009': Star(spectral_type='G2V', stellar_effective_temperature=5778.33, stellar_radius=1.21, stellar_mass=0.99, stellar_luminosity=0.15, stellar_surface_gravity=4.27, stellar_age=9.68),\n",
       " 'HD 168746': Star(spectral_type='G5', stellar_effective_temperature=5570.0, stellar_radius=1.09, stellar_mass=1.07, stellar_luminosity=0.041, stellar_surface_gravity=4.39, stellar_age=8.0),\n",
       " 'HD 168863': Star(spectral_type=None, stellar_effective_temperature=4905.0, stellar_radius=0.78, stellar_mass=0.8, stellar_luminosity=-0.501, stellar_surface_gravity=4.56, stellar_age=None),\n",
       " 'HD 1690': Star(spectral_type='K1 III', stellar_effective_temperature=4374.0, stellar_radius=21.66, stellar_mass=1.86, stellar_luminosity=1.52, stellar_surface_gravity=2.04, stellar_age=6.7),\n",
       " 'HD 16905': Star(spectral_type=None, stellar_effective_temperature=4866.12, stellar_radius=0.77, stellar_mass=0.79, stellar_luminosity=-0.518, stellar_surface_gravity=4.56, stellar_age=None),\n",
       " 'HD 169142': Star(spectral_type=None, stellar_effective_temperature=7246.0, stellar_radius=1.54, stellar_mass=1.85, stellar_luminosity=0.768, stellar_surface_gravity=4.28, stellar_age=0.006),\n",
       " 'HD 170469': Star(spectral_type='G5 IV', stellar_effective_temperature=5842.0, stellar_radius=1.24, stellar_mass=1.1, stellar_luminosity=0.204, stellar_surface_gravity=4.3, stellar_age=6.7),\n",
       " 'HD 17092': Star(spectral_type='K0 III', stellar_effective_temperature=4326.0, stellar_radius=13.58, stellar_mass=6.73, stellar_luminosity=1.756, stellar_surface_gravity=3.0, stellar_age=2.6),\n",
       " 'HD 171028': Star(spectral_type='G0', stellar_effective_temperature=5671.0, stellar_radius=2.47, stellar_mass=1.53, stellar_luminosity=0.733, stellar_surface_gravity=3.84, stellar_age=8.59),\n",
       " 'HD 171238': Star(spectral_type='G8 V', stellar_effective_temperature=5440.0, stellar_radius=1.01, stellar_mass=0.96, stellar_luminosity=-0.09, stellar_surface_gravity=4.43, stellar_age=7.56),\n",
       " 'HD 17156': Star(spectral_type='G5', stellar_effective_temperature=6040.0, stellar_radius=1.55, stellar_mass=1.41, stellar_luminosity=0.39, stellar_surface_gravity=4.2, stellar_age=3.37),\n",
       " 'HD 173416': Star(spectral_type='G8', stellar_effective_temperature=4683.0, stellar_radius=13.5, stellar_mass=2.0, stellar_luminosity=1.892, stellar_surface_gravity=2.48, stellar_age=1.73),\n",
       " 'HD 174205': Star(spectral_type='K2', stellar_effective_temperature=4308.0, stellar_radius=26.6, stellar_mass=1.8, stellar_luminosity=2.378, stellar_surface_gravity=1.8, stellar_age=1.7),\n",
       " 'HD 175167': Star(spectral_type='G5 IV/V', stellar_effective_temperature=5635.0, stellar_radius=1.75, stellar_mass=1.0, stellar_luminosity=0.456, stellar_surface_gravity=4.09, stellar_age=None),\n",
       " 'HD 175541': Star(spectral_type='G8 IV', stellar_effective_temperature=5013.0, stellar_radius=4.19, stellar_mass=1.39, stellar_luminosity=0.934, stellar_surface_gravity=3.33, stellar_age=1.9),\n",
       " 'HD 175607': Star(spectral_type='G6 V', stellar_effective_temperature=5392.0, stellar_radius=0.7, stellar_mass=0.71, stellar_luminosity=-0.271, stellar_surface_gravity=4.64, stellar_age=10.32),\n",
       " 'HD 17674': Star(spectral_type='G0 V', stellar_effective_temperature=5904.0, stellar_radius=1.18, stellar_mass=0.98, stellar_luminosity=0.205, stellar_surface_gravity=4.34, stellar_age=8.4),\n",
       " 'HD 177565': Star(spectral_type='G8V', stellar_effective_temperature=5627.0, stellar_radius=0.97, stellar_mass=1.0, stellar_luminosity=-0.054, stellar_surface_gravity=4.39, stellar_age=6.88),\n",
       " 'HD 178911 B': Star(spectral_type='G5', stellar_effective_temperature=5588.0, stellar_radius=1.08, stellar_mass=1.24, stellar_luminosity=-0.043, stellar_surface_gravity=4.46, stellar_age=None),\n",
       " 'HD 179079': Star(spectral_type='G5 IV', stellar_effective_temperature=5646.0, stellar_radius=1.63, stellar_mass=1.14, stellar_luminosity=0.38, stellar_surface_gravity=4.16, stellar_age=6.99),\n",
       " 'HD 179949': Star(spectral_type='F8 V', stellar_effective_temperature=6168.0, stellar_radius=1.27, stellar_mass=1.21, stellar_luminosity=0.301, stellar_surface_gravity=4.34, stellar_age=1.0),\n",
       " 'HD 180053': Star(spectral_type='K0', stellar_effective_temperature=5131.0, stellar_radius=4.06, stellar_mass=1.75, stellar_luminosity=1.099, stellar_surface_gravity=3.54, stellar_age=None),\n",
       " 'HD 18015': Star(spectral_type='G6 IV', stellar_effective_temperature=5603.0, stellar_radius=3.13, stellar_mass=1.49, stellar_luminosity=0.974, stellar_surface_gravity=3.64, stellar_age=None),\n",
       " 'HD 180314': Star(spectral_type='K0', stellar_effective_temperature=4924.0, stellar_radius=8.13, stellar_mass=2.2, stellar_luminosity=1.643, stellar_surface_gravity=2.96, stellar_age=1.295),\n",
       " 'HD 180617': Star(spectral_type='M2.5 V', stellar_effective_temperature=3534.0, stellar_radius=0.48, stellar_mass=0.48, stellar_luminosity=-1.49, stellar_surface_gravity=4.9, stellar_age=None),\n",
       " 'HD 180902': Star(spectral_type='K0 III/IV', stellar_effective_temperature=4961.0, stellar_radius=4.16, stellar_mass=1.41, stellar_luminosity=0.973, stellar_surface_gravity=3.36, stellar_age=2.8),\n",
       " 'HD 181234': Star(spectral_type='G5', stellar_effective_temperature=5386.0, stellar_radius=1.06, stellar_mass=0.94, stellar_luminosity=-0.099, stellar_surface_gravity=4.37, stellar_age=6.32),\n",
       " 'HD 181342': Star(spectral_type='K0 III', stellar_effective_temperature=4945.0, stellar_radius=4.71, stellar_mass=1.69, stellar_luminosity=1.079, stellar_surface_gravity=3.28, stellar_age=1.8),\n",
       " 'HD 181720': Star(spectral_type='G1 V', stellar_effective_temperature=5736.0, stellar_radius=1.5, stellar_mass=1.03, stellar_luminosity=0.288, stellar_surface_gravity=4.09, stellar_age=None),\n",
       " 'HD 183579': Star(spectral_type='G2 V', stellar_effective_temperature=5788.0, stellar_radius=0.99, stellar_mass=1.03, stellar_luminosity=0.012, stellar_surface_gravity=4.5, stellar_age=2.6),\n",
       " 'HD 185269': Star(spectral_type='G0 IV', stellar_effective_temperature=5923.0, stellar_radius=2.0, stellar_mass=1.3, stellar_luminosity=0.694, stellar_surface_gravity=3.92, stellar_age=4.0),\n",
       " 'HD 18599': Star(spectral_type='K2 V', stellar_effective_temperature=5145.0, stellar_radius=0.77, stellar_mass=0.86, stellar_luminosity=-0.429, stellar_surface_gravity=4.54, stellar_age=0.4),\n",
       " 'HD 187085': Star(spectral_type='G0 V', stellar_effective_temperature=6117.0, stellar_radius=1.27, stellar_mass=1.19, stellar_luminosity=2.13, stellar_surface_gravity=4.28, stellar_age=2.747),\n",
       " 'HD 18742': Star(spectral_type='G8/K0 IV', stellar_effective_temperature=4940.0, stellar_radius=5.13, stellar_mass=1.36, stellar_luminosity=1.143, stellar_surface_gravity=3.09, stellar_age=2.3),\n",
       " 'HD 188015': Star(spectral_type='G5 IV', stellar_effective_temperature=5746.0, stellar_radius=1.13, stellar_mass=1.09, stellar_luminosity=0.059, stellar_surface_gravity=4.45, stellar_age=6.61),\n",
       " 'HD 188641': Star(spectral_type=None, stellar_effective_temperature=5897.32, stellar_radius=1.94, stellar_mass=1.07, stellar_luminosity=0.615, stellar_surface_gravity=3.89, stellar_age=None),\n",
       " 'HD 189733': Star(spectral_type='K2 V', stellar_effective_temperature=5052.0, stellar_radius=0.75, stellar_mass=0.79, stellar_luminosity=-0.461, stellar_surface_gravity=4.49, stellar_age=1.4),\n",
       " 'HD 190007': Star(spectral_type='K3/4V', stellar_effective_temperature=4610.0, stellar_radius=0.79, stellar_mass=0.77, stellar_luminosity=-0.68, stellar_surface_gravity=4.58, stellar_age=1.0),\n",
       " 'HD 190228': Star(spectral_type=None, stellar_effective_temperature=5238.0, stellar_radius=2.59, stellar_mass=1.42, stellar_luminosity=0.657, stellar_surface_gravity=None, stellar_age=None),\n",
       " 'HD 190647': Star(spectral_type='G5 V', stellar_effective_temperature=5656.0, stellar_radius=1.38, stellar_mass=1.07, stellar_luminosity=0.297, stellar_surface_gravity=4.16, stellar_age=7.957),\n",
       " 'HD 190984': Star(spectral_type='F8 V', stellar_effective_temperature=5988.0, stellar_radius=1.53, stellar_mass=0.91, stellar_luminosity=0.43, stellar_surface_gravity=4.02, stellar_age=None),\n",
       " 'HD 191806': Star(spectral_type='K0', stellar_effective_temperature=6010.0, stellar_radius=1.4, stellar_mass=1.07, stellar_luminosity=0.348, stellar_surface_gravity=4.45, stellar_age=2.9),\n",
       " 'HD 192263': Star(spectral_type='K2 V', stellar_effective_temperature=4976.0, stellar_radius=0.74, stellar_mass=0.66, stellar_luminosity=-0.47, stellar_surface_gravity=4.51, stellar_age=2.09),\n",
       " 'HD 192699': Star(spectral_type='G8 IV', stellar_effective_temperature=5041.0, stellar_radius=4.41, stellar_mass=1.38, stellar_luminosity=1.009, stellar_surface_gravity=3.25, stellar_age=1.8),\n",
       " 'HD 194490': Star(spectral_type=None, stellar_effective_temperature=5861.32, stellar_radius=1.15, stellar_mass=1.06, stellar_luminosity=0.147, stellar_surface_gravity=4.34, stellar_age=None),\n",
       " 'HD 195019': Star(spectral_type='G3 IV-V', stellar_effective_temperature=5751.0, stellar_radius=1.48, stellar_mass=1.21, stellar_luminosity=0.333, stellar_surface_gravity=4.18, stellar_age=3.2),\n",
       " 'HD 196050': Star(spectral_type='G4 V', stellar_effective_temperature=5879.0, stellar_radius=1.42, stellar_mass=1.31, stellar_luminosity=0.26, stellar_surface_gravity=4.25, stellar_age=1.6),\n",
       " 'HD 196067': Star(spectral_type='G1 V', stellar_effective_temperature=6017.0, stellar_radius=1.73, stellar_mass=1.29, stellar_luminosity=0.572, stellar_surface_gravity=4.24, stellar_age=3.3),\n",
       " 'HD 19615': Star(spectral_type='K0', stellar_effective_temperature=4263.0, stellar_radius=32.3, stellar_mass=1.1, stellar_luminosity=2.515, stellar_surface_gravity=1.4, stellar_age=6.7),\n",
       " 'HD 196885 A': Star(spectral_type='F8 V', stellar_effective_temperature=6254.0, stellar_radius=1.31, stellar_mass=1.28, stellar_luminosity=0.38, stellar_surface_gravity=4.31, stellar_age=3.12),\n",
       " 'HD 197037': Star(spectral_type='F7 V', stellar_effective_temperature=6150.0, stellar_radius=1.1, stellar_mass=1.11, stellar_luminosity=0.239, stellar_surface_gravity=4.4, stellar_age=1.9),\n",
       " 'HD 199509': Star(spectral_type='G3V', stellar_effective_temperature=5796.02, stellar_radius=0.92, stellar_mass=1.04, stellar_luminosity=-0.084, stellar_surface_gravity=4.51, stellar_age=1.6),\n",
       " 'HD 19994': Star(spectral_type='F8 V', stellar_effective_temperature=6188.0, stellar_radius=1.8, stellar_mass=1.36, stellar_luminosity=0.58, stellar_surface_gravity=4.29, stellar_age=2.4),\n",
       " 'HD 202206': Star(spectral_type='G6 V', stellar_effective_temperature=5766.0, stellar_radius=1.04, stellar_mass=1.07, stellar_luminosity=0.035, stellar_surface_gravity=4.5, stellar_age=2.9),\n",
       " 'HD 202772 A': Star(spectral_type=None, stellar_effective_temperature=6272.0, stellar_radius=2.59, stellar_mass=1.72, stellar_luminosity=0.971, stellar_surface_gravity=3.85, stellar_age=1.7),\n",
       " 'HD 203030': Star(spectral_type='G8 V', stellar_effective_temperature=5603.0, stellar_radius=0.86, stellar_mass=0.94, stellar_luminosity=-0.227, stellar_surface_gravity=4.64, stellar_age=0.1),\n",
       " 'HD 20329': Star(spectral_type=None, stellar_effective_temperature=5596.0, stellar_radius=1.13, stellar_mass=0.9, stellar_luminosity=0.049, stellar_surface_gravity=4.4, stellar_age=11.0),\n",
       " 'HD 203473': Star(spectral_type='G5', stellar_effective_temperature=5780.0, stellar_radius=1.33, stellar_mass=1.12, stellar_luminosity=0.25, stellar_surface_gravity=4.09, stellar_age=5.22),\n",
       " 'HD 2039': Star(spectral_type='G2/G3 IV/V', stellar_effective_temperature=5945.0, stellar_radius=1.19, stellar_mass=1.23, stellar_luminosity=0.194, stellar_surface_gravity=4.38, stellar_age=6.0),\n",
       " 'HD 204941': Star(spectral_type='K1/2V', stellar_effective_temperature=5026.0, stellar_radius=0.78, stellar_mass=0.58, stellar_luminosity=-0.509, stellar_surface_gravity=4.42, stellar_age=6.67),\n",
       " 'HD 205158': Star(spectral_type=None, stellar_effective_temperature=6133.55, stellar_radius=1.88, stellar_mass=1.16, stellar_luminosity=0.653, stellar_surface_gravity=3.96, stellar_age=None),\n",
       " 'HD 205739': Star(spectral_type='F7 V', stellar_effective_temperature=6176.0, stellar_radius=1.33, stellar_mass=1.22, stellar_luminosity=0.36, stellar_surface_gravity=4.29, stellar_age=2.84),\n",
       " 'HD 206255': Star(spectral_type='G5 IV/V', stellar_effective_temperature=5635.0, stellar_radius=2.22, stellar_mass=1.42, stellar_luminosity=0.652, stellar_surface_gravity=3.75, stellar_age=None),\n",
       " 'HD 206610': Star(spectral_type='K0 III', stellar_effective_temperature=4842.0, stellar_radius=6.12, stellar_mass=1.55, stellar_luminosity=1.276, stellar_surface_gravity=3.22, stellar_age=3.0),\n",
       " 'HD 20782': Star(spectral_type='G1.5 V', stellar_effective_temperature=5782.13, stellar_radius=1.13, stellar_mass=1.04, stellar_luminosity=0.107, stellar_surface_gravity=4.35, stellar_age=5.53),\n",
       " 'HD 207897': Star(spectral_type='K0 V', stellar_effective_temperature=5070.0, stellar_radius=0.78, stellar_mass=0.8, stellar_luminosity=-0.444, stellar_surface_gravity=4.56, stellar_age=7.1),\n",
       " 'HD 208487': Star(spectral_type='G2 V', stellar_effective_temperature=6067.0, stellar_radius=1.2, stellar_mass=1.13, stellar_luminosity=0.244, stellar_surface_gravity=4.33, stellar_age=8.15),\n",
       " 'HD 208527': Star(spectral_type='M1 III', stellar_effective_temperature=4035.0, stellar_radius=51.1, stellar_mass=1.6, stellar_luminosity=2.863, stellar_surface_gravity=1.4, stellar_age=2.0),\n",
       " 'HD 20868': Star(spectral_type='K3/4 IV', stellar_effective_temperature=4802.0, stellar_radius=0.76, stellar_mass=0.39, stellar_luminosity=-0.529, stellar_surface_gravity=4.26, stellar_age=4.5),\n",
       " 'HD 208897': Star(spectral_type='K0', stellar_effective_temperature=4860.0, stellar_radius=4.98, stellar_mass=1.25, stellar_luminosity=1.09, stellar_surface_gravity=3.13, stellar_age=None),\n",
       " 'HD 209458': Star(spectral_type='G0 V', stellar_effective_temperature=6091.0, stellar_radius=1.19, stellar_mass=1.23, stellar_luminosity=0.231, stellar_surface_gravity=4.45, stellar_age=3.1),\n",
       " 'HD 210193': Star(spectral_type='G3 V', stellar_effective_temperature=5790.0, stellar_radius=1.06, stellar_mass=1.04, stellar_luminosity=0.056, stellar_surface_gravity=4.43, stellar_age=None),\n",
       " 'HD 210277': Star(spectral_type='G0 V', stellar_effective_temperature=5538.0, stellar_radius=1.07, stellar_mass=1.01, stellar_luminosity=-0.032, stellar_surface_gravity=4.38, stellar_age=12.0),\n",
       " 'HD 210702': Star(spectral_type='K1 III', stellar_effective_temperature=4951.0, stellar_radius=4.92, stellar_mass=1.61, stellar_luminosity=1.149, stellar_surface_gravity=3.28, stellar_age=2.1),\n",
       " 'HD 211403': Star(spectral_type='F7 V', stellar_effective_temperature=6273.0, stellar_radius=1.21, stellar_mass=1.2, stellar_luminosity=0.364, stellar_surface_gravity=4.3, stellar_age=None),\n",
       " 'HD 211810': Star(spectral_type='G5', stellar_effective_temperature=5652.0, stellar_radius=1.13, stellar_mass=1.03, stellar_luminosity=0.07, stellar_surface_gravity=4.26, stellar_age=None),\n",
       " 'HD 211970': Star(spectral_type='K7 V', stellar_effective_temperature=4127.0, stellar_radius=0.57, stellar_mass=0.61, stellar_luminosity=-1.065, stellar_surface_gravity=4.69, stellar_age=None),\n",
       " 'HD 212301': Star(spectral_type='F8 V', stellar_effective_temperature=6239.0, stellar_radius=1.16, stellar_mass=1.55, stellar_luminosity=0.243, stellar_surface_gravity=4.5, stellar_age=1.0),\n",
       " 'HD 212771': Star(spectral_type='G8 IV', stellar_effective_temperature=5003.0, stellar_radius=5.27, stellar_mass=1.56, stellar_luminosity=1.188, stellar_surface_gravity=3.31, stellar_age=6.0),\n",
       " 'HD 213240': Star(spectral_type='G0/1 V', stellar_effective_temperature=5979.0, stellar_radius=1.51, stellar_mass=1.57, stellar_luminosity=0.429, stellar_surface_gravity=4.27, stellar_age=4.6),\n",
       " 'HD 213472': Star(spectral_type=None, stellar_effective_temperature=5729.54, stellar_radius=1.43, stellar_mass=1.05, stellar_luminosity=0.285, stellar_surface_gravity=4.14, stellar_age=None),\n",
       " 'HD 213519': Star(spectral_type=None, stellar_effective_temperature=5840.0, stellar_radius=1.08, stellar_mass=1.05, stellar_luminosity=0.089, stellar_surface_gravity=4.39, stellar_age=None),\n",
       " 'HD 21411': Star(spectral_type='G8 V', stellar_effective_temperature=5605.0, stellar_radius=0.83, stellar_mass=0.89, stellar_luminosity=-0.266, stellar_surface_gravity=4.51, stellar_age=None),\n",
       " 'HD 214823': Star(spectral_type='G0', stellar_effective_temperature=6215.0, stellar_radius=2.04, stellar_mass=1.11, stellar_luminosity=0.638, stellar_surface_gravity=4.05, stellar_age=2.7),\n",
       " 'HD 216435': Star(spectral_type='G0 V', stellar_effective_temperature=5999.0, stellar_radius=1.8, stellar_mass=1.3, stellar_luminosity=0.557, stellar_surface_gravity=4.15, stellar_age=3.0),\n",
       " 'HD 216437': Star(spectral_type='G2/3IV', stellar_effective_temperature=5909.0, stellar_radius=1.39, stellar_mass=1.17, stellar_luminosity=0.35, stellar_surface_gravity=4.19, stellar_age=4.75),\n",
       " 'HD 216536': Star(spectral_type='K0', stellar_effective_temperature=4639.0, stellar_radius=9.83, stellar_mass=0.81, stellar_luminosity=1.8, stellar_surface_gravity=2.36, stellar_age=3.8),\n",
       " 'HD 216770': Star(spectral_type='G9 V CN+1', stellar_effective_temperature=5399.0, stellar_radius=0.93, stellar_mass=0.74, stellar_luminosity=-0.1, stellar_surface_gravity=4.37, stellar_age=3.1),\n",
       " 'HD 217850': Star(spectral_type='G8 V', stellar_effective_temperature=5544.0, stellar_radius=1.21, stellar_mass=1.03, stellar_luminosity=0.1, stellar_surface_gravity=4.17, stellar_age=7.59),\n",
       " 'HD 217958': Star(spectral_type=None, stellar_effective_temperature=5930.64, stellar_radius=1.33, stellar_mass=1.08, stellar_luminosity=0.292, stellar_surface_gravity=4.23, stellar_age=None),\n",
       " 'HD 218566': Star(spectral_type='K3V', stellar_effective_temperature=4730.0, stellar_radius=0.85, stellar_mass=0.76, stellar_luminosity=-0.452, stellar_surface_gravity=4.46, stellar_age=8.5),\n",
       " 'HD 219077': Star(spectral_type='G8 V', stellar_effective_temperature=5362.0, stellar_radius=1.91, stellar_mass=0.92, stellar_luminosity=0.425, stellar_surface_gravity=4.0, stellar_age=8.9),\n",
       " 'HD 219139': Star(spectral_type='G5 III', stellar_effective_temperature=4831.0, stellar_radius=11.22, stellar_mass=1.46, stellar_luminosity=1.795, stellar_surface_gravity=2.48, stellar_age=None),\n",
       " 'HD 219415': Star(spectral_type='K0 III', stellar_effective_temperature=4820.0, stellar_radius=2.9, stellar_mass=1.0, stellar_luminosity=0.62, stellar_surface_gravity=3.51, stellar_age=7.233),\n",
       " 'HD 219666': Star(spectral_type=None, stellar_effective_temperature=5527.0, stellar_radius=1.03, stellar_mass=0.92, stellar_luminosity=-0.028, stellar_surface_gravity=4.4, stellar_age=10.0),\n",
       " 'HD 220074': Star(spectral_type='M2 III', stellar_effective_temperature=3787.0, stellar_radius=54.92, stellar_mass=2.2, stellar_luminosity=2.894, stellar_surface_gravity=1.3, stellar_age=4.5),\n",
       " 'HD 220197': Star(spectral_type='G5', stellar_effective_temperature=5683.0, stellar_radius=0.98, stellar_mass=0.91, stellar_luminosity=-0.003, stellar_surface_gravity=4.42, stellar_age=10.165),\n",
       " 'HD 220689': Star(spectral_type='G3 V', stellar_effective_temperature=5921.0, stellar_radius=1.07, stellar_mass=1.02, stellar_luminosity=0.093, stellar_surface_gravity=4.36, stellar_age=4.586),\n",
       " 'HD 220773': Star(spectral_type='F9', stellar_effective_temperature=5940.0, stellar_radius=1.68, stellar_mass=1.16, stellar_luminosity=0.498, stellar_surface_gravity=4.24, stellar_age=4.4),\n",
       " 'HD 220842': Star(spectral_type='F8', stellar_effective_temperature=5960.0, stellar_radius=1.42, stellar_mass=1.13, stellar_luminosity=0.357, stellar_surface_gravity=4.24, stellar_age=None),\n",
       " 'HD 221287': Star(spectral_type='F7 V', stellar_effective_temperature=6304.0, stellar_radius=1.14, stellar_mass=1.25, stellar_luminosity=0.22, stellar_surface_gravity=4.43, stellar_age=1.3),\n",
       " 'HD 221416': Star(spectral_type='K0 IV/V', stellar_effective_temperature=5080.0, stellar_radius=2.94, stellar_mass=1.21, stellar_luminosity=0.712, stellar_surface_gravity=3.58, stellar_age=4.9),\n",
       " 'HD 221420': Star(spectral_type='G2 V', stellar_effective_temperature=5847.0, stellar_radius=1.95, stellar_mass=1.06, stellar_luminosity=0.603, stellar_surface_gravity=4.03, stellar_age=3.65),\n",
       " 'HD 221585': Star(spectral_type='G8 IV', stellar_effective_temperature=5620.0, stellar_radius=1.85, stellar_mass=1.19, stellar_luminosity=0.422, stellar_surface_gravity=4.05, stellar_age=6.2),\n",
       " 'HD 222076': Star(spectral_type='K0 III', stellar_effective_temperature=4806.0, stellar_radius=4.1, stellar_mass=1.07, stellar_luminosity=0.929, stellar_surface_gravity=3.31, stellar_age=None),\n",
       " 'HD 222155': Star(spectral_type='G2 V', stellar_effective_temperature=5701.0, stellar_radius=1.85, stellar_mass=1.21, stellar_luminosity=0.509, stellar_surface_gravity=3.99, stellar_age=8.2),\n",
       " 'HD 222582': Star(spectral_type='G5 V', stellar_effective_temperature=5790.0, stellar_radius=1.13, stellar_mass=1.12, stellar_luminosity=0.115, stellar_surface_gravity=4.38, stellar_age=10.24),\n",
       " 'HD 224538': Star(spectral_type='F9 IV/V', stellar_effective_temperature=6097.0, stellar_radius=1.54, stellar_mass=1.23, stellar_luminosity=0.47, stellar_surface_gravity=4.19, stellar_age=2.0),\n",
       " 'HD 224693': Star(spectral_type='G2 V', stellar_effective_temperature=5894.0, stellar_radius=1.93, stellar_mass=1.31, stellar_luminosity=0.61, stellar_surface_gravity=4.38, stellar_age=4.12),\n",
       " 'HD 22496': Star(spectral_type='K5/M0V', stellar_effective_temperature=4385.0, stellar_radius=0.67, stellar_mass=0.68, stellar_luminosity=-1.174, stellar_surface_gravity=4.69, stellar_age=None),\n",
       " 'HD 22532': Star(spectral_type='G8 III/IV', stellar_effective_temperature=5038.0, stellar_radius=5.69, stellar_mass=1.57, stellar_luminosity=1.274, stellar_surface_gravity=3.09, stellar_age=None),\n",
       " 'HD 22781': Star(spectral_type='K1', stellar_effective_temperature=5027.0, stellar_radius=0.74, stellar_mass=0.75, stellar_luminosity=-0.476, stellar_surface_gravity=4.6, stellar_age=4.8),\n",
       " 'HD 23079': Star(spectral_type='F9.5 V', stellar_effective_temperature=5974.0, stellar_radius=1.07, stellar_mass=1.12, stellar_luminosity=0.133, stellar_surface_gravity=4.43, stellar_age=2.0),\n",
       " 'HD 23127': Star(spectral_type='G2 V', stellar_effective_temperature=5843.0, stellar_radius=1.49, stellar_mass=1.21, stellar_luminosity=0.452, stellar_surface_gravity=4.15, stellar_age=4.508),\n",
       " 'HD 231701': Star(spectral_type='F8 V', stellar_effective_temperature=6101.0, stellar_radius=1.53, stellar_mass=1.21, stellar_luminosity=0.47, stellar_surface_gravity=4.31, stellar_age=3.43),\n",
       " 'HD 233604': Star(spectral_type='K5', stellar_effective_temperature=4791.0, stellar_radius=10.9, stellar_mass=1.5, stellar_luminosity=1.75, stellar_surface_gravity=2.55, stellar_age=2.4),\n",
       " 'HD 233832': Star(spectral_type='G0', stellar_effective_temperature=4981.0, stellar_radius=0.68, stellar_mass=0.71, stellar_luminosity=-0.523, stellar_surface_gravity=4.49, stellar_age=5.417),\n",
       " 'HD 23596': Star(spectral_type='F8 V', stellar_effective_temperature=6040.0, stellar_radius=1.53, stellar_mass=1.1, stellar_luminosity=0.458, stellar_surface_gravity=4.23, stellar_age=5.68),\n",
       " 'HD 238090': Star(spectral_type='M0.0 V', stellar_effective_temperature=3933.0, stellar_radius=0.57, stellar_mass=0.58, stellar_luminosity=-1.154, stellar_surface_gravity=4.7, stellar_age=None),\n",
       " 'HD 238914': Star(spectral_type='K7', stellar_effective_temperature=4769.0, stellar_radius=12.73, stellar_mass=1.47, stellar_luminosity=1.85, stellar_surface_gravity=2.37, stellar_age=None),\n",
       " 'HD 240210': Star(spectral_type='K3 III', stellar_effective_temperature=4297.0, stellar_radius=25.46, stellar_mass=0.82, stellar_luminosity=1.55, stellar_surface_gravity=2.31, stellar_age=5.085),\n",
       " 'HD 240237': Star(spectral_type='K2 III', stellar_effective_temperature=3926.0, stellar_radius=71.23, stellar_mass=8.76, stellar_luminosity=2.49, stellar_surface_gravity=1.67, stellar_age=4.42),\n",
       " 'HD 24064': Star(spectral_type='K0', stellar_effective_temperature=4052.0, stellar_radius=40.0, stellar_mass=1.61, stellar_luminosity=2.546, stellar_surface_gravity=1.44, stellar_age=9.0),\n",
       " 'HD 24085': Star(spectral_type='G0 V', stellar_effective_temperature=6034.0, stellar_radius=1.41, stellar_mass=1.22, stellar_luminosity=0.377, stellar_surface_gravity=4.2, stellar_age=None),\n",
       " 'HD 25015': Star(spectral_type='K1 V', stellar_effective_temperature=5160.0, stellar_radius=0.83, stellar_mass=0.86, stellar_luminosity=-0.384, stellar_surface_gravity=4.4, stellar_age=4.0),\n",
       " 'HD 25171': Star(spectral_type='F8 V', stellar_effective_temperature=6125.0, stellar_radius=1.23, stellar_mass=1.08, stellar_luminosity=0.276, stellar_surface_gravity=4.26, stellar_age=4.802),\n",
       " 'HD 25723': Star(spectral_type='K1 III', stellar_effective_temperature=4766.0, stellar_radius=13.76, stellar_mass=2.12, stellar_luminosity=1.944, stellar_surface_gravity=2.5, stellar_age=0.95),\n",
       " 'HD 26161': Star(spectral_type=None, stellar_effective_temperature=6057.62, stellar_radius=1.46, stellar_mass=1.13, stellar_luminosity=0.393, stellar_surface_gravity=4.16, stellar_age=None),\n",
       " 'HD 2638': Star(spectral_type='K1 V', stellar_effective_temperature=5186.0, stellar_radius=0.94, stellar_mass=0.77, stellar_luminosity=-0.33, stellar_surface_gravity=4.38, stellar_age=3.0),\n",
       " 'HD 2685': Star(spectral_type=None, stellar_effective_temperature=6801.0, stellar_radius=1.56, stellar_mass=1.43, stellar_luminosity=0.668, stellar_surface_gravity=4.21, stellar_age=1.31),\n",
       " 'HD 26965': Star(spectral_type='K0 V', stellar_effective_temperature=5072.0, stellar_radius=0.87, stellar_mass=0.78, stellar_luminosity=-0.34, stellar_surface_gravity=4.45, stellar_age=6.9),\n",
       " 'HD 27442': Star(spectral_type='K1/2III', stellar_effective_temperature=4846.0, stellar_radius=3.18, stellar_mass=1.23, stellar_luminosity=0.851, stellar_surface_gravity=3.78, stellar_age=10.0),\n",
       " 'HD 27631': Star(spectral_type='G3 IV-V', stellar_effective_temperature=5737.0, stellar_radius=0.92, stellar_mass=0.94, stellar_luminosity=-0.056, stellar_surface_gravity=4.46, stellar_age=4.01),\n",
       " 'HD 27969': Star(spectral_type='G0 V', stellar_effective_temperature=5966.0, stellar_radius=1.27, stellar_mass=1.16, stellar_luminosity=0.528, stellar_surface_gravity=4.12, stellar_age=None),\n",
       " 'HD 28192': Star(spectral_type=None, stellar_effective_temperature=5919.87, stellar_radius=1.07, stellar_mass=1.08, stellar_luminosity=0.103, stellar_surface_gravity=4.41, stellar_age=None),\n",
       " 'HD 28254': Star(spectral_type='G1 IV/V', stellar_effective_temperature=5664.0, stellar_radius=1.48, stellar_mass=1.06, stellar_luminosity=0.34, stellar_surface_gravity=4.12, stellar_age=None),\n",
       " 'HD 285507': Star(spectral_type='K4.5 V', stellar_effective_temperature=4503.0, stellar_radius=0.69, stellar_mass=0.82, stellar_luminosity=-0.719, stellar_surface_gravity=4.67, stellar_age=0.625),\n",
       " 'HD 285968': Star(spectral_type='M2 V', stellar_effective_temperature=3703.49, stellar_radius=0.48, stellar_mass=0.5, stellar_luminosity=-1.658, stellar_surface_gravity=4.75, stellar_age=3.62),\n",
       " 'HD 28678': Star(spectral_type='G8 IV', stellar_effective_temperature=4972.0, stellar_radius=6.48, stellar_mass=1.53, stellar_luminosity=1.36, stellar_surface_gravity=3.06, stellar_age=1.8),\n",
       " 'HD 29021': Star(spectral_type='G5', stellar_effective_temperature=5560.0, stellar_radius=0.85, stellar_mass=0.85, stellar_luminosity=-0.181, stellar_surface_gravity=4.44, stellar_age=7.4),\n",
       " 'HD 290327': Star(spectral_type='G8 V', stellar_effective_temperature=5505.0, stellar_radius=0.95, stellar_mass=0.84, stellar_luminosity=-0.14, stellar_surface_gravity=4.41, stellar_age=None),\n",
       " 'HD 29399': Star(spectral_type='K1 III', stellar_effective_temperature=4845.0, stellar_radius=4.5, stellar_mass=1.17, stellar_luminosity=1.002, stellar_surface_gravity=3.25, stellar_age=6.2),\n",
       " 'HD 2952': Star(spectral_type='K0 III', stellar_effective_temperature=4844.0, stellar_radius=10.76, stellar_mass=1.97, stellar_luminosity=1.85, stellar_surface_gravity=2.67, stellar_age=None),\n",
       " 'HD 29985': Star(spectral_type=None, stellar_effective_temperature=4678.0, stellar_radius=0.57, stellar_mass=0.75, stellar_luminosity=-0.846, stellar_surface_gravity=4.79, stellar_age=None),\n",
       " 'HD 30562': Star(spectral_type='F8 V', stellar_effective_temperature=5882.0, stellar_radius=1.61, stellar_mass=1.12, stellar_luminosity=0.45, stellar_surface_gravity=4.07, stellar_age=3.6),\n",
       " 'HD 30669': Star(spectral_type='G9 V', stellar_effective_temperature=5400.0, stellar_radius=0.91, stellar_mass=0.92, stellar_luminosity=-0.146, stellar_surface_gravity=4.37, stellar_age=4.8),\n",
       " 'HD 30856': Star(spectral_type='K0 III', stellar_effective_temperature=4895.0, stellar_radius=4.4, stellar_mass=1.17, stellar_luminosity=0.996, stellar_surface_gravity=3.2, stellar_age=3.8),\n",
       " 'HD 31253': Star(spectral_type='F8', stellar_effective_temperature=6130.0, stellar_radius=1.75, stellar_mass=1.7, stellar_luminosity=0.517, stellar_surface_gravity=4.18, stellar_age=3.0),\n",
       " 'HD 32518': Star(spectral_type='K1 III', stellar_effective_temperature=4580.0, stellar_radius=10.22, stellar_mass=1.13, stellar_luminosity=1.666, stellar_surface_gravity=2.1, stellar_age=5.83),\n",
       " 'HD 32963': Star(spectral_type='G5', stellar_effective_temperature=5727.0, stellar_radius=1.11, stellar_mass=0.94, stellar_luminosity=0.064, stellar_surface_gravity=4.41, stellar_age=4.99),\n",
       " 'HD 330075': Star(spectral_type='K1', stellar_effective_temperature=5000.0, stellar_radius=0.84, stellar_mass=0.47, stellar_luminosity=-0.33, stellar_surface_gravity=4.26, stellar_age=6.2),\n",
       " 'HD 331093': Star(spectral_type='K0', stellar_effective_temperature=5544.0, stellar_radius=1.11, stellar_mass=1.03, stellar_luminosity=0.006, stellar_surface_gravity=4.2, stellar_age=None),\n",
       " 'HD 332231': Star(spectral_type='F8', stellar_effective_temperature=6089.0, stellar_radius=1.28, stellar_mass=1.13, stellar_luminosity=0.305, stellar_surface_gravity=4.28, stellar_age=4.3),\n",
       " 'HD 33283': Star(spectral_type='G3/G5 V', stellar_effective_temperature=5935.0, stellar_radius=1.97, stellar_mass=1.38, stellar_luminosity=0.64, stellar_surface_gravity=4.12, stellar_age=3.63),\n",
       " 'HD 33564': Star(spectral_type='F6 V', stellar_effective_temperature=6250.0, stellar_radius=1.44, stellar_mass=1.25, stellar_luminosity=0.535, stellar_surface_gravity=4.0, stellar_age=3.0),\n",
       " 'HD 35759': Star(spectral_type='G0', stellar_effective_temperature=6060.0, stellar_radius=1.76, stellar_mass=1.15, stellar_luminosity=0.537, stellar_surface_gravity=4.24, stellar_age=None),\n",
       " 'HD 360': Star(spectral_type='G8 III', stellar_effective_temperature=4770.0, stellar_radius=10.86, stellar_mass=1.69, stellar_luminosity=1.742, stellar_surface_gravity=2.59, stellar_age=None),\n",
       " 'HD 3651': Star(spectral_type='K0 V', stellar_effective_temperature=5221.0, stellar_radius=0.87, stellar_mass=0.8, stellar_luminosity=-0.274, stellar_surface_gravity=4.45, stellar_age=3.0),\n",
       " 'HD 3765': Star(spectral_type='K2V', stellar_effective_temperature=5049.8, stellar_radius=0.83, stellar_mass=0.85, stellar_luminosity=-0.416, stellar_surface_gravity=4.53, stellar_age=2.0),\n",
       " 'HD 38283': Star(spectral_type='F9.5 V', stellar_effective_temperature=5981.0, stellar_radius=1.49, stellar_mass=1.37, stellar_luminosity=0.411, stellar_surface_gravity=4.23, stellar_age=6.2),\n",
       " 'HD 38801': Star(spectral_type='K0', stellar_effective_temperature=5338.0, stellar_radius=2.03, stellar_mass=1.21, stellar_luminosity=0.659, stellar_surface_gravity=3.88, stellar_age=6.072),\n",
       " 'HD 39855': Star(spectral_type='G8 V', stellar_effective_temperature=5576.0, stellar_radius=0.74, stellar_mass=0.87, stellar_luminosity=-0.316, stellar_surface_gravity=4.66, stellar_age=None),\n",
       " 'HD 40956': Star(spectral_type='K0', stellar_effective_temperature=4869.0, stellar_radius=8.56, stellar_mass=2.0, stellar_luminosity=1.664, stellar_surface_gravity=3.02, stellar_age=1.35),\n",
       " 'HD 40979': Star(spectral_type='F8 V', stellar_effective_temperature=6165.0, stellar_radius=1.21, stellar_mass=1.45, stellar_luminosity=0.291, stellar_surface_gravity=4.43, stellar_age=3.56),\n",
       " 'HD 41004 A': Star(spectral_type='K1/K2 V', stellar_effective_temperature=5310.0, stellar_radius=0.85, stellar_mass=0.95, stellar_luminosity=-0.293, stellar_surface_gravity=4.37, stellar_age=1.0),\n",
       " 'HD 41004 B': Star(spectral_type='M2 V', stellar_effective_temperature=5036.0, stellar_radius=1.04, stellar_mass=0.4, stellar_luminosity=-0.202, stellar_surface_gravity=4.33, stellar_age=None),\n",
       " 'HD 4113': Star(spectral_type='G5', stellar_effective_temperature=5688.0, stellar_radius=1.08, stellar_mass=1.01, stellar_luminosity=0.086, stellar_surface_gravity=4.4, stellar_age=6.4),\n",
       " 'HD 42012': Star(spectral_type='K0', stellar_effective_temperature=5405.0, stellar_radius=0.82, stellar_mass=0.83, stellar_luminosity=-0.27, stellar_surface_gravity=4.45, stellar_age=4.1),\n",
       " 'HD 4208': Star(spectral_type='G7 V Fe-1 CH-0.5', stellar_effective_temperature=5717.0, stellar_radius=0.85, stellar_mass=0.88, stellar_luminosity=-0.1, stellar_surface_gravity=4.5, stellar_age=3.813),\n",
       " 'HD 42618': Star(spectral_type='G4 V', stellar_effective_temperature=5727.0, stellar_radius=1.0, stellar_mass=1.01, stellar_luminosity=-0.009, stellar_surface_gravity=4.44, stellar_age=3.72),\n",
       " 'HD 4308': Star(spectral_type='G5V', stellar_effective_temperature=5686.0, stellar_radius=1.02, stellar_mass=0.93, stellar_luminosity=-0.004, stellar_surface_gravity=4.39, stellar_age=4.3),\n",
       " 'HD 4313': Star(spectral_type='G5', stellar_effective_temperature=4943.0, stellar_radius=5.14, stellar_mass=1.63, stellar_luminosity=1.149, stellar_surface_gravity=3.24, stellar_age=2.0),\n",
       " 'HD 43691': Star(spectral_type='G0', stellar_effective_temperature=6093.0, stellar_radius=1.6, stellar_mass=1.32, stellar_luminosity=0.5, stellar_surface_gravity=4.28, stellar_age=2.39),\n",
       " 'HD 44219': Star(spectral_type='G2 V', stellar_effective_temperature=5752.0, stellar_radius=1.32, stellar_mass=1.0, stellar_luminosity=0.26, stellar_surface_gravity=4.21, stellar_age=None),\n",
       " 'HD 45350': Star(spectral_type='G5 V', stellar_effective_temperature=5566.0, stellar_radius=1.26, stellar_mass=0.98, stellar_luminosity=0.141, stellar_surface_gravity=4.23, stellar_age=8.0),\n",
       " 'HD 45652': Star(spectral_type='G8/K0', stellar_effective_temperature=5294.0, stellar_radius=0.94, stellar_mass=0.92, stellar_luminosity=-0.2, stellar_surface_gravity=4.2, stellar_age=8.4),\n",
       " 'HD 457': Star(spectral_type=None, stellar_effective_temperature=6114.04, stellar_radius=1.28, stellar_mass=1.15, stellar_luminosity=0.316, stellar_surface_gravity=4.28, stellar_age=None),\n",
       " 'HD 46375': Star(spectral_type='K1 IV-V', stellar_effective_temperature=5285.0, stellar_radius=0.91, stellar_mass=0.92, stellar_luminosity=-0.245, stellar_surface_gravity=4.53, stellar_age=9.0),\n",
       " 'HD 47536': Star(spectral_type='K1 III', stellar_effective_temperature=4380.0, stellar_radius=23.47, stellar_mass=2.1, stellar_luminosity=2.248, stellar_surface_gravity=2.13, stellar_age=10.15),\n",
       " 'HD 4760': Star(spectral_type='K2', stellar_effective_temperature=4076.0, stellar_radius=42.4, stellar_mass=1.05, stellar_luminosity=2.93, stellar_surface_gravity=1.62, stellar_age=None),\n",
       " 'HD 48265': Star(spectral_type='G5 IV/V', stellar_effective_temperature=5733.0, stellar_radius=1.9, stellar_mass=1.31, stellar_luminosity=0.584, stellar_surface_gravity=3.97, stellar_age=4.201),\n",
       " 'HD 4917': Star(spectral_type='K0 III/IV', stellar_effective_temperature=4802.0, stellar_radius=5.01, stellar_mass=1.32, stellar_luminosity=1.456, stellar_surface_gravity=2.97, stellar_age=None),\n",
       " 'HD 49674': Star(spectral_type='G5 V', stellar_effective_temperature=5602.0, stellar_radius=1.02, stellar_mass=1.03, stellar_luminosity=-0.022, stellar_surface_gravity=4.44, stellar_age=3.62),\n",
       " 'HD 50554': Star(spectral_type='F8 V', stellar_effective_temperature=5987.0, stellar_radius=1.02, stellar_mass=1.04, stellar_luminosity=0.143, stellar_surface_gravity=4.33, stellar_age=2.16),\n",
       " 'HD 52265': Star(spectral_type='G0V', stellar_effective_temperature=6136.0, stellar_radius=1.32, stellar_mass=1.2, stellar_luminosity=0.297, stellar_surface_gravity=4.36, stellar_age=3.5),\n",
       " 'HD 55696': Star(spectral_type='G0 V', stellar_effective_temperature=6012.0, stellar_radius=1.52, stellar_mass=1.29, stellar_luminosity=0.43, stellar_surface_gravity=4.03, stellar_age=2.64),\n",
       " 'HD 5583': Star(spectral_type=None, stellar_effective_temperature=4830.0, stellar_radius=9.09, stellar_mass=1.01, stellar_luminosity=1.61, stellar_surface_gravity=2.53, stellar_age=7.41),\n",
       " 'HD 5608': Star(spectral_type='K0', stellar_effective_temperature=4877.0, stellar_radius=5.14, stellar_mass=1.53, stellar_luminosity=1.179, stellar_surface_gravity=3.19, stellar_age=1.72),\n",
       " 'HD 564': Star(spectral_type='G2/G3 V', stellar_effective_temperature=5902.0, stellar_radius=1.01, stellar_mass=0.96, stellar_luminosity=0.019, stellar_surface_gravity=4.53, stellar_age=5.5),\n",
       " 'HD 56414': Star(spectral_type=None, stellar_effective_temperature=8500.0, stellar_radius=1.75, stellar_mass=1.89, stellar_luminosity=1.158, stellar_surface_gravity=4.26, stellar_age=0.42),\n",
       " 'HD 56957': Star(spectral_type=None, stellar_effective_temperature=5743.0, stellar_radius=1.78, stellar_mass=1.03, stellar_luminosity=0.491, stellar_surface_gravity=3.95, stellar_age=None),\n",
       " 'HD 5891': Star(spectral_type='G5', stellar_effective_temperature=4673.0, stellar_radius=10.64, stellar_mass=1.93, stellar_luminosity=1.595, stellar_surface_gravity=2.67, stellar_age=1.5),\n",
       " 'HD 59686 A': Star(spectral_type='K2 III', stellar_effective_temperature=4658.0, stellar_radius=13.2, stellar_mass=1.9, stellar_luminosity=1.822, stellar_surface_gravity=2.49, stellar_age=1.73),\n",
       " 'HD 60292': Star(spectral_type='K0 III', stellar_effective_temperature=4348.0, stellar_radius=27.0, stellar_mass=1.7, stellar_luminosity=2.394, stellar_surface_gravity=1.9, stellar_age=1.8),\n",
       " 'HD 62509': Star(spectral_type='K0IIIvar', stellar_effective_temperature=4892.63, stellar_radius=8.9, stellar_mass=2.0, stellar_luminosity=1.612, stellar_surface_gravity=2.78, stellar_age=0.98),\n",
       " 'HD 62549': Star(spectral_type=None, stellar_effective_temperature=5930.46, stellar_radius=1.23, stellar_mass=1.08, stellar_luminosity=0.228, stellar_surface_gravity=4.29, stellar_age=None),\n",
       " 'HD 63454': Star(spectral_type='K4 V', stellar_effective_temperature=4812.0, stellar_radius=0.77, stellar_mass=0.42, stellar_luminosity=-0.592, stellar_surface_gravity=4.28, stellar_age=1.0),\n",
       " 'HD 63765': Star(spectral_type='G9 V', stellar_effective_temperature=5449.0, stellar_radius=0.83, stellar_mass=0.65, stellar_luminosity=-0.256, stellar_surface_gravity=4.41, stellar_age=4.77),\n",
       " 'HD 64114': Star(spectral_type='G7 V', stellar_effective_temperature=5676.0, stellar_radius=0.88, stellar_mass=0.95, stellar_luminosity=-0.137, stellar_surface_gravity=4.52, stellar_age=None),\n",
       " 'HD 64121': Star(spectral_type='G8/K0 III', stellar_effective_temperature=5078.0, stellar_radius=5.44, stellar_mass=1.64, stellar_luminosity=1.248, stellar_surface_gravity=3.19, stellar_age=None),\n",
       " 'HD 6434': Star(spectral_type='G2/3 V', stellar_effective_temperature=5769.0, stellar_radius=1.12, stellar_mass=1.1, stellar_luminosity=0.05, stellar_surface_gravity=4.38, stellar_age=11.27),\n",
       " 'HD 66141': Star(spectral_type='K2 III', stellar_effective_temperature=4323.0, stellar_radius=21.4, stellar_mass=1.1, stellar_luminosity=2.24, stellar_surface_gravity=1.78, stellar_age=6.84),\n",
       " 'HD 6718': Star(spectral_type='G5 V', stellar_effective_temperature=5801.0, stellar_radius=0.95, stellar_mass=1.08, stellar_luminosity=0.053, stellar_surface_gravity=4.51, stellar_age=None),\n",
       " 'HD 68402': Star(spectral_type='G5 IV/V', stellar_effective_temperature=5950.0, stellar_radius=1.02, stellar_mass=1.12, stellar_luminosity=0.068, stellar_surface_gravity=4.47, stellar_age=2.0),\n",
       " 'HD 69123': Star(spectral_type='K1 III', stellar_effective_temperature=4842.0, stellar_radius=7.72, stellar_mass=1.68, stellar_luminosity=1.47, stellar_surface_gravity=2.86, stellar_age=None),\n",
       " 'HD 70573': Star(spectral_type='G1-1.5 V', stellar_effective_temperature=5737.0, stellar_radius=0.98, stellar_mass=1.0, stellar_luminosity=-0.001, stellar_surface_gravity=4.59, stellar_age=0.102),\n",
       " 'HD 70642': Star(spectral_type='G5', stellar_effective_temperature=5732.0, stellar_radius=0.98, stellar_mass=1.08, stellar_luminosity=0.012, stellar_surface_gravity=4.46, stellar_age=0.919),\n",
       " 'HD 7199': Star(spectral_type='K1 IV', stellar_effective_temperature=5371.0, stellar_radius=0.97, stellar_mass=0.77, stellar_luminosity=-0.155, stellar_surface_gravity=4.35, stellar_age=6.79),\n",
       " 'HD 72490': Star(spectral_type='G5', stellar_effective_temperature=4934.0, stellar_radius=4.96, stellar_mass=1.21, stellar_luminosity=1.091, stellar_surface_gravity=3.21, stellar_age=None),\n",
       " 'HD 72892': Star(spectral_type='G5 V', stellar_effective_temperature=5688.0, stellar_radius=1.22, stellar_mass=1.01, stellar_luminosity=0.146, stellar_surface_gravity=4.27, stellar_age=8.0),\n",
       " 'HD 73534': Star(spectral_type='G5', stellar_effective_temperature=4917.0, stellar_radius=2.58, stellar_mass=1.16, stellar_luminosity=0.522, stellar_surface_gravity=3.6, stellar_age=7.04),\n",
       " 'HD 7449': Star(spectral_type='F9.5 V', stellar_effective_temperature=6024.0, stellar_radius=0.97, stellar_mass=1.2, stellar_luminosity=0.101, stellar_surface_gravity=4.52, stellar_age=2.1),\n",
       " 'HD 75289': Star(spectral_type='G0', stellar_effective_temperature=6117.0, stellar_radius=1.23, stellar_mass=1.29, stellar_luminosity=0.312, stellar_surface_gravity=4.37, stellar_age=5.6),\n",
       " 'HD 75898': Star(spectral_type='G0', stellar_effective_temperature=5963.0, stellar_radius=1.58, stellar_mass=1.26, stellar_luminosity=0.46, stellar_surface_gravity=4.21, stellar_age=3.56),\n",
       " 'HD 76700': Star(spectral_type='G6 V', stellar_effective_temperature=5644.0, stellar_radius=1.37, stellar_mass=0.99, stellar_luminosity=0.257, stellar_surface_gravity=4.16, stellar_age=11.0),\n",
       " 'HD 76920': Star(spectral_type='K1 III', stellar_effective_temperature=4698.0, stellar_radius=7.47, stellar_mass=1.17, stellar_luminosity=1.38, stellar_surface_gravity=2.94, stellar_age=7.1),\n",
       " 'HD 77338': Star(spectral_type='K0 IV', stellar_effective_temperature=5341.0, stellar_radius=0.97, stellar_mass=1.37, stellar_luminosity=-0.26, stellar_surface_gravity=4.6, stellar_age=None),\n",
       " 'HD 79181': Star(spectral_type='G8 III', stellar_effective_temperature=4862.0, stellar_radius=11.06, stellar_mass=1.28, stellar_luminosity=1.79, stellar_surface_gravity=2.45, stellar_age=None),\n",
       " 'HD 79498': Star(spectral_type='G5', stellar_effective_temperature=5748.0, stellar_radius=1.05, stellar_mass=1.08, stellar_luminosity=0.03, stellar_surface_gravity=4.37, stellar_age=2.71),\n",
       " 'HD 80606': Star(spectral_type='G5', stellar_effective_temperature=5561.0, stellar_radius=1.04, stellar_mass=1.15, stellar_luminosity=-0.002, stellar_surface_gravity=4.42, stellar_age=5.9),\n",
       " 'HD 80653': Star(spectral_type='G2', stellar_effective_temperature=5910.0, stellar_radius=1.22, stellar_mass=1.18, stellar_luminosity=0.24, stellar_surface_gravity=4.34, stellar_age=2.67),\n",
       " 'HD 80869': Star(spectral_type='G1 V', stellar_effective_temperature=5837.0, stellar_radius=1.06, stellar_mass=1.06, stellar_luminosity=0.4, stellar_surface_gravity=4.18, stellar_age=None),\n",
       " 'HD 80883': Star(spectral_type=None, stellar_effective_temperature=5177.91, stellar_radius=0.81, stellar_mass=0.88, stellar_luminosity=-0.367, stellar_surface_gravity=4.56, stellar_age=None),\n",
       " 'HD 80913': Star(spectral_type=None, stellar_effective_temperature=6013.24, stellar_radius=1.65, stellar_mass=1.11, stellar_luminosity=0.508, stellar_surface_gravity=4.05, stellar_age=None),\n",
       " 'HD 81040': Star(spectral_type='G2/G3', stellar_effective_temperature=5755.0, stellar_radius=0.91, stellar_mass=1.03, stellar_luminosity=-0.077, stellar_surface_gravity=4.54, stellar_age=0.73),\n",
       " 'HD 81688': Star(spectral_type='G5', stellar_effective_temperature=4753.0, stellar_radius=13.0, stellar_mass=2.1, stellar_luminosity=1.857, stellar_surface_gravity=2.22, stellar_age=1.48),\n",
       " 'HD 82886': Star(spectral_type='G0', stellar_effective_temperature=4953.0, stellar_radius=5.26, stellar_mass=2.53, stellar_luminosity=1.143, stellar_surface_gravity=3.4, stellar_age=7.0),\n",
       " 'HD 8326': Star(spectral_type='K2 V', stellar_effective_temperature=4914.0, stellar_radius=0.78, stellar_mass=0.8, stellar_luminosity=-0.492, stellar_surface_gravity=4.55, stellar_age=None),\n",
       " 'HD 8535': Star(spectral_type='G0 V', stellar_effective_temperature=6136.0, stellar_radius=1.19, stellar_mass=1.13, stellar_luminosity=0.333, stellar_surface_gravity=4.46, stellar_age=None),\n",
       " 'HD 85390': Star(spectral_type='K1.5 V', stellar_effective_temperature=5186.0, stellar_radius=0.8, stellar_mass=0.76, stellar_luminosity=-0.367, stellar_surface_gravity=4.41, stellar_age=7.2),\n",
       " 'HD 85512': Star(spectral_type='K5 V', stellar_effective_temperature=4300.0, stellar_radius=0.71, stellar_mass=0.43, stellar_luminosity=-0.775, stellar_surface_gravity=4.36, stellar_age=5.61),\n",
       " 'HD 8574': Star(spectral_type='F8', stellar_effective_temperature=6064.0, stellar_radius=1.38, stellar_mass=1.34, stellar_luminosity=0.376, stellar_surface_gravity=4.28, stellar_age=5.6),\n",
       " 'HD 86065': Star(spectral_type=None, stellar_effective_temperature=4927.56, stellar_radius=0.78, stellar_mass=0.81, stellar_luminosity=-0.49, stellar_surface_gravity=4.56, stellar_age=None),\n",
       " 'HD 86081': Star(spectral_type='F8', stellar_effective_temperature=5939.0, stellar_radius=1.46, stellar_mass=1.21, stellar_luminosity=0.38, stellar_surface_gravity=4.18, stellar_age=3.61),\n",
       " 'HD 86264': Star(spectral_type='F7 V', stellar_effective_temperature=6210.0, stellar_radius=1.88, stellar_mass=1.26, stellar_luminosity=0.66, stellar_surface_gravity=4.02, stellar_age=2.24),\n",
       " 'HD 8673': Star(spectral_type='F5', stellar_effective_temperature=6389.05, stellar_radius=1.5, stellar_mass=1.28, stellar_luminosity=0.53, stellar_surface_gravity=4.19, stellar_age=None),\n",
       " 'HD 86950': Star(spectral_type='K1 III', stellar_effective_temperature=4805.0, stellar_radius=8.8, stellar_mass=1.66, stellar_luminosity=1.56, stellar_surface_gravity=2.66, stellar_age=None),\n",
       " 'HD 87646': Star(spectral_type='G', stellar_effective_temperature=5770.0, stellar_radius=1.55, stellar_mass=1.12, stellar_luminosity=0.96, stellar_surface_gravity=4.1, stellar_age=None),\n",
       " 'HD 87883': Star(spectral_type='K0', stellar_effective_temperature=4980.0, stellar_radius=0.8, stellar_mass=0.81, stellar_luminosity=-0.471, stellar_surface_gravity=4.55, stellar_age=7.6),\n",
       " 'HD 88072': Star(spectral_type=None, stellar_effective_temperature=5785.33, stellar_radius=1.03, stellar_mass=1.04, stellar_luminosity=0.031, stellar_surface_gravity=4.43, stellar_age=None),\n",
       " 'HD 88133': Star(spectral_type='G5', stellar_effective_temperature=5392.0, stellar_radius=2.2, stellar_mass=1.26, stellar_luminosity=0.497, stellar_surface_gravity=3.88, stellar_age=5.37),\n",
       " 'HD 89307': Star(spectral_type='G0', stellar_effective_temperature=5955.0, stellar_radius=1.1, stellar_mass=1.27, stellar_luminosity=0.131, stellar_surface_gravity=4.46, stellar_age=2.31),\n",
       " 'HD 89345': Star(spectral_type='G5', stellar_effective_temperature=5576.0, stellar_radius=1.75, stellar_mass=1.16, stellar_luminosity=0.425, stellar_surface_gravity=4.02, stellar_age=7.53),\n",
       " 'HD 89744': Star(spectral_type='F7 V', stellar_effective_temperature=6291.0, stellar_radius=2.13, stellar_mass=1.86, stellar_luminosity=0.796, stellar_surface_gravity=4.07, stellar_age=1.88),\n",
       " 'HD 90156': Star(spectral_type='G5V', stellar_effective_temperature=5599.0, stellar_radius=0.92, stellar_mass=0.84, stellar_luminosity=-0.143, stellar_surface_gravity=4.48, stellar_age=4.4),\n",
       " 'HD 9174': Star(spectral_type='G8 IV', stellar_effective_temperature=5577.0, stellar_radius=1.67, stellar_mass=1.03, stellar_luminosity=0.382, stellar_surface_gravity=4.03, stellar_age=9.0),\n",
       " 'HD 93083': Star(spectral_type='K3 V', stellar_effective_temperature=4995.0, stellar_radius=0.85, stellar_mass=0.7, stellar_luminosity=-0.387, stellar_surface_gravity=4.26, stellar_age=1.0),\n",
       " 'HD 94834': Star(spectral_type='K0', stellar_effective_temperature=4798.0, stellar_radius=4.2, stellar_mass=1.11, stellar_luminosity=0.993, stellar_surface_gravity=3.22, stellar_age=None),\n",
       " 'HD 95086': Star(spectral_type='A8 III', stellar_effective_temperature=7595.0, stellar_radius=1.49, stellar_mass=1.6, stellar_luminosity=0.821, stellar_surface_gravity=4.34, stellar_age=0.017),\n",
       " 'HD 95127': Star(spectral_type='K0', stellar_effective_temperature=4218.0, stellar_radius=41.01, stellar_mass=3.7, stellar_luminosity=2.28, stellar_surface_gravity=1.78, stellar_age=5.5),\n",
       " 'HD 95338': Star(spectral_type='K0.5 V', stellar_effective_temperature=5212.0, stellar_radius=0.87, stellar_mass=0.83, stellar_luminosity=-0.31, stellar_surface_gravity=4.54, stellar_age=5.08),\n",
       " 'HD 95544': Star(spectral_type='G3 V', stellar_effective_temperature=5722.0, stellar_radius=1.09, stellar_mass=1.01, stellar_luminosity=0.478, stellar_surface_gravity=4.07, stellar_age=None),\n",
       " 'HD 95872': Star(spectral_type='K0 V', stellar_effective_temperature=5312.0, stellar_radius=0.84, stellar_mass=0.7, stellar_luminosity=-0.242, stellar_surface_gravity=4.43, stellar_age=10.0),\n",
       " 'HD 96063': Star(spectral_type='G6 V', stellar_effective_temperature=5020.0, stellar_radius=4.75, stellar_mass=1.37, stellar_luminosity=1.104, stellar_surface_gravity=3.33, stellar_age=9.0),\n",
       " 'HD 96127': Star(spectral_type='K2 III', stellar_effective_temperature=3943.0, stellar_radius=51.1, stellar_mass=10.94, stellar_luminosity=2.86, stellar_surface_gravity=2.06, stellar_age=4.067),\n",
       " 'HD 96167': Star(spectral_type='G5', stellar_effective_temperature=5733.0, stellar_radius=1.94, stellar_mass=1.27, stellar_luminosity=0.57, stellar_surface_gravity=3.99, stellar_age=4.85),\n",
       " 'HD 96992': Star(spectral_type='K0', stellar_effective_temperature=4725.0, stellar_radius=7.43, stellar_mass=0.96, stellar_luminosity=1.47, stellar_surface_gravity=2.76, stellar_age=None),\n",
       " 'HD 97037': Star(spectral_type=None, stellar_effective_temperature=5874.1, stellar_radius=1.26, stellar_mass=1.06, stellar_luminosity=0.234, stellar_surface_gravity=4.26, stellar_age=None),\n",
       " 'HD 97048': Star(spectral_type='Be9.5/AO', stellar_effective_temperature=10000.0, stellar_radius=2.25, stellar_mass=2.4, stellar_luminosity=1.602, stellar_surface_gravity=4.14, stellar_age=0.003),\n",
       " 'HD 97658': Star(spectral_type='K1 V', stellar_effective_temperature=5212.0, stellar_radius=0.73, stellar_mass=0.85, stellar_luminosity=-0.455, stellar_surface_gravity=4.64, stellar_age=3.9),\n",
       " 'HD 98219': Star(spectral_type='K0 III/IV', stellar_effective_temperature=4925.0, stellar_radius=4.6, stellar_mass=1.41, stellar_luminosity=1.049, stellar_surface_gravity=3.36, stellar_age=4.0),\n",
       " 'HD 98649': Star(spectral_type='G3/G5 V', stellar_effective_temperature=5759.0, stellar_radius=1.01, stellar_mass=1.02, stellar_luminosity=-0.014, stellar_surface_gravity=4.38, stellar_age=4.44),\n",
       " 'HD 98736': Star(spectral_type='G5', stellar_effective_temperature=5271.0, stellar_radius=0.93, stellar_mass=0.92, stellar_luminosity=-0.22, stellar_surface_gravity=4.47, stellar_age=7.39),\n",
       " 'HD 99109': Star(spectral_type='G8/K0 IV', stellar_effective_temperature=5282.0, stellar_radius=0.98, stellar_mass=0.76, stellar_luminosity=-0.172, stellar_surface_gravity=4.34, stellar_age=1.0),\n",
       " 'HD 99283': Star(spectral_type='K0 III', stellar_effective_temperature=4886.0, stellar_radius=11.21, stellar_mass=1.76, stellar_luminosity=1.81, stellar_surface_gravity=2.57, stellar_age=None),\n",
       " 'HD 99492': Star(spectral_type='K2 V', stellar_effective_temperature=4815.0, stellar_radius=0.83, stellar_mass=0.48, stellar_luminosity=-0.475, stellar_surface_gravity=4.28, stellar_age=4.8),\n",
       " 'HIP 105854': Star(spectral_type='K2 III', stellar_effective_temperature=4780.0, stellar_radius=10.31, stellar_mass=2.1, stellar_luminosity=1.67, stellar_surface_gravity=2.94, stellar_age=None),\n",
       " 'HIP 107772': Star(spectral_type='M0 V', stellar_effective_temperature=4006.0, stellar_radius=0.51, stellar_mass=0.63, stellar_luminosity=-1.163, stellar_surface_gravity=4.73, stellar_age=None),\n",
       " 'HIP 107773': Star(spectral_type='K1 III', stellar_effective_temperature=4945.0, stellar_radius=11.6, stellar_mass=2.42, stellar_luminosity=1.87, stellar_surface_gravity=2.6, stellar_age=None),\n",
       " 'HIP 109384': Star(spectral_type='G5', stellar_effective_temperature=5180.0, stellar_radius=0.83, stellar_mass=0.78, stellar_luminosity=-0.319, stellar_surface_gravity=4.43, stellar_age=None),\n",
       " 'HIP 109600': Star(spectral_type='G5', stellar_effective_temperature=5530.0, stellar_radius=0.97, stellar_mass=0.87, stellar_luminosity=-0.079, stellar_surface_gravity=4.45, stellar_age=None),\n",
       " 'HIP 114933': Star(spectral_type='K0 III', stellar_effective_temperature=4823.0, stellar_radius=5.27, stellar_mass=1.39, stellar_luminosity=1.14, stellar_surface_gravity=2.99, stellar_age=3.4),\n",
       " 'HIP 116454': Star(spectral_type='K1', stellar_effective_temperature=5089.0, stellar_radius=0.72, stellar_mass=0.81, stellar_luminosity=-0.471, stellar_surface_gravity=4.59, stellar_age=2.0),\n",
       " 'HIP 12961': Star(spectral_type='M0', stellar_effective_temperature=3901.0, stellar_radius=0.65, stellar_mass=0.69, stellar_luminosity=-1.003, stellar_surface_gravity=4.65, stellar_age=None),\n",
       " 'HIP 21152': Star(spectral_type='F5 V', stellar_effective_temperature=6655.0, stellar_radius=1.59, stellar_mass=1.4, stellar_luminosity=0.636, stellar_surface_gravity=4.3, stellar_age=0.65),\n",
       " 'HIP 34222': Star(spectral_type='K7 V', stellar_effective_temperature=4050.0, stellar_radius=0.62, stellar_mass=0.62, stellar_luminosity=-1.033, stellar_surface_gravity=4.65, stellar_age=None),\n",
       " 'HIP 35173': Star(spectral_type='K2 V', stellar_effective_temperature=4881.0, stellar_radius=0.77, stellar_mass=0.79, stellar_luminosity=-0.514, stellar_surface_gravity=4.52, stellar_age=None),\n",
       " 'HIP 35965': Star(spectral_type=None, stellar_effective_temperature=4836.0, stellar_radius=0.7, stellar_mass=0.78, stellar_luminosity=-0.62, stellar_surface_gravity=4.64, stellar_age=None),\n",
       " 'HIP 4845': Star(spectral_type='K7V', stellar_effective_temperature=4010.0, stellar_radius=0.6, stellar_mass=0.62, stellar_luminosity=-1.034, stellar_surface_gravity=4.62, stellar_age=None),\n",
       " 'HIP 48714': Star(spectral_type='M0.5 Ve', stellar_effective_temperature=4015.5, stellar_radius=0.6, stellar_mass=0.58, stellar_luminosity=-1.156, stellar_surface_gravity=4.66, stellar_age=None),\n",
       " 'HIP 55507': Star(spectral_type='M0', stellar_effective_temperature=4171.0, stellar_radius=0.72, stellar_mass=0.65, stellar_luminosity=-0.845, stellar_surface_gravity=4.53, stellar_age=None),\n",
       " 'HIP 56640': Star(spectral_type='K1 III', stellar_effective_temperature=4769.0, stellar_radius=4.93, stellar_mass=1.75, stellar_luminosity=1.05, stellar_surface_gravity=2.91, stellar_age=9.15),\n",
       " 'HIP 5763': Star(spectral_type='K6 V', stellar_effective_temperature=4352.0, stellar_radius=0.75, stellar_mass=0.72, stellar_luminosity=-0.74, stellar_surface_gravity=4.52, stellar_age=None),\n",
       " 'HIP 63242': Star(spectral_type='G8', stellar_effective_temperature=4830.0, stellar_radius=10.28, stellar_mass=1.54, stellar_luminosity=1.63, stellar_surface_gravity=2.53, stellar_age=None),\n",
       " 'HIP 65 A': Star(spectral_type='K4 V', stellar_effective_temperature=4590.0, stellar_radius=0.72, stellar_mass=0.78, stellar_luminosity=-0.678, stellar_surface_gravity=4.61, stellar_age=4.1),\n",
       " 'HIP 65426': Star(spectral_type='A2 V', stellar_effective_temperature=8840.0, stellar_radius=1.77, stellar_mass=1.96, stellar_luminosity=1.269, stellar_surface_gravity=4.32, stellar_age=0.014),\n",
       " 'HIP 65891': Star(spectral_type='K0 III', stellar_effective_temperature=5000.0, stellar_radius=8.93, stellar_mass=2.49, stellar_luminosity=1.65, stellar_surface_gravity=2.9, stellar_age=None),\n",
       " 'HIP 67522': Star(spectral_type='G1 V', stellar_effective_temperature=5675.0, stellar_radius=1.38, stellar_mass=1.22, stellar_luminosity=0.243, stellar_surface_gravity=4.2, stellar_age=0.017),\n",
       " 'HIP 67537': Star(spectral_type='K1 III', stellar_effective_temperature=4985.0, stellar_radius=8.69, stellar_mass=2.32, stellar_luminosity=1.617, stellar_surface_gravity=2.85, stellar_age=None),\n",
       " 'HIP 70849': Star(spectral_type='K7 V', stellar_effective_temperature=4105.0, stellar_radius=0.63, stellar_mass=0.63, stellar_luminosity=-1.048, stellar_surface_gravity=4.62, stellar_age=3.0),\n",
       " 'HIP 71135': Star(spectral_type='M1', stellar_effective_temperature=4146.0, stellar_radius=0.68, stellar_mass=0.66, stellar_luminosity=-0.908, stellar_surface_gravity=4.54, stellar_age=None),\n",
       " 'HIP 74890': Star(spectral_type='K1 III', stellar_effective_temperature=4850.0, stellar_radius=5.77, stellar_mass=1.74, stellar_luminosity=1.215, stellar_surface_gravity=3.1, stellar_age=None),\n",
       " 'HIP 75056 A': Star(spectral_type='A2 V', stellar_effective_temperature=8610.0, stellar_radius=1.65, stellar_mass=1.92, stellar_luminosity=1.129, stellar_surface_gravity=4.34, stellar_age=0.012),\n",
       " 'HIP 75092': Star(spectral_type='K0 III', stellar_effective_temperature=4891.0, stellar_radius=4.53, stellar_mass=1.28, stellar_luminosity=1.02, stellar_surface_gravity=3.09, stellar_age=4.3),\n",
       " 'HIP 78530': Star(spectral_type='B9 V', stellar_effective_temperature=10500.0, stellar_radius=2.11, stellar_mass=2.5, stellar_luminosity=1.368, stellar_surface_gravity=4.13, stellar_age=0.005),\n",
       " 'HIP 79098 AB': Star(spectral_type='B9 V', stellar_effective_temperature=9193.75, stellar_radius=None, stellar_mass=3.75, stellar_luminosity=None, stellar_surface_gravity=None, stellar_age=0.01),\n",
       " 'HIP 79431': Star(spectral_type='M3 V', stellar_effective_temperature=3191.0, stellar_radius=0.48, stellar_mass=0.49, stellar_luminosity=-1.549, stellar_surface_gravity=4.76, stellar_age=None),\n",
       " 'HIP 86221': Star(spectral_type='K5 V', stellar_effective_temperature=None, stellar_radius=None, stellar_mass=0.79, stellar_luminosity=None, stellar_surface_gravity=None, stellar_age=None),\n",
       " 'HIP 90988': Star(spectral_type='K1 III', stellar_effective_temperature=4883.0, stellar_radius=3.94, stellar_mass=1.61, stellar_luminosity=0.89, stellar_surface_gravity=3.32, stellar_age=4.55),\n",
       " 'HIP 91258': Star(spectral_type='G5 V', stellar_effective_temperature=5519.0, stellar_radius=0.89, stellar_mass=0.97, stellar_luminosity=-0.222, stellar_surface_gravity=4.53, stellar_age=2.4),\n",
       " 'HIP 94235': Star(spectral_type='G V', stellar_effective_temperature=5991.0, stellar_radius=1.08, stellar_mass=1.09, stellar_luminosity=0.138, stellar_surface_gravity=4.46, stellar_age=0.118),\n",
       " 'HIP 948': Star(spectral_type=None, stellar_effective_temperature=4497.0, stellar_radius=0.69, stellar_mass=0.71, stellar_luminosity=-0.758, stellar_surface_gravity=4.61, stellar_age=None),\n",
       " 'HIP 97233': Star(spectral_type='K0', stellar_effective_temperature=5020.0, stellar_radius=5.34, stellar_mass=1.81, stellar_luminosity=1.204, stellar_surface_gravity=3.26, stellar_age=None),\n",
       " 'HN Peg': Star(spectral_type='G0 V', stellar_effective_temperature=6186.0, stellar_radius=1.01, stellar_mass=1.08, stellar_luminosity=0.06, stellar_surface_gravity=4.48, stellar_age=0.3),\n",
       " 'HR 2562': Star(spectral_type='F5 V', stellar_effective_temperature=6785.0, stellar_radius=1.47, stellar_mass=1.3, stellar_luminosity=0.531, stellar_surface_gravity=4.4, stellar_age=0.6),\n",
       " 'HR 5183': Star(spectral_type='G0 V', stellar_effective_temperature=5794.0, stellar_radius=1.53, stellar_mass=1.07, stellar_luminosity=0.397, stellar_surface_gravity=4.02, stellar_age=7.7),\n",
       " 'HR 810': Star(spectral_type='G0V', stellar_effective_temperature=6167.0, stellar_radius=1.13, stellar_mass=1.34, stellar_luminosity=0.253, stellar_surface_gravity=4.46, stellar_age=2.72),\n",
       " 'IC 4651 9122': Star(spectral_type=None, stellar_effective_temperature=4740.1, stellar_radius=10.27, stellar_mass=2.1, stellar_luminosity=1.636, stellar_surface_gravity=2.52, stellar_age=1.14),\n",
       " 'K2-10': Star(spectral_type='F9', stellar_effective_temperature=5620.0, stellar_radius=0.98, stellar_mass=0.92, stellar_luminosity=-0.101, stellar_surface_gravity=4.5, stellar_age=None),\n",
       " 'K2-100': Star(spectral_type='G0 V', stellar_effective_temperature=5945.0, stellar_radius=1.24, stellar_mass=1.15, stellar_luminosity=0.25, stellar_surface_gravity=4.33, stellar_age=0.75),\n",
       " 'K2-101': Star(spectral_type='K3', stellar_effective_temperature=4927.0, stellar_radius=0.76, stellar_mass=0.82, stellar_luminosity=-0.595, stellar_surface_gravity=4.59, stellar_age=0.79),\n",
       " 'K2-102': Star(spectral_type='K5', stellar_effective_temperature=4695.0, stellar_radius=0.71, stellar_mass=0.77, stellar_luminosity=-0.657, stellar_surface_gravity=4.53, stellar_age=0.79),\n",
       " 'K2-104': Star(spectral_type='M2.5e', stellar_effective_temperature=3712.0, stellar_radius=0.48, stellar_mass=0.51, stellar_luminosity=-1.434, stellar_surface_gravity=4.78, stellar_age=0.79),\n",
       " 'K2-105': Star(spectral_type='K1', stellar_effective_temperature=5636.0, stellar_radius=0.97, stellar_mass=1.05, stellar_luminosity=-0.189, stellar_surface_gravity=4.49, stellar_age=0.6),\n",
       " 'K2-107': Star(spectral_type='F9 IV', stellar_effective_temperature=6061.0, stellar_radius=1.81, stellar_mass=1.3, stellar_luminosity=0.464, stellar_surface_gravity=4.04, stellar_age=4.25),\n",
       " 'K2-108': Star(spectral_type=None, stellar_effective_temperature=5599.0, stellar_radius=1.76, stellar_mass=1.17, stellar_luminosity=0.405, stellar_surface_gravity=4.02, stellar_age=7.8),\n",
       " 'K2-11': Star(spectral_type='G8', stellar_effective_temperature=5433.0, stellar_radius=5.15, stellar_mass=1.35, stellar_luminosity=-0.31, stellar_surface_gravity=4.56, stellar_age=None),\n",
       " 'K2-110': Star(spectral_type='K3 V', stellar_effective_temperature=4950.0, stellar_radius=0.71, stellar_mass=0.75, stellar_luminosity=-0.567, stellar_surface_gravity=4.61, stellar_age=8.0),\n",
       " 'K2-113': Star(spectral_type='G', stellar_effective_temperature=5660.0, stellar_radius=1.24, stellar_mass=1.04, stellar_luminosity=0.009, stellar_surface_gravity=4.27, stellar_age=5.9),\n",
       " 'K2-114': Star(spectral_type=None, stellar_effective_temperature=4920.0, stellar_radius=0.82, stellar_mass=0.86, stellar_luminosity=-0.445, stellar_surface_gravity=4.54, stellar_age=7.2),\n",
       " 'K2-115': Star(spectral_type='G4', stellar_effective_temperature=5657.0, stellar_radius=0.88, stellar_mass=0.95, stellar_luminosity=-0.145, stellar_surface_gravity=4.53, stellar_age=10.7),\n",
       " 'K2-116': Star(spectral_type=None, stellar_effective_temperature=4348.35, stellar_radius=0.67, stellar_mass=0.69, stellar_luminosity=-0.746, stellar_surface_gravity=4.64, stellar_age=None),\n",
       " 'K2-118': Star(spectral_type=None, stellar_effective_temperature=4726.29, stellar_radius=0.73, stellar_mass=0.76, stellar_luminosity=-0.561, stellar_surface_gravity=4.53, stellar_age=None),\n",
       " 'K2-119': Star(spectral_type=None, stellar_effective_temperature=4740.0, stellar_radius=0.71, stellar_mass=0.76, stellar_luminosity=-0.685, stellar_surface_gravity=4.62, stellar_age=None),\n",
       " 'K2-12': Star(spectral_type='F9', stellar_effective_temperature=5800.0, stellar_radius=1.01, stellar_mass=1.01, stellar_luminosity=0.072, stellar_surface_gravity=4.3, stellar_age=None),\n",
       " 'K2-120': Star(spectral_type=None, stellar_effective_temperature=4349.9, stellar_radius=0.67, stellar_mass=0.69, stellar_luminosity=-0.664, stellar_surface_gravity=None, stellar_age=None),\n",
       " 'K2-121': Star(spectral_type=None, stellar_effective_temperature=4690.0, stellar_radius=0.67, stellar_mass=0.69, stellar_luminosity=-0.745, stellar_surface_gravity=4.63, stellar_age=None),\n",
       " 'K2-122': Star(spectral_type='M0', stellar_effective_temperature=4009.0, stellar_radius=0.59, stellar_mass=0.63, stellar_luminosity=-1.102, stellar_surface_gravity=4.69, stellar_age=None),\n",
       " 'K2-123': Star(spectral_type=None, stellar_effective_temperature=4035.0, stellar_radius=0.59, stellar_mass=0.62, stellar_luminosity=-1.143, stellar_surface_gravity=4.69, stellar_age=None),\n",
       " 'K2-124': Star(spectral_type=None, stellar_effective_temperature=3570.0, stellar_radius=0.39, stellar_mass=0.39, stellar_luminosity=-1.659, stellar_surface_gravity=4.86, stellar_age=None),\n",
       " 'K2-125': Star(spectral_type=None, stellar_effective_temperature=3654.47, stellar_radius=0.4, stellar_mass=0.49, stellar_luminosity=-1.641, stellar_surface_gravity=4.83, stellar_age=None),\n",
       " 'K2-126': Star(spectral_type=None, stellar_effective_temperature=4339.0, stellar_radius=0.65, stellar_mass=0.69, stellar_luminosity=-0.878, stellar_surface_gravity=4.66, stellar_age=None),\n",
       " 'K2-127': Star(spectral_type=None, stellar_effective_temperature=4575.0, stellar_radius=0.66, stellar_mass=0.72, stellar_luminosity=-0.254, stellar_surface_gravity=4.65, stellar_age=None),\n",
       " 'K2-128': Star(spectral_type=None, stellar_effective_temperature=4469.51, stellar_radius=0.78, stellar_mass=0.71, stellar_luminosity=-0.822, stellar_surface_gravity=4.7, stellar_age=None),\n",
       " 'K2-129': Star(spectral_type=None, stellar_effective_temperature=3459.09, stellar_radius=0.36, stellar_mass=0.36, stellar_luminosity=-1.828, stellar_surface_gravity=4.87, stellar_age=None),\n",
       " 'K2-13': Star(spectral_type='G3', stellar_effective_temperature=5698.0, stellar_radius=0.78, stellar_mass=0.8, stellar_luminosity=-0.135, stellar_surface_gravity=4.33, stellar_age=None),\n",
       " 'K2-130': Star(spectral_type=None, stellar_effective_temperature=4356.47, stellar_radius=0.74, stellar_mass=0.7, stellar_luminosity=-0.799, stellar_surface_gravity=4.62, stellar_age=None),\n",
       " 'K2-131': Star(spectral_type=None, stellar_effective_temperature=5200.0, stellar_radius=0.81, stellar_mass=0.84, stellar_luminosity=-0.479, stellar_surface_gravity=4.6, stellar_age=None),\n",
       " 'K2-132': Star(spectral_type=None, stellar_effective_temperature=4840.0, stellar_radius=3.85, stellar_mass=1.08, stellar_luminosity=0.943, stellar_surface_gravity=3.3, stellar_age=8.5),\n",
       " 'K2-137': Star(spectral_type='M3 V', stellar_effective_temperature=3697.0, stellar_radius=0.29, stellar_mass=0.46, stellar_luminosity=-1.484, stellar_surface_gravity=5.0, stellar_age=None),\n",
       " 'K2-139': Star(spectral_type='K0 V', stellar_effective_temperature=5370.0, stellar_radius=0.88, stellar_mass=0.96, stellar_luminosity=-0.299, stellar_surface_gravity=4.54, stellar_age=1.8),\n",
       " 'K2-14': Star(spectral_type='M0', stellar_effective_temperature=3789.0, stellar_radius=0.45, stellar_mass=0.47, stellar_luminosity=-0.968, stellar_surface_gravity=4.89, stellar_age=None),\n",
       " 'K2-140': Star(spectral_type='G6 V', stellar_effective_temperature=5585.0, stellar_radius=1.06, stellar_mass=0.96, stellar_luminosity=-0.049, stellar_surface_gravity=4.4, stellar_age=9.8),\n",
       " 'K2-147': Star(spectral_type=None, stellar_effective_temperature=3775.0, stellar_radius=0.31, stellar_mass=0.58, stellar_luminosity=-1.292, stellar_surface_gravity=5.0, stellar_age=None),\n",
       " 'K2-149': Star(spectral_type='M1.0 V', stellar_effective_temperature=3745.0, stellar_radius=0.57, stellar_mass=0.59, stellar_luminosity=-1.31, stellar_surface_gravity=4.71, stellar_age=None),\n",
       " 'K2-15': Star(spectral_type='G8', stellar_effective_temperature=5131.0, stellar_radius=0.68, stellar_mass=0.72, stellar_luminosity=-0.453, stellar_surface_gravity=4.57, stellar_age=None),\n",
       " 'K2-150': Star(spectral_type='M2.5 V', stellar_effective_temperature=3499.0, stellar_radius=0.44, stellar_mass=0.46, stellar_luminosity=-1.585, stellar_surface_gravity=4.82, stellar_age=None),\n",
       " 'K2-151': Star(spectral_type='M1.5 V', stellar_effective_temperature=3695.0, stellar_radius=0.45, stellar_mass=0.47, stellar_luminosity=-1.553, stellar_surface_gravity=4.8, stellar_age=None),\n",
       " 'K2-152': Star(spectral_type='M0.0 V', stellar_effective_temperature=4044.0, stellar_radius=0.61, stellar_mass=0.63, stellar_luminosity=-1.06, stellar_surface_gravity=4.67, stellar_age=None),\n",
       " 'K2-153': Star(spectral_type='M3.0 V', stellar_effective_temperature=3845.0, stellar_radius=0.53, stellar_mass=0.55, stellar_luminosity=-1.367, stellar_surface_gravity=4.73, stellar_age=None),\n",
       " 'K2-156': Star(spectral_type=None, stellar_effective_temperature=4460.0, stellar_radius=0.62, stellar_mass=0.66, stellar_luminosity=-0.838, stellar_surface_gravity=4.7, stellar_age=None),\n",
       " 'K2-157': Star(spectral_type=None, stellar_effective_temperature=5456.0, stellar_radius=0.88, stellar_mass=0.94, stellar_luminosity=-0.21, stellar_surface_gravity=4.5, stellar_age=None),\n",
       " 'K2-159': Star(spectral_type=None, stellar_effective_temperature=5425.0, stellar_radius=0.83, stellar_mass=0.9, stellar_luminosity=-0.296, stellar_surface_gravity=4.56, stellar_age=None),\n",
       " 'K2-160': Star(spectral_type=None, stellar_effective_temperature=5649.0, stellar_radius=0.91, stellar_mass=0.98, stellar_luminosity=-0.137, stellar_surface_gravity=4.61, stellar_age=None),\n",
       " 'K2-161': Star(spectral_type=None, stellar_effective_temperature=4972.0, stellar_radius=2.57, stellar_mass=0.99, stellar_luminosity=0.919, stellar_surface_gravity=3.63, stellar_age=None),\n",
       " 'K2-162': Star(spectral_type=None, stellar_effective_temperature=4842.0, stellar_radius=0.69, stellar_mass=0.75, stellar_luminosity=-0.657, stellar_surface_gravity=4.63, stellar_age=None),\n",
       " 'K2-163': Star(spectral_type=None, stellar_effective_temperature=4937.0, stellar_radius=0.76, stellar_mass=0.83, stellar_luminosity=-0.541, stellar_surface_gravity=4.71, stellar_age=None),\n",
       " 'K2-164': Star(spectral_type=None, stellar_effective_temperature=5791.0, stellar_radius=2.2, stellar_mass=1.18, stellar_luminosity=0.59, stellar_surface_gravity=3.81, stellar_age=None),\n",
       " 'K2-167': Star(spectral_type='F7 V', stellar_effective_temperature=6141.0, stellar_radius=1.46, stellar_mass=1.34, stellar_luminosity=0.436, stellar_surface_gravity=4.24, stellar_age=2.1),\n",
       " 'K2-169': Star(spectral_type=None, stellar_effective_temperature=5548.0, stellar_radius=0.92, stellar_mass=0.99, stellar_luminosity=-0.161, stellar_surface_gravity=4.56, stellar_age=None),\n",
       " 'K2-17': Star(spectral_type='K7', stellar_effective_temperature=4320.0, stellar_radius=0.66, stellar_mass=0.71, stellar_luminosity=-0.997, stellar_surface_gravity=4.8, stellar_age=None),\n",
       " 'K2-171': Star(spectral_type=None, stellar_effective_temperature=5250.0, stellar_radius=1.72, stellar_mass=0.89, stellar_luminosity=0.516, stellar_surface_gravity=3.95, stellar_age=None),\n",
       " 'K2-173': Star(spectral_type=None, stellar_effective_temperature=5580.0, stellar_radius=0.84, stellar_mass=0.88, stellar_luminosity=-0.06, stellar_surface_gravity=4.52, stellar_age=None),\n",
       " 'K2-174': Star(spectral_type=None, stellar_effective_temperature=4455.0, stellar_radius=0.68, stellar_mass=0.7, stellar_luminosity=-0.773, stellar_surface_gravity=4.62, stellar_age=None),\n",
       " 'K2-175': Star(spectral_type=None, stellar_effective_temperature=5909.0, stellar_radius=1.42, stellar_mass=1.09, stellar_luminosity=0.419, stellar_surface_gravity=4.11, stellar_age=None),\n",
       " 'K2-176': Star(spectral_type=None, stellar_effective_temperature=5428.0, stellar_radius=0.86, stellar_mass=0.94, stellar_luminosity=-0.348, stellar_surface_gravity=4.63, stellar_age=None),\n",
       " 'K2-177': Star(spectral_type=None, stellar_effective_temperature=6063.0, stellar_radius=1.21, stellar_mass=1.21, stellar_luminosity=0.342, stellar_surface_gravity=4.38, stellar_age=None),\n",
       " 'K2-178': Star(spectral_type=None, stellar_effective_temperature=5525.0, stellar_radius=0.89, stellar_mass=0.95, stellar_luminosity=-0.284, stellar_surface_gravity=4.55, stellar_age=None),\n",
       " 'K2-179': Star(spectral_type=None, stellar_effective_temperature=5015.0, stellar_radius=0.77, stellar_mass=0.82, stellar_luminosity=-0.523, stellar_surface_gravity=4.63, stellar_age=None),\n",
       " 'K2-180': Star(spectral_type='K2 V', stellar_effective_temperature=5306.0, stellar_radius=0.72, stellar_mass=0.72, stellar_luminosity=-0.439, stellar_surface_gravity=4.57, stellar_age=9.5),\n",
       " 'K2-181': Star(spectral_type=None, stellar_effective_temperature=5608.0, stellar_radius=1.07, stellar_mass=0.99, stellar_luminosity=-0.013, stellar_surface_gravity=4.38, stellar_age=None),\n",
       " 'K2-182': Star(spectral_type=None, stellar_effective_temperature=5170.0, stellar_radius=0.79, stellar_mass=0.86, stellar_luminosity=-0.408, stellar_surface_gravity=4.61, stellar_age=2.07),\n",
       " 'K2-184': Star(spectral_type=None, stellar_effective_temperature=5245.0, stellar_radius=0.75, stellar_mass=0.84, stellar_luminosity=-0.399, stellar_surface_gravity=4.62, stellar_age=None),\n",
       " 'K2-186': Star(spectral_type=None, stellar_effective_temperature=5784.0, stellar_radius=0.98, stellar_mass=1.02, stellar_luminosity=0.05, stellar_surface_gravity=4.45, stellar_age=None),\n",
       " 'K2-191': Star(spectral_type=None, stellar_effective_temperature=5176.0, stellar_radius=0.84, stellar_mass=0.9, stellar_luminosity=-0.345, stellar_surface_gravity=4.57, stellar_age=None),\n",
       " 'K2-192': Star(spectral_type=None, stellar_effective_temperature=5222.0, stellar_radius=0.81, stellar_mass=0.9, stellar_luminosity=-0.36, stellar_surface_gravity=4.57, stellar_age=None),\n",
       " 'K2-193': Star(spectral_type=None, stellar_effective_temperature=5817.0, stellar_radius=0.98, stellar_mass=1.01, stellar_luminosity=-0.076, stellar_surface_gravity=4.46, stellar_age=None),\n",
       " 'K2-194': Star(spectral_type=None, stellar_effective_temperature=5979.0, stellar_radius=1.28, stellar_mass=1.11, stellar_luminosity=0.363, stellar_surface_gravity=4.21, stellar_age=None),\n",
       " 'K2-196': Star(spectral_type=None, stellar_effective_temperature=6045.0, stellar_radius=1.54, stellar_mass=1.16, stellar_luminosity=0.644, stellar_surface_gravity=4.08, stellar_age=None),\n",
       " 'K2-197': Star(spectral_type=None, stellar_effective_temperature=5667.0, stellar_radius=0.93, stellar_mass=1.0, stellar_luminosity=-0.114, stellar_surface_gravity=4.5, stellar_age=None),\n",
       " 'K2-200': Star(spectral_type=None, stellar_effective_temperature=5233.0, stellar_radius=0.79, stellar_mass=0.86, stellar_luminosity=-0.429, stellar_surface_gravity=4.71, stellar_age=None),\n",
       " 'K2-202': Star(spectral_type=None, stellar_effective_temperature=5491.0, stellar_radius=0.91, stellar_mass=0.97, stellar_luminosity=-0.335, stellar_surface_gravity=4.55, stellar_age=None),\n",
       " 'K2-203': Star(spectral_type=None, stellar_effective_temperature=5000.0, stellar_radius=0.76, stellar_mass=0.79, stellar_luminosity=-0.485, stellar_surface_gravity=4.43, stellar_age=None),\n",
       " 'K2-204': Star(spectral_type=None, stellar_effective_temperature=5755.0, stellar_radius=1.18, stellar_mass=1.01, stellar_luminosity=0.253, stellar_surface_gravity=4.23, stellar_age=None),\n",
       " 'K2-205': Star(spectral_type=None, stellar_effective_temperature=5890.0, stellar_radius=1.08, stellar_mass=0.95, stellar_luminosity=0.194, stellar_surface_gravity=4.25, stellar_age=None),\n",
       " 'K2-206': Star(spectral_type=None, stellar_effective_temperature=5043.0, stellar_radius=0.76, stellar_mass=0.79, stellar_luminosity=-0.435, stellar_surface_gravity=4.46, stellar_age=None),\n",
       " 'K2-207': Star(spectral_type=None, stellar_effective_temperature=5522.0, stellar_radius=0.93, stellar_mass=0.94, stellar_luminosity=-0.173, stellar_surface_gravity=4.41, stellar_age=None),\n",
       " 'K2-208': Star(spectral_type=None, stellar_effective_temperature=5582.0, stellar_radius=0.86, stellar_mass=0.93, stellar_luminosity=-0.214, stellar_surface_gravity=4.62, stellar_age=None),\n",
       " 'K2-209': Star(spectral_type=None, stellar_effective_temperature=4720.0, stellar_radius=0.71, stellar_mass=0.74, stellar_luminosity=-0.588, stellar_surface_gravity=4.46, stellar_age=None),\n",
       " 'K2-210': Star(spectral_type=None, stellar_effective_temperature=5500.0, stellar_radius=0.89, stellar_mass=0.91, stellar_luminosity=-0.249, stellar_surface_gravity=4.6, stellar_age=None),\n",
       " 'K2-211': Star(spectral_type=None, stellar_effective_temperature=5360.0, stellar_radius=0.79, stellar_mass=0.88, stellar_luminosity=-0.386, stellar_surface_gravity=4.7, stellar_age=None),\n",
       " 'K2-212': Star(spectral_type=None, stellar_effective_temperature=4349.0, stellar_radius=0.68, stellar_mass=0.62, stellar_luminosity=-0.91, stellar_surface_gravity=4.72, stellar_age=None),\n",
       " 'K2-213': Star(spectral_type=None, stellar_effective_temperature=5794.0, stellar_radius=1.2, stellar_mass=1.07, stellar_luminosity=0.247, stellar_surface_gravity=4.25, stellar_age=None),\n",
       " 'K2-214': Star(spectral_type=None, stellar_effective_temperature=5854.0, stellar_radius=1.27, stellar_mass=1.05, stellar_luminosity=0.196, stellar_surface_gravity=4.25, stellar_age=None),\n",
       " 'K2-215': Star(spectral_type=None, stellar_effective_temperature=5704.0, stellar_radius=0.97, stellar_mass=1.0, stellar_luminosity=-0.026, stellar_surface_gravity=4.41, stellar_age=None),\n",
       " 'K2-216': Star(spectral_type='K5 V', stellar_effective_temperature=4503.0, stellar_radius=0.72, stellar_mass=0.7, stellar_luminosity=-0.721, stellar_surface_gravity=4.57, stellar_age=None),\n",
       " 'K2-217': Star(spectral_type=None, stellar_effective_temperature=5967.0, stellar_radius=1.33, stellar_mass=1.1, stellar_luminosity=0.232, stellar_surface_gravity=4.17, stellar_age=None),\n",
       " 'K2-218': Star(spectral_type=None, stellar_effective_temperature=5757.0, stellar_radius=1.01, stellar_mass=1.05, stellar_luminosity=-0.003, stellar_surface_gravity=4.45, stellar_age=None),\n",
       " 'K2-22': Star(spectral_type='M0 V', stellar_effective_temperature=3879.0, stellar_radius=0.58, stellar_mass=0.6, stellar_luminosity=-1.074, stellar_surface_gravity=4.7, stellar_age=None),\n",
       " 'K2-220': Star(spectral_type=None, stellar_effective_temperature=5660.0, stellar_radius=1.02, stellar_mass=0.96, stellar_luminosity=-0.061, stellar_surface_gravity=4.4, stellar_age=None),\n",
       " 'K2-221': Star(spectral_type=None, stellar_effective_temperature=5716.0, stellar_radius=0.95, stellar_mass=1.01, stellar_luminosity=-0.064, stellar_surface_gravity=4.57, stellar_age=None),\n",
       " 'K2-222': Star(spectral_type=None, stellar_effective_temperature=6058.0, stellar_radius=1.09, stellar_mass=1.0, stellar_luminosity=0.139, stellar_surface_gravity=4.37, stellar_age=None),\n",
       " 'K2-225': Star(spectral_type=None, stellar_effective_temperature=5742.0, stellar_radius=1.7, stellar_mass=1.27, stellar_luminosity=0.395, stellar_surface_gravity=4.08, stellar_age=None),\n",
       " 'K2-226': Star(spectral_type=None, stellar_effective_temperature=5424.0, stellar_radius=0.91, stellar_mass=0.88, stellar_luminosity=-0.276, stellar_surface_gravity=4.47, stellar_age=None),\n",
       " 'K2-227': Star(spectral_type=None, stellar_effective_temperature=5673.0, stellar_radius=0.89, stellar_mass=0.95, stellar_luminosity=-0.167, stellar_surface_gravity=4.58, stellar_age=None),\n",
       " 'K2-228': Star(spectral_type=None, stellar_effective_temperature=4715.0, stellar_radius=0.65, stellar_mass=0.71, stellar_luminosity=-0.849, stellar_surface_gravity=4.66, stellar_age=None),\n",
       " 'K2-230': Star(spectral_type=None, stellar_effective_temperature=5945.0, stellar_radius=1.39, stellar_mass=1.11, stellar_luminosity=0.317, stellar_surface_gravity=4.2, stellar_age=None),\n",
       " 'K2-231': Star(spectral_type=None, stellar_effective_temperature=5695.0, stellar_radius=0.95, stellar_mass=1.01, stellar_luminosity=-0.112, stellar_surface_gravity=4.48, stellar_age=3.0),\n",
       " 'K2-232': Star(spectral_type=None, stellar_effective_temperature=6154.0, stellar_radius=1.16, stellar_mass=1.19, stellar_luminosity=0.238, stellar_surface_gravity=4.38, stellar_age=1.43),\n",
       " 'K2-237': Star(spectral_type='F9 V', stellar_effective_temperature=6360.0, stellar_radius=1.26, stellar_mass=1.26, stellar_luminosity=0.371, stellar_surface_gravity=4.34, stellar_age=1.02),\n",
       " 'K2-238': Star(spectral_type='G2 V', stellar_effective_temperature=5630.0, stellar_radius=1.59, stellar_mass=1.19, stellar_luminosity=0.36, stellar_surface_gravity=4.11, stellar_age=5.63),\n",
       " 'K2-241': Star(spectral_type=None, stellar_effective_temperature=5262.0, stellar_radius=0.75, stellar_mass=0.71, stellar_luminosity=-0.446, stellar_surface_gravity=4.54, stellar_age=None),\n",
       " 'K2-242': Star(spectral_type=None, stellar_effective_temperature=3459.0, stellar_radius=0.37, stellar_mass=0.38, stellar_luminosity=-1.808, stellar_surface_gravity=4.89, stellar_age=None),\n",
       " 'K2-244': Star(spectral_type=None, stellar_effective_temperature=5677.0, stellar_radius=0.92, stellar_mass=0.86, stellar_luminosity=-0.118, stellar_surface_gravity=4.44, stellar_age=None),\n",
       " 'K2-245': Star(spectral_type=None, stellar_effective_temperature=5793.0, stellar_radius=1.25, stellar_mass=0.83, stellar_luminosity=0.172, stellar_surface_gravity=4.16, stellar_age=None),\n",
       " 'K2-246': Star(spectral_type=None, stellar_effective_temperature=5610.0, stellar_radius=0.94, stellar_mass=0.87, stellar_luminosity=-0.151, stellar_surface_gravity=4.43, stellar_age=None),\n",
       " 'K2-248': Star(spectral_type=None, stellar_effective_temperature=5528.0, stellar_radius=0.92, stellar_mass=0.88, stellar_luminosity=-0.189, stellar_surface_gravity=4.45, stellar_age=None),\n",
       " 'K2-249': Star(spectral_type=None, stellar_effective_temperature=6504.0, stellar_radius=1.57, stellar_mass=1.32, stellar_luminosity=0.336, stellar_surface_gravity=4.16, stellar_age=None),\n",
       " 'K2-25': Star(spectral_type='M4.5 V', stellar_effective_temperature=3207.0, stellar_radius=0.29, stellar_mass=0.26, stellar_luminosity=-2.088, stellar_surface_gravity=4.94, stellar_age=0.73),\n",
       " 'K2-250': Star(spectral_type=None, stellar_effective_temperature=5172.0, stellar_radius=0.81, stellar_mass=0.8, stellar_luminosity=-0.426, stellar_surface_gravity=4.53, stellar_age=None),\n",
       " 'K2-251': Star(spectral_type=None, stellar_effective_temperature=3717.0, stellar_radius=0.49, stellar_mass=0.52, stellar_luminosity=-1.342, stellar_surface_gravity=4.76, stellar_age=None),\n",
       " 'K2-252': Star(spectral_type=None, stellar_effective_temperature=5152.0, stellar_radius=0.82, stellar_mass=0.79, stellar_luminosity=-0.408, stellar_surface_gravity=4.5, stellar_age=None),\n",
       " 'K2-253': Star(spectral_type=None, stellar_effective_temperature=6027.0, stellar_radius=1.1, stellar_mass=1.08, stellar_luminosity=-0.077, stellar_surface_gravity=4.39, stellar_age=None),\n",
       " 'K2-255': Star(spectral_type=None, stellar_effective_temperature=4676.0, stellar_radius=0.69, stellar_mass=0.71, stellar_luminosity=-0.79, stellar_surface_gravity=4.62, stellar_age=None),\n",
       " 'K2-256': Star(spectral_type=None, stellar_effective_temperature=5219.0, stellar_radius=0.78, stellar_mass=0.84, stellar_luminosity=-0.469, stellar_surface_gravity=4.58, stellar_age=None),\n",
       " 'K2-257': Star(spectral_type=None, stellar_effective_temperature=3725.0, stellar_radius=0.5, stellar_mass=0.52, stellar_luminosity=-1.381, stellar_surface_gravity=4.76, stellar_age=None),\n",
       " 'K2-258': Star(spectral_type=None, stellar_effective_temperature=6351.0, stellar_radius=1.31, stellar_mass=1.21, stellar_luminosity=0.272, stellar_surface_gravity=4.29, stellar_age=None),\n",
       " 'K2-259': Star(spectral_type=None, stellar_effective_temperature=6059.0, stellar_radius=1.13, stellar_mass=1.14, stellar_luminosity=0.167, stellar_surface_gravity=4.39, stellar_age=None),\n",
       " 'K2-26': Star(spectral_type='M1.0 V', stellar_effective_temperature=3785.0, stellar_radius=0.52, stellar_mass=0.56, stellar_luminosity=-1.31, stellar_surface_gravity=4.72, stellar_age=1.0),\n",
       " 'K2-260': Star(spectral_type='F6 V', stellar_effective_temperature=6367.0, stellar_radius=1.69, stellar_mass=1.39, stellar_luminosity=0.543, stellar_surface_gravity=4.15, stellar_age=1.9),\n",
       " 'K2-261': Star(spectral_type='G7 IV/V', stellar_effective_temperature=5445.0, stellar_radius=1.64, stellar_mass=1.09, stellar_luminosity=0.328, stellar_surface_gravity=4.04, stellar_age=9.3),\n",
       " 'K2-263': Star(spectral_type='G9 V', stellar_effective_temperature=5368.0, stellar_radius=0.85, stellar_mass=0.88, stellar_luminosity=-0.26, stellar_surface_gravity=4.51, stellar_age=7.0),\n",
       " 'K2-265': Star(spectral_type='G8 V', stellar_effective_temperature=5477.0, stellar_radius=0.98, stellar_mass=0.92, stellar_luminosity=-0.18, stellar_surface_gravity=4.42, stellar_age=9.7),\n",
       " 'K2-269': Star(spectral_type=None, stellar_effective_temperature=6209.0, stellar_radius=1.45, stellar_mass=1.16, stellar_luminosity=0.468, stellar_surface_gravity=4.18, stellar_age=None),\n",
       " 'K2-27': Star(spectral_type=None, stellar_effective_temperature=5248.0, stellar_radius=0.89, stellar_mass=0.87, stellar_luminosity=-0.27, stellar_surface_gravity=4.48, stellar_age=10.3),\n",
       " 'K2-271': Star(spectral_type=None, stellar_effective_temperature=5644.0, stellar_radius=0.99, stellar_mass=0.83, stellar_luminosity=-0.05, stellar_surface_gravity=4.37, stellar_age=None),\n",
       " 'K2-272': Star(spectral_type=None, stellar_effective_temperature=5397.0, stellar_radius=0.83, stellar_mass=0.86, stellar_luminosity=-0.302, stellar_surface_gravity=4.53, stellar_age=None),\n",
       " 'K2-273': Star(spectral_type=None, stellar_effective_temperature=5161.0, stellar_radius=0.85, stellar_mass=0.89, stellar_luminosity=-0.353, stellar_surface_gravity=4.53, stellar_age=None),\n",
       " 'K2-274': Star(spectral_type=None, stellar_effective_temperature=5044.0, stellar_radius=0.7, stellar_mass=0.79, stellar_luminosity=-0.509, stellar_surface_gravity=4.64, stellar_age=None),\n",
       " 'K2-276': Star(spectral_type=None, stellar_effective_temperature=5139.0, stellar_radius=0.85, stellar_mass=0.82, stellar_luminosity=-0.405, stellar_surface_gravity=4.49, stellar_age=None),\n",
       " 'K2-277': Star(spectral_type=None, stellar_effective_temperature=5741.0, stellar_radius=0.97, stellar_mass=1.02, stellar_luminosity=-0.052, stellar_surface_gravity=4.48, stellar_age=None),\n",
       " 'K2-278': Star(spectral_type=None, stellar_effective_temperature=6747.0, stellar_radius=1.61, stellar_mass=1.4, stellar_luminosity=0.399, stellar_surface_gravity=4.17, stellar_age=None),\n",
       " 'K2-279': Star(spectral_type=None, stellar_effective_temperature=5558.0, stellar_radius=0.86, stellar_mass=0.79, stellar_luminosity=-0.205, stellar_surface_gravity=4.46, stellar_age=None),\n",
       " 'K2-28': Star(spectral_type='M4', stellar_effective_temperature=3214.0, stellar_radius=0.29, stellar_mass=0.26, stellar_luminosity=-1.94, stellar_surface_gravity=4.93, stellar_age=None),\n",
       " 'K2-280': Star(spectral_type=None, stellar_effective_temperature=5500.0, stellar_radius=1.28, stellar_mass=1.03, stellar_luminosity=0.14, stellar_surface_gravity=4.21, stellar_age=8.96),\n",
       " 'K2-281': Star(spectral_type=None, stellar_effective_temperature=4812.0, stellar_radius=0.76, stellar_mass=0.82, stellar_luminosity=-0.647, stellar_surface_gravity=4.59, stellar_age=None),\n",
       " 'K2-283': Star(spectral_type=None, stellar_effective_temperature=5060.0, stellar_radius=0.82, stellar_mass=0.89, stellar_luminosity=-0.524, stellar_surface_gravity=4.56, stellar_age=None),\n",
       " 'K2-284': Star(spectral_type=None, stellar_effective_temperature=4140.0, stellar_radius=0.61, stellar_mass=0.63, stellar_luminosity=-1.013, stellar_surface_gravity=4.67, stellar_age=0.12),\n",
       " 'K2-286': Star(spectral_type='M0 V', stellar_effective_temperature=3926.0, stellar_radius=0.62, stellar_mass=0.64, stellar_luminosity=-1.046, stellar_surface_gravity=4.7, stellar_age=None),\n",
       " 'K2-287': Star(spectral_type=None, stellar_effective_temperature=5695.0, stellar_radius=1.07, stellar_mass=1.06, stellar_luminosity=-0.108, stellar_surface_gravity=4.4, stellar_age=4.5),\n",
       " 'K2-288 B': Star(spectral_type='M3 V', stellar_effective_temperature=3341.0, stellar_radius=0.32, stellar_mass=0.33, stellar_luminosity=-1.93, stellar_surface_gravity=4.96, stellar_age=1.0),\n",
       " 'K2-289': Star(spectral_type=None, stellar_effective_temperature=5529.0, stellar_radius=1.02, stellar_mass=0.95, stellar_luminosity=-0.505, stellar_surface_gravity=4.39, stellar_age=None),\n",
       " 'K2-29': Star(spectral_type='G7 V', stellar_effective_temperature=5358.0, stellar_radius=0.86, stellar_mass=0.94, stellar_luminosity=-0.295, stellar_surface_gravity=4.54, stellar_age=2.6),\n",
       " 'K2-291': Star(spectral_type=None, stellar_effective_temperature=5520.0, stellar_radius=0.9, stellar_mass=0.93, stellar_luminosity=-0.166, stellar_surface_gravity=4.5, stellar_age=3.72),\n",
       " 'K2-292': Star(spectral_type='G3 V', stellar_effective_temperature=5725.0, stellar_radius=1.09, stellar_mass=1.0, stellar_luminosity=0.093, stellar_surface_gravity=4.33, stellar_age=6.8),\n",
       " 'K2-293': Star(spectral_type=None, stellar_effective_temperature=5532.0, stellar_radius=0.95, stellar_mass=0.96, stellar_luminosity=-0.18, stellar_surface_gravity=4.52, stellar_age=None),\n",
       " 'K2-294': Star(spectral_type=None, stellar_effective_temperature=5612.0, stellar_radius=1.2, stellar_mass=0.99, stellar_luminosity=0.088, stellar_surface_gravity=4.2, stellar_age=None),\n",
       " 'K2-295': Star(spectral_type='K5 V', stellar_effective_temperature=4444.0, stellar_radius=0.7, stellar_mass=0.74, stellar_luminosity=-0.716, stellar_surface_gravity=4.63, stellar_age=None),\n",
       " 'K2-30': Star(spectral_type='G6 V', stellar_effective_temperature=5425.0, stellar_radius=0.84, stellar_mass=0.9, stellar_luminosity=-0.256, stellar_surface_gravity=4.54, stellar_age=3.9),\n",
       " 'K2-308': Star(spectral_type=None, stellar_effective_temperature=6100.0, stellar_radius=1.24, stellar_mass=1.09, stellar_luminosity=0.283, stellar_surface_gravity=3.94, stellar_age=None),\n",
       " 'K2-31': Star(spectral_type='G7 V', stellar_effective_temperature=5280.0, stellar_radius=0.78, stellar_mass=0.91, stellar_luminosity=-0.11, stellar_surface_gravity=4.6, stellar_age=None),\n",
       " 'K2-315': Star(spectral_type='M(3.5+/-0.5) V', stellar_effective_temperature=3300.0, stellar_radius=0.2, stellar_mass=0.17, stellar_luminosity=-2.387, stellar_surface_gravity=5.09, stellar_age=1.0),\n",
       " 'K2-317': Star(spectral_type=None, stellar_effective_temperature=3387.0, stellar_radius=0.38, stellar_mass=0.4, stellar_luminosity=-1.871, stellar_surface_gravity=4.89, stellar_age=None),\n",
       " 'K2-318': Star(spectral_type=None, stellar_effective_temperature=3851.0, stellar_radius=0.55, stellar_mass=0.56, stellar_luminosity=-1.277, stellar_surface_gravity=4.7, stellar_age=None),\n",
       " 'K2-319': Star(spectral_type=None, stellar_effective_temperature=5440.0, stellar_radius=0.9, stellar_mass=0.95, stellar_luminosity=-0.237, stellar_surface_gravity=4.51, stellar_age=None),\n",
       " 'K2-320': Star(spectral_type=None, stellar_effective_temperature=3157.0, stellar_radius=0.3, stellar_mass=0.12, stellar_luminosity=-2.125, stellar_surface_gravity=4.55, stellar_age=None),\n",
       " 'K2-321': Star(spectral_type=None, stellar_effective_temperature=3855.0, stellar_radius=0.58, stellar_mass=0.6, stellar_luminosity=-1.254, stellar_surface_gravity=4.68, stellar_age=None),\n",
       " 'K2-322': Star(spectral_type=None, stellar_effective_temperature=4141.0, stellar_radius=0.6, stellar_mass=0.63, stellar_luminosity=-1.039, stellar_surface_gravity=4.68, stellar_age=None),\n",
       " 'K2-323': Star(spectral_type=None, stellar_effective_temperature=3710.0, stellar_radius=0.55, stellar_mass=0.48, stellar_luminosity=-1.339, stellar_surface_gravity=4.63, stellar_age=None),\n",
       " 'K2-324': Star(spectral_type=None, stellar_effective_temperature=3752.0, stellar_radius=0.51, stellar_mass=0.52, stellar_luminosity=-1.333, stellar_surface_gravity=4.74, stellar_age=None),\n",
       " 'K2-325': Star(spectral_type=None, stellar_effective_temperature=3287.0, stellar_radius=0.3, stellar_mass=0.27, stellar_luminosity=-2.048, stellar_surface_gravity=4.84, stellar_age=None),\n",
       " 'K2-326': Star(spectral_type=None, stellar_effective_temperature=3924.0, stellar_radius=0.69, stellar_mass=0.51, stellar_luminosity=-0.978, stellar_surface_gravity=4.46, stellar_age=None),\n",
       " 'K2-329': Star(spectral_type=None, stellar_effective_temperature=5282.0, stellar_radius=0.82, stellar_mass=0.9, stellar_luminosity=-0.325, stellar_surface_gravity=4.57, stellar_age=1.8),\n",
       " 'K2-33': Star(spectral_type='M3.3', stellar_effective_temperature=3540.0, stellar_radius=1.05, stellar_mass=0.56, stellar_luminosity=-0.824, stellar_surface_gravity=4.06, stellar_age=0.009),\n",
       " 'K2-330': Star(spectral_type=None, stellar_effective_temperature=6232.0, stellar_radius=1.5, stellar_mass=1.23, stellar_luminosity=0.477, stellar_surface_gravity=4.18, stellar_age=None),\n",
       " 'K2-332': Star(spectral_type=None, stellar_effective_temperature=3315.0, stellar_radius=0.28, stellar_mass=0.27, stellar_luminosity=-2.065, stellar_surface_gravity=4.97, stellar_age=None),\n",
       " 'K2-333': Star(spectral_type=None, stellar_effective_temperature=5880.0, stellar_radius=1.22, stellar_mass=1.06, stellar_luminosity=0.165, stellar_surface_gravity=4.29, stellar_age=None),\n",
       " 'K2-334': Star(spectral_type=None, stellar_effective_temperature=6502.0, stellar_radius=1.49, stellar_mass=1.36, stellar_luminosity=0.514, stellar_surface_gravity=4.22, stellar_age=None),\n",
       " 'K2-335': Star(spectral_type=None, stellar_effective_temperature=6222.0, stellar_radius=1.33, stellar_mass=1.23, stellar_luminosity=0.395, stellar_surface_gravity=4.28, stellar_age=None),\n",
       " 'K2-336': Star(spectral_type=None, stellar_effective_temperature=5424.0, stellar_radius=0.8, stellar_mass=0.86, stellar_luminosity=-0.345, stellar_surface_gravity=4.56, stellar_age=None),\n",
       " 'K2-337': Star(spectral_type=None, stellar_effective_temperature=5869.0, stellar_radius=1.32, stellar_mass=0.94, stellar_luminosity=0.25, stellar_surface_gravity=4.17, stellar_age=None),\n",
       " 'K2-338': Star(spectral_type=None, stellar_effective_temperature=4558.0, stellar_radius=0.63, stellar_mass=0.66, stellar_luminosity=-0.836, stellar_surface_gravity=4.65, stellar_age=None),\n",
       " 'K2-339': Star(spectral_type=None, stellar_effective_temperature=4857.0, stellar_radius=0.72, stellar_mass=0.74, stellar_luminosity=-0.652, stellar_surface_gravity=4.59, stellar_age=None),\n",
       " 'K2-34': Star(spectral_type='F', stellar_effective_temperature=6168.0, stellar_radius=1.42, stellar_mass=1.16, stellar_luminosity=0.4, stellar_surface_gravity=4.2, stellar_age=2.88),\n",
       " 'K2-340': Star(spectral_type=None, stellar_effective_temperature=5532.0, stellar_radius=1.13, stellar_mass=0.93, stellar_luminosity=-0.002, stellar_surface_gravity=4.3, stellar_age=None),\n",
       " 'K2-341': Star(spectral_type=None, stellar_effective_temperature=5817.0, stellar_radius=1.16, stellar_mass=0.98, stellar_luminosity=0.126, stellar_surface_gravity=4.3, stellar_age=None),\n",
       " 'K2-342': Star(spectral_type=None, stellar_effective_temperature=5920.0, stellar_radius=1.09, stellar_mass=1.01, stellar_luminosity=0.093, stellar_surface_gravity=4.36, stellar_age=None),\n",
       " 'K2-344': Star(spectral_type=None, stellar_effective_temperature=4374.0, stellar_radius=0.49, stellar_mass=0.51, stellar_luminosity=-1.225, stellar_surface_gravity=4.76, stellar_age=None),\n",
       " 'K2-345': Star(spectral_type=None, stellar_effective_temperature=3779.0, stellar_radius=0.52, stellar_mass=0.56, stellar_luminosity=-1.32, stellar_surface_gravity=4.74, stellar_age=None),\n",
       " 'K2-346': Star(spectral_type=None, stellar_effective_temperature=4801.0, stellar_radius=0.7, stellar_mass=0.71, stellar_luminosity=-0.663, stellar_surface_gravity=4.6, stellar_age=None),\n",
       " 'K2-347': Star(spectral_type=None, stellar_effective_temperature=4599.0, stellar_radius=0.63, stellar_mass=0.66, stellar_luminosity=-0.894, stellar_surface_gravity=4.65, stellar_age=None),\n",
       " 'K2-349': Star(spectral_type=None, stellar_effective_temperature=4385.0, stellar_radius=0.49, stellar_mass=0.54, stellar_luminosity=-0.366, stellar_surface_gravity=4.78, stellar_age=None),\n",
       " 'K2-351': Star(spectral_type=None, stellar_effective_temperature=5769.0, stellar_radius=1.05, stellar_mass=1.02, stellar_luminosity=0.024, stellar_surface_gravity=4.4, stellar_age=None),\n",
       " 'K2-353': Star(spectral_type=None, stellar_effective_temperature=5698.0, stellar_radius=0.99, stellar_mass=0.87, stellar_luminosity=-0.076, stellar_surface_gravity=4.38, stellar_age=None),\n",
       " 'K2-354': Star(spectral_type=None, stellar_effective_temperature=3669.0, stellar_radius=0.41, stellar_mass=0.43, stellar_luminosity=-1.614, stellar_surface_gravity=4.86, stellar_age=None),\n",
       " 'K2-355': Star(spectral_type=None, stellar_effective_temperature=5790.0, stellar_radius=0.92, stellar_mass=0.96, stellar_luminosity=-0.115, stellar_surface_gravity=4.49, stellar_age=None),\n",
       " 'K2-356': Star(spectral_type=None, stellar_effective_temperature=5568.0, stellar_radius=0.86, stellar_mass=0.9, stellar_luminosity=-0.244, stellar_surface_gravity=4.52, stellar_age=None),\n",
       " 'K2-357': Star(spectral_type=None, stellar_effective_temperature=5794.0, stellar_radius=1.0, stellar_mass=0.98, stellar_luminosity=-0.066, stellar_surface_gravity=4.43, stellar_age=None),\n",
       " 'K2-358': Star(spectral_type=None, stellar_effective_temperature=5650.0, stellar_radius=0.91, stellar_mass=0.93, stellar_luminosity=-0.161, stellar_surface_gravity=4.49, stellar_age=None),\n",
       " 'K2-365': Star(spectral_type=None, stellar_effective_temperature=5561.0, stellar_radius=1.05, stellar_mass=0.82, stellar_luminosity=-0.014, stellar_surface_gravity=4.31, stellar_age=None),\n",
       " 'K2-366': Star(spectral_type=None, stellar_effective_temperature=5601.0, stellar_radius=0.94, stellar_mass=0.83, stellar_luminosity=-0.109, stellar_surface_gravity=4.41, stellar_age=None),\n",
       " 'K2-367': Star(spectral_type=None, stellar_effective_temperature=4348.0, stellar_radius=0.62, stellar_mass=0.76, stellar_luminosity=-0.854, stellar_surface_gravity=4.73, stellar_age=None),\n",
       " 'K2-369': Star(spectral_type=None, stellar_effective_temperature=5682.0, stellar_radius=0.88, stellar_mass=0.73, stellar_luminosity=-0.121, stellar_surface_gravity=4.42, stellar_age=None),\n",
       " 'K2-370': Star(spectral_type='G8', stellar_effective_temperature=5377.0, stellar_radius=0.97, stellar_mass=0.98, stellar_luminosity=-0.127, stellar_surface_gravity=4.45, stellar_age=None),\n",
       " 'K2-371': Star(spectral_type=None, stellar_effective_temperature=4925.0, stellar_radius=0.74, stellar_mass=0.96, stellar_luminosity=-0.517, stellar_surface_gravity=4.68, stellar_age=None),\n",
       " 'K2-372': Star(spectral_type=None, stellar_effective_temperature=5479.0, stellar_radius=0.92, stellar_mass=0.85, stellar_luminosity=-0.122, stellar_surface_gravity=4.44, stellar_age=None),\n",
       " 'K2-373': Star(spectral_type=None, stellar_effective_temperature=6138.0, stellar_radius=1.49, stellar_mass=1.16, stellar_luminosity=0.432, stellar_surface_gravity=4.16, stellar_age=None),\n",
       " 'K2-375': Star(spectral_type=None, stellar_effective_temperature=5822.0, stellar_radius=1.54, stellar_mass=1.12, stellar_luminosity=0.396, stellar_surface_gravity=4.11, stellar_age=None),\n",
       " 'K2-376': Star(spectral_type='G1', stellar_effective_temperature=5937.0, stellar_radius=1.15, stellar_mass=0.91, stellar_luminosity=0.189, stellar_surface_gravity=4.28, stellar_age=None),\n",
       " 'K2-377': Star(spectral_type=None, stellar_effective_temperature=4200.0, stellar_radius=0.69, stellar_mass=0.82, stellar_luminosity=-0.818, stellar_surface_gravity=4.67, stellar_age=None),\n",
       " 'K2-378': Star(spectral_type=None, stellar_effective_temperature=4823.0, stellar_radius=0.73, stellar_mass=0.92, stellar_luminosity=-0.567, stellar_surface_gravity=4.67, stellar_age=None),\n",
       " 'K2-379': Star(spectral_type=None, stellar_effective_temperature=4603.0, stellar_radius=0.75, stellar_mass=0.86, stellar_luminosity=-0.633, stellar_surface_gravity=4.62, stellar_age=None),\n",
       " 'K2-380': Star(spectral_type=None, stellar_effective_temperature=5911.0, stellar_radius=1.32, stellar_mass=0.99, stellar_luminosity=0.202, stellar_surface_gravity=4.19, stellar_age=None),\n",
       " 'K2-382': Star(spectral_type=None, stellar_effective_temperature=5452.0, stellar_radius=0.81, stellar_mass=0.92, stellar_luminosity=-0.28, stellar_surface_gravity=4.58, stellar_age=None),\n",
       " 'K2-383': Star(spectral_type=None, stellar_effective_temperature=5129.0, stellar_radius=0.8, stellar_mass=1.06, stellar_luminosity=-0.397, stellar_surface_gravity=4.66, stellar_age=None),\n",
       " 'K2-385': Star(spectral_type=None, stellar_effective_temperature=4844.0, stellar_radius=0.76, stellar_mass=0.93, stellar_luminosity=-0.519, stellar_surface_gravity=4.64, stellar_age=None),\n",
       " 'K2-386': Star(spectral_type=None, stellar_effective_temperature=5749.0, stellar_radius=0.97, stellar_mass=0.91, stellar_luminosity=-0.019, stellar_surface_gravity=4.42, stellar_age=None),\n",
       " 'K2-387': Star(spectral_type=None, stellar_effective_temperature=3572.0, stellar_radius=0.59, stellar_mass=0.57, stellar_luminosity=-1.239, stellar_surface_gravity=4.66, stellar_age=None),\n",
       " 'K2-388': Star(spectral_type='G8', stellar_effective_temperature=5367.0, stellar_radius=0.9, stellar_mass=0.84, stellar_luminosity=-0.212, stellar_surface_gravity=4.46, stellar_age=None),\n",
       " 'K2-39': Star(spectral_type=None, stellar_effective_temperature=4881.0, stellar_radius=2.97, stellar_mass=0.66, stellar_luminosity=0.674, stellar_surface_gravity=3.44, stellar_age=3.09),\n",
       " 'K2-390': Star(spectral_type='G4', stellar_effective_temperature=5558.0, stellar_radius=0.97, stellar_mass=0.79, stellar_luminosity=-0.099, stellar_surface_gravity=4.37, stellar_age=None),\n",
       " 'K2-391': Star(spectral_type='G7', stellar_effective_temperature=5543.0, stellar_radius=0.57, stellar_mass=0.76, stellar_luminosity=0.391, stellar_surface_gravity=4.97, stellar_age=None),\n",
       " 'K2-392': Star(spectral_type='G3', stellar_effective_temperature=5726.0, stellar_radius=1.06, stellar_mass=0.84, stellar_luminosity=0.048, stellar_surface_gravity=4.31, stellar_age=None),\n",
       " 'K2-393': Star(spectral_type=None, stellar_effective_temperature=5678.0, stellar_radius=1.07, stellar_mass=0.88, stellar_luminosity=0.043, stellar_surface_gravity=4.32, stellar_age=None),\n",
       " 'K2-394': Star(spectral_type=None, stellar_effective_temperature=4938.0, stellar_radius=0.63, stellar_mass=0.48, stellar_luminosity=-0.858, stellar_surface_gravity=4.52, stellar_age=None),\n",
       " 'K2-397': Star(spectral_type='G7', stellar_effective_temperature=5387.0, stellar_radius=0.97, stellar_mass=0.94, stellar_luminosity=-0.145, stellar_surface_gravity=4.44, stellar_age=None),\n",
       " 'K2-399': Star(spectral_type='F9', stellar_effective_temperature=5690.0, stellar_radius=1.54, stellar_mass=0.78, stellar_luminosity=0.415, stellar_surface_gravity=3.96, stellar_age=None),\n",
       " 'K2-4': Star(spectral_type=None, stellar_effective_temperature=4014.73, stellar_radius=0.57, stellar_mass=0.64, stellar_luminosity=-0.915, stellar_surface_gravity=4.85, stellar_age=None),\n",
       " 'K2-400': Star(spectral_type='M3', stellar_effective_temperature=3578.0, stellar_radius=0.38, stellar_mass=0.37, stellar_luminosity=-1.748, stellar_surface_gravity=4.85, stellar_age=None),\n",
       " 'K2-401': Star(spectral_type='K7', stellar_effective_temperature=4213.0, stellar_radius=0.68, stellar_mass=0.87, stellar_luminosity=-0.835, stellar_surface_gravity=4.72, stellar_age=None),\n",
       " 'K2-402': Star(spectral_type='G2', stellar_effective_temperature=5716.0, stellar_radius=1.28, stellar_mass=0.94, stellar_luminosity=0.209, stellar_surface_gravity=4.2, stellar_age=None),\n",
       " 'K2-403': Star(spectral_type='G4', stellar_effective_temperature=5511.0, stellar_radius=0.89, stellar_mass=0.78, stellar_luminosity=-0.171, stellar_surface_gravity=4.44, stellar_age=None),\n",
       " 'K2-404': Star(spectral_type='M1', stellar_effective_temperature=3748.0, stellar_radius=0.55, stellar_mass=0.55, stellar_luminosity=-1.239, stellar_surface_gravity=4.7, stellar_age=None),\n",
       " 'K2-405': Star(spectral_type='K0', stellar_effective_temperature=4927.0, stellar_radius=0.77, stellar_mass=1.03, stellar_luminosity=-0.488, stellar_surface_gravity=4.69, stellar_age=None),\n",
       " 'K2-406': Star(spectral_type='G4', stellar_effective_temperature=5784.0, stellar_radius=0.96, stellar_mass=0.8, stellar_luminosity=-0.06, stellar_surface_gravity=4.37, stellar_age=None),\n",
       " 'K2-408': Star(spectral_type='G7', stellar_effective_temperature=5335.0, stellar_radius=0.78, stellar_mass=0.81, stellar_luminosity=-0.33, stellar_surface_gravity=4.56, stellar_age=None),\n",
       " 'K2-409': Star(spectral_type='G4', stellar_effective_temperature=5742.0, stellar_radius=1.23, stellar_mass=0.89, stellar_luminosity=0.172, stellar_surface_gravity=4.2, stellar_age=None),\n",
       " 'K2-411': Star(spectral_type=None, stellar_effective_temperature=5711.0, stellar_radius=1.38, stellar_mass=1.02, stellar_luminosity=0.258, stellar_surface_gravity=4.17, stellar_age=None),\n",
       " 'K2-412': Star(spectral_type=None, stellar_effective_temperature=5590.0, stellar_radius=0.98, stellar_mass=0.89, stellar_luminosity=-0.071, stellar_surface_gravity=4.41, stellar_age=None),\n",
       " 'K2-42': Star(spectral_type=None, stellar_effective_temperature=4613.0, stellar_radius=0.64, stellar_mass=0.7, stellar_luminosity=-0.703, stellar_surface_gravity=4.66, stellar_age=None),\n",
       " 'K2-44': Star(spectral_type=None, stellar_effective_temperature=5912.0, stellar_radius=1.58, stellar_mass=1.15, stellar_luminosity=0.43, stellar_surface_gravity=4.1, stellar_age=None),\n",
       " 'K2-45': Star(spectral_type=None, stellar_effective_temperature=4103.0, stellar_radius=0.45, stellar_mass=0.5, stellar_luminosity=-0.74, stellar_surface_gravity=4.82, stellar_age=None),\n",
       " 'K2-46': Star(spectral_type=None, stellar_effective_temperature=6256.0, stellar_radius=1.29, stellar_mass=0.96, stellar_luminosity=0.413, stellar_surface_gravity=4.2, stellar_age=None),\n",
       " 'K2-47': Star(spectral_type=None, stellar_effective_temperature=5054.0, stellar_radius=0.76, stellar_mass=0.75, stellar_luminosity=-0.482, stellar_surface_gravity=4.54, stellar_age=None),\n",
       " 'K2-48': Star(spectral_type=None, stellar_effective_temperature=4899.0, stellar_radius=0.73, stellar_mass=0.77, stellar_luminosity=-0.657, stellar_surface_gravity=4.6, stellar_age=None),\n",
       " 'K2-49': Star(spectral_type=None, stellar_effective_temperature=4175.0, stellar_radius=0.45, stellar_mass=0.51, stellar_luminosity=-0.774, stellar_surface_gravity=4.81, stellar_age=None),\n",
       " 'K2-52': Star(spectral_type=None, stellar_effective_temperature=7147.0, stellar_radius=2.19, stellar_mass=1.69, stellar_luminosity=0.027, stellar_surface_gravity=3.98, stellar_age=None),\n",
       " 'K2-53': Star(spectral_type=None, stellar_effective_temperature=5263.0, stellar_radius=0.81, stellar_mass=0.85, stellar_luminosity=-0.579, stellar_surface_gravity=4.55, stellar_age=None),\n",
       " 'K2-54': Star(spectral_type=None, stellar_effective_temperature=3798.0, stellar_radius=0.38, stellar_mass=0.42, stellar_luminosity=-1.011, stellar_surface_gravity=4.89, stellar_age=None),\n",
       " 'K2-55': Star(spectral_type=None, stellar_effective_temperature=4456.0, stellar_radius=0.63, stellar_mass=0.7, stellar_luminosity=-0.784, stellar_surface_gravity=4.67, stellar_age=None),\n",
       " 'K2-57': Star(spectral_type=None, stellar_effective_temperature=4434.0, stellar_radius=0.62, stellar_mass=0.68, stellar_luminosity=-0.83, stellar_surface_gravity=4.68, stellar_age=None),\n",
       " 'K2-6': Star(spectral_type=None, stellar_effective_temperature=5850.0, stellar_radius=0.96, stellar_mass=0.97, stellar_luminosity=-0.12, stellar_surface_gravity=4.4, stellar_age=None),\n",
       " 'K2-60': Star(spectral_type='G4 V', stellar_effective_temperature=5500.0, stellar_radius=1.12, stellar_mass=0.97, stellar_luminosity=0.282, stellar_surface_gravity=4.07, stellar_age=10.0),\n",
       " 'K2-61': Star(spectral_type=None, stellar_effective_temperature=6293.0, stellar_radius=1.36, stellar_mass=1.21, stellar_luminosity=-0.015, stellar_surface_gravity=4.25, stellar_age=None),\n",
       " 'K2-64': Star(spectral_type=None, stellar_effective_temperature=5312.0, stellar_radius=0.73, stellar_mass=0.74, stellar_luminosity=-0.234, stellar_surface_gravity=4.58, stellar_age=None),\n",
       " 'K2-65': Star(spectral_type=None, stellar_effective_temperature=5213.0, stellar_radius=0.84, stellar_mass=0.87, stellar_luminosity=-0.328, stellar_surface_gravity=4.53, stellar_age=None),\n",
       " 'K2-66': Star(spectral_type=None, stellar_effective_temperature=5887.0, stellar_radius=1.67, stellar_mass=1.11, stellar_luminosity=0.506, stellar_surface_gravity=4.03, stellar_age=None),\n",
       " 'K2-68': Star(spectral_type=None, stellar_effective_temperature=4746.0, stellar_radius=0.68, stellar_mass=0.73, stellar_luminosity=-0.673, stellar_surface_gravity=4.63, stellar_age=None),\n",
       " 'K2-69': Star(spectral_type=None, stellar_effective_temperature=4127.0, stellar_radius=0.49, stellar_mass=0.55, stellar_luminosity=-1.356, stellar_surface_gravity=4.79, stellar_age=None),\n",
       " 'K2-7': Star(spectral_type=None, stellar_effective_temperature=5772.0, stellar_radius=0.96, stellar_mass=0.97, stellar_luminosity=0.405, stellar_surface_gravity=3.82, stellar_age=None),\n",
       " 'K2-70': Star(spectral_type=None, stellar_effective_temperature=5622.0, stellar_radius=0.93, stellar_mass=0.94, stellar_luminosity=-0.429, stellar_surface_gravity=4.48, stellar_age=None),\n",
       " 'K2-71': Star(spectral_type=None, stellar_effective_temperature=4006.0, stellar_radius=0.43, stellar_mass=0.48, stellar_luminosity=-1.519, stellar_surface_gravity=4.85, stellar_age=None),\n",
       " 'K2-73': Star(spectral_type=None, stellar_effective_temperature=5922.0, stellar_radius=1.06, stellar_mass=1.05, stellar_luminosity=0.076, stellar_surface_gravity=4.41, stellar_age=None),\n",
       " 'K2-74': Star(spectral_type=None, stellar_effective_temperature=6060.0, stellar_radius=0.98, stellar_mass=0.96, stellar_luminosity=0.06, stellar_surface_gravity=4.44, stellar_age=None),\n",
       " 'K2-77': Star(spectral_type=None, stellar_effective_temperature=4970.0, stellar_radius=0.76, stellar_mass=0.8, stellar_luminosity=-0.5, stellar_surface_gravity=4.47, stellar_age=0.85),\n",
       " 'K2-79': Star(spectral_type=None, stellar_effective_temperature=5926.0, stellar_radius=1.25, stellar_mass=1.06, stellar_luminosity=0.018, stellar_surface_gravity=4.25, stellar_age=None),\n",
       " 'K2-81': Star(spectral_type=None, stellar_effective_temperature=4674.13, stellar_radius=0.63, stellar_mass=0.75, stellar_luminosity=-0.569, stellar_surface_gravity=4.67, stellar_age=None),\n",
       " 'K2-85': Star(spectral_type=None, stellar_effective_temperature=4427.0, stellar_radius=0.68, stellar_mass=0.68, stellar_luminosity=-0.812, stellar_surface_gravity=4.3, stellar_age=None),\n",
       " 'K2-86': Star(spectral_type=None, stellar_effective_temperature=5482.0, stellar_radius=0.76, stellar_mass=0.79, stellar_luminosity=-0.386, stellar_surface_gravity=4.58, stellar_age=None),\n",
       " 'K2-87': Star(spectral_type=None, stellar_effective_temperature=5747.0, stellar_radius=1.4, stellar_mass=1.16, stellar_luminosity=-0.098, stellar_surface_gravity=4.21, stellar_age=None),\n",
       " 'K2-88': Star(spectral_type=None, stellar_effective_temperature=3537.0, stellar_radius=0.26, stellar_mass=0.26, stellar_luminosity=-1.545, stellar_surface_gravity=5.02, stellar_age=None),\n",
       " 'K2-89': Star(spectral_type=None, stellar_effective_temperature=3691.0, stellar_radius=0.32, stellar_mass=0.35, stellar_luminosity=-1.327, stellar_surface_gravity=4.96, stellar_age=None),\n",
       " ...}"
      ]
     },
     "execution_count": 24,
     "metadata": {},
     "output_type": "execute_result"
    }
   ],
   "source": [
    "# you can now use 'get_stars' to read the data in 'stars_1.csv'\n",
    "\n",
    "stars_1_dict = get_stars(\"stars_1.csv\")\n",
    "stars_1_dict"
   ]
  },
  {
   "cell_type": "markdown",
   "id": "18f1045c",
   "metadata": {
    "deletable": false,
    "editable": false
   },
   "source": [
    "**Question 6:** What is the `Star` object of the star (in `stars_1.csv`) named *DP Leo*?\n",
    "\n",
    "You **must** access the `Star` object in `stars_1_dict` **dictionary** defined above to answer this question."
   ]
  },
  {
   "cell_type": "code",
   "execution_count": 25,
   "id": "0873f43f",
   "metadata": {
    "lines_to_next_cell": 0,
    "tags": []
   },
   "outputs": [
    {
     "data": {
      "text/plain": [
       "Star(spectral_type=None, stellar_effective_temperature=13500.0, stellar_radius=0.01, stellar_mass=0.69, stellar_luminosity=-2.4, stellar_surface_gravity=None, stellar_age=None)"
      ]
     },
     "execution_count": 25,
     "metadata": {},
     "output_type": "execute_result"
    }
   ],
   "source": [
    "# compute and store the answer in the variable 'dp_leo', then display it\n",
    "dp_leo = stars_1_dict[\"DP Leo\"]\n",
    "dp_leo\n",
    "        "
   ]
  },
  {
   "cell_type": "code",
   "execution_count": 26,
   "id": "0a969f1f",
   "metadata": {
    "deletable": false,
    "editable": false
   },
   "outputs": [
    {
     "data": {
      "text/html": [
       "<p><strong><pre style='display: inline;'>q6</pre></strong> passed! 🙌</p>"
      ],
      "text/plain": [
       "q6 results: All test cases passed!"
      ]
     },
     "execution_count": 26,
     "metadata": {},
     "output_type": "execute_result"
    }
   ],
   "source": [
    "grader.check(\"q6\")"
   ]
  },
  {
   "cell_type": "markdown",
   "id": "1b7e5192",
   "metadata": {
    "deletable": false,
    "editable": false
   },
   "source": [
    "**Question 7:** What's the **average** `stellar_luminosity` of **all** the stars in the `star_1.csv` file?\n",
    "\n",
    "You **must** use the `stars_1_dict` **dictionary** defined above to answer this question.\n",
    "\n",
    "To find the average, you **must** first **add** up the `stellar_luminosity` value of all the stars and **divide** by the total **number** of stars. You **must skip** stars which don't have the `stellar_luminosity` data. Such stars should not contribute to either the sum of `stellar_luminosity` or to the number of stars."
   ]
  },
  {
   "cell_type": "code",
   "execution_count": 27,
   "id": "d18e6051",
   "metadata": {
    "lines_to_next_cell": 0,
    "tags": []
   },
   "outputs": [
    {
     "data": {
      "text/plain": [
       "0.017780389523169914"
      ]
     },
     "execution_count": 27,
     "metadata": {},
     "output_type": "execute_result"
    }
   ],
   "source": [
    "# compute and store the answer in the variable 'avg_lum_stars_1', then display it\n",
    "sum_luminosity = 0 \n",
    "count_luminosity = 0 \n",
    "for star in stars_1_dict:\n",
    "    if stars_1_dict[star].stellar_luminosity == None:\n",
    "        continue \n",
    "    sum_luminosity += stars_1_dict[star].stellar_luminosity\n",
    "    count_luminosity += 1\n",
    "    \n",
    "        \n",
    "avg_lum_stars_1 = sum_luminosity / count_luminosity\n",
    "avg_lum_stars_1\n",
    "        "
   ]
  },
  {
   "cell_type": "code",
   "execution_count": 28,
   "id": "b953e06e",
   "metadata": {
    "deletable": false,
    "editable": false
   },
   "outputs": [
    {
     "data": {
      "text/html": [
       "<p><strong><pre style='display: inline;'>q7</pre></strong> passed! 🚀</p>"
      ],
      "text/plain": [
       "q7 results: All test cases passed!"
      ]
     },
     "execution_count": 28,
     "metadata": {},
     "output_type": "execute_result"
    }
   ],
   "source": [
    "grader.check(\"q7\")"
   ]
  },
  {
   "cell_type": "markdown",
   "id": "4b355502",
   "metadata": {
    "deletable": false,
    "editable": false
   },
   "source": [
    "**Question 8:** What is the **average** `stellar_age` of **all** the stars in the `stars_2.csv` file?\n",
    "\n",
    "You **must** use the function `get_stars(csv_file)` to read the data in `stars_2.csv`. Your output **must** be a **float** representing the `stellar_age` in units of *gigayears*. You **must** skip stars which have missing `stellar_age` data."
   ]
  },
  {
   "cell_type": "code",
   "execution_count": 29,
   "id": "0aee52de",
   "metadata": {
    "lines_to_next_cell": 0,
    "tags": []
   },
   "outputs": [
    {
     "data": {
      "text/plain": [
       "4.301453112687156"
      ]
     },
     "execution_count": 29,
     "metadata": {},
     "output_type": "execute_result"
    }
   ],
   "source": [
    "# compute and store the answer in the variable 'avg_age_stars_2', then display it\n",
    "total_age = 0\n",
    "count = 0 \n",
    "for star in get_stars(\"stars_2.csv\"):\n",
    "    if get_stars(\"stars_2.csv\")[star].stellar_age == None:\n",
    "        continue \n",
    "    total_age += get_stars(\"stars_2.csv\")[star].stellar_age\n",
    "    count += 1\n",
    "    \n",
    "avg_age_stars_2 = total_age / count\n",
    "avg_age_stars_2"
   ]
  },
  {
   "cell_type": "code",
   "execution_count": 30,
   "id": "3b014793",
   "metadata": {
    "deletable": false,
    "editable": false
   },
   "outputs": [
    {
     "data": {
      "text/html": [
       "<p><strong><pre style='display: inline;'>q8</pre></strong> passed! 🌟</p>"
      ],
      "text/plain": [
       "q8 results: All test cases passed!"
      ]
     },
     "execution_count": 30,
     "metadata": {},
     "output_type": "execute_result"
    }
   ],
   "source": [
    "grader.check(\"q8\")"
   ]
  },
  {
   "cell_type": "markdown",
   "id": "61810755",
   "metadata": {
    "deletable": false,
    "editable": false
   },
   "source": [
    "### Data Structure 2: `stars_dict`\n",
    "\n",
    "You are now ready to read all the data about the stars stored in the `data` directory. You **must** now create a **dictionary** mapping the `Name` of each star in the `data` directory (inside the files `stars_1.csv`, ..., `stars_5.csv`) to the `Star` object containing all the other details about the star.\n",
    "\n",
    "You **must not** hardcode the files/paths of the files `stars_1.csv`, ..., `stars_5.csv` to answer this question. Instead, you **must** use the `stars_paths` variable defined earlier in Question 4 to get the list of paths needed for this question. You can use the `update` dictionary **method** to combine two **dictionaries**.\n",
    "\n",
    "You must use this dictionary to answer the next 3 questions."
   ]
  },
  {
   "cell_type": "code",
   "execution_count": 31,
   "id": "c7010833",
   "metadata": {
    "tags": []
   },
   "outputs": [],
   "source": [
    "# define the variable 'stars_dict' here,\n",
    "# but do NOT display the variable at the end\n",
    "stars_dict = {}\n",
    "\n",
    "for file in files_in_data:\n",
    "    if file.startswith(\"stars\"):\n",
    "        stars_dict.update(get_stars(file))"
   ]
  },
  {
   "cell_type": "markdown",
   "id": "049120b6",
   "metadata": {
    "deletable": false,
    "editable": false
   },
   "source": [
    "If you wish to **verify** that you have read the files and defined `stars_dict` correctly, you can check that `stars_dict` has **3980** key/value pairs in it."
   ]
  },
  {
   "cell_type": "markdown",
   "id": "ef6c626a",
   "metadata": {
    "deletable": false,
    "editable": false
   },
   "source": [
    "**Question 9:** What is the `stellar_effective_temperature` of the star *Kepler-220*?\n",
    "\n",
    "You **must** access the correct `Star` object in the `stars_dict` **dictionary** defined above to answer this question."
   ]
  },
  {
   "cell_type": "code",
   "execution_count": 32,
   "id": "124c197b",
   "metadata": {
    "lines_to_next_cell": 0,
    "tags": []
   },
   "outputs": [
    {
     "data": {
      "text/plain": [
       "4632.0"
      ]
     },
     "execution_count": 32,
     "metadata": {},
     "output_type": "execute_result"
    }
   ],
   "source": [
    "# compute and store the answer in the variable 'kepler_220_temp', then display it\n",
    "kepler_220_temp = stars_dict[\"Kepler-220\"].stellar_effective_temperature\n",
    "kepler_220_temp"
   ]
  },
  {
   "cell_type": "code",
   "execution_count": 33,
   "id": "5aacf6bc",
   "metadata": {
    "deletable": false,
    "editable": false
   },
   "outputs": [
    {
     "data": {
      "text/html": [
       "<p><strong><pre style='display: inline;'>q9</pre></strong> passed! 💯</p>"
      ],
      "text/plain": [
       "q9 results: All test cases passed!"
      ]
     },
     "execution_count": 33,
     "metadata": {},
     "output_type": "execute_result"
    }
   ],
   "source": [
    "grader.check(\"q9\")"
   ]
  },
  {
   "cell_type": "markdown",
   "id": "e792dfb2",
   "metadata": {
    "deletable": false,
    "editable": false
   },
   "source": [
    "**Question 10:** Find the **name** of the **largest** star (in terms of `stellar_radius`) in the `data` directory.\n",
    "\n",
    "Your output **must** be a **string**. You do **not** need to worry about any ties. You **must** skip any stars with **missing** `stellar_radius` data."
   ]
  },
  {
   "cell_type": "code",
   "execution_count": 34,
   "id": "caf23326",
   "metadata": {
    "tags": []
   },
   "outputs": [
    {
     "data": {
      "text/plain": [
       "'HD 81817'"
      ]
     },
     "execution_count": 34,
     "metadata": {},
     "output_type": "execute_result"
    }
   ],
   "source": [
    "# compute and store the answer in the variable 'biggest_star', then display it\n",
    "biggest_star = None\n",
    "\n",
    "for star in stars_dict:\n",
    "    if stars_dict[star].stellar_radius == None:\n",
    "        continue\n",
    "    if biggest_star == None or stars_dict[biggest_star].stellar_radius < stars_dict[star].stellar_radius:\n",
    "        biggest_star = star\n",
    "biggest_star "
   ]
  },
  {
   "cell_type": "code",
   "execution_count": 35,
   "id": "602f2313",
   "metadata": {
    "deletable": false,
    "editable": false
   },
   "outputs": [
    {
     "data": {
      "text/html": [
       "<p><strong><pre style='display: inline;'>q10</pre></strong> passed! 💯</p>"
      ],
      "text/plain": [
       "q10 results: All test cases passed!"
      ]
     },
     "execution_count": 35,
     "metadata": {},
     "output_type": "execute_result"
    }
   ],
   "source": [
    "grader.check(\"q10\")"
   ]
  },
  {
   "cell_type": "markdown",
   "id": "953cff2f",
   "metadata": {
    "deletable": false,
    "editable": false
   },
   "source": [
    "**Question 11:** What is the **average** `stellar_age` (in gigayears) of **all** the stars in the `data` directory whose names **start with** `\"Kepler\"`?\n",
    "\n",
    "Your output **must** be a **float**. You **must** skip all stars with **missing** `stellar_age` data. Such stars should not contribute to either the sum of `stellar_age` or to the number of stars."
   ]
  },
  {
   "cell_type": "code",
   "execution_count": 36,
   "id": "9916d6cf",
   "metadata": {
    "tags": []
   },
   "outputs": [
    {
     "data": {
      "text/plain": [
       "4.214669749727991"
      ]
     },
     "execution_count": 36,
     "metadata": {},
     "output_type": "execute_result"
    }
   ],
   "source": [
    "# compute and store the answer in the variable 'avg_age_kepler', then display it\n",
    "avg_age_kepler = 0 \n",
    "total_age = 0\n",
    "total_stars = 0 \n",
    "\n",
    "for star in stars_dict:\n",
    "    if star.startswith(\"Kepler\"):\n",
    "        if stars_dict[star].stellar_age == None:\n",
    "            continue\n",
    "        total_age += stars_dict[star].stellar_age\n",
    "        total_stars += 1\n",
    "\n",
    "avg_age_kepler = total_age / total_stars\n",
    "avg_age_kepler"
   ]
  },
  {
   "cell_type": "code",
   "execution_count": 37,
   "id": "929f63aa",
   "metadata": {
    "deletable": false,
    "editable": false
   },
   "outputs": [
    {
     "data": {
      "text/html": [
       "<p><strong><pre style='display: inline;'>q11</pre></strong> passed! 🍀</p>"
      ],
      "text/plain": [
       "q11 results: All test cases passed!"
      ]
     },
     "execution_count": 37,
     "metadata": {},
     "output_type": "execute_result"
    }
   ],
   "source": [
    "grader.check(\"q11\")"
   ]
  },
  {
   "cell_type": "markdown",
   "id": "0c580619",
   "metadata": {
    "deletable": false,
    "editable": false
   },
   "source": [
    "### Data Structure 3: namedtuple `Planet`\n",
    "\n",
    "Just as you did with the stars, you will be using named tuples to store the data about the planets in the `planets_1.csv`, ..., `planets_5.csv` files. Before you start reading these files however, you **must** create a new `Planet` type (using namedtuple). It **must** have the following attributes:\n",
    "\n",
    "* `planet_name`,\n",
    "* `host_name`,\n",
    "* `discovery_method`,\n",
    "* `discovery_year`,\n",
    "* `controversial_flag`,\n",
    "* `orbital_period`,\n",
    "* `planet_radius`,\n",
    "* `planet_mass`,\n",
    "* `semi_major_radius`,\n",
    "* `eccentricity`,\n",
    "* `equilibrium_temperature`\n",
    "* `insolation_flux`."
   ]
  },
  {
   "cell_type": "code",
   "execution_count": 38,
   "id": "f33b8dd7",
   "metadata": {
    "lines_to_next_cell": 0,
    "tags": []
   },
   "outputs": [],
   "source": [
    "# define the namedtuple 'Planet' here\n",
    "\n",
    "planets_attributes = ['planet_name',\n",
    "                     'host_name', \n",
    "                     'discovery_method',\n",
    "                     'discovery_year',\n",
    "                     'controversial_flag',\n",
    "                     'orbital_period',\n",
    "                     'planet_radius',\n",
    "                     'planet_mass',\n",
    "                     'semi_major_radius',\n",
    "                     'eccentricity',\n",
    "                     'equilibrium_temperature',\n",
    "                     'insolation_flux']\n",
    "\n",
    "Planet = namedtuple(\"Planet\", planets_attributes)"
   ]
  },
  {
   "cell_type": "code",
   "execution_count": 39,
   "id": "206f8045",
   "metadata": {
    "tags": []
   },
   "outputs": [
    {
     "data": {
      "text/plain": [
       "Planet(planet_name='Jupiter', host_name='Sun', discovery_method='Imaging', discovery_year=1610, controversial_flag=False, orbital_period=4333.0, planet_radius=11.209, planet_mass=317.828, semi_major_radius=5.2038, eccentricity=0.0489, equilibrium_temperature=110, insolation_flux=0.0345)"
      ]
     },
     "execution_count": 39,
     "metadata": {},
     "output_type": "execute_result"
    }
   ],
   "source": [
    "# run this following cell to initialize and test an example Planet object\n",
    "# if this cell fails to execute, you have likely not defined the namedtuple 'Planet' correctly\n",
    "jupiter = Planet('Jupiter', 'Sun', 'Imaging', 1610, False, 4333.0, 11.209, 317.828, 5.2038, 0.0489, 110, 0.0345)\n",
    "\n",
    "jupiter"
   ]
  },
  {
   "cell_type": "code",
   "execution_count": 40,
   "id": "4aa03b43",
   "metadata": {
    "deletable": false,
    "editable": false
   },
   "outputs": [
    {
     "data": {
      "text/html": [
       "<p><strong><pre style='display: inline;'>planet_object</pre></strong> passed! 🌟</p>"
      ],
      "text/plain": [
       "planet_object results: All test cases passed!"
      ]
     },
     "execution_count": 40,
     "metadata": {},
     "output_type": "execute_result"
    }
   ],
   "source": [
    "grader.check(\"planet_object\")"
   ]
  },
  {
   "cell_type": "markdown",
   "id": "2c1555ac",
   "metadata": {
    "deletable": false,
    "editable": false
   },
   "source": [
    "### Creating `Planet` objects\n",
    "\n",
    "We are now ready to read the files in the `data` directory and create `Planet` objects. Creating `Planet` objects however, is going to be more difficult than creating `Star` objects, because the data required to create a single `Planet` object is split up into different files.\n",
    "\n",
    "The `planets_1.csv`, ..., `planets_5.csv` files contain all the data required to create `Planet` objects **except** for the `host_name`. The `host_name` for each planet is to be found in the `mapping_1.json`, ..., `mapping_5.json` files."
   ]
  },
  {
   "cell_type": "markdown",
   "id": "294645a0",
   "metadata": {
    "deletable": false,
    "editable": false
   },
   "source": [
    "First, let us read the data in `planets_1.csv`. Since this is a CSV file, you can use the `process_csv` function from above to read this file. In the cell below, you **must** read the data in `planets_1.csv` and extract the **header** and the non-header **rows** of the file."
   ]
  },
  {
   "cell_type": "code",
   "execution_count": 41,
   "id": "69f00541",
   "metadata": {
    "tags": []
   },
   "outputs": [],
   "source": [
    "# replace the ... with your code\n",
    "\n",
    "planets_1_csv = process_csv(os.path.join(\"data\", \"planets_1.csv\")) # read the data in 'planets_1.csv'\n",
    "planets_header = planets_1_csv[0]\n",
    "planets_1_rows = planets_1_csv[1:]"
   ]
  },
  {
   "cell_type": "code",
   "execution_count": 42,
   "id": "9ecffa7e",
   "metadata": {},
   "outputs": [
    {
     "name": "stdout",
     "output_type": "stream",
     "text": [
      "['Planet Name', 'Discovery Method', 'Discovery Year', 'Controversial Flag', 'Orbital Period [days]', 'Planet Radius [Earth Radius]', 'Planet Mass [Earth Mass]', 'Orbit Semi-Major Axis [au]', 'Eccentricity', 'Equilibrium Temperature [K]', 'Insolation Flux [Earth Flux]']\n"
     ]
    }
   ],
   "source": [
    "print(planets_header)"
   ]
  },
  {
   "cell_type": "code",
   "execution_count": 43,
   "id": "69b46ba2",
   "metadata": {},
   "outputs": [
    {
     "name": "stdout",
     "output_type": "stream",
     "text": [
      "[['11 Com b', 'Radial Velocity', '2007', '0', '326.03', '12.1', '6165.6', '1.29', '0.231', '', ''], ['11 UMi b', 'Radial Velocity', '2009', '0', '516.21997', '12.3', '4684.8142', '1.53', '0.08', '', ''], ['14 And b', 'Radial Velocity', '2008', '0', '185.84', '12.9', '1525.5', '0.83', '0', '', ''], ['16 Cyg B b', 'Radial Velocity', '1996', '0', '798.5', '13.5', '565.7374', '1.66', '0.68', '', ''], ['17 Sco b', 'Radial Velocity', '2020', '0', '578.38', '12.9', '1373.01872', '1.45', '0.06', '', ''], ['18 Del b', 'Radial Velocity', '2008', '0', '993.3', '12.5', '3273.5', '2.6', '0.08', '', ''], ['1RXS J160929.1-210524 b', 'Imaging', '2008', '0', '', '18.647', '3000', '330', '', '1700', ''], ['24 Boo b', 'Radial Velocity', '2018', '0', '30.3506', '13.9', '289.2253', '0.19', '0.042', '', ''], ['2M0437 b', 'Imaging', '2021', '0', '', '13', '1271.31363', '118', '', '1450', ''], ['2MASS J01033563-5515561 AB b', 'Imaging', '2013', '0', '', '12.3', '4131.79', '84', '', '', ''], ['2MASS J01225093-2439505 b', 'Imaging', '2013', '0', '', '11.209', '7786.5', '52', '', '1600', ''], ['2MASS J02192210-3925225 b', 'Imaging', '2015', '0', '', '16.141', '4417.837', '156', '', '', ''], ['2MASS J04414489+2301513 b', 'Imaging', '2010', '0', '', '12.6', '2383.6', '15', '', '', ''], ['2MASS J12073346-3932539 b', 'Imaging', '2004', '0', '', '12.9', '1589.15', '55', '', '1250', ''], ['2MASS J22362452+4751425 b', 'Imaging', '2016', '0', '', '12.3', '3972.875', '230', '', '', ''], ['30 Ari B b', 'Radial Velocity', '2009', '0', '335.10001', '12.3', '4392.4106', '0.99', '0.29', '', ''], ['4 UMa b', 'Radial Velocity', '2006', '0', '269.3', '12.7', '2256.5', '0.87', '0.432', '', ''], ['42 Dra b', 'Radial Velocity', '2008', '0', '479.1', '13', '1233.13', '1.19', '0.38', '', ''], ['51 Eri b', 'Imaging', '2015', '0', '11688', '13.4', '635.66', '13.2', '0.45', '700', ''], ['51 Peg b', 'Radial Velocity', '1995', '0', '4.230785', '14.3', '146.2018', '0.0527', '0.013', '', ''], ['6 Lyn b', 'Radial Velocity', '2008', '0', '934.3', '13.4', '638.8383', '2.11', '0.073', '', ''], ['70 Vir b', 'Radial Velocity', '1996', '0', '116.688', '12.6', '2380.45', '0.481', '0.3988', '', ''], ['75 Cet b', 'Radial Velocity', '2012', '0', '691.9', '13.1', '953.49', '2.1', '0.117', '', ''], ['8 UMi b', 'Radial Velocity', '2015', '0', '93.4', '13.6', '416.3573', '0.49', '0.06', '', ''], ['81 Cet b', 'Radial Velocity', '2008', '0', '952.7', '12.8', '1684.4', '2.5', '0.206', '', ''], ['91 Aqr b', 'Radial Velocity', '2013', '0', '181.4', '13.1', '1017', '0.7', '0.027', '', ''], ['AB Aur b', 'Imaging', '2022', '0', '', '12.5', '2860.45566', '93.9', '0.4', '', ''], ['AB Pic b', 'Imaging', '2005', '0', '', '12.3', '4290.5', '260', '', '', ''], ['AF Lep b', 'Imaging', '2023', '0', '7520', '12.8', '1664.46737', '7.99', '0.47', '1400', ''], ['BD+03 2562 b', 'Radial Velocity', '2017', '0', '481.9', '12.7', '2034.112', '1.3', '0.2', '', ''], ['BD+14 4559 b', 'Radial Velocity', '2009', '0', '268.94', '13.8', '330.5432', '0.78', '0.29', '', ''], ['BD+15 2375 b', 'Radial Velocity', '2016', '0', '153.22', '13.8', '337.21763', '0.576', '0.001', '', ''], ['BD+15 2940 b', 'Radial Velocity', '2013', '0', '137.48', '13.7', '352.78', '0.539', '0.26', '', ''], ['BD+20 274 b', 'Radial Velocity', '2012', '0', '578.2', '13', '1334.886', '1.3', '0.21', '', ''], ['BD+20 594 b', 'Transit', '2016', '0', '41.6855', '2.578', '22.2481', '0.241', '0', '546', ''], ['BD+45 564 b', 'Radial Velocity', '2021', '0', '307.88', '13.6', '432.24663', '0.83', '0.12', '', ''], ['BD+48 738 b', 'Radial Velocity', '2011', '0', '392.6', '13.9', '289.2253', '1', '0.2', '', ''], ['BD+48 740 b', 'Radial Velocity', '2018', '0', '733', '13.5', '540.311', '1.7', '0.76', '', ''], ['BD+49 828 b', 'Radial Velocity', '2015', '0', '2590', '13.5', '508.5', '4.2', '0.35', '', ''], ['BD+55 362 b', 'Radial Velocity', '2021', '0', '265.59', '14', '228.83645', '0.78', '0.27', '', ''], ['BD+60 1417 b', 'Imaging', '2021', '0', '', '14.684', '4767.4261', '1662', '', '1303', ''], ['BD+63 1405 b', 'Radial Velocity', '2021', '0', '1198.48', '13', '1258.60049', '2.06', '0.88', '', ''], ['BD-00 4475 b', 'Radial Velocity', '2021', '0', '723.2', '12', '7961.6016', '1.48', '0.39', '', ''], ['BD-10 3166 b', 'Radial Velocity', '2000', '0', '3.48777', '14.1', '187.5197', '0.04', '0.02', '', ''], ['BD-13 2130 b', 'Radial Velocity', '2007', '0', '714.29999', '12.5', '3108.3774', '1.66', '0.21', '', ''], ['BD-17 63 b', 'Radial Velocity', '2008', '0', '655.6', '12.8', '1620.9', '1.34', '0.54', '', ''], ['CD Cet b', 'Radial Velocity', '2020', '0', '2.2907', '1.82', '3.95', '0.0185', '', '464', '8.6'], ['CFBDSIR J145829+101343 b', 'Imaging', '2011', '0', '10037.5', '12.4', '3337.1', '2.6', '', '370', ''], ['CFHTWIR-Oph 98 b', 'Imaging', '2021', '0', '8040000', '20.849', '2479.06157', '200', '', '1800', ''], ['CHXR 73 b', 'Imaging', '2006', '0', '', '12.3', '3994.486', '210', '', '', ''], ['CI Tau b', 'Radial Velocity', '2019', '0', '8.9891', '12.4', '3686.828', '', '0.25', '', ''], ['COCONUTS-2 b', 'Imaging', '2021', '0', '402000000', '12.442', '2002.31896', '7506', '', '434', ''], ['CT Cha b', 'Imaging', '2007', '0', '', '24.66', '5403', '440', '', '2600', ''], ['CoRoT-1 b', 'Transit', '2008', '0', '1.5089557', '16.7', '327.35', '0.02752', '0', '1898', '2852.63'], ['CoRoT-10 b', 'Transit', '2010', '0', '13.2406', '10.87', '874', '0.1055', '0.53', '600', ''], ['CoRoT-11 b', 'Transit', '2010', '0', '2.99433', '16.03', '740.51', '0.0436', '0', '1657', ''], ['CoRoT-12 b', 'Transit', '2010', '0', '2.828042', '16.14', '291.438', '0.04016', '0.07', '1442', '661.13'], ['CoRoT-13 b', 'Transit', '2010', '0', '4.03519', '9.92', '415.704', '0.051', '0', '1700', '546.53'], ['CoRoT-14 b', 'Transit', '2010', '0', '1.51214', '12.22', '2415.4', '0.027', '0', '1952', ''], ['CoRoT-16 b', 'Transit', '2011', '0', '5.35227', '13.11', '170.032', '0.0618', '0.33', '', ''], ['CoRoT-17 b', 'Transit', '2011', '0', '3.7681', '11.43', '772.29', '0.0461', '0', '1626', ''], ['CoRoT-18 b', 'Transit', '2011', '0', '1.9000693', '14.68', '1102.82', '0.0295', '0.08', '1550', '823.7'], ['CoRoT-19 b', 'Transit', '2011', '0', '3.89713', '14.46', '352.78', '0.0518', '0.047', '2000', '1103.81'], ['CoRoT-2 b', 'Transit', '2008', '0', '1.7429935', '16.432', '1102.82', '0.02798', '0.0143', '1521', '932.91'], ['CoRoT-21 b', 'Transit', '2012', '0', '2.72474', '14.572', '718.2958', '0.0417', '0', '', ''], ['CoRoT-22 b', 'Transit', '2014', '0', '9.75598', '4.88', '12.2', '0.092', '0.077', '885', ''], ['CoRoT-23 b', 'Transit', '2011', '0', '3.6313', '11.77', '889.9', '0.048', '0.16', '1660', ''], ['CoRoT-25 b', 'Transit', '2013', '0', '4.86069', '12.11', '85.81', '0.0578', '0', '1330', ''], ['CoRoT-26 b', 'Transit', '2013', '0', '4.20474', '14.12', '165.26', '0.0526', '0', '1600', ''], ['CoRoT-27 b', 'Transit', '2014', '0', '3.57532', '11.287', '3302.11', '0.0476', '0.065', '1500', ''], ['CoRoT-28 b', 'Transit', '2015', '0', '5.20851', '10.705', '153.82972', '0.0603', '0.047', '', ''], ['CoRoT-29 b', 'Transit', '2015', '0', '2.85057', '10.088', '270.1555', '0.0386', '0.082', '', ''], ['CoRoT-3 b', 'Transit', '2008', '0', '4.2568', '11.32', '6883.91', '0.05783', '0', '1695', ''], ['CoRoT-30 b', 'Transit', '2020', '0', '9.06005', '11.31', '921.707', '0.0844', '0.007', '', ''], ['CoRoT-31 b', 'Transit', '2020', '0', '4.62941', '16.365', '266.9772', '0.0586', '0.02', '', ''], ['CoRoT-35 b', 'Transit', '2022', '0', '3.22748', '18.831', '349.61125', '0.0429', '0', '1747', ''], ['CoRoT-36 b', 'Transit', '2022', '0', '5.616531', '15.805', '216.12332', '0.066', '0', '1567', ''], ['CoRoT-4 b', 'Transit', '2008', '0', '9.20205', '13.34', '228.83', '0.09', '0', '1074', '203.95'], ['CoRoT-5 b', 'Transit', '2009', '0', '4.0378962', '15.558', '148.42', '0.04947', '0.09', '1438', '786.29'], ['CoRoT-6 b', 'Transit', '2009', '0', '8.886593', '13.068', '940.74', '0.0855', '0.1', '1017', ''], ['CoRoT-8 b', 'Transit', '2010', '0', '6.21229', '6.39', '69.92', '0.063', '0', '870', ''], ['CoRoT-9 b', 'Transit', '2009', '0', '95.272656', '11.949', '266.9772', '0.4021', '0.133', '420', ''], ['CoRoTID 223977153 b', 'Transit', '2017', '0', '6.71837', '6.389', '47.6745', '0.071', '', '938', '132.26'], ['DE CVn b', 'Eclipse Timing Variations', '2018', '0', '4098.1', '12.4', '3823.2733', '5.75', '0', '', ''], ['DENIS-P J082303.1-491201 b', 'Astrometry', '2013', '0', '246.36', '11.9', '9057.77', '0.36', '0.345', '', ''], ['DH Tau b', 'Imaging', '2004', '0', '', '30.264', '3496', '330', '', '2200', ''], ['DMPP-2 b', 'Radial Velocity', '2019', '0', '5.2072', '14.3', '138.89171', '0.0664', '0.078', '1000', ''], ['DMPP-3 A b', 'Radial Velocity', '2019', '0', '6.6732', '1.41', '2.58', '0.0662', '0.14', '854', ''], ['DP Leo b', 'Eclipse Timing Variations', '2009', '0', '10220', '12.7', '1995.88832', '8.19', '0.39', '', ''], ['DS Tuc A b', 'Transit', '2019', '0', '8.138268', '5.7', '413.179', '', '0', '850', '115.83'], ['EPIC 201170410.02', 'Transit', '2020', '0', '6.7987', '1.047', '1.15', '0.0349', '0', '', ''], ['EPIC 201238110 b', 'Transit', '2019', '0', '28.1656', '1.87', '4.16', '', '', '', ''], ['EPIC 201427007 b', 'Transit', '2021', '0', '0.72091', '1.5', '2.86', '', '', '', ''], ['EPIC 201497682 b', 'Transit', '2019', '0', '2.13174', '0.692', '0.26', '', '', '', ''], ['EPIC 201595106 b', 'Transit', '2021', '0', '0.877214', '1.3', '2.24', '', '', '1874', ''], ['EPIC 201757695.02', 'Transit', '2020', '0', '2.0478', '0.908', '0.688', '0.0296', '0', '', ''], ['EPIC 201841433 b', 'Transit', '2019', '0', '4.1698', '1.04', '1.12', '0.035', '', '', ''], ['EPIC 206032309 b', 'Transit', '2019', '0', '2.87814', '1.01', '1.01', '', '', '', ''], ['EPIC 206215704 b', 'Transit', '2019', '0', '2.255436', '1', '0.972', '', '', '', ''], ['EPIC 211822797 b', 'Transit', '2016', '0', '21.1701963', '1.92', '4.35', '0.1195', '0.06', '431', '3.5'], ['EPIC 211945201 b', 'Transit', '2018', '0', '19.49221', '5.76', '27', '0.1493', '0', '817', '31.91'], ['EPIC 212424622 b', 'Transit', '2019', '0', '18.0983', '2.17', '5.35', '', '', '', ''], ['EPIC 212499991 b', 'Transit', '2019', '0', '34.885', '1.6', '3.19', '', '', '', ''], ['EPIC 220492298 b', 'Transit', '2021', '0', '0.762406', '0.99', '0.937', '', '', '', ''], ['EPIC 228836835 b', 'Transit', '2021', '0', '0.728113', '1.1', '1.37', '', '', '932', ''], ['EPIC 246851721 b', 'Transit', '2018', '0', '6.180235', '11.781', '953.49', '0.07229', '', '1401', '642'], ['EPIC 248847494 b', 'Transit', '2018', '0', '3650', '12.442', '4131.79', '4.5', '0', '183', '0.19'], ['FU Tau b', 'Imaging', '2008', '0', '', '12.2', '5085.28', '800', '', '2375', ''], ['G 9-40 b', 'Transit', '2019', '0', '5.746007', '2.025', '11.7', '0.0385', '0', '456', '7.2'], ['GJ 1151 c', 'Radial Velocity', '2023', '0', '389.7', '3.25', '10.62', '0.5714', '', '', ''], ['GJ 1214 b', 'Transit', '2009', '0', '1.58040433', '2.742', '8.17', '0.0149', '0.063', '596', '21'], ['GJ 1252 b', 'Transit', '2020', '0', '0.5182416', '1.18', '1.32', '0.00915', '0', '1089', '233'], ['GJ 1265 b', 'Radial Velocity', '2018', '0', '3.6511', '2.63', '7.4', '0.026', '0.04', '', ''], ['GJ 160.2 b', 'Radial Velocity', '2014', '0', '5.2354', '3.17', '10.2', '0.053', '0.06', '', ''], ['GJ 179 b', 'Radial Velocity', '2009', '0', '2288', '13.9', '260.61', '2.41', '0.21', '', ''], ['GJ 2056 b', 'Radial Velocity', '2020', '0', '69.971', '4.17', '16.2', '0.283', '0.72', '', ''], ['GJ 251 b', 'Radial Velocity', '2020', '0', '14.238', '1.83', '4', '0.0818', '0.1', '351', '2.53'], ['GJ 27.1 b', 'Radial Velocity', '2014', '0', '15.819', '3.66', '13', '0.101', '0.08', '', ''], ['GJ 3021 b', 'Radial Velocity', '2000', '0', '133.71', '13.1', '1071.04', '0.49', '0.511', '350', ''], ['GJ 3082 b', 'Radial Velocity', '2020', '0', '11.949', '2.79', '8.2', '0.079', '0.22', '', ''], ['GJ 3090 b', 'Transit', '2022', '0', '2.853136', '2.13', '3.34', '0.03165', '0.32', '693', '42.23'], ['GJ 3222 b', 'Radial Velocity', '2022', '0', '10.6666864', '3.45', '11.73969', '0.091179', '0.929006', '', ''], ['GJ 328 b', 'Radial Velocity', '2013', '0', '4100', '13.3', '731', '4.5', '0.37', '', ''], ['GJ 3341 b', 'Radial Velocity', '2015', '0', '14.207', '2.46', '6.6', '0.089', '0.31', '', ''], ['GJ 338 B b', 'Radial Velocity', '2020', '0', '24.422', '3.25', '10.6', '0.142', '0.109', '391', ''], ['GJ 3470 b', 'Radial Velocity', '2012', '0', '3.3366496', '4.57', '13.9', '0.0355', '0.017', '594', '40.58'], ['GJ 3634 b', 'Radial Velocity', '2010', '0', '2.64561', '2.83', '8.4', '0.0287', '0.08', '', ''], ['GJ 367 b', 'Transit', '2021', '0', '0.321962', '0.718', '0.546', '0.0071', '0', '1745', '586.61'], ['GJ 3779 b', 'Radial Velocity', '2018', '0', '3.0232', '2.75', '8', '0.026', '0.07', '', ''], ['GJ 393 b', 'Radial Velocity', '2021', '0', '7.02679', '1.17', '1.71', '0.05402', '', '485', '9.21'], ['GJ 3942 b', 'Radial Velocity', '2017', '0', '6.905', '2.57', '7.14', '0.0608', '0.121', '590', ''], ['GJ 422 b', 'Radial Velocity', '2014', '0', '20.129', '3.33', '11.07', '0.111', '0.11', '', ''], ['GJ 4276 b', 'Radial Velocity', '2019', '0', '13.352', '4.22', '16.57', '0.082', '0.37', '', ''], ['GJ 436 b', 'Radial Velocity', '2004', '0', '2.64388312', '4.17', '22.1', '0.0291', '0.13827', '686', '29.43'], ['GJ 463 b', 'Radial Velocity', '2022', '0', '3448', '13', '1144.18227', '3.53', '0.09', '', ''], ['GJ 480 b', 'Radial Velocity', '2020', '0', '9.567', '3.69', '13.2', '0.068', '0.1', '', ''], ['GJ 486 b', 'Radial Velocity', '2021', '0', '1.467119', '1.305', '2.82', '0.01734', '0.05', '701', '40.3'], ['GJ 504 b', 'Imaging', '2013', '0', '', '13', '1271.3', '43.5', '', '510', ''], ['GJ 514 b', 'Radial Velocity', '2022', '0', '140.43', '2.13', '5.2', '0.422', '0.45', '202', '0.28'], ['GJ 536 b', 'Radial Velocity', '2016', '0', '8.7076', '2.17', '5.36', '0.06661', '0.08', '', ''], ['GJ 625 b', 'Radial Velocity', '2017', '0', '14.628', '1.49', '2.82', '0.078361', '0.13', '', ''], ['GJ 649 b', 'Radial Velocity', '2009', '0', '598.3', '12.5', '104.244', '1.135', '0.3', '', ''], ['GJ 674 b', 'Radial Velocity', '2007', '0', '4.6938', '3.33', '11.09', '0.039', '0.2', '', ''], ['GJ 680 b', 'Radial Velocity', '2022', '0', '17281.66514', '12', '7764.94529', '10.121898', '0.381243', '', ''], ['GJ 685 b', 'Radial Velocity', '2019', '0', '24.16', '2.95', '9', '0.1344', '0', '', ''], ['GJ 720 A b', 'Radial Velocity', '2021', '0', '19.466', '3.77', '13.64', '0.119', '0.12', '401', ''], ['GJ 740 b', 'Radial Velocity', '2021', '0', '2.37756', '1.53', '2.96', '0.029', '0.24', '829', '79'], ['GJ 832 b', 'Radial Velocity', '2008', '0', '3657', '14', '216', '3.56', '0.08', '', ''], ['GJ 86 b', 'Radial Velocity', '1999', '0', '15.76491', '12.9', '1404.8086', '0.11', '0.04', '', ''], ['GJ 896 A b', 'Astrometry', '2022', '0', '284.39', '13.3', '718.2922', '0.63965', '0.35', '', ''], ['GJ 9066 c', 'Radial Velocity', '2020', '0', '771.36', '9.6', '66.74397', '0.88', '0.46', '', ''], ['GJ 96 b', 'Radial Velocity', '2018', '0', '73.94', '4.67', '19.66', '0.291', '0.44', '', ''], ['GJ 9689 b', 'Radial Velocity', '2020', '0', '18.27', '3.07', '9.65', '0.1139', '0.29', '453', ''], ['GJ 9714 b', 'Radial Velocity', '2022', '0', '19240.75467', '12.5', '3051.24439', '12.341073', '0.155099', '', ''], ['GPX-1 b', 'Transit', '2021', '0', '1.744579', '16.477', '6261.21962', '0.0338', '0', '2300', '4650'], ['GQ Lup b', 'Imaging', '2004', '0', '', '33.6', '6356', '100', '', '2650', ''], ['GSC 06214-00210 b', 'Imaging', '2010', '0', '', '20.176', '5000', '320', '', '2300', ''], ['GU Psc b', 'Imaging', '2014', '0', '', '14.179', '3591.3', '2000', '', '1050', ''], ['Gaia-1 b', 'Transit', '2022', '0', '3.052524', '13.776', '533.95172', '0.04047', '', '', ''], ['Gaia-2 b', 'Transit', '2022', '0', '3.6915224', '14.818', '259.66581', '0.0467', '', '1213', '512.02'], ['Gl 378 b', 'Radial Velocity', '2019', '0', '3.822', '3.66', '13.02', '0.039435', '0.109', '830', ''], ['Gl 49 b', 'Radial Velocity', '2019', '0', '13.8508', '2.24', '5.63', '0.0905', '0.363', '', ''], ['Gl 686 b', 'Radial Velocity', '2018', '0', '15.53', '2.46', '6.624', '0.091', '0.05', '379', ''], ['HAT-P-1 b', 'Transit', '2006', '0', '4.46529976', '14.785', '166.86075', '0.05561', '0', '1322', '243.7'], ['HAT-P-12 b', 'Transit', '2009', '0', '3.2130598', '10.749', '67.059', '0.0384', '0', '963', '118.08'], ['HAT-P-14 b', 'Transit', '2010', '0', '4.62767', '15.917', '1093.3352', '0.0596', '0.11', '1624', '1038.78'], ['HAT-P-15 b', 'Transit', '2010', '0', '10.8635', '11.882', '616.5902', '0.0965', '0.19', '904', '79.76'], ['HAT-P-16 b', 'Transit', '2010', '0', '2.77596', '14.448', '1332.605', '0.0413', '0.036', '1626', '1186.35'], ['HAT-P-18 b', 'Transit', '2010', '0', '5.508023', '11.153', '62.61', '0.0559', '0.084', '852', '82.24'], ['HAT-P-19 b', 'Transit', '2010', '0', '4.008778', '12.689', '92.802', '0.0466', '0.067', '1010', '165.19'], ['HAT-P-2 b', 'Transit', '2007', '0', '5.6335158', '10.66', '2765.121', '0.06814', '0.5172', '1540', '839.62'], ['HAT-P-20 b', 'Transit', '2010', '0', '2.875317', '9.718', '2302.899', '0.0361', '0.015', '970', '145.71'], ['HAT-P-21 b', 'Transit', '2010', '0', '4.12448', '12.442', '1547.8321', '0.0494', '0.23', '1283', '459.54'], ['HAT-P-22 b', 'Transit', '2010', '0', '3.21222', '12.89', '785.0401', '0.0414', '0.02', '1463', '325.57'], ['HAT-P-23 b', 'Transit', '2010', '0', '1.21288', '12.218', '425.8922', '0.0232', '0.11', '1951', '2796.38'], ['HAT-P-24 b', 'Transit', '2010', '0', '3.35524', '14.572', '238.3725', '0.04651', '0.07', '1637', '1047.12'], ['HAT-P-25 b', 'Transit', '2010', '0', '3.65281514', '12.722', '180.84527', '0.0466', '0.023', '1182', '325'], ['HAT-P-26 b', 'Transit', '2010', '0', '4.23452', '7.062', '22.2481', '0.0479', '0.12', '1001', '185.07'], ['HAT-P-27 b', 'Transit', '2011', '0', '3.039577', '11.43', '197.05', '0.04', '0', '1092', '336.04'], ['HAT-P-28 b', 'Transit', '2011', '0', '3.257215', '13.585', '198.953', '0.0434', '0.051', '1384', '554.71'], ['HAT-P-29 b', 'Transit', '2011', '0', '5.72319', '13.115', '279.6904', '0.0667', '0.09', '1271', '433'], ['HAT-P-3 b', 'Transit', '2007', '0', '2.8997', '10.536', '206.5895', '0.03866', '0', '1189', '176.59'], ['HAT-P-30 b', 'Transit', '2011', '0', '2.8106', '16.141', '263.7989', '0.0419', '0.04', '1630', '1467.96'], ['HAT-P-31 b', 'Transit', '2011', '0', '5.00542', '12.218', '721.4741', '0.061', '0.25', '1450', '746.9'], ['HAT-P-32 b', 'Transit', '2011', '0', '2.1500082', '22.194', '216.1244', '0.03397', '0.159', '1836', '1841'], ['HAT-P-33 b', 'Transit', '2011', '0', '3.47447', '20.737', '292.4036', '0.04995', '0', '1782', '1701.38'], ['HAT-P-34 b', 'Transit', '2011', '0', '5.452654', '13.417', '1058.3739', '0.06774', '0.432', '1520', '433.78'], ['HAT-P-35 b', 'Transit', '2011', '0', '3.646706', '14.93', '335.62848', '0.04978', '0.02', '1581', '999.67'], ['HAT-P-36 b', 'Transit', '2011', '0', '1.32734683', '14.314', '587.41341', '0.0241', '0.063', '1781', '1821'], ['HAT-P-37 b', 'Transit', '2011', '0', '2.797436', '13.204', '371.528', '0.0379', '0.058', '1271', '412.4'], ['HAT-P-38 b', 'Transit', '2012', '0', '4.640382', '9.247', '84.857', '0.0523', '0.067', '1082', '243.03'], ['HAT-P-39 b', 'Transit', '2012', '0', '3.54387', '17.609', '190.372', '0.0509', '0', '1752', '1319.04'], ['HAT-P-4 b', 'Transit', '2007', '0', '3.056536', '14.28', '213.255', '0.04438', '0', '1686', '1438'], ['HAT-P-40 b', 'Transit', '2012', '0', '4.45724', '17.038', '152.5584', '0.0608', '0', '1770', '1747.42'], ['HAT-P-41 b', 'Transit', '2012', '0', '2.69405', '22.978', '378.2177', '0.04258', '0', '1941', '2485.07'], ['HAT-P-42 b', 'Transit', '2012', '0', '4.641878', '14.348', '331.801', '0.0575', '0', '1428', '469.05'], ['HAT-P-43 b', 'Transit', '2012', '0', '3.3326414', '13.63', '210.395', '0.0444', '0.21', '1353', '524.35'], ['HAT-P-45 b', 'Transit', '2014', '0', '3.128992', '15.984', '283.492', '0.0452', '0.049', '1652', ''], ['HAT-P-46 b', 'Transit', '2014', '0', '4.463129', '14.392', '156.684', '0.0577', '0.123', '1458', ''], ['HAT-P-49 b', 'Transit', '2014', '0', '2.69155', '17.822', '699.226', '0.04378', '0', '2131', '6508.84'], ['HAT-P-5 b', 'Transit', '2007', '0', '2.78849', '13.563', '311.4734', '0.04073', '0', '1539', '653.75'], ['HAT-P-50 b', 'Transit', '2015', '0', '3.1220109', '14.437', '429.0705', '0.0453', '0.115', '1862', '1198.68'], ['HAT-P-51 b', 'Transit', '2015', '0', '4.2180278', '14.493', '98.20947', '0.05069', '0.123', '1192', '311.71'], ['HAT-P-52 b', 'Transit', '2015', '0', '2.7535953', '11.31', '259.98494', '0.03694', '0.047', '1218', '227.76'], ['HAT-P-53 b', 'Transit', '2015', '0', '1.9616241', '14.773', '471.65972', '0.03159', '0.134', '1778', '1611.53'], ['HAT-P-54 b', 'Transit', '2015', '0', '3.799847', '10.581', '241.5508', '0.04117', '0.074', '818', '22.2'], ['HAT-P-55 b', 'Transit', '2015', '0', '3.5852467', '13.249', '184.97706', '0.04604', '0.139', '1313', '410.03'], ['HAT-P-56 b', 'Transit', '2015', '0', '2.79083', '16.926', '734.1873', '0.0423', '0.29', '1840', '3515'], ['HAT-P-57 b', 'Transit', '2015', '0', '2.4653', '19.504', '448.1403', '0.0406', '0', '2200', ''], ['HAT-P-58 b', 'Transit', '2021', '0', '4.0138379', '14.93', '118.23217', '0.04994', '0.073', '1622', '1146'], ['HAT-P-59 b', 'Transit', '2021', '0', '4.1419771', '12.588', '489.45575', '0.05064', '0.03', '1278', '441.4'], ['HAT-P-6 b', 'Transit', '2007', '0', '3.85298', '16.589', '419.5356', '0.05239', '0', '1675', '1669.87'], ['HAT-P-60 b', 'Transit', '2021', '0', '4.7947813', '18.282', '182.43351', '0.06277', '0.25', '1772', '1634'], ['HAT-P-61 b', 'Transit', '2021', '0', '1.90231289', '10.077', '335.94463', '0.0301', '0.113', '1505', '849.5'], ['HAT-P-62 b', 'Transit', '2021', '0', '2.6453235', '12.027', '241.86742', '0.03772', '0.101', '1512', '867.2'], ['HAT-P-63 b', 'Transit', '2021', '0', '3.377728', '12.543', '195.14664', '0.04294', '0.069', '1237', '387.4'], ['HAT-P-64 b', 'Transit', '2021', '0', '4.007232', '19.089', '184.34048', '0.05387', '0.101', '1766', '1611'], ['HAT-P-65 b', 'Transit', '2016', '0', '2.6054552', '21.185', '167.49641', '0.03951', '0.304', '1930', '2114.86'], ['HAT-P-66 b', 'Transit', '2016', '0', '2.972086', '17.822', '248.86089', '0.04363', '0.09', '1896', '1939.51'], ['HAT-P-67 b', 'Transit', '2017', '0', '4.8101025', '23.371', '108.0622', '0.06505', '0', '1903', '2884.55'], ['HAT-P-68 b', 'Transit', '2020', '0', '2.29840551', '12.016', '230.10892', '0.02996', '0.041', '1028', '184.8'], ['HAT-P-69 b', 'Transit', '2019', '0', '4.7869491', '18.786', '1137.8314', '0.06555', '0', '1930', '2238.59'], ['HAT-P-7 b', 'Transit', '2008', '0', '2.20474', '16.926', '584.8072', '0.03676', '0', '2733', '4353.41'], ['HAT-P-70 b', 'Transit', '2019', '0', '2.74432452', '20.961', '2154.8874', '0.04739', '0', '2562', '5626.34'], ['HAT-P-8 b', 'Transit', '2008', '0', '3.07634', '15.693', '406.8224', '0.04496', '0', '1700', '1519.96'], ['HAT-P-9 b', 'Transit', '2008', '0', '3.92281072', '15.614', '238.05467', '0.05287', '0.084', '1540', '931'], ['HATS-1 b', 'Transit', '2012', '0', '3.446459', '14.594', '589.55', '0.0444', '0.12', '1359', '489.95'], ['HATS-10 b', 'Transit', '2015', '0', '3.312846', '10.862', '167.17858', '0.04491', '0.501', '1407', ''], ['HATS-11 b', 'Transit', '2016', '0', '3.619188', '18.03', '263.7989', '0.0507', '0.34', '1596', ''], ['HATS-12 b', 'Transit', '2016', '0', '3.142702', '7.76', '759.6137', '0.0441', '0.085', '1446', ''], ['HATS-13 b', 'Transit', '2015', '0', '3.0440499', '13.585', '172.58169', '0.04057', '0.181', '1244', '315.99'], ['HATS-14 b', 'Transit', '2015', '0', '2.7667641', '11.646', '340.39593', '0.03815', '0.142', '1276', '505.89'], ['HATS-15 b', 'Transit', '2016', '0', '1.74748753', '12.386', '689.6911', '0.02712', '0.126', '1505', ''], ['HATS-16 b', 'Transit', '2016', '0', '2.686502', '14.572', '1039.3041', '0.03744', '0', '1592', '994.81'], ['HATS-17 b', 'Transit', '2016', '0', '16.254611', '8.709', '425.25654', '0.1308', '0.029', '814', '72.7'], ['HATS-18 b', 'Transit', '2016', '0', '0.83784', '14.897', '629.14449', '0.0174', '0.166', '2069', '2990'], ['HATS-2 b', 'Transit', '2013', '0', '1.354133', '13.092', '427.463', '0.023', '0', '1577', '667.12'], ['HATS-22 b', 'Transit', '2017', '0', '4.7228124', '10.682', '870.8542', '0.05025', '0.079', '858', '111.3'], ['HATS-23 b', 'Transit', '2017', '0', '2.1605156', '20.849', '467.2101', '0.03397', '0.114', '1654', ''], ['HATS-24 b', 'Transit', '2017', '0', '1.3484978', '15.637', '718.2958', '0.0238', '0', '2166', '2706.96'], ['HATS-25 b', 'Transit', '2016', '0', '4.2986432', '14.123', '194.82979', '0.05163', '0.176', '1277', '326.89'], ['HATS-26 b', 'Transit', '2016', '0', '3.3023881', '19.616', '206.5895', '0.04735', '0.245', '1918', '2236.58'], ['HATS-27 b', 'Transit', '2016', '0', '4.637038', '16.814', '168.4499', '0.0611', '0.581', '1659', '1342.57'], ['HATS-28 b', 'Transit', '2016', '0', '3.1810781', '13.384', '213.58176', '0.04131', '0.202', '1253', ''], ['HATS-29 b', 'Transit', '2016', '0', '4.6058749', '14.022', '207.54299', '0.05475', '0.158', '1212', ''], ['HATS-3 b', 'Transit', '2013', '0', '3.547851', '15.48', '340.382', '0.0485', '0', '1648', '1212'], ['HATS-30 b', 'Transit', '2016', '0', '3.1743516', '13.171', '224.38798', '0.04354', '0.096', '1414', '718.91'], ['HATS-31 b', 'Transit', '2016', '0', '3.37796', '18.383', '279.6904', '0.0478', '0.233', '1823', ''], ['HATS-32 b', 'Transit', '2016', '0', '2.8126548', '14', '292.4036', '0.04024', '0.471', '1437', '614.59'], ['HATS-33 b', 'Transit', '2016', '0', '2.5495551', '13.787', '378.85336', '0.03727', '0.08', '1429', '757.13'], ['HATS-34 b', 'Transit', '2016', '0', '2.1061607', '16.029', '299.07803', '0.03166', '0.108', '1445', '691.84'], ['HATS-35 b', 'Transit', '2016', '0', '1.8209993', '16.41', '388.38826', '0.03199', '0.306', '2037', '2440.7'], ['HATS-36 b', 'Transit', '2018', '0', '4.175186', '12.92', '1022.14128', '0.0523', '0.105', '1203', '561'], ['HATS-37 A b', 'Transit', '2020', '0', '4.3315366', '6.793', '31.46517', '0.04913', '0', '1085', '229.7'], ['HATS-38 b', 'Transit', '2020', '0', '4.375021', '6.882', '23.51942', '0.05036', '0', '1294', '464.7'], ['HATS-39 b', 'Transit', '2018', '0', '4.5776348', '17.598', '200.2329', '0.06007', '0.275', '1645', '1547.1'], ['HATS-4 b', 'Transit', '2014', '0', '2.516729', '11.433', '420.471', '0.0362', '0.013', '1315', '558.83'], ['HATS-40 b', 'Transit', '2018', '0', '3.2642736', '17.71', '505.3497', '0.04997', '0.312', '2101', '3163.38'], ['HATS-41 b', 'Transit', '2018', '0', '4.193649', '14.908', '3082.951', '0.0583', '0.38', '1710', '1300.31'], ['HATS-42 b', 'Transit', '2018', '0', '2.292102', '15.693', '597.5204', '0.03689', '0.229', '1856', '1637.21'], ['HATS-43 b', 'Transit', '2018', '0', '4.3888497', '13.227', '82.95363', '0.04944', '0.173', '1003', '192.23'], ['HATS-44 b', 'Transit', '2018', '0', '2.7439004', '11.96', '177.9848', '0.03649', '0.279', '1161', '306.42'], ['HATS-45 b', 'Transit', '2018', '0', '4.1876244', '14.415', '222.481', '0.05511', '0.24', '1518', '811.35'], ['HATS-46 b', 'Transit', '2018', '0', '4.7423729', '10.122', '54.98459', '0.05367', '0.559', '1054', '209.77'], ['HATS-47 b', 'Transit', '2020', '0', '3.9228038', '12.52', '117.27927', '0.04269', '0.088', '853', '87.73'], ['HATS-48 A b', 'Transit', '2020', '0', '3.1316666', '8.967', '77.23269', '0.03769', '0.162', '955', '137.6'], ['HATS-49 b', 'Transit', '2020', '0', '4.1480467', '8.575', '112.19399', '0.04515', '0.071', '835', '80.45'], ['HATS-5 b', 'Transit', '2014', '0', '4.763387', '10.223', '75.323', '0.0542', '0.019', '1025', '183.24'], ['HATS-50 b', 'Transit', '2017', '0', '3.8297015', '12.666', '123.9537', '0.05046', '0.516', '', ''], ['HATS-51 b', 'Transit', '2017', '0', '3.3488702', '15.805', '244.09344', '0.04639', '0.33', '1553', '740.22'], ['HATS-52 b', 'Transit', '2017', '0', '1.36665436', '15.491', '711.9392', '0.02498', '0.246', '1834', '1310.22'], ['HATS-53 b', 'Transit', '2017', '0', '3.8537768', '15.02', '189.10885', '0.04753', '0.33', '1312', '471.61'], ['HATS-54 b', 'Transit', '2019', '0', '2.5441765', '11.377', '239.32479', '0.037', '0', '1429', '476.97'], ['HATS-55 b', 'Transit', '2019', '0', '4.2042001', '14.022', '292.72143', '0.05412', '0.092', '1367', '355.91'], ['HATS-56 b', 'Transit', '2019', '0', '4.324799', '18.921', '191.33366', '0.06043', '0.019', '1902', '1080.87'], ['HATS-57 b', 'Transit', '2019', '0', '2.350621', '12.767', '1000.21101', '0.03493', '0.028', '1413', '570.23'], ['HATS-58 A b', 'Transit', '2019', '0', '4.2180896', '12.274', '327.3649', '0.05798', '0.168', '1721', '382.71'], ['HATS-6 b', 'Transit', '2015', '0', '3.3252725', '11.187', '101.38777', '0.03623', '0', '713', '47.33'], ['HATS-60 b', 'Transit', '2018', '0', '3.560829', '12.924', '210.40346', '0.04708', '0.191', '1528', '903.9'], ['HATS-61 b', 'Transit', '2018', '0', '7.817953', '13.395', '1080.622', '0.07908', '0.092', '1226', '374.2'], ['HATS-62 b', 'Transit', '2018', '0', '3.2768837', '11.825', '56.89157', '0.04163', '0.298', '1237', '387.4'], ['HATS-63 b', 'Transit', '2018', '0', '3.0566527', '13.529', '305.1168', '0.04026', '0.136', '1398', '634.1'], ['HATS-64 b', 'Transit', '2018', '0', '4.908897', '18.82', '305.1168', '0.06562', '0.151', '1793', '1711'], ['HATS-65 b', 'Transit', '2018', '0', '3.105161', '16.825', '260.93843', '0.04497', '0.062', '1634', '1178'], ['HATS-66 b', 'Transit', '2018', '0', '3.1414391', '15.816', '1694.0339', '0.04714', '0.064', '1998', '2637'], ['HATS-67 b', 'Transit', '2018', '0', '1.6091788', '18.887', '460.8535', '0.03032', '0.057', '2193', '3821'], ['HATS-68 b', 'Transit', '2018', '0', '3.5862202', '13.809', '410.0007', '0.05071', '0.036', '1741', '1521'], ['HATS-69 b', 'Transit', '2018', '0', '2.2252577', '10.593', '183.38791', '0.03211', '0.519', '1296', '466.6'], ['HATS-7 b', 'Transit', '2015', '0', '3.185315', '6.311', '38.1396', '0.04012', '0.17', '1084', '211.62'], ['HATS-70 b', 'Transit', '2019', '0', '1.8882378', '15.513', '4100.007', '0.03632', '0.18', '2730', '9110'], ['HATS-71 b', 'Transit', '2020', '0', '3.7955202', '11.478', '117.5971', '0.03745', '0', '587', '18.08'], ['HATS-72 b', 'Transit', '2020', '0', '7.3279474', '8.097', '39.85588', '0.066517', '0.013', '739', '49.58'], ['HATS-74 A b', 'Transit', '2021', '0', '1.73185606', '11.568', '464.02947', '0.02384', '0.044', '895', '106.9'], ['HATS-75 b', 'Transit', '2021', '0', '2.7886556', '9.909', '156.05375', '0.032742', '0.064', '772', '59.26'], ['HATS-76 b', 'Transit', '2021', '0', '1.9416423', '12.094', '835.57088', '0.02658', '0.062', '940', '129.8'], ['HATS-77 b', 'Transit', '2021', '0', '3.0876262', '13.058', '436.69623', '0.03607', '0.045', '828', '78.37'], ['HATS-8 b', 'Transit', '2015', '0', '3.583893', '9.785', '43.86054', '0.04667', '0.376', '1324', ''], ['HATS-9 b', 'Transit', '2015', '0', '1.915291', '13.85', '266.02371', '0.0312', '0.075', '1746', ''], ['HD 100546 b', 'Imaging', '2014', '1', '', '77.342', '239000', '53', '', '', ''], ['HD 100655 b', 'Radial Velocity', '2011', '0', '157.57001', '13.5', '511.7063', '0.68', '0.09', '', ''], ['HD 100777 b', 'Radial Velocity', '2007', '0', '383.70001', '13.8', '327.3649', '1.03', '0.36', '', ''], ['HD 101930 b', 'Radial Velocity', '2005', '0', '70.46', '10.6', '79.4575', '0.3', '0.11', '', ''], ['HD 102117 b', 'Radial Velocity', '2005', '0', '20.8133', '8.47', '54.0311', '0.15', '0.12', '', ''], ['HD 102195 b', 'Radial Velocity', '2006', '0', '4.11377', '14.2', '130.3103', '0.05', '0', '', ''], ['HD 102272 b', 'Radial Velocity', '2008', '0', '127.58', '12.9', '1570.0802', '0.51', '0.05', '', ''], ['HD 102365 b', 'Radial Velocity', '2010', '0', '122.1', '4.14', '16', '0.46', '0.34', '', ''], ['HD 102843 b', 'Radial Velocity', '2019', '0', '3090.942', '13.1', '113.9', '4.074', '0.11', '', ''], ['HD 102956 b', 'Radial Velocity', '2010', '0', '6.4947', '13.8', '305.1168', '0.0807', '0.037', '', ''], ['HD 103197 b', 'Radial Velocity', '2009', '0', '47.84', '5.83', '28.6047', '0.25', '0', '', ''], ['HD 103720 b', 'Radial Velocity', '2014', '0', '4.5557', '14.1', '197.046', '0.0498', '0.086', '', ''], ['HD 103774 b', 'Radial Velocity', '2013', '0', '5.8881', '13.3', '116', '0.07', '0.09', '', ''], ['HD 103891 b', 'Radial Velocity', '2022', '0', '1919', '13.6', '457.67291', '3.27', '0.31', '', ''], ['HD 103949 b', 'Radial Velocity', '2019', '0', '120.878', '3.35', '11.2', '0.439', '0.19', '', ''], ['HD 104067 b', 'Radial Velocity', '2009', '0', '55.806', '8.18', '50.8528', '0.26', '0', '', ''], ['HD 10442 b', 'Radial Velocity', '2014', '0', '1032.3', '13.6', '472.61321', '2.01', '0.132', '', ''], ['HD 104985 b', 'Radial Velocity', '2003', '0', '199.505', '12.6', '2637.9', '0.95', '0.09', '', ''], ['HD 105779 b', 'Radial Velocity', '2022', '0', '2412', '14.1', '203.41018', '3.38', '0', '', ''], ['HD 106252 b', 'Radial Velocity', '2002', '0', '1531', '12.5', '3178.28407', '2.61', '0.48', '', ''], ['HD 106270 b', 'Radial Velocity', '2011', '0', '1888', '12.5', '3219.6179', '3.34', '0.185', '', ''], ['HD 10647 b', 'Radial Velocity', '2006', '0', '989.2', '13.8', '298.75', '2.015', '0.15', '', ''], ['HD 106515 A b', 'Radial Velocity', '2012', '0', '3586.860893', '12.4', '3518.96545', '4.496414', '0.564614', '', ''], ['HD 106906 b', 'Imaging', '2013', '0', '', '12.4', '3496', '650', '', '1800', ''], ['HD 10697 b', 'Radial Velocity', '1999', '0', '1075.379899', '12.8', '1914.58848', '2.050268', '0.104467', '', ''], ['HD 108147 b', 'Radial Velocity', '2002', '0', '10.8985', '10.9', '82.95', '0.102', '0.53', '890', ''], ['HD 108341 b', 'Radial Velocity', '2014', '0', '1129', '13.1', '1112.4', '2', '0.85', '', ''], ['HD 108863 b', 'Radial Velocity', '2011', '0', '437.7', '13.3', '767.24162', '1.32', '0.032', '', ''], ['HD 109246 b', 'Radial Velocity', '2010', '0', '68.27', '13.9', '273.3338', '0.33', '0.12', '', ''], ['HD 109286 b', 'Radial Velocity', '2021', '0', '520.1', '13.2', '950.30694', '1.259', '0.338', '259', '0.71'], ['HD 109749 b', 'Radial Velocity', '2005', '0', '5.239891', '11.1', '85.8141', '0.0615', '0', '', ''], ['HD 10975 b', 'Radial Velocity', '2021', '0', '283.8', '14.3', '143.02278', '0.95', '0.442', '', ''], ['HD 109988 b', 'Radial Velocity', '2022', '0', '17132.15854', '12.1', '6725.39378', '12.511098', '0.05578', '', ''], ['HD 110014 b', 'Radial Velocity', '2009', '0', '835.477', '12.4', '3524.59', '2.14', '0.462', '', ''], ['HD 110082 b', 'Transit', '2021', '0', '10.18271', '3.2', '10.3', '0.113', '0.2', '957', '198.39'], ['HD 110537 b', 'Radial Velocity', '2022', '0', '24469.67342', '11.9', '8644.78715', '16.589764', '0.401407', '', ''], ['HD 11112 b', 'Radial Velocity', '2022', '0', '17244.90764', '12.6', '2428.48595', '13.503729', '0.285438', '', ''], ['HD 111591 b', 'Radial Velocity', '2017', '0', '1056.4', '12.9', '1398.452', '2.5', '0.26', '', ''], ['HD 111998 b', 'Radial Velocity', '2016', '0', '825.9', '12.9', '1433.4133', '1.82', '0.03', '', ''], ['HD 112640 b', 'Radial Velocity', '2020', '0', '613.2', '12.9', '1589.15', '1.7', '0.24', '', ''], ['HD 113996 b', 'Radial Velocity', '2017', '0', '610.2', '12.7', '2002.329', '1.6', '0.28', '', ''], ['HD 114082 b', 'Radial Velocity', '2022', '0', '109.75', '11.209', '2542.62726', '0.5109', '0.395', '', ''], ['HD 114386 b', 'Radial Velocity', '2003', '0', '937.70001', '13.7', '362.3262', '1.73', '0.23', '', ''], ['HD 114613 b', 'Radial Velocity', '2014', '0', '4000', '13.1', '113.46531', '5.34', '0.458', '', ''], ['HD 114729 b', 'Radial Velocity', '2002', '0', '1121.79', '13.9', '262.20975', '2.067', '0.079', '', ''], ['HD 11505 b', 'Radial Velocity', '2022', '0', '32669.22247', '12.6', '2649.58135', '20.331534', '0.144108', '', ''], ['HD 115954 b', 'Radial Velocity', '2021', '0', '3700', '12.6', '2634.79749', '5', '0.487', '145', '0.06'], ['HD 117207 b', 'Radial Velocity', '2004', '0', '2621.75', '13.4', '612.14058', '3.787', '0.157', '', ''], ['HD 11755 b', 'Radial Velocity', '2015', '0', '433.70001', '12.8', '1789.3829', '1.09', '0.19', '', ''], ['HD 117618 b', 'Radial Velocity', '2004', '0', '25.8', '8.59', '55.30242', '0.18', '0.15', '', ''], ['HD 118203 b', 'Radial Velocity', '2005', '0', '6.1335', '13.138', '886.7457', '0.07', '0.31', '1509', '861.55'], ['HD 11977 b', 'Radial Velocity', '2005', '0', '711', '12.7', '2080', '1.93', '0.4', '', ''], ['HD 120084 b', 'Radial Velocity', '2013', '0', '2085.10024', '12.6', '2439.44256', '4.332646', '0.732073', '', ''], ['HD 121504 b', 'Radial Velocity', '2003', '0', '63.33', '13.6', '479.9233', '0.33', '0.03', '', ''], ['HD 122562 c', 'Radial Velocity', '2022', '0', '84.96275604', '10.1', '72.85079', '0.406294', '0.227859', '', ''], ['HD 124330 b', 'Radial Velocity', '2021', '0', '270.66', '14', '238.37131', '0.86', '0.34', '', ''], ['HD 12484 b', 'Radial Velocity', '2016', '0', '58.83', '13.2', '947.1334', '0.297', '0.07', '', ''], ['HD 125271 b', 'Radial Velocity', '2022', '0', '14901.99295', '12.4', '3514.14627', '10.780317', '0.165353', '', ''], ['HD 125390 b', 'Radial Velocity', '2019', '0', '1757.391509', '11.9', '9165.5058', '3.49516', '0.596681', '', ''], ['HD 125595 b', 'Radial Velocity', '2009', '0', '9.6737', '2.4', '6.3566', '0.08', '0', '', ''], ['HD 12648 b', 'Radial Velocity', '2015', '0', '133.60001', '13.4', '622.9468', '0.54', '0.04', '', ''], ['HD 126525 b', 'Radial Velocity', '2018', '0', '960.41', '10.3', '75.32571', '1.837', '0.035', '', ''], ['HD 126614 b', 'Radial Velocity', '2009', '0', '1257.253027', '13.6', '119.96298', '2.248182', '0.547783', '', ''], ['HD 127506 b', 'Radial Velocity', '2022', '0', '65.78395386', '5.58', '26.61699', '0.287149', '0.239894', '', ''], ['HD 128356 b', 'Radial Velocity', '2016', '0', '298.2', '13.9', '282.8687', '0.87', '0.57', '', ''], ['HD 129445 b', 'Radial Velocity', '2009', '0', '1840', '13.5', '508.507', '2.9', '0.7', '', ''], ['HD 130322 b', 'Radial Velocity', '1999', '0', '10.70871', '13.7', '365.49', '0.0925', '0.029', '720', ''], ['HD 131496 b', 'Radial Velocity', '2011', '0', '896', '13.4', '572.094', '2.01', '0.181', '', ''], ['HD 13167 b', 'Radial Velocity', '2018', '0', '2613', '13.1', '1052.0173', '4.1', '0.563', '', ''], ['HD 13189 b', 'Radial Velocity', '2005', '0', '471.60001', '12.4', '3480.2385', '1.25', '0.27', '', ''], ['HD 132406 b', 'Radial Velocity', '2007', '0', '974', '12.8', '1709.9254', '1.98', '0.34', '', ''], ['HD 132563 b', 'Radial Velocity', '2011', '0', '1544', '13.6', '473.547', '2.62', '0.22', '', ''], ['HD 133131 B b', 'Radial Velocity', '2016', '0', '5769', '13.3', '794.575', '6.15', '0.61', '', ''], ['HD 135872 b', 'Radial Velocity', '2022', '0', '2422.325967', '12.8', '1880.61597', '4.183784', '0.164345', '', ''], ['HD 136118 b', 'Radial Velocity', '2022', '0', '1187.597653', '12.3', '4174.7703', '2.325263', '0.344143', '', ''], ['HD 136418 b', 'Radial Velocity', '2009', '0', '464.29999', '13.3', '680.1562', '1.29', '0.25', '', ''], ['HD 136925 b', 'Radial Velocity', '2021', '0', '4540', '13.9', '266.97586', '5.13', '0.103', '', ''], ['HD 13724 c', 'Radial Velocity', '2022', '0', '142.2289459', '8.21', '51.25631', '0.534309', '0.651427', '', ''], ['HD 137388 b', 'Radial Velocity', '2011', '0', '330', '9.32', '63.566', '0.89', '0.36', '', ''], ['HD 13931 b', 'Radial Velocity', '2009', '0', '4218', '13.3', '699.226', '5.15', '0.02', '', ''], ['HD 139357 b', 'Radial Velocity', '2008', '0', '1124.791393', '12.1', '6315.52561', '2.948979', '0.098928', '', ''], ['HD 1397 b', 'Transit', '2018', '0', '11.53533', '11.5', '131.89945', '0.1097', '0.251', '1228', '356'], ['HD 14067 b', 'Radial Velocity', '2014', '0', '2721.234792', '12.2', '5001.77608', '5.250541', '0.681467', '', ''], ['HD 141004 b', 'Radial Velocity', '2021', '0', '15.5083', '3.77', '13.63484', '0.1238', '0.16', '', ''], ['HD 141937 b', 'Radial Velocity', '2002', '0', '653.21997', '12.5', '3079.7727', '1.5', '0.41', '', ''], ['HD 142022 A b', 'Radial Velocity', '2005', '0', '1928', '12.9', '1411.1652', '2.93', '0.53', '', ''], ['HD 142245 b', 'Radial Velocity', '2011', '0', '1299', '13.1', '975.7381', '2.78', '0', '', ''], ['HD 142415 b', 'Radial Velocity', '2003', '0', '386.29999', '13.5', '530.7761', '1.06', '0.5', '', ''], ['HD 143105 b', 'Radial Velocity', '2016', '0', '2.1974', '13.7', '384.5743', '0.0379', '0.07', '', ''], ['HD 143361 b', 'Radial Velocity', '2008', '0', '1039.15', '13.1', '1122.57556', '1.988', '0.197', '', ''], ['HD 144899 b', 'Radial Velocity', '2022', '0', '40.43913587', '4.78', '20.42286', '0.242129', '0.820894', '', ''], ['HD 145377 b', 'Radial Velocity', '2008', '0', '103.95', '12.8', '1913.3366', '0.45', '0.31', '', ''], ['HD 145457 b', 'Radial Velocity', '2010', '0', '176.3', '13.3', '708.7609', '0.76', '0.11', '', ''], ['HD 145934 b', 'Radial Velocity', '2015', '0', '2751.534335', '13.3', '762.59821', '4.888326', '0.077973', '', ''], ['HD 147379 b', 'Radial Velocity', '2017', '0', '86.78', '5.82', '28.55', '0.323', '0.07', '', ''], ['HD 147513 b', 'Radial Velocity', '2003', '0', '528.4', '13.7', '385', '1.32', '0.26', '', ''], ['HD 14787 b', 'Radial Velocity', '2018', '0', '676.6', '13.7', '356.28743', '1.7', '0.155', '', ''], ['HD 148156 b', 'Radial Velocity', '2009', '0', '1027', '13.9', '270.144', '2.45', '0.52', '', ''], ['HD 148427 b', 'Radial Velocity', '2009', '0', '331.5', '13.6', '413.179', '1.04', '0.16', '', ''], ['HD 149026 b', 'Radial Velocity', '2005', '0', '2.87589', '8.295', '120.7754', '0.04364', '0', '1626', '1530.04'], ['HD 149143 b', 'Radial Velocity', '2005', '0', '4.07182', '13.6', '422.7139', '0.053', '0.0167', '', ''], ['HD 149806 b', 'Radial Velocity', '2022', '0', '16521.52778', '12.4', '3878.07724', '12.278296', '0.357139', '', ''], ['HD 150010 b', 'Radial Velocity', '2022', '0', '562', '13.3', '762.78818', '1.4', '0.2', '', ''], ['HD 1502 b', 'Radial Velocity', '2011', '0', '428.5', '13.2', '874.0325', '1.262', '0.031', '', ''], ['HD 150706 b', 'Radial Velocity', '2012', '0', '5894', '13.2', '861.28', '6.7', '0.38', '', ''], ['HD 152079 b', 'Radial Velocity', '2009', '0', '2918.92', '13.2', '845.74563', '4.187', '0.532', '', ''], ['HD 152581 b', 'Radial Velocity', '2011', '0', '686.5', '13.4', '594.02427', '1.66', '0.04', '', ''], ['HD 153950 b', 'Radial Velocity', '2008', '0', '499.39999', '13.2', '937.5985', '1.28', '0.34', '', ''], ['HD 154088 b', 'Radial Velocity', '2021', '0', '18.56', '2.46', '6.6', '0.134', '0.344', '', ''], ['HD 154345 b', 'Radial Velocity', '2006', '0', '3341.55884', '13.9', '260.6206', '4.21', '0.04', '', ''], ['HD 154672 b', 'Radial Velocity', '2008', '0', '163.94', '12.8', '1706.7471', '0.6', '0.61', '', ''], ['HD 155193 b', 'Radial Velocity', '2021', '0', '352.65', '14', '238.37131', '1.04', '0.21', '', ''], ['HD 155233 b', 'Radial Velocity', '2015', '0', '818.8', '13.2', '826.358', '2', '0.04', '', ''], ['HD 156411 b', 'Radial Velocity', '2009', '0', '842.2', '14', '235.18', '1.88', '0.22', '', ''], ['HD 156846 b', 'Radial Velocity', '2007', '0', '359.51001', '12.4', '3391.2461', '1.12', '0.85', '', ''], ['HD 158038 b', 'Radial Velocity', '2011', '0', '521', '13.5', '486.2799', '1.5', '0.29', '', ''], ['HD 158996 b', 'Radial Velocity', '2018', '0', '820.2', '12.3', '4449.62', '2.1', '0.13', '', ''], ['HD 161178 b', 'Radial Velocity', '2021', '0', '279.3', '14.1', '181.16219', '0.85', '0.044', '', ''], ['HD 16141 b', 'Radial Velocity', '2000', '0', '75.523', '10.9', '82.6358', '0.36', '0.25', '', ''], ['HD 16175 b', 'Radial Velocity', '2009', '0', '990', '12.8', '1620.933', '2.12', '0.6', '', ''], ['HD 162020 b', 'Radial Velocity', '2002', '0', '8.4282', '12.5', '3127.4472', '0.08', '0.28', '650', ''], ['HD 16417 b', 'Radial Velocity', '2008', '0', '17.24', '5', '22.1', '0.14', '0.2', '', ''], ['HD 164509 b', 'Radial Velocity', '2010', '0', '280.17', '14.3', '140.79869', '0.87', '0.238', '', ''], ['HD 164595 b', 'Radial Velocity', '2015', '0', '40', '4.16', '16.14', '0.23', '0.088', '', ''], ['HD 164604 b', 'Radial Velocity', '2009', '0', '641.472', '13.4', '635', '1.331', '0.35', '', ''], ['HD 165155 b', 'Radial Velocity', '2016', '0', '434.5', '13.2', '918.5287', '1.13', '0.2', '', ''], ['HD 1666 b', 'Radial Velocity', '2015', '0', '270', '12.7', '2040', '0.94', '0.63', '', ''], ['HD 166724 b', 'Radial Velocity', '2012', '0', '5144', '13.1', '1121.89', '5.42', '0.734', '', ''], ['HD 167042 b', 'Radial Velocity', '2007', '0', '420.77', '13.5', '540.29', '1.32', '0.089', '', ''], ['HD 167768 b', 'Radial Velocity', '2022', '0', '20.6532', '13.9', '270.15415', '0.1512', '0.149', '', ''], ['HD 168009 b', 'Radial Velocity', '2021', '0', '15.1479', '3.05', '9.53485', '0.1192', '0.12', '', ''], ['HD 168746 b', 'Radial Velocity', '2002', '0', '6.404', '11.1', '85.8141', '0.07', '0.11', '900', ''], ['HD 168863 b', 'Radial Velocity', '2022', '0', '14773.93272', '12.7', '2146.32971', '10.932103', '0.186773', '', ''], ['HD 1690 b', 'Radial Velocity', '2010', '0', '533', '12.5', '2793.7257', '1.36', '0.64', '', ''], ['HD 16905 b', 'Radial Velocity', '2022', '0', '6707.491263', '12.5', '2885.45006', '6.469422', '0.664501', '', ''], ['HD 169142 b', 'Imaging', '2023', '0', '', '13.1', '953.48522', '37.2', '', '', ''], ['HD 170469 b', 'Radial Velocity', '2007', '0', '1145', '14.1', '209.7678', '2.24', '0.11', '', ''], ['HD 17092 b', 'Radial Velocity', '2007', '0', '359.89999', '12.5', '3219.6179', '1.31', '0.17', '', ''], ['HD 171028 b', 'Radial Velocity', '2007', '0', '550', '13.2', '832.7146', '1.32', '0.59', '', ''], ['HD 171238 b', 'Radial Velocity', '2009', '0', '1532', '12.5', '2796.88998', '2.57', '0.234', '', ''], ['HD 17156 b', 'Radial Velocity', '2007', '0', '21.21663', '12.33', '1115.5833', '0.16278', '0.68', '883', '17.44'], ['HD 173416 b', 'Radial Velocity', '2008', '0', '323.6', '13.2', '858.1', '1.16', '0.21', '', ''], ['HD 174205 b', 'Radial Velocity', '2022', '0', '582', '13', '1334.87931', '1.7', '0.4', '', ''], ['HD 175167 b', 'Radial Velocity', '2009', '0', '1276.07604', '12.7', '2161.63039', '2.306105', '0.527781', '', ''], ['HD 175541 b', 'Radial Velocity', '2007', '0', '298.43', '14.1', '190.06234', '0.975', '0.11', '', ''], ['HD 175607 b', 'Radial Velocity', '2015', '0', '29.01', '2.94', '8.98', '', '0.11', '', ''], ['HD 17674 b', 'Radial Velocity', '2017', '0', '623.8', '13.9', '276.5121', '1.42', '0.13', '', ''], ['HD 177565 b', 'Radial Velocity', '2017', '0', '44.505', '4', '15.1', '0.246', '0.0593', '', ''], ['HD 178911 B b', 'Radial Velocity', '2001', '0', '71.484', '12.6', '2552.1749', '0.34', '0.11', '', ''], ['HD 179079 b', 'Radial Velocity', '2008', '0', '14.479', '5.48', '25.74423', '0.1214', '0.049', '', ''], ['HD 179949 b', 'Radial Velocity', '2000', '0', '3.092514', '13.9', '291.12', '0.0443', '0.022', '', ''], ['HD 180053 b', 'Radial Velocity', '2018', '0', '213.72', '13.3', '697.31902', '0.843', '0.081', '', ''], ['HD 18015 b', 'Radial Velocity', '2018', '0', '2278', '13.1', '1010.6994', '3.87', '0.148', '', ''], ['HD 180314 b', 'Radial Velocity', '2010', '0', '396.03', '12.1', '6397.9179', '1.46', '0.26', '', ''], ['HD 180617 b', 'Radial Velocity', '2018', '0', '105.911', '3.53', '12.214', '0.343', '0.101', '', ''], ['HD 180902 b', 'Radial Velocity', '2009', '0', '510.9', '13.5', '535.54355', '1.4', '0.107', '', ''], ['HD 181234 b', 'Radial Velocity', '2019', '0', '7593.405116', '12.5', '2981.01296', '7.420228', '0.726356', '', ''], ['HD 181342 b', 'Radial Velocity', '2009', '0', '564.1', '13.2', '807.2882', '1.592', '0.022', '', ''], ['HD 181720 b', 'Radial Velocity', '2009', '0', '956', '14', '127.132', '1.85', '0.26', '', ''], ['HD 183579 b', 'Transit', '2021', '0', '17.471278', '3.55', '19.7', '0.1334', '0.28', '769', '58.1'], ['HD 185269 b', 'Radial Velocity', '2006', '0', '6.83776', '13.8', '321.0083', '0.077', '0.229', '', ''], ['HD 18599 b', 'Transit', '2022', '0', '4.1374354', '2.6', '24.1', '0.048', '0.34', '863', '145'], ['HD 187085 b', 'Radial Velocity', '2006', '0', '1019.74', '13.9', '265.70588', '2.1', '0.251', '', ''], ['HD 18742 b', 'Radial Velocity', '2011', '0', '766', '13.1', '1080.622', '1.82', '0.04', '', ''], ['HD 188015 b', 'Radial Velocity', '2004', '0', '461.2', '13.6', '476.72', '1.203', '0.137', '', ''], ['HD 188641 b', 'Radial Velocity', '2022', '0', '14583.81038', '11.9', '9262.62856', '11.958319', '0.034325', '', ''], ['HD 189733 b', 'Radial Velocity', '2005', '0', '2.21857567', '12.666', '359.1479', '0.03126', '0', '1209', '356'], ['HD 190007 b', 'Radial Velocity', '2020', '0', '11.72', '4.21', '16.46', '0.092', '0.14', '', ''], ['HD 190228 b', 'Radial Velocity', '2022', '0', '1143.598576', '12.8', '1726.82637', '2.405224', '0.55913', '', ''], ['HD 190647 b', 'Radial Velocity', '2007', '0', '1176.45', '13.4', '630.89255', '2.231', '0.224', '', ''], ['HD 190984 b', 'Radial Velocity', '2009', '0', '4885', '13.1', '985.2', '5.5', '0.57', '', ''], ['HD 191806 b', 'Radial Velocity', '2016', '0', '1603.389235', '12.5', '2968.87379', '2.746858', '0.213427', '', ''], ['HD 192263 b', 'Radial Velocity', '1999', '0', '24.3556', '14.2', '177.9848', '0.15', '0.05', '486', ''], ['HD 192699 b', 'Radial Velocity', '2007', '0', '340.94', '13.4', '666.17168', '1.063', '0.082', '', ''], ['HD 194490 b', 'Radial Velocity', '2022', '0', '13092.18348', '12.4', '3580.0227', '11.043187', '0.251363', '', ''], ['HD 195019 b', 'Radial Velocity', '1998', '0', '18.20132', '13', '1264.9634', '0.14', '0.01', '', ''], ['HD 196050 b', 'Radial Velocity', '2002', '0', '1378', '13.1', '1010.6994', '2.51', '0.23', '', ''], ['HD 196067 b', 'Radial Velocity', '2012', '0', '3638', '12.3', '3972.85509', '5.02', '0.66', '', ''], ['HD 19615 b', 'Radial Velocity', '2022', '0', '402', '12.6', '2701.54146', '1.1', '0.2', '', ''], ['HD 196885 A b', 'Radial Velocity', '2007', '0', '1333', '13.2', '819.97', '2.37', '0.48', '', ''], ['HD 197037 b', 'Radial Velocity', '2012', '0', '1035.7', '13.9', '251', '2.07', '0.22', '', ''], ['HD 199509 b', 'Radial Velocity', '2022', '0', '99.62167078', '7.39', '42.86581', '0.425988', '0.373206', '', ''], ['HD 19994 b', 'Radial Velocity', '2003', '0', '466.2', '13.6', '435.41', '1.305', '0.063', '', ''], ['HD 202206 c', 'Radial Velocity', '2004', '0', '1260', '12.2', '5689.157', '2.41', '0.22', '', ''], ['HD 202772 A b', 'Transit', '2019', '0', '3.308958', '17.318', '323.23311', '0.05208', '0.038', '2132', '3440'], ['HD 203030 b', 'Imaging', '2006', '0', '', '14.46', '3496.11248', '487.1', '', '1040', ''], ['HD 20329 b', 'Transit', '2022', '0', '0.926118', '1.72', '7.42', '0.018', '0', '2141', '3474'], ['HD 203473 b', 'Radial Velocity', '2018', '0', '1552.9', '12.6', '2479.074', '2.73', '0.289', '', ''], ['HD 2039 b', 'Radial Velocity', '2002', '0', '1120', '12.7', '1999.1507', '2.2', '0.71', '', ''], ['HD 204941 b', 'Radial Velocity', '2011', '0', '1733', '10.1', '73.1009', '2.55', '0.37', '', ''], ['HD 205158 b', 'Radial Velocity', '2022', '0', '25.33798092', '13.8', '123.42834', '0.177326', '0.145252', '', ''], ['HD 205739 b', 'Radial Velocity', '2008', '0', '279.8', '13.6', '435.41', '0.896', '0.27', '', ''], ['HD 206255 b', 'Radial Velocity', '2019', '0', '96.045', '6.47', '34.2', '0.461', '0.23', '', ''], ['HD 206610 b', 'Radial Velocity', '2009', '0', '673.2', '13.4', '647.10188', '1.74', '0.1', '', ''], ['HD 20782 b', 'Radial Velocity', '2006', '0', '597.0643', '13.6', '472.83', '1.3649', '0.95', '', ''], ['HD 207897 b', 'Transit', '2021', '0', '16.202159', '2.501', '14.4', '0.1163', '0.047', '632', '26.5'], ['HD 208487 b', 'Radial Velocity', '2004', '0', '130.08', '14.2', '165.265', '0.524', '0.24', '', ''], ['HD 208527 b', 'Radial Velocity', '2012', '0', '875.5', '12.5', '3146.4', '2.1', '0.08', '', ''], ['HD 20868 b', 'Radial Velocity', '2008', '0', '380.85001', '13.7', '397.2875', '0.95', '0.75', '', ''], ['HD 208897 b', 'Radial Velocity', '2017', '0', '352.7', '13.6', '444.962', '1.05', '0.07', '', ''], ['HD 209458 b', 'Radial Velocity', '1999', '0', '3.52474859', '15.581', '232.0159', '0.04707', '0', '1459', '758.36'], ['HD 210193 b', 'Radial Velocity', '2019', '0', '649.918', '14.3', '153.1', '1.487', '0.24', '', ''], ['HD 210277 b', 'Radial Velocity', '1998', '0', '442.19', '13.6', '410.0007', '1.13', '0.48', '', ''], ['HD 210702 b', 'Radial Velocity', '2007', '0', '354.1', '13.4', '574.63664', '1.148', '0.028', '', ''], ['HD 211403 b', 'Radial Velocity', '2021', '0', '223.8', '12.8', '1760.76937', '0.768', '0.084', '380', '3.44'], ['HD 211810 b', 'Radial Velocity', '2018', '0', '1558', '14', '212.9461', '2.656', '0.68', '', ''], ['HD 211970 b', 'Radial Velocity', '2019', '0', '25.201', '3.66', '13', '0.143', '0.15', '', ''], ['HD 212301 b', 'Radial Velocity', '2005', '0', '2.24571', '14.2', '162.0933', '0.03', '0', '', ''], ['HD 212771 b', 'Radial Velocity', '2009', '0', '380.7', '13.3', '759.6137', '1.19', '0.076', '', ''], ['HD 213240 b', 'Radial Velocity', '2001', '0', '882.70001', '12.8', '1773.4914', '1.89', '0.42', '', ''], ['HD 213472 b', 'Radial Velocity', '2021', '0', '17000', '13.1', '1112.39942', '13', '0.53', '', ''], ['HD 213519 b', 'Radial Velocity', '2022', '0', '11.12214173', '3.05', '9.51349', '0.099068', '0.412688', '', ''], ['HD 21411 b', 'Radial Velocity', '2019', '0', '84.288', '9.52', '65.9', '0.362', '0.4', '', ''], ['HD 214823 b', 'Radial Velocity', '2016', '0', '1854.844237', '12.1', '6229.26362', '3.078036', '0.160903', '', ''], ['HD 216435 b', 'Radial Velocity', '2002', '0', '1311', '13.7', '400.4', '2.56', '0.07', '', ''], ['HD 216437 b', 'Radial Velocity', '2002', '0', '1334.28', '13.3', '706.53609', '2.497', '0.317', '', ''], ['HD 216536 b', 'Radial Velocity', '2015', '0', '148.60001', '13.8', '333.7215', '0.61', '0.38', '', ''], ['HD 216770 b', 'Radial Velocity', '2003', '0', '118.45', '14.1', '181.1631', '0.46', '0.37', '', ''], ['HD 217850 b', 'Radial Velocity', '2018', '0', '3501.3', '12.1', '6865.128', '4.56', '0.7621', '', ''], ['HD 217958 b', 'Radial Velocity', '2022', '0', '2560.197744', '14.1', '188.02679', '3.748429', '0.156249', '', ''], ['HD 218566 b', 'Radial Velocity', '2010', '0', '225.7', '9.32', '63.566', '0.69', '0.3', '', ''], ['HD 219077 b', 'Radial Velocity', '2012', '0', '5478.688609', '12.5', '3099.7758', '5.935698', '0.768077', '', ''], ['HD 219139 b', 'Radial Velocity', '2021', '0', '275.5', '14', '247.90616', '0.94', '0.11', '', ''], ['HD 219415 b', 'Radial Velocity', '2012', '0', '2093.3', '13.8', '317.83', '3.2', '0.4', '', ''], ['HD 219666 b', 'Transit', '2018', '0', '6.03607', '4.71', '16.6', '0.06356', '0', '1073', '224.02'], ['HD 220074 b', 'Radial Velocity', '2012', '0', '672.09998', '12.2', '5288.6912', '1.6', '0.14', '', ''], ['HD 220197 b', 'Radial Velocity', '2018', '0', '1728', '9.32', '63.566', '2.729', '0.187', '', ''], ['HD 220689 b', 'Radial Velocity', '2012', '0', '2266.4', '13.7', '355.33394', '3.396', '0.054', '', ''], ['HD 220773 b', 'Radial Velocity', '2011', '0', '3724.7', '13.6', '460.8', '4.94', '0.51', '', ''], ['HD 220842 b', 'Radial Velocity', '2016', '0', '218.47', '13.1', '1010.6994', '0.74', '0.404', '', ''], ['HD 221287 b', 'Radial Velocity', '2007', '0', '456.1', '13.1', '982.05', '1.25', '0.08', '', ''], ['HD 221416 b', 'Transit', '2019', '0', '14.2767', '9.17', '60.5', '0.1228', '0.115', '789', '91.65'], ['HD 221420 b', 'Radial Velocity', '2019', '0', '8615.415491', '12.1', '6363.40183', '8.416586', '0.082013', '', ''], ['HD 221585 b', 'Radial Velocity', '2016', '0', '1173', '13.5', '511.7063', '2.306', '0.123', '', ''], ['HD 222076 b', 'Radial Velocity', '2016', '0', '871', '13.5', '495.8148', '1.83', '0.08', '', ''], ['HD 222155 b', 'Radial Velocity', '2011', '0', '3999', '13.4', '673.7996', '5.14', '0.16', '', ''], ['HD 222582 b', 'Radial Velocity', '1999', '0', '572.38', '12.6', '2660.2371', '1.34', '0.73', '', ''], ['HD 224538 b', 'Radial Velocity', '2016', '0', '1202.051989', '12.7', '2234.17873', '2.373375', '0.475886', '', ''], ['HD 224693 b', 'Radial Velocity', '2006', '0', '26.6904', '14', '222.481', '0.191', '0.104', '', ''], ['HD 22496 b', 'Radial Velocity', '2021', '0', '5.09071', '2.22', '5.57', '0.051', '', '573', '26'], ['HD 22532 b', 'Radial Velocity', '2022', '0', '872.6', '13.4', '673.79622', '1.9', '0.03', '', ''], ['HD 22781 b', 'Radial Velocity', '2011', '0', '528.07', '12.3', '4338.2', '1.167', '0.8191', '', ''], ['HD 23079 b', 'Radial Velocity', '2001', '0', '730.59998', '13.2', '829.5363', '1.6', '0.1', '', ''], ['HD 23127 b', 'Radial Velocity', '2006', '0', '1211.17', '13.5', '485.32641', '2.37', '0.406', '', ''], ['HD 231701 b', 'Radial Velocity', '2007', '0', '141.63', '13.7', '359.1479', '0.567', '0.13', '', ''], ['HD 233604 b', 'Radial Velocity', '2013', '0', '192', '12.7', '2089.644', '0.747', '0.05', '', ''], ['HD 233832 b', 'Radial Velocity', '2018', '0', '2058', '13.5', '565.7374', '2.827', '0.359', '', ''], ['HD 23596 b', 'Radial Velocity', '2003', '0', '1535.119124', '12.4', '3674.938', '2.692222', '0.282012', '', ''], ['HD 238090 b', 'Radial Velocity', '2020', '0', '13.671', '2.52', '6.89', '0.0932', '0.3', '470', '8.1'], ['HD 238914 b', 'Radial Velocity', '2018', '0', '4100', '12.8', '1906.98', '5.7', '0.56', '', ''], ['HD 240210 b', 'Radial Velocity', '2009', '0', '501.75', '12.8', '1655.82', '1.16', '0.15', '', ''], ['HD 240237 b', 'Radial Velocity', '2011', '0', '745.70001', '12.2', '5050.3187', '1.92', '0.4', '', ''], ['HD 24064 b', 'Radial Velocity', '2015', '0', '535.59998', '12.3', '4096.8287', '1.29', '0.35', '', ''], ['HD 24085 b', 'Radial Velocity', '2019', '0', '2.0455', '3.46', '11.8', '0.034', '0.22', '', ''], ['HD 25015 b', 'Radial Velocity', '2019', '0', '6134.426999', '12.5', '2866.32778', '6.245213', '0.340768', '', ''], ['HD 25171 b', 'Radial Velocity', '2010', '0', '1802.29', '13.9', '290.81445', '2.971', '0.042', '', ''], ['HD 25723 b', 'Radial Velocity', '2020', '0', '457.01', '13.3', '794.57102', '1.49', '0.04', '', ''], ['HD 26161 b', 'Radial Velocity', '2021', '0', '32000', '12.3', '4290.68349', '20.4', '0.82', '', ''], ['HD 2638 b', 'Radial Velocity', '2005', '0', '3.4442', '14.3', '133.4886', '0.04', '0', '', ''], ['HD 2685 b', 'Transit', '2019', '0', '4.12688', '16.141', '371.8611', '0.0568', '0.091', '2061', '1451.24'], ['HD 26965 b', 'Radial Velocity', '2018', '0', '42.378', '2.84', '8.47', '', '0.04', '', ''], ['HD 27442 b', 'Radial Velocity', '2000', '0', '428.1', '13.5', '495.8', '1.271', '0.06', '', ''], ['HD 27631 b', 'Radial Velocity', '2012', '0', '2198.14', '13.6', '474.83802', '3.242', '0.141', '', ''], ['HD 27969 b', 'Radial Velocity', '2021', '0', '654.5', '12.9', '1525.57635', '1.552', '0.182', '261', '0.76'], ['HD 28192 b', 'Radial Velocity', '2022', '0', '14.23283446', '12.1', '98.81588', '0.117885', '0.104204', '', ''], ['HD 28254 b', 'Radial Velocity', '2010', '0', '1116', '13.7', '368.67', '2.15', '0.81', '', ''], ['HD 285507 b', 'Radial Velocity', '2013', '0', '6.0881', '13.8', '311.4734', '0.06', '0.09', '', ''], ['HD 285968 b', 'Radial Velocity', '2008', '0', '8.7836', '2.83', '8.4', '0.066', '0', '450', ''], ['HD 28678 b', 'Radial Velocity', '2011', '0', '380.2', '13.5', '490.09386', '1.18', '0.149', '', ''], ['HD 29021 b', 'Radial Velocity', '2017', '0', '1362.3', '12.9', '1420.69298', '2.28', '0.459', '', ''], ['HD 290327 b', 'Radial Velocity', '2009', '0', '2443', '13.3', '772.3269', '3.43', '0.08', '', ''], ['HD 29399 b', 'Radial Velocity', '2022', '0', '892.7', '13.5', '498.9906', '1.913', '0.05', '', ''], ['HD 2952 b', 'Radial Velocity', '2013', '0', '311.60001', '13.6', '435.4271', '1.23', '0.13', '', ''], ['HD 29985 b', 'Radial Velocity', '2022', '0', '20608.14049', '12.8', '1881.53397', '13.283797', '0.261318', '', ''], ['HD 30562 b', 'Radial Velocity', '2009', '0', '1157', '13.7', '387.7526', '2.34', '0.76', '', ''], ['HD 30669 b', 'Radial Velocity', '2014', '0', '1684', '14.3', '149.37', '2.69', '0.18', '', ''], ['HD 30856 b', 'Radial Velocity', '2011', '0', '847', '13.5', '491.68301', '1.85', '0.061', '', ''], ['HD 31253 b', 'Radial Velocity', '2010', '0', '466', '14.1', '197.0546', '1.26', '0.3', '', ''], ['HD 32518 b', 'Radial Velocity', '2009', '0', '157.54', '13.1', '966.16', '0.59', '0.01', '', ''], ['HD 32963 b', 'Radial Velocity', '2015', '0', '2372', '14', '222.481', '3.41', '0.07', '', ''], ['HD 330075 b', 'Radial Velocity', '2004', '0', '3.38773', '14.3', '152.5584', '0.04', '0', '990', ''], ['HD 331093 b', 'Radial Velocity', '2021', '0', '621.62', '13.6', '476.74261', '1.44', '0.59', '', ''], ['HD 332231 b', 'Transit', '2020', '0', '18.71204', '9.718', '77.55052', '0.1436', '0.032', '876', '98.09'], ['HD 33283 b', 'Radial Velocity', '2006', '0', '18.1991', '12.5', '104.56607', '0.1508', '0.399', '', ''], ['HD 33564 b', 'Radial Velocity', '2005', '0', '388', '12.5', '2892.1', '1.1', '0.34', '', ''], ['HD 35759 b', 'Radial Velocity', '2016', '0', '82.467', '13', '1195.0408', '0.389', '0.389', '', ''], ['HD 360 b', 'Radial Velocity', '2021', '0', '273.1', '14', '238.37131', '0.98', '0.139', '', ''], ['HD 3651 b', 'Radial Velocity', '2003', '0', '62.25', '10.1', '72.46524', '0.295', '0.645', '', ''], ['HD 3765 b', 'Radial Velocity', '2021', '0', '1211', '8.56', '54.98431', '2.108', '0.298', '', ''], ['HD 38283 b', 'Radial Velocity', '2010', '0', '363.20001', '14', '127.132', '1.02', '0.41', '', ''], ['HD 38801 b', 'Radial Velocity', '2009', '0', '685.25', '12.5', '3082.31534', '1.623', '0.017', '', ''], ['HD 39855 b', 'Radial Velocity', '2019', '0', '3.2498', '2.85', '8.5', '0.041', '0.14', '', ''], ['HD 40956 b', 'Radial Velocity', '2017', '0', '578.6', '13.2', '858.141', '1.4', '0.24', '', ''], ['HD 40979 b', 'Radial Velocity', '2002', '0', '264.14999', '12.9', '1484.2661', '0.85', '0.25', '', ''], ['HD 41004 A b', 'Radial Velocity', '2004', '0', '963', '13.2', '807.25', '', '0.74', '', ''], ['HD 41004 B b', 'Radial Velocity', '2003', '0', '1.3283', '12.1', '5838.29', '', '0.081', '', ''], ['HD 4113 b', 'Radial Velocity', '2007', '0', '526.5239037', '13.5', '542.78936', '1.28031', '0.898669', '', ''], ['HD 42012 b', 'Radial Velocity', '2017', '0', '857.5', '13.5', '508.528', '1.67', '0.2', '', ''], ['HD 4208 b', 'Radial Velocity', '2001', '0', '832.97', '13.9', '257.4423', '1.662', '0.042', '', ''], ['HD 42618 b', 'Radial Velocity', '2016', '0', '149.61', '3.89', '14.4', '0.554', '0.19', '337', '3.16'], ['HD 4308 b', 'Radial Velocity', '2005', '0', '15.56', '4.12', '15.8915', '0.12', '0', '', ''], ['HD 4313 b', 'Radial Velocity', '2009', '0', '356.21', '13.4', '612.45841', '1.157', '0.147', '', ''], ['HD 43691 b', 'Radial Velocity', '2007', '0', '36.9987', '13.2', '810.4665', '0.238', '0.0796', '', ''], ['HD 44219 b', 'Radial Velocity', '2010', '0', '472.3', '14.1', '184.33', '1.19', '0.61', '', ''], ['HD 45350 b', 'Radial Velocity', '2004', '0', '963.6', '13.5', '568.89', '1.92', '0.778', '', ''], ['HD 45652 b', 'Radial Velocity', '2008', '0', '44.073', '14.3', '137.62039', '0.237', '0.607', '', ''], ['HD 457 b', 'Radial Velocity', '2022', '0', '20324.58153', '12', '7574.93226', '15.443431', '0.565248', '', ''], ['HD 46375 b', 'Radial Velocity', '2000', '0', '3.023573', '10', '71.8', '0.0398', '0.063', '', ''], ['HD 47536 b', 'Radial Velocity', '2002', '0', '712.13', '12.6', '2330', '1.93', '0.2', '', ''], ['HD 4760 b', 'Radial Velocity', '2021', '0', '434', '12.3', '4417.837', '1.14', '0.23', '', ''], ['HD 48265 b', 'Radial Velocity', '2008', '0', '778.51', '13.5', '484.69075', '1.814', '0.211', '', ''], ['HD 4917 b', 'Radial Velocity', '2018', '0', '400.5', '13.5', '513.29545', '1.167', '0.066', '', ''], ['HD 49674 b', 'Radial Velocity', '2002', '0', '4.94737', '6.2', '31.783', '0.06', '0.09', '', ''], ['HD 50554 b', 'Radial Velocity', '2002', '0', '1293', '12.9', '1574.464', '2.353', '0.501', '', ''], ['HD 52265 b', 'Radial Velocity', '2000', '0', '119.27', '13.7', '384.5743', '0.52', '0.27', '405', ''], ['HD 55696 b', 'Radial Velocity', '2018', '0', '1827', '13', '1230.0021', '3.18', '0.705', '', ''], ['HD 5583 b', 'Radial Velocity', '2016', '0', '139.35', '12.8', '1837.0574', '0.53', '0.076', '', ''], ['HD 5608 b', 'Radial Velocity', '2012', '0', '779.9', '13.5', '534.27223', '1.911', '0.056', '', ''], ['HD 564 b', 'Radial Velocity', '2014', '0', '492.3', '12.5', '104.88', '1.2', '0.096', '', ''], ['HD 56414 b', 'Transit', '2022', '0', '29.04992', '3.71', '13.3', '0.229', '0.68', '1133', '273.43'], ['HD 56957 b', 'Radial Velocity', '2022', '0', '5859.089924', '12.8', '1893.34292', '6.431189', '0.272564', '', ''], ['HD 5891 b', 'Radial Velocity', '2011', '0', '177.11', '12.6', '2425.0429', '0.64', '0.07', '', ''], ['HD 59686 A b', 'Radial Velocity', '2016', '0', '299.36', '12.7', '2199.3836', '1.086', '0.05', '', ''], ['HD 60292 b', 'Radial Velocity', '2020', '0', '495.4', '12.7', '2065.895', '1.5', '0.27', '', ''], ['HD 62509 b', 'Radial Velocity', '2006', '0', '589.64', '13.3', '731', '1.64', '0.02', '', ''], ['HD 62549 b', 'Radial Velocity', '2022', '0', '14306.88519', '12.5', '2773.33249', '11.786592', '0.150429', '', ''], ['HD 63454 b', 'Radial Velocity', '2005', '0', '2.81805', '12.31', '79.4575', '0.04', '0', '', ''], ['HD 63765 b', 'Radial Velocity', '2009', '0', '358', '14.2', '168.4499', '0.94', '0.24', '', ''], ['HD 64114 b', 'Radial Velocity', '2019', '0', '45.791', '4.41', '17.8', '0.246', '0.12', '', ''], ['HD 64121 b', 'Radial Velocity', '2022', '0', '623', '13.2', '813.64072', '1.51', '0.11', '', ''], ['HD 6434 b', 'Radial Velocity', '2003', '0', '21.998', '14.2', '155.7367', '0.14', '0.17', '', ''], ['HD 66141 b', 'Radial Velocity', '2012', '0', '480.5', '12.8', '1906.9', '1.2', '0.07', '', ''], ['HD 6718 b', 'Radial Velocity', '2009', '0', '2496', '13.5', '533.9544', '3.55', '0.1', '', ''], ['HD 68402 b', 'Radial Velocity', '2016', '0', '1103', '13.1', '975.7381', '2.18', '0.03', '', ''], ['HD 69123 b', 'Radial Velocity', '2022', '0', '1193.3', '13.1', '966.19836', '2.482', '0.19', '', ''], ['HD 70573 b', 'Radial Velocity', '2007', '0', '851.8', '12.8', '1900', '1.76', '0.4', '', ''], ['HD 70642 b', 'Radial Velocity', '2003', '0', '2124.54', '13.4', '633.43519', '3.318', '0.175', '', ''], ['HD 7199 b', 'Radial Velocity', '2011', '0', '615', '11.1', '85.8141', '1.36', '0.19', '', ''], ['HD 72490 b', 'Radial Velocity', '2018', '0', '858', '13.5', '561.92344', '1.88', '0.124', '', ''], ['HD 72892 b', 'Radial Velocity', '2016', '0', '39.44603442', '12.8', '1736.44828', '0.227825', '0.418755', '', ''], ['HD 73534 b', 'Radial Velocity', '2008', '0', '1750', '13.7', '353.42696', '2.99', '0.126', '', ''], ['HD 7449 b', 'Radial Velocity', '2011', '0', '1270.551949', '12.6', '2652.63439', '2.43855', '0.751956', '', ''], ['HD 75289 b', 'Radial Velocity', '1999', '0', '3.50927', '14.2', '155.7367', '0.05', '0.03', '1260', ''], ['HD 75898 b', 'Radial Velocity', '2007', '0', '422.9', '13.2', '861.3193', '1.191', '0.11', '', ''], ['HD 76700 b', 'Radial Velocity', '2002', '0', '3.97097', '9.6', '66.7443', '0.05', '0.09', '', ''], ['HD 76920 b', 'Radial Velocity', '2017', '0', '415.4', '13', '1249.0719', '1.149', '0.856', '', ''], ['HD 77338 b', 'Radial Velocity', '2012', '0', '5.7361', '4.12', '15.9', '0.06', '0.09', '', ''], ['HD 79181 b', 'Radial Velocity', '2021', '0', '273.1', '14.1', '203.41018', '0.9', '0.259', '', ''], ['HD 79498 b', 'Radial Velocity', '2011', '0', '1807', '13.6', '425.8922', '2.98', '0.575', '', ''], ['HD 80606 b', 'Radial Velocity', '2001', '0', '111.4367', '11.994', '1392.0954', '0.4565', '0.93', '405', ''], ['HD 80653 b', 'Transit', '2020', '0', '0.719573', '1.613', '5.6', '0.0166', '', '2302', '6635.86'], ['HD 80869 b', 'Radial Velocity', '2021', '0', '1752.920673', '12.8', '1797.84225', '2.906141', '0.923501', '203', '0.14'], ['HD 80883 b', 'Radial Velocity', '2022', '0', '6383.783522', '12.8', '1740.73691', '6.497354', '0.203319', '', ''], ['HD 80913 b', 'Radial Velocity', '2022', '0', '10839.83341', '12', '7469.38301', '9.88693', '0.312809', '', ''], ['HD 81040 b', 'Radial Velocity', '2005', '0', '1005.988539', '12.7', '2172.35017', '1.988479', '0.556692', '', ''], ['HD 81688 b', 'Radial Velocity', '2007', '0', '184.02', '13.2', '858.1', '0.81', '0', '', ''], ['HD 82886 b', 'Radial Velocity', '2011', '0', '705', '13.3', '740.5439', '1.58', '0.07', '', ''], ['HD 8326 b', 'Radial Velocity', '2019', '0', '158.991', '9.58', '66.6', '0.533', '0.2', '', ''], ['HD 8535 b', 'Radial Velocity', '2010', '0', '1313', '14', '216.1244', '2.45', '0.15', '', ''], ['HD 85390 b', 'Radial Velocity', '2009', '0', '799.52', '6.16', '31.46517', '1.373', '0.5', '', ''], ['HD 85512 b', 'Radial Velocity', '2011', '0', '58.43', '1.72', '3.6', '0.26', '0.11', '298', ''], ['HD 8574 b', 'Radial Velocity', '2002', '0', '227', '13.4', '645.1949', '0.76', '0.3', '', ''], ['HD 86065 b', 'Radial Velocity', '2022', '0', '25775.78859', '12.5', '2801.89869', '16.107189', '0.218978', '', ''], ['HD 86081 b', 'Radial Velocity', '2006', '0', '2.1378431', '13.6', '470.3884', '0.0346', '0.0119', '', ''], ['HD 86264 b', 'Radial Velocity', '2009', '0', '1488.791227', '12.3', '4073.50239', '2.762119', '0.821127', '', ''], ['HD 8673 b', 'Radial Velocity', '2009', '0', '1644.690965', '12.3', '4259.27322', '2.965265', '0.729873', '', ''], ['HD 86950 b', 'Radial Velocity', '2016', '0', '1270', '13', '1144.188', '2.72', '0.17', '', ''], ['HD 87646 b', 'Radial Velocity', '2016', '0', '13.481', '12.4', '3941.092', '0.117', '0.05', '', ''], ['HD 87883 b', 'Radial Velocity', '2009', '0', '3309.221176', '12.8', '1705.47518', '4.051612', '0.706593', '', ''], ['HD 88072 b', 'Radial Velocity', '2022', '0', '18538.79293', '12.6', '2565.90908', '13.912743', '0.156013', '', ''], ['HD 88133 b', 'Radial Velocity', '2004', '0', '3.414884', '13.8', '324.1866', '0.0479', '0.031', '', ''], ['HD 89307 b', 'Radial Velocity', '2009', '0', '2166', '13.4', '670.6213', '3.27', '0.2', '', ''], ['HD 89345 b', 'Transit', '2018', '0', '11.8143', '7.398', '34.9613', '0.1066', '0.22', '1089', '275.64'], ['HD 89744 b', 'Radial Velocity', '1999', '0', '256.78', '12.6', '2653.8805', '0.917', '0.677', '', ''], ['HD 90156 b', 'Radial Velocity', '2009', '0', '49.77', '4.43', '17.98', '0.25', '0.31', '', ''], ['HD 9174 b', 'Radial Velocity', '2016', '0', '1179', '13.7', '352.7913', '2.2', '0.12', '', ''], ['HD 93083 b', 'Radial Velocity', '2005', '0', '143.58', '13.4', '117.59', '0.477', '0.14', '', ''], ['HD 94834 b', 'Radial Velocity', '2018', '0', '1576', '13.7', '400.4658', '2.74', '0.14', '', ''], ['HD 95086 b', 'Imaging', '2013', '0', '', '12.9', '1589', '55.7', '', '1000', ''], ['HD 95127 b', 'Radial Velocity', '2015', '0', '482', '12.4', '3378.5329', '1.28', '0.11', '', ''], ['HD 95338 b', 'Radial Velocity', '2020', '0', '55.087', '3.89', '42.44', '0.262', '0.197', '385', '7.42'], ['HD 95544 b', 'Radial Velocity', '2021', '0', '2041.541518', '12.7', '2108.25626', '3.167126', '0.04915', '156', '0.1'], ['HD 95872 b', 'Radial Velocity', '2015', '0', '4375', '13', '1188.6842', '5.15', '0.06', '', ''], ['HD 96063 b', 'Radial Velocity', '2011', '0', '362.5', '13.7', '403.6441', '1.11', '0.17', '', ''], ['HD 96127 b', 'Radial Velocity', '2011', '0', '647.29999', '12.1', '6661.7168', '1.42', '0.3', '', ''], ['HD 96167 b', 'Radial Velocity', '2009', '0', '498.04', '14', '227.88411', '1.332', '0.685', '', ''], ['HD 96992 b', 'Radial Velocity', '2021', '0', '514', '13.7', '362.3262', '1.24', '0.41', '', ''], ['HD 97037 b', 'Radial Velocity', '2022', '0', '6449.083373', '12.1', '6674.04272', '6.91483', '0.356842', '', ''], ['HD 97048 b', 'Disk Kinematics', '2019', '0', '', '13.3', '794.575', '130', '', '', ''], ['HD 97658 b', 'Radial Velocity', '2010', '0', '9.4897116', '2.12', '8.3', '0.0805', '0.05', '751', '41.92'], ['HD 98219 b', 'Radial Velocity', '2011', '0', '433.8', '13.4', '624.21812', '1.26', '0.079', '', ''], ['HD 98649 b', 'Radial Velocity', '2012', '0', '5697.304303', '12.6', '2665.27978', '6.29367', '0.84064', '', ''], ['HD 98736 b', 'Radial Velocity', '2018', '0', '968.8', '13.3', '740.5439', '1.864', '0.226', '', ''], ['HD 99109 b', 'Radial Velocity', '2005', '0', '439.29999', '14.3', '139.8452', '1.11', '0.09', '', ''], ['HD 99283 b', 'Radial Velocity', '2021', '0', '310.4', '13.8', '308.29355', '1.08', '0.2', '', ''], ['HD 99492 b', 'Radial Velocity', '2004', '0', '17.0431', '5.02', '22.2481', '0.12', '0.25', '', ''], ['HIP 105854 b', 'Radial Velocity', '2014', '0', '184.2', '12.6', '2606.1', '0.81', '0.02', '', ''], ['HIP 107772 b', 'Radial Velocity', '2020', '0', '55.199', '3.64', '12.9', '0.243', '0.18', '', ''], ['HIP 107773 b', 'Radial Velocity', '2015', '0', '144.3', '13.4', '629.3034', '0.72', '0.09', '', ''], ['HIP 109384 b', 'Radial Velocity', '2016', '0', '499.48', '13.5', '495.8148', '1.134', '0.549', '', ''], ['HIP 109600 b', 'Radial Velocity', '2016', '0', '232.08', '13.2', '851.7844', '0.706', '0.163', '', ''], ['HIP 114933 b', 'Radial Velocity', '2021', '0', '1481.6', '13.4', '616.58711', '2.84', '0.21', '', ''], ['HIP 116454 b', 'Transit', '2014', '0', '9.1205', '2.466', '12.7132', '0.0906', '0.2', '690', ''], ['HIP 12961 b', 'Radial Velocity', '2010', '0', '57.435', '13.2', '114.4188', '0.25', '0.17', '', ''], ['HIP 21152 b', 'Imaging', '2022', '0', '22000', '12', '7627.88177', '17', '0.36', '1300', ''], ['HIP 34222 b', 'Radial Velocity', '2021', '0', '159.986', '13.9', '263.79758', '0.492', '0.305', '', ''], ['HIP 35173 b', 'Radial Velocity', '2019', '0', '41.516', '3.61', '12.7', '0.217', '0.16', '', ''], ['HIP 35965 b', 'Radial Velocity', '2022', '0', '26125.56497', '12.6', '2547.568', '16.015432', '0.138247', '', ''], ['HIP 4845 b', 'Radial Velocity', '2020', '0', '34.15', '3.89', '14.4', '0.176', '0.25', '', ''], ['HIP 48714 b', 'Radial Velocity', '2020', '0', '17.818', '5.11', '22.9', '0.112', '0.5', '', ''], ['HIP 55507 b', 'Radial Velocity', '2022', '0', '5138.43727', '12.6', '2625.12713', '5.055931', '0.36161', '', ''], ['HIP 56640 b', 'Radial Velocity', '2021', '0', '2675.576029', '12.7', '2151.6473', '4.550828', '0.118397', '', ''], ['HIP 5763 b', 'Radial Velocity', '2021', '0', '30.014', '14.2', '162.09249', '0.17', '0.054', '', ''], ['HIP 63242 b', 'Radial Velocity', '2013', '0', '124.6', '12.5', '2917.56', '0.565', '0.23', '', ''], ['HIP 65 A b', 'Transit', '2020', '0', '0.9809734', '22.754', '1021.18779', '0.01782', '0', '1411', '661'], ['HIP 65426 b', 'Imaging', '2017', '0', '', '16.814', '2860.47', '92', '', '1500', ''], ['HIP 65891 b', 'Radial Velocity', '2015', '0', '1079.55726', '12.7', '1933.66969', '2.79266', '0.128276', '', ''], ['HIP 67522 b', 'Transit', '2020', '0', '6.959503', '10.07', '72.4', '', '0.059', '1174', ''], ['HIP 67537 b', 'Radial Velocity', '2017', '0', '2523.647133', '12.3', '4309.24472', '4.818835', '0.586259', '', ''], ['HIP 70849 b', 'Radial Velocity', '2009', '0', '17337.5', '12.5', '2860', '20.25', '0.715', '', ''], ['HIP 71135 b', 'Radial Velocity', '2019', '0', '87.19', '4.55', '18.8', '0.335', '0.21', '', ''], ['HIP 74890 b', 'Radial Velocity', '2016', '0', '822.3', '13.3', '762.792', '2.1', '0.07', '', ''], ['HIP 75056 A b', 'Imaging', '2021', '0', '47000', '22.418', '7945.71018', '30', '0.5', '2300', ''], ['HIP 75092 b', 'Radial Velocity', '2021', '0', '926.4', '13.5', '568.91285', '2.02', '0.42', '', ''], ['HIP 78530 b', 'Imaging', '2010', '0', '', '12', '7300', '740', '', '2700', ''], ['HIP 79098 AB b', 'Imaging', '2019', '0', '', '12.1', '6515.515', '345', '', '2450', ''], ['HIP 79431 b', 'Radial Velocity', '2009', '0', '111.7', '13.4', '667.415', '0.36', '0.29', '', ''], ['HIP 86221 b', 'Radial Velocity', '2021', '0', '2.224', '14', '225.65817', '0.031', '0.086', '', ''], ['HIP 90988 b', 'Radial Velocity', '2021', '0', '455.738155', '13.4', '667.09663', '1.359652', '0.080562', '', ''], ['HIP 91258 b', 'Radial Velocity', '2013', '0', '5.0505', '13.7', '346.4347', '0.06', '0.02', '', ''], ['HIP 94235 b', 'Transit', '2022', '0', '7.713057', '3', '379', '0.0787', '0.32', '1060', '219.28'], ['HIP 948 b', 'Radial Velocity', '2022', '0', '24955.45756', '12.1', '6410.69721', '14.91853', '0.230499', '', ''], ['HIP 97233 b', 'Radial Velocity', '2014', '0', '1062.26506', '12.1', '6399.22435', '2.490819', '0.630174', '', ''], ['HN Peg b', 'Imaging', '2006', '0', '', '11.777', '6991.57', '773', '', '', ''], ['HR 2562 b', 'Imaging', '2016', '0', '', '12.442', '9534.9', '20.3', '', '1200', ''], ['HR 5183 b', 'Radial Velocity', '2019', '0', '27000', '13.1', '1026.5909', '18', '0.84', '171', ''], ['HR 810 b', 'Radial Velocity', '1999', '0', '302.79999', '13.3', '721.4741', '0.92', '0.14', '', ''], ['IC 4651 9122 b', 'Radial Velocity', '2018', '0', '734', '12.7', '2002.329', '2.038', '0.18', '', ''], ['K2-10 b', 'Transit', '2015', '0', '19.3044', '3.84', '27', '0.137', '0.31', '703', '54.1'], ['K2-100 b', 'Transit', '2016', '0', '1.6739035', '3.88', '21.8', '0.0301', '0', '1841', '1915'], ['K2-101 b', 'Transit', '2016', '0', '14.6762429', '2', '4.66', '0.1124', '0.1', '618', ''], ['K2-102 b', 'Transit', '2016', '0', '9.915615', '1.3', '2.24', '', '0.1', '', ''], ['K2-104 b', 'Transit', '2016', '0', '1.9741954', '1.79', '3.86', '0.0242', '0.09', '798', '62.1'], ['K2-105 b', 'Transit', '2017', '0', '8.2669928', '3.59', '30', '0.0833', '', '928', '95.58'], ['K2-107 b', 'Transit', '2017', '0', '3.313959', '15.98', '266.9772', '0.0475', '0', '1649', ''], ['K2-108 b', 'Transit', '2017', '0', '4.733999', '5.33', '59.4', '0.0581', '0.18', '1360', '762'], ['K2-11 b', 'Transit', '2015', '0', '39.93767', '7.55', '44.4', '0.2257', '', '734', '9.84'], ['K2-110 b', 'Transit', '2017', '0', '13.86387', '2.56', '16.7', '0.1027', '0.079', '575', ''], ['K2-113 b', 'Transit', '2017', '0', '5.817685', '12.14', '410.0007', '0.0642', '0', '1098', '170.93'], ['K2-114 b', 'Transit', '2017', '0', '11.3909311', '10.447', '638.8351', '0.0943', '0.081', '701', '40'], ['K2-115 b', 'Transit', '2017', '0', '20.272615', '12.06', '266.9772', '0.143', '0.137', '619', '33.06'], ['K2-116 b', 'Transit', '2017', '0', '4.655411', '0.69', '0.257', '0.048', '0.06', '', '78.6'], ['K2-118 b', 'Transit', '2017', '0', '50.92092', '2.54', '6.99', '0.245', '0.2', '', '4.3'], ['K2-119 b', 'Transit', '2017', '0', '7.727283', '2.53', '6.94', '0.0698', '0.07', '666', '54.9'], ['K2-12 b', 'Transit', '2015', '0', '8.28212', '2.33', '6.04', '0.0802', '', '1003', '310'], ['K2-120 b', 'Transit', '2017', '0', '9.562742', '2.01', '4.7', '0.078', '0.14', '', '35.1'], ['K2-121 b', 'Transit', '2017', '0', '5.1857539', '7.52', '44.1', '0.0629', '0.22', '738', '89.5'], ['K2-122 b', 'Transit', '2017', '0', '2.2193023', '1.16', '1.65', '0.0373', '0.21', '769', '79.9'], ['K2-123 b', 'Transit', '2017', '0', '30.951524', '2.76', '8.05', '0.1649', '0.06', '338', '2.9'], ['K2-124 b', 'Transit', '2017', '0', '6.413651', '2.9', '8.75', '0.049', '0.08', '442', '8.7'], ['K2-125 b', 'Transit', '2017', '0', '21.750264', '2.18', '5.39', '0.121', '0.08', '', '2'], ['K2-126 b', 'Transit', '2017', '0', '7.385655', '1.97', '4.54', '0.0656', '0.06', '601', '35.3'], ['K2-127 b', 'Transit', '2017', '0', '3.588163', '8.37', '52.9', '0.0411', '0.12', '809', '105.6'], ['K2-128 b', 'Transit', '2017', '0', '5.675819', '1.42', '2.6', '0.056', '0.23', '', '68.8'], ['K2-129 b', 'Transit', '2017', '0', '8.239493', '1.04', '1.12', '0.057', '0.13', '', '4.5'], ['K2-13 b', 'Transit', '2015', '0', '39.91488', '1.89', '4.23', '0.2114', '', '511', '22.8'], ['K2-130 b', 'Transit', '2017', '0', '2.49412', '1.25', '2.1', '0.032', '0.17', '', '136.4'], ['K2-131 b', 'Transit', '2017', '0', '0.369311', '1.5', '6.3', '0.0095', '0', '2062', '3842.25'], ['K2-132 b', 'Transit', '2017', '0', '9.1751', '14.572', '155.7367', '0.0916', '0.29', '1586', '293.37'], ['K2-137 b', 'Transit', '2017', '0', '0.179719', '0.64', '158.915', '0.0058', '0', '1471', ''], ['K2-139 b', 'Transit', '2017', '0', '28.380619', '9.11', '123.00021', '0.1796', '0.12', '524', ''], ['K2-14 b', 'Transit', '2015', '0', '8.36802', '4.81', '20.7', '0.0627', '0.14', '488', '8'], ['K2-140 b', 'Transit', '2017', '0', '6.569188', '13.563', '295.58042', '0.068', '0', '962', '204'], ['K2-147 b', 'Transit', '2018', '0', '0.961918', '0.73', '0.315', '0.0159', '', '', '200.1'], ['K2-149 b', 'Transit', '2018', '0', '11.332', '1.64', '3.33', '0.083', '', '', '7'], ['K2-15 b', 'Transit', '2015', '0', '11.8104', '2.48', '6.71', '0.091', '', '676', '48'], ['K2-150 b', 'Transit', '2018', '0', '10.59357', '2', '4.66', '0.0727', '', '', '4.9'], ['K2-151 b', 'Transit', '2018', '0', '3.835476', '1.49', '2.83', '0.0373', '', '566', '20.8'], ['K2-152 b', 'Transit', '2018', '0', '32.6479', '2.29', '5.86', '0.1716', '', '337', '2.9'], ['K2-153 b', 'Transit', '2018', '0', '7.51574', '2', '4.66', '0.0614', '', '497', '11.8'], ['K2-156 b', 'Transit', '2018', '0', '0.813143', '1.1', '1.37', '0.0149', '', '1347', ''], ['K2-157 b', 'Transit', '2018', '0', '0.365261', '1', '0.972', '', '', '', ''], ['K2-159 b', 'Transit', '2018', '0', '12.42205', '2.26', '5.73', '0.1013', '', '684', ''], ['K2-160 b', 'Transit', '2018', '0', '3.705871', '3.178', '10.2', '', '', '', ''], ['K2-161 b', 'Transit', '2018', '0', '9.283188', '6.117', '31.1', '', '', '', ''], ['K2-162 b', 'Transit', '2018', '0', '9.45889', '1.44', '2.67', '0.0795', '', '631', ''], ['K2-163 b', 'Transit', '2018', '0', '6.673117', '2.466', '6.65', '', '', '', ''], ['K2-164 b', 'Transit', '2018', '0', '17.355066', '3.249', '10.6', '', '', '', ''], ['K2-167 b', 'Transit', '2018', '0', '9.97857', '2.264', '5.75', '0.0999', '0.41', '1131', '229'], ['K2-169 b', 'Transit', '2018', '0', '6.380803', '1.273', '2.16', '', '', '', ''], ['K2-17 b', 'Transit', '2015', '0', '17.96753', '2.23', '5.6', '0.119', '0.18', '487', '4.91'], ['K2-171 b', 'Transit', '2018', '0', '5.628466', '2.687', '7.69', '', '', '', ''], ['K2-173 b', 'Transit', '2018', '0', '5.868699', '1.608', '3.22', '', '', '', ''], ['K2-174 b', 'Transit', '2018', '0', '19.562307', '2.6', '7.27', '0.126', '', '455', '95.77'], ['K2-175 b', 'Transit', '2018', '0', '9.525988', '2.038', '4.81', '', '', '', ''], ['K2-176 b', 'Transit', '2018', '0', '5.329439', '1.491', '2.83', '', '', '', ''], ['K2-177 b', 'Transit', '2018', '0', '14.155185', '2.116', '5.13', '', '', '', ''], ['K2-178 b', 'Transit', '2018', '0', '8.747818', '3.558', '12.4', '', '', '', ''], ['K2-179 b', 'Transit', '2018', '0', '5.172191', '2.513', '6.86', '', '', '', ''], ['K2-180 b', 'Transit', '2018', '0', '8.8656511', '2.52', '11.44182', '0.0734', '0', '802', '67'], ['K2-181 b', 'Transit', '2018', '0', '6.894256', '2.84', '8.45', '0.0706', '', '962', ''], ['K2-182 b', 'Transit', '2018', '0', '4.7369683', '2.69', '20', '0.0526', '0.04', '969', '146.9'], ['K2-184 b', 'Transit', '2018', '0', '16.9780102', '1.47', '2.76', '0.1685', '', '533', ''], ['K2-186 b', 'Transit', '2018', '0', '41.474219', '3.172', '10.2', '', '', '', ''], ['K2-191 b', 'Transit', '2018', '0', '2.858646', '1.579', '3.12', '', '', '', ''], ['K2-192 b', 'Transit', '2018', '0', '4.162817', '1.52', '2.92', '0.049', '', '939', ''], ['K2-193 b', 'Transit', '2018', '0', '14.786889', '3.95', '14.8', '0.1184', '', '739', ''], ['K2-194 b', 'Transit', '2018', '0', '39.721386', '3.642', '12.9', '', '', '', ''], ['K2-196 b', 'Transit', '2018', '0', '48.324222', '3.6', '12.6', '', '', '', ''], ['K2-197 b', 'Transit', '2018', '0', '8.357881', '2.56', '7.08', '0.0806', '', '848', ''], ['K2-200 b', 'Transit', '2018', '0', '2.849883', '1.364', '2.43', '', '', '', ''], ['K2-202 b', 'Transit', '2018', '0', '3.405164', '2.302', '5.91', '', '', '', ''], ['K2-203 b', 'Transit', '2018', '0', '9.695101', '1.371', '2.45', '', '', '', ''], ['K2-204 b', 'Transit', '2018', '0', '7.055784', '3.046', '9.51', '', '', '', ''], ['K2-205 b', 'Transit', '2018', '0', '26.672263', '1.996', '4.64', '', '', '', ''], ['K2-206 b', 'Transit', '2018', '0', '18.294549', '2.795', '8.22', '', '', '', ''], ['K2-207 b', 'Transit', '2018', '0', '12.48749', '2.606', '7.3', '', '', '', ''], ['K2-208 b', 'Transit', '2018', '0', '4.190948', '1.679', '3.46', '', '', '', ''], ['K2-209 b', 'Transit', '2018', '0', '2.080615', '0.869', '0.586', '', '', '', ''], ['K2-210 b', 'Transit', '2018', '0', '0.57023', '0.86', '0.566', '', '', '', ''], ['K2-211 b', 'Transit', '2018', '0', '0.669532', '1.3', '2.24', '', '', '', ''], ['K2-212 b', 'Transit', '2018', '0', '9.795647', '2.65', '7.51', '0.0785', '', '542', '60.65'], ['K2-213 b', 'Transit', '2018', '0', '8.13087', '1.514', '2.9', '', '', '', ''], ['K2-214 b', 'Transit', '2018', '0', '8.596802', '2.43', '6.48', '0.0834', '', '1006', ''], ['K2-215 b', 'Transit', '2018', '0', '8.269648', '2.124', '5.16', '', '', '', ''], ['K2-216 b', 'Transit', '2018', '0', '2.1748', '1.75', '8', '0.028', '0', '1103', '248'], ['K2-217 b', 'Transit', '2018', '0', '14.074524', '3.579', '12.5', '', '', '', ''], ['K2-218 b', 'Transit', '2018', '0', '8.679885', '2.569', '7.13', '', '', '', ''], ['K2-22 b', 'Transit', '2015', '0', '0.381073', '2.3', '444.962', '0.009', '0.19', '2100', '114'], ['K2-220 b', 'Transit', '2018', '0', '13.683256', '2.39', '6.3', '0.1104', '', '758', ''], ['K2-221 b', 'Transit', '2018', '0', '2.399094', '1.679', '3.46', '', '', '', ''], ['K2-222 b', 'Transit', '2018', '0', '15.387063', '2.39', '6.3', '0.1211', '', '801', '87.06'], ['K2-225 b', 'Transit', '2018', '0', '15.87209', '3.49', '12', '0.134', '', '902', ''], ['K2-226 b', 'Transit', '2018', '0', '3.27108', '1.54', '2.99', '0.0413', '', '1120', ''], ['K2-227 b', 'Transit', '2018', '0', '13.621832', '1.666', '3.41', '', '', '', ''], ['K2-228 b', 'Transit', '2018', '0', '2.69828', '1.21', '1.92', '0.0338', '', '914', ''], ['K2-230 b', 'Transit', '2018', '0', '2.86041', '1.96', '4.5', '0.0409', '', '1529', ''], ['K2-231 b', 'Transit', '2018', '0', '13.841901', '2.5', '6.8', '', '', '', ''], ['K2-232 b', 'Transit', '2018', '0', '11.168454', '11.209', '126.49634', '0.10356', '0.258', '1030', '312.16'], ['K2-237 b', 'Transit', '2018', '0', '2.18053539', '16.197', '433.20012', '0.03558', '0.042', '1828', '1860'], ['K2-238 b', 'Transit', '2018', '0', '3.20466', '14.572', '273.3338', '0.046', '0', '1587', '552.64'], ['K2-241 b', 'Transit', '2018', '0', '26.8199', '2.55', '7.04', '0.1567', '', '507', ''], ['K2-242 b', 'Transit', '2018', '0', '6.51389', '2.54', '6.99', '0.0494', '', '416', ''], ['K2-244 b', 'Transit', '2018', '0', '21.06884', '1.75', '3.71', '0.1418', '', '638', ''], ['K2-245 b', 'Transit', '2018', '0', '11.89307', '4.34', '17.4', '0.0959', '', '923', ''], ['K2-246 b', 'Transit', '2018', '0', '5.76918', '3.49', '12', '0.0602', '', '977', ''], ['K2-248 b', 'Transit', '2018', '0', '7.17256', '2.57', '7.13', '0.0699', '', '886', ''], ['K2-249 b', 'Transit', '2018', '0', '12.409', '2.79', '8.2', '0.1151', '', '1061', ''], ['K2-25 b', 'Transit', '2015', '0', '3.48456408', '3.44', '24.5', '0.0287', '0.428', '494', '9.91'], ['K2-250 b', 'Transit', '2018', '0', '4.01457', '2.44', '6.53', '0.0459', '', '958', ''], ['K2-251 b', 'Transit', '2018', '0', '9.30075', '2.35', '6.12', '0.0694', '', '437', ''], ['K2-252 b', 'Transit', '2018', '0', '13.81513', '1.74', '3.68', '0.1041', '', '639', ''], ['K2-253 b', 'Transit', '2018', '0', '4.00167', '12.67', '', '0.0506', '', '1238', '365.82'], ['K2-255 b', 'Transit', '2018', '0', '1.96417', '2.9', '8.75', '0.0274', '', '1034', ''], ['K2-256 b', 'Transit', '2018', '0', '5.52011', '2.63', '7.41', '0.0578', '', '845', ''], ['K2-257 b', 'Transit', '2018', '0', '1.60588', '0.83', '0.498', '0.0216', '', '789', ''], ['K2-258 b', 'Transit', '2018', '0', '19.0921', '3', '9.27', '0.149', '', '831', ''], ['K2-259 b', 'Transit', '2018', '0', '15.48043', '2.32', '5.99', '0.1271', '', '795', ''], ['K2-26 b', 'Transit', '2016', '0', '14.5665', '2.67', '7.61', '0.0962', '', '430', '5.8'], ['K2-260 b', 'Transit', '2018', '0', '2.6266657', '17.396', '451.3186', '0.0404', '0', '1957', '2520.03'], ['K2-261 b', 'Transit', '2018', '0', '11.633478', '9.528', '59.75174', '0.1034', '0.286', '1046', '180'], ['K2-263 b', 'Transit', '2018', '0', '50.818947', '2.41', '14.8', '0.2573', '0.14', '470', ''], ['K2-265 b', 'Transit', '2018', '0', '2.369172', '1.71', '6.54', '0.03376', '0.084', '', ''], ['K2-269 b', 'Transit', '2018', '0', '4.144965', '1.57', '3.09', '0.0531', '', '1429', ''], ['K2-27 b', 'Transit', '2016', '0', '6.771315', '4.48', '30.9', '0.06702', '0.251', '902', '116'], ['K2-271 b', 'Transit', '2018', '0', '8.562421', '7.28', '41.8', '0.077', '', '893', '73.77'], ['K2-272 b', 'Transit', '2018', '0', '14.4536756', '3.13', '9.96', '0.1007', '', '747', ''], ['K2-273 b', 'Transit', '2018', '0', '11.7195663', '3.05', '9.53', '0.0729', '', '849', ''], ['K2-274 b', 'Transit', '2018', '0', '14.1330314', '2.08', '4.98', '0.0964', '', '655', ''], ['K2-276 b', 'Transit', '2018', '0', '18.718269', '3.77', '13.7', '0.1291', '', '583', ''], ['K2-277 b', 'Transit', '2018', '0', '6.326763', '2.07', '4.94', '0.0675', '', '958', '195.73'], ['K2-278 b', 'Transit', '2018', '0', '3.334966', '2.98', '9.17', '0.0488', '', '1711', ''], ['K2-279 b', 'Transit', '2018', '0', '7.122605', '1.21', '1.92', '0.067', '', '879', ''], ['K2-28 b', 'Transit', '2016', '0', '2.260455', '2.32', '5.99', '0.0214', '0', '568', '30.1'], ['K2-280 b', 'Transit', '2018', '0', '19.89526', '7.5', '37.1', '0.1461', '0.35', '787', ''], ['K2-281 b', 'Transit', '2018', '0', '8.687721', '8.18', '50.9', '0.0773', '', '665', ''], ['K2-283 b', 'Transit', '2018', '0', '1.921036', '3.52', '12.2', '0.0291', '', '1186', ''], ['K2-284 b', 'Transit', '2018', '0', '4.795069', '2.78', '8.15', '0.04771', '0.078', '653', '42.6'], ['K2-286 b', 'Transit', '2018', '0', '27.359', '2.1', '5.06', '0.1768', '', '347', ''], ['K2-287 b', 'Transit', '2018', '0', '14.893291', '9.494', '100.11645', '0.1206', '0.478', '804', ''], ['K2-288 B b', 'Transit', '2018', '0', '31.393463', '1.9', '4.27', '0.164', '', '226', ''], ['K2-289 b', 'Transit', '2019', '0', '13.156969', '9.1', '61', '0.107', '', '753', ''], ['K2-29 b', 'Transit', '2016', '0', '3.2588321', '13.339', '232.0159', '0.04217', '0.066', '1171', '293'], ['K2-291 b', 'Transit', '2019', '0', '2.225177', '1.589', '6.49', '0.03261', '0', '1301', '633'], ['K2-292 b', 'Transit', '2019', '0', '16.9841', '2.63', '24.5', '0.13', '0.04', '795', '67'], ['K2-293 b', 'Transit', '2019', '0', '13.1225', '2.45', '6.57', '', '', '750', ''], ['K2-294 b', 'Transit', '2019', '0', '2.50387', '1.66', '3.39', '', '', '1425', ''], ['K2-295 b', 'Transit', '2018', '0', '4.024867', '10.054', '106.47305', '0.0451', '0', '852', '120.04'], ['K2-30 b', 'Transit', '2016', '0', '4.098503', '11.646', '184.02357', '0.04839', '0', '1092', '299'], ['K2-308 b', 'Transit', '2019', '0', '3.38628', '9.916', '70.6', '', '', '1214', '512.9'], ['K2-31 b', 'Transit', '2016', '0', '1.25785', '11.882', '563.83042', '0.022', '0', '', '1272'], ['K2-315 b', 'Transit', '2020', '0', '3.1443189', '0.95', '0.809', '', '', '460', '7.45'], ['K2-317 b', 'Transit', '2020', '0', '6.22', '2.93', '8.91', '0.0542', '', '432', ''], ['K2-318 b', 'Transit', '2020', '0', '7.01', '1.66', '3.39', '0.0911', '', '456', ''], ['K2-319 b', 'Transit', '2020', '0', '26.68', '2.79', '8.2', '0.1516', '', '641', ''], ['K2-320 b', 'Transit', '2020', '0', '1.995', '2.62', '7.37', '0.0142', '', '698', ''], ['K2-321 b', 'Transit', '2020', '0', '2.298', '1.95', '4.46', '0.041', '', '701', '68.55'], ['K2-322 b', 'Transit', '2020', '0', '8.205', '1.92', '4.35', '0.0594', '', '635', ''], ['K2-323 b', 'Transit', '2020', '0', '24.93', '2.1', '5.06', '0.1275', '', '318', ''], ['K2-324 b', 'Transit', '2020', '0', '3.262', '2.43', '6.48', '0.0331', '', '707', ''], ['K2-325 b', 'Transit', '2020', '0', '6.93', '2.2', '5.48', '0.0419', '', '423', ''], ['K2-326 b', 'Transit', '2020', '0', '1.256', '2.28', '5.82', '0.0198', '', '1114', ''], ['K2-329 b', 'Transit', '2020', '0', '12.4551225', '8.676', '82.6358', '0.1016', '0.0697', '650', '45.7'], ['K2-33 b', 'Transit', '2016', '0', '5.424865', '5.04', '1175.971', '0.0409', '0', '850', ''], ['K2-330 b', 'Transit', '2016', '0', '13.774798', '2.77', '8.1', '', '', '969', '212.84'], ['K2-332 b', 'Transit', '2016', '0', '17.70632', '2.2', '5.48', '', '', '266', ''], ['K2-333 b', 'Transit', '2018', '0', '14.759287', '6.18', '31.6', '', '', '826', '102.13'], ['K2-334 b', 'Transit', '2018', '0', '5.113981', '5.65', '27.2', '', '', '1380', '359.23'], ['K2-335 b', 'Transit', '2016', '0', '12.283211', '2.21', '5.52', '', '', '949', ''], ['K2-336 b', 'Transit', '2016', '0', '21.194733', '1.22', '1.98', '', '', '569', ''], ['K2-337 b', 'Transit', '2016', '0', '16.273563', '2.62', '7.37', '', '', '850', ''], ['K2-338 b', 'Transit', '2016', '0', '3.850614', '1.03', '1.08', '', '', '783', ''], ['K2-339 b', 'Transit', '2019', '0', '19.507428', '1.92', '4.35', '', '', '508', ''], ['K2-34 b', 'Transit', '2016', '0', '2.9956348', '13.75', '539.67534', '0.0442', '0', '1687', '911.46'], ['K2-340 b', 'Transit', '2016', '0', '29.740451', '3.36', '11.2', '', '', '606', ''], ['K2-341 b', 'Transit', '2018', '0', '36.552551', '3.21', '10.4', '', '', '598', ''], ['K2-342 b', 'Transit', '2018', '0', '11.561052', '2.03', '4.78', '', '', '861', ''], ['K2-344 b', 'Transit', '2018', '0', '3.35585', '1.59', '3.15', '', '', '722', '34.6'], ['K2-345 b', 'Transit', '2016', '0', '10.367437', '2.11', '5.1', '', '', '437', ''], ['K2-346 b', 'Transit', '2016', '0', '26.201446', '2.26', '5.73', '', '', '450', '8.81'], ['K2-347 b', 'Transit', '2016', '0', '7.187257', '2.41', '6.39', '', '', '640', ''], ['K2-349 b', 'Transit', '2016', '0', '9.032178', '1.38', '2.48', '', '', '518', ''], ['K2-351 b', 'Transit', '2016', '0', '7.806164', '2.54', '6.99', '', '', '934', ''], ['K2-353 b', 'Transit', '2021', '0', '15.466805', '5.55', '26.3', '', '', '735', '33.06'], ['K2-354 b', 'Transit', '2016', '0', '3.793306', '1.56', '3.05', '', '', '543', ''], ['K2-355 b', 'Transit', '2021', '0', '5.7385647', '2.25', '5.69', '0.0632', '', '1066', ''], ['K2-356 b', 'Transit', '2021', '0', '21.0267366', '2.29', '5.86', '0.1599', '', '624', ''], ['K2-357 b', 'Transit', '2021', '0', '16.3488637', '3.72', '13.4', '0.145', '', '735', ''], ['K2-358 b', 'Transit', '2021', '0', '11.2510285', '2.68', '7.65', '0.0863', '', '888', ''], ['K2-365 b', 'Transit', '2022', '0', '23.448172', '2.906', '8.78', '', '', '', ''], ['K2-366 b', 'Transit', '2022', '0', '15.937039', '2.359', '6.16', '', '', '', ''], ['K2-367 b', 'Transit', '2022', '0', '20.645099', '2.413', '6.41', '', '', '', ''], ['K2-369 b', 'Transit', '2022', '0', '5.761612', '1.313', '2.28', '', '', '', ''], ['K2-370 b', 'Transit', '2022', '0', '2.14084', '3.207', '10.4', '', '', '1328', '735.85'], ['K2-371 b', 'Transit', '2022', '0', '3.114905', '13.024', '', '', '', '957', '198.09'], ['K2-372 b', 'Transit', '2022', '0', '9.844077', '2.945', '8.98', '', '', '', ''], ['K2-373 b', 'Transit', '2022', '0', '11.02066', '2.061', '4.9', '', '', '', ''], ['K2-375 b', 'Transit', '2022', '0', '14.453895', '2.243', '5.66', '', '', '', ''], ['K2-376 b', 'Transit', '2022', '0', '5.776475', '1.736', '3.66', '', '', '', ''], ['K2-377 b', 'Transit', '2022', '0', '12.832235', '1.693', '3.51', '', '', '', ''], ['K2-378 b', 'Transit', '2022', '0', '2.060438', '2.88', '8.65', '', '', '', ''], ['K2-379 b', 'Transit', '2022', '0', '8.777247', '2.181', '5.4', '', '', '', ''], ['K2-380 b', 'Transit', '2022', '0', '9.401312', '2.729', '7.89', '', '', '', ''], ['K2-382 b', 'Transit', '2022', '0', '21.700156', '2.072', '4.95', '', '', '', ''], ['K2-383 b', 'Transit', '2022', '0', '1.865962', '1.564', '3.07', '', '', '', ''], ['K2-385 b', 'Transit', '2022', '0', '2.380867', '1.539', '2.98', '', '', '', ''], ['K2-386 b', 'Transit', '2022', '0', '7.473223', '2.32', '5.99', '', '', '', ''], ['K2-387 b', 'Transit', '2022', '0', '28.735327', '7.322', '42.2', '', '', '', ''], ['K2-388 b', 'Transit', '2022', '0', '6.339069', '3.66', '13', '', '', '', ''], ['K2-39 b', 'Transit', '2016', '0', '4.60543', '6.277', '28.6047', '0.05708', '0', '1670', '1356'], ['K2-390 b', 'Transit', '2022', '0', '3.312792', '4.662', '19.6', '', '', '1300', '474.71'], ['K2-391 b', 'Transit', '2022', '0', '4.622654', '1.371', '2.45', '', '', '', ''], ['K2-392 b', 'Transit', '2022', '0', '15.398723', '1.85', '4.08', '', '', '', ''], ['K2-393 b', 'Transit', '2022', '0', '10.413181', '2.352', '6.13', '', '', '', ''], ['K2-394 b', 'Transit', '2022', '0', '5.095717', '1.692', '3.51', '', '', '', ''], ['K2-397 b', 'Transit', '2022', '0', '3.572326', '2.417', '6.42', '', '', '', ''], ['K2-399 b', 'Transit', '2022', '0', '0.759978', '6.049', '30.5', '', '', '2529', '9668.66'], ['K2-4 b', 'Transit', '2015', '0', '10.003417', '2.1', '5.06', '0.078', '0.08', '563', '15.6'], ['K2-400 b', 'Transit', '2022', '0', '3.865053', '1.163', '1.67', '', '', '', ''], ['K2-401 b', 'Transit', '2022', '0', '6.293099', '2.262', '5.74', '', '', '', ''], ['K2-402 b', 'Transit', '2022', '0', '17.27474', '2.678', '7.65', '', '', '', ''], ['K2-403 b', 'Transit', '2022', '0', '33.589979', '5.333', '24.6', '', '', '', ''], ['K2-404 b', 'Transit', '2022', '0', '13.115365', '2.53', '6.94', '', '', '', ''], ['K2-405 b', 'Transit', '2022', '0', '3.435471', '4.569', '18.9', '', '', '969', '146.58'], ['K2-406 b', 'Transit', '2022', '0', '22.549406', '4.602', '19.2', '', '', '', ''], ['K2-408 b', 'Transit', '2022', '0', '20.978959', '1.677', '3.45', '', '', '', ''], ['K2-409 b', 'Transit', '2022', '0', '1.908084', '2.482', '6.72', '', '', '', ''], ['K2-411 b', 'Transit', '2022', '0', '3.2141', '0.99', '0.937', '0.0511', '', '', '619.04'], ['K2-412 b', 'Transit', '2022', '0', '5.9382', '2.116', '5.13', '0.0586', '', '', '243.52'], ['K2-42 b', 'Transit', '2016', '0', '6.68796', '2.15', '5.27', '0.0617', '', '', '44.1'], ['K2-44 b', 'Transit', '2016', '0', '5.657', '2.433', '6.5', '0.06', '', '1211', '646'], ['K2-45 b', 'Transit', '2016', '0', '1.7292684', '6.71', '36.4', '0.0224', '0.1', '1074', '100'], ['K2-46 b', 'Transit', '2016', '0', '19.1541', '2.05', '4.86', '0.13821', '', '889', '119'], ['K2-47 b', 'Transit', '2016', '0', '31.6372', '1.89', '4.23', '0.1779', '', '', '10.7'], ['K2-48 b', 'Transit', '2016', '0', '20.5065', '2.24', '5.65', '0.1344', '', '', '15.3'], ['K2-49 b', 'Transit', '2016', '0', '2.77065', '1.93', '4.38', '0.0309', '', '', '59'], ['K2-52 b', 'Transit', '2016', '0', '3.535055', '18', '45700', '0.054', '', '2004', '1124'], ['K2-53 b', 'Transit', '2016', '0', '12.20772', '2.6', '7.27', '0.098', '', '665', '52.5'], ['K2-54 b', 'Transit', '2016', '0', '9.7843', '1.15', '1.6', '0.0671', '', '', '6.1'], ['K2-55 b', 'Transit', '2016', '0', '2.849258', '3.82', '14', '0.03486', '0.07', '912', '115'], ['K2-57 b', 'Transit', '2016', '0', '9.0063', '2.1', '5.06', '0.0746', '', '', '24.1'], ['K2-6 b', 'Transit', '2015', '0', '30.94191', '2.5', '6.8', '0.1898', '', '615', '28.6'], ['K2-60 b', 'Transit', '2016', '0', '3.00265', '7.656', '135.39558', '0.045', '0', '1400', '1212'], ['K2-61 b', 'Transit', '2016', '0', '2.57302', '2.48', '6.71', '0.0392', '', '', '1686'], ['K2-64 b', 'Transit', '2016', '0', '6.53044', '2.07', '4.94', '0.0619', '', '', '98'], ['K2-65 b', 'Transit', '2016', '0', '12.6475', '1.58', '3.12', '0.1014', '', '', '45'], ['K2-66 b', 'Transit', '2016', '0', '5.06963', '2.49', '21.3', '0.05983', '0', '1372', '840'], ['K2-68 b', 'Transit', '2016', '0', '8.05428', '1.58', '3.12', '0.0708', '', '', '41'], ['K2-69 b', 'Transit', '2016', '0', '7.06599', '2.32', '5.99', '0.0591', '', '', '17.9'], ['K2-7 b', 'Transit', '2015', '0', '28.67992', '2.67', '7.61', '0.1814', '', '651', '125'], ['K2-70 b', 'Transit', '2016', '0', '13.97896', '2.89', '8.7', '0.1112', '', '', '62'], ['K2-71 b', 'Transit', '2016', '0', '6.98541', '2.15', '5.27', '0.0559', '', '', '13.4'], ['K2-73 b', 'Transit', '2016', '0', '7.49543', '2.45', '6.57', '0.07619', '', '', '213'], ['K2-74 b', 'Transit', '2016', '0', '19.5666', '2.31', '5.95', '0.1402', '', '', '59.1'], ['K2-77 b', 'Transit', '2016', '0', '8.199796', '2.3', '603.877', '0.076', '0.14', '693', '58'], ['K2-79 b', 'Transit', '2016', '0', '10.994748', '4.05', '15.4', '0.0987', '', '', '186'], ['K2-81 b', 'Transit', '2016', '0', '6.102325', '1.97', '4.54', '0.059', '0.06', '', '62.9'], ['K2-85 b', 'Transit', '2016', '0', '0.684559', '1.2', '1.87', '0.013', '0.24', '', '479'], ['K2-86 b', 'Transit', '2016', '0', '8.77683', '1.96', '4.5', '0.077', '', '', '78'], ['K2-87 b', 'Transit', '2016', '0', '9.726618', '7.6', '44.9', '0.094', '', '979', '85'], ['K2-88 b', 'Transit', '2016', '0', '4.6122', '1.23', '2.04', '0.0345', '0.26', '', '7.8'], ['K2-89 b', 'Transit', '2016', '0', '1.096026', '0.615', '0.17', '0.01462', '0.15', '', '78'], ['K2-9 b', 'Transit', '2015', '0', '18.4498', '2.25', '5.69', '0.091', '', '314', '1.36'], ['K2-91 b', 'Transit', '2016', '0', '1.419549', '1.1', '1.37', '0.0164', '0.09', '', '46'], ['K2-95 b', 'Transit', '2016', '0', '10.1346454', '3.31', '11', '0.0525', '0.16', '474', ''], ['K2-97 b', 'Transit', '2016', '0', '8.406726', '10.61', '152.5584', '0.086', '0.22', '1499', '123.34'], ['K2-98 b', 'Transit', '2016', '0', '10.136448', '5.2', '32.2', '0.0974', '0', '1092', '278.86'], ['K2-99 b', 'Transit', '2016', '0', '18.251985', '11.73', '308.2951', '0.1597', '0.19', '1113', ''], ['KELT-1 b', 'Transit', '2012', '0', '1.217514', '12.442', '8654.15', '0.02466', '0.0099', '2233', '5879.56'], ['KELT-10 b', 'Transit', '2016', '0', '4.1662739', '15.681', '215.80657', '0.0525', '', '1377', '600'], ['KELT-11 b', 'Transit', '2017', '0', '4.7361', '15.132', '54.34893', '0.06229', '0.0007', '1712', '1433'], ['KELT-12 b', 'Transit', '2017', '0', '5.031623', '19.952', '301.9385', '0.06708', '0', '1800', '1749'], ['KELT-14 b', 'Transit', '2016', '0', '1.7100566', '19.537', '408.09372', '0.03005', '0', '1970', '826.11'], ['KELT-15 b', 'Transit', '2016', '0', '3.32944', '19.504', '416.3573', '0.04613', '0', '1642', '1612.76'], ['KELT-16 b', 'Transit', '2017', '0', '0.9689951', '15.861', '874.0325', '0.02044', '0', '2453', '5571.09'], ['KELT-17 b', 'Transit', '2016', '0', '3.0801716', '17.094', '416.3573', '0.04881', '', '2087', '2090.4'], ['KELT-18 b', 'Transit', '2017', '0', '2.8717518', '17.598', '375.0394', '0.0455', '0', '2085', '3152'], ['KELT-19 A b', 'Transit', '2017', '0', '4.6117093', '21.409', '1293.5681', '0.0637', '', '1935', '2340'], ['KELT-2 A b', 'Transit', '2012', '0', '4.11379', '15.132', '540.311', '0.05497', '0', '1715', '1438.39'], ['KELT-20 b', 'Transit', '2017', '0', '3.4741085', '19.515', '1074.90106', '0.0542', '0', '2262', '4362.5'], ['KELT-21 b', 'Transit', '2018', '0', '3.6127647', '17.777', '1242.7153', '0.05224', '0', '2051', '2950'], ['KELT-23 A b', 'Transit', '2019', '0', '2.255251', '14.83', '298.12454', '0.03302', '0', '1561', '991.18'], ['KELT-24 b', 'Transit', '2019', '0', '5.5514926', '14.258', '1646.3594', '0.06969', '0.077', '1459', '750.9'], ['KELT-3 b', 'Transit', '2013', '0', '2.70339', '17.486', '616.5902', '0.04123', '0', '1816', '1704.57'], ['KELT-4 A b', 'Transit', '2016', '0', '2.9895932', '19.044', '286.68266', '0.04317', '0', '1823', '1840'], ['KELT-7 b', 'Transit', '2015', '0', '2.73477', '17.934', '441.7837', '0.04415', '0', '2048', '1747.63'], ['KELT-8 b', 'Transit', '2015', '0', '3.24406', '18.159', '209.7678', '0.0455', '0.04', '1675', '983.3'], ['KELT-9 b', 'Transit', '2017', '0', '1.4811235', '21.196', '915.3504', '0.03462', '0', '4050', '44900'], ['KIC 10068024 b', 'Orbital Brightness Modulation', '2021', '0', '2.073549', '13.4', '635.65681', '', '', '', ''], ['KIC 10525077 b', 'Transit', '2015', '0', '854.083', '5.5', '25.9', '', '', '', ''], ['KIC 3526061 b', 'Radial Velocity', '2022', '0', '3552', '12.1', '5768.58559', '5.14', '0.85', '', ''], ['KIC 3558849 b', 'Transit', '2015', '0', '1322.3', '6.9', '38.1', '', '', '', ''], ['KIC 5095269 b', 'Eclipse Timing Variations', '2017', '0', '237.68977', '12.6', '2445.06619', '0.8', '0.0603', '', ''], ['KIC 5479689 b', 'Orbital Brightness Modulation', '2021', '0', '1.701531', '14.2', '158.9142', '', '', '', ''], ['KIC 5951458 b', 'Transit', '2015', '1', '1320.1', '6.6', '35.4', '', '', '', ''], ['KIC 7917485 b', 'Pulsation Timing Variations', '2016', '0', '840', '12.4', '3750.394', '', '0.15', '', ''], ['KIC 8121913 b', 'Orbital Brightness Modulation', '2021', '0', '3.294601', '13.4', '667.43965', '', '', '', ''], ['KMT-2016-BLG-0212L b', 'Microlensing', '2018', '0', '', '12.2', '5700', '2.2', '', '', ''], ['KMT-2016-BLG-1105L b', 'Microlensing', '2023', '0', '', '1.33', '2.32', '2.44', '', '', ''], ['KMT-2016-BLG-1107L b', 'Microlensing', '2019', '0', '', '13.1', '1043', '0.342', '', '', ''], ['KMT-2016-BLG-1397L b', 'Microlensing', '2018', '0', '', '12.7', '2200', '5.1', '', '', ''], ['KMT-2016-BLG-1820L b', 'Microlensing', '2018', '0', '', '12.9', '1450', '1.08', '', '', ''], ['KMT-2016-BLG-1836L b', 'Microlensing', '2019', '0', '', '13.3', '700', '3.5', '', '', ''], ['KMT-2016-BLG-2142L b', 'Microlensing', '2018', '0', '', '12.2', '4923', '0.83', '', '', ''], ['KMT-2016-BLG-2364L b', 'Microlensing', '2020', '0', '', '13', '1250', '2.63', '', '', ''], ['KMT-2016-BLG-2397L b', 'Microlensing', '2020', '0', '', '13.2', '836', '3.64', '', '', ''], ['KMT-2016-BLG-2605L b', 'Microlensing', '2021', '0', '', '14', '245.0457', '0.681', '', '', ''], ['KMT-2017-BLG-0165L b', 'Microlensing', '2018', '0', '', '6.45', '34', '3.45', '', '', ''], ['KMT-2017-BLG-0428L b', 'Microlensing', '2023', '0', '', '2.23', '5.59', '1.81', '', '', ''], ['KMT-2017-BLG-0673L b', 'Microlensing', '2022', '0', '', '13', '1166.43025', '2.34', '', '', ''], ['KMT-2017-BLG-1003L b', 'Microlensing', '2023', '0', '', '2.13', '5.19', '1.38', '', '', ''], ['KMT-2017-BLG-1038L b', 'Microlensing', '2019', '0', '', '13.4', '640', '1.8', '', '', ''], ['KMT-2017-BLG-1146L b', 'Microlensing', '2019', '0', '', '14', '230', '1.6', '', '', ''], ['KMT-2017-BLG-1194L b', 'Microlensing', '2023', '0', '', '1.7', '3.54', '1.78', '', '', ''], ['KMT-2017-BLG-2509L b', 'Microlensing', '2021', '0', '', '13.4', '664.26137', '2.14', '', '', ''], ['KMT-2018-BLG-0029L b', 'Microlensing', '2020', '0', '', '2.67', '7.59', '4.27', '', '', ''], ['KMT-2018-BLG-0748L b', 'Microlensing', '2020', '0', '', '9.01', '60', '0.62', '', '', ''], ['KMT-2018-BLG-1025L b', 'Microlensing', '2021', '0', '', '2.34', '6.059', '1.305', '', '', ''], ['KMT-2018-BLG-1292L b', 'Microlensing', '2020', '0', '', '12.9', '1400', '6.03', '', '', ''], ['KMT-2018-BLG-1743L b', 'Microlensing', '2021', '0', '', '10.5', '77.86796', '1.449', '', '', ''], ['KMT-2018-BLG-1976L b', 'Microlensing', '2021', '0', '', '13.3', '705.57906', '3.54', '', '', ''], ['KMT-2018-BLG-1988L b', 'Microlensing', '2022', '0', '', '2.22', '5.56', '3.09', '', '', ''], ['KMT-2018-BLG-1990L b', 'Microlensing', '2019', '0', '', '12.9', '111', '0.763', '', '', ''], ['KMT-2018-BLG-1996L b', 'Microlensing', '2021', '0', '', '13.7', '346.43296', '4.27', '', '', ''], ['KMT-2019-BLG-0253L b', 'Microlensing', '2022', '0', '', '2.99', '9.2', '3.1', '', '', ''], ['KMT-2019-BLG-0371L b', 'Microlensing', '2021', '0', '', '12.6', '2447.27873', '0.79', '', '', ''], ['KMT-2019-BLG-0414L b', 'Microlensing', '2022', '0', '', '12.9', '1452.47582', '1.16', '', '', ''], ['KMT-2019-BLG-0842L b', 'Microlensing', '2020', '0', '', '3.19', '10.28', '3.31', '', '', ''], ['KMT-2019-BLG-0953L b', 'Microlensing', '2022', '0', '', '4.06', '15.5', '1.1', '', '', ''], ['KMT-2019-BLG-1042L b', 'Microlensing', '2022', '0', '', '9.05', '60.3874', '1.7', '', '', ''], ['KMT-2019-BLG-1339L b', 'Microlensing', '2020', '0', '', '13.7', '397', '2.15', '', '', ''], ['KMT-2019-BLG-1367L b', 'Microlensing', '2023', '0', '', '1.85', '4.08', '1.7', '', '', ''], ['KMT-2019-BLG-1552L b', 'Microlensing', '2022', '0', '', '13', '1287.20505', '2.6', '', '', ''], ['KMT-2019-BLG-1715L b', 'Microlensing', '2021', '0', '', '13.2', '813.64072', '3.32', '', '', ''], ['KMT-2019-BLG-1806L b', 'Microlensing', '2023', '0', '', '2', '4.67', '3.02', '', '', ''], ['KMT-2019-BLG-1953L b', 'Microlensing', '2020', '0', '', '14.1', '200', '', '', '', ''], ['KMT-2019-BLG-2974L b', 'Microlensing', '2022', '0', '', '11.4', '88.99195', '2', '', '', ''], ['KMT-2021-BLG-0119L b', 'Microlensing', '2022', '0', '', '12.8', '1754.41281', '2.92', '', '', ''], ['KMT-2021-BLG-0171L b', 'Microlensing', '2022', '0', '', '3.35', '11.2', '3.5', '', '', ''], ['KMT-2021-BLG-0192L b', 'Microlensing', '2022', '0', '', '6.56', '34.96112', '1.62', '', '', ''], ['KMT-2021-BLG-0240L b', 'Microlensing', '2022', '0', '', '9.6', '66.74397', '2.8', '', '', ''], ['KMT-2021-BLG-0320L b', 'Microlensing', '2022', '0', '', '6.2', '31.78284', '1.54', '', '', ''], ['KMT-2021-BLG-0322L b', 'Microlensing', '2021', '0', '', '12.7', '2034.1018', '', '', '', ''], ['KMT-2021-BLG-0748L b', 'Microlensing', '2022', '0', '', '14.3', '143.02278', '2.43', '', '', ''], ['KMT-2021-BLG-0912L b', 'Microlensing', '2022', '0', '', '1.49', '2.81', '3.14', '', '', ''], ['KMT-2021-BLG-1253L b', 'Microlensing', '2022', '0', '', '4.59', '19.05', '1.52', '', '', ''], ['KMT-2021-BLG-1303L b', 'Microlensing', '2022', '0', '', '13.6', '120.77479', '2.89', '', '', ''], ['KMT-2021-BLG-1372L b', 'Microlensing', '2022', '0', '', '9.12', '61.27', '2.37', '', '', ''], ['KMT-2021-BLG-1391L b', 'Microlensing', '2022', '0', '', '1.97', '4.55', '2.29', '', '', ''], ['KMT-2021-BLG-1554L b', 'Microlensing', '2022', '0', '', '6.9', '38.13941', '0.72', '', '', ''], ['KMT-2021-BLG-1689L b', 'Microlensing', '2022', '0', '', '7.71', '46', '2.5', '', '', ''], ['KMT-2021-BLG-1898L b', 'Microlensing', '2022', '0', '', '14', '232.01474', '1.9', '', '', ''], ['KMT-2021-BLG-2294L b', 'Microlensing', '2022', '0', '', '5.02', '22.24799', '1.15', '', '', ''], ['KOI-1257 b', 'Transit', '2014', '0', '86.647661', '10.54', '460.83', '0.382', '0.772', '511', '7.28'], ['KOI-13 b', 'Transit', '2011', '0', '1.763588', '16.948', '2949.4624', '0.03641', '0.00064', '2550', '25339.9'], ['KOI-217 b', 'Transit', '2010', '0', '3.90512', '12.442', '', '0.0477', '0', '1046', '272.03'], ['KOI-3680 b', 'Transit', '2018', '0', '141.241671', '11.097', '613.4119', '0.534', '0.496', '347', '3.62'], ['KOI-4777.01', 'Transit', '2014', '0', '0.412', '0.51', '99.2', '0.008', '0', '1180', '320'], ['KOI-7368 b', 'Transit', '2022', '0', '6.8430344', '2.22', '5.56', '0.0678', '0', '805', '99.24'], ['KOI-7913 b', 'Transit', '2022', '0', '24.278553', '2.34', '6.08', '0.1456', '0', '432', '8.27'], ['KPS-1 b', 'Transit', '2018', '0', '1.706291', '11.545', '346.4347', '0.0269', '0', '1459', '729'], ['Kapteyn c', 'Radial Velocity', '2014', '0', '121.54', '2.54', '7', '0.311', '0.23', '', ''], ['Kepler-1000 b', 'Transit', '2016', '0', '120.0181272', '4.76', '20.3', '0.5337', '0', '473', '18'], ['Kepler-1002 b', 'Transit', '2016', '0', '4.33642933', '1.71', '3.57', '0.0564', '0', '1453', '981.68'], ['Kepler-1003 b', 'Transit', '2016', '0', '3.55485691', '1.78', '3.82', '0.0444', '0', '1157', '814.92'], ['Kepler-1004 b', 'Transit', '2016', '0', '5.28789787', '6.28', '32.5', '0.0671', '0', '1661', '1610.09'], ['Kepler-1005 b', 'Transit', '2016', '0', '6.49801525', '1.5', '2.86', '0.0669', '0', '1026', '301.33'], ['Kepler-1006 b', 'Transit', '2016', '0', '19.76172042', '1.54', '2.99', '0.1464', '0', '791', '153.49'], ['Kepler-1007 b', 'Transit', '2016', '0', '5.18500207', '1.44', '2.67', '0.048', '0', '652', '42.62'], ['Kepler-1008 b', 'Transit', '2016', '0', '12.43931193', '1.28', '2.18', '0.0951', '0', '627', '35.41'], ['Kepler-1009 b', 'Transit', '2016', '0', '11.35011917', '2.17', '5.35', '0.0796', '0', '403', '11.56'], ['Kepler-1010 b', 'Transit', '2016', '0', '34.2685705', '2.32', '5.99', '0.193', '0', '477', '10.17'], ['Kepler-1011 b', 'Transit', '2016', '0', '5.75322197', '2.87', '8.6', '0.0633', '0', '920', '108.79'], ['Kepler-1012 b', 'Transit', '2016', '0', '5.50860439', '1.29', '2.21', '0.0585', '0', '934', '191.81'], ['Kepler-1013 b', 'Transit', '2016', '0', '18.93054959', '2.15', '5.27', '0.137', '0', '766', '16.1'], ['Kepler-1014 b', 'Transit', '2016', '0', '16.57110363', '2.39', '6.3', '0.121', '0', '614', '33.48'], ['Kepler-1015 b', 'Transit', '2016', '0', '16.00494214', '3.55', '12.3', '0.1396', '0', '1040', '172.11'], ['Kepler-1017 b', 'Transit', '2016', '0', '7.23400469', '1.99', '4.62', '0.0702', '0', '831', '119.6'], ['Kepler-1018 b', 'Transit', '2016', '0', '49.1013514', '2.58', '7.18', '0.253', '0', '498', '12.1'], ['Kepler-1019 b', 'Transit', '2016', '0', '1.41122985', '1.46', '2.73', '0.0221', '0', '1164', '330.25'], ['Kepler-1020 b', 'Transit', '2016', '0', '96.9151496', '2.28', '5.82', '0.3878', '0', '325', '2.34'], ['Kepler-1021 b', 'Transit', '2016', '0', '13.47469571', '2.33', '6.04', '0.1034', '0', '634', '50.37'], ['Kepler-1022 b', 'Transit', '2016', '0', '10.99469878', '2.36', '6.17', '0.0805', '0', '512', '19.26'], ['Kepler-1023 b', 'Transit', '2016', '0', '62.1387714', '2.63', '7.41', '0.301', '0', '524', '6.98'], ['Kepler-1024 b', 'Transit', '2016', '0', '66.4162133', '3.91', '14.5', '0.3033', '0', '376', '5.45'], ['Kepler-1025 b', 'Transit', '2016', '0', '37.3229493', '1.98', '4.58', '0.3344', '0', '1654', '17.95'], ['Kepler-1026 b', 'Transit', '2016', '0', '36.5156053', '2.21', '5.52', '0.1977', '0', '425', '5.99'], ['Kepler-1027 b', 'Transit', '2016', '0', '1.9078052', '0.89', '0.64', '0.0295', '0', '1268', '1162.51'], ['Kepler-1028 b', 'Transit', '2016', '0', '2.51462432', '1.33', '2.33', '0.0354', '0', '1217', '519.64'], ['Kepler-1029 b', 'Transit', '2016', '0', '4.41769648', '1.26', '2.13', '0.047', '0', '790', '92.16'], ['Kepler-1030 b', 'Transit', '2016', '0', '19.32952416', '2.48', '6.71', '0.1338', '0', '529', '16.88'], ['Kepler-1031 b', 'Transit', '2016', '0', '1.22621732', '0.87', '0.59', '0.0218', '0', '2024', '3973.86'], ['Kepler-1032 b', 'Transit', '2016', '0', '3.29011795', '1.87', '4.16', '0.0361', '0', '802', '176.14'], ['Kepler-1033 b', 'Transit', '2016', '0', '7.56052806', '2.51', '6.85', '0.0761', '0', '914', '159.42'], ['Kepler-1034 b', 'Transit', '2016', '0', '12.12400943', '2.26', '5.73', '0.0965', '0', '675', '36.79'], ['Kepler-1035 b', 'Transit', '2016', '0', '2.71407755', '1.17', '1.71', '0.0386', '0', '1301', '1180.06'], ['Kepler-1036 b', 'Transit', '2016', '0', '122.8808058', '3.01', '9.32', '0.4629', '0', '326', '2.82'], ['Kepler-1037 b', 'Transit', '2016', '0', '1.06378867', '1.28', '2.18', '0.0198', '0', '1650', '1015.43'], ['Kepler-1039 b', 'Transit', '2016', '0', '0.93488424', '1.46', '2.73', '0.0184', '0', '2080', '668.13'], ['Kepler-1040 b', 'Transit', '2016', '0', '201.1214', '2.08', '4.98', '0.6559', '0', '300', '2.12'], ['Kepler-1041 b', 'Transit', '2016', '0', '24.7576421', '2.94', '8.96', '0.1688', '0', '644', '117.96'], ['Kepler-1042 b', 'Transit', '2016', '0', '10.13202575', '2.19', '5.43', '0.0756', '0', '574', '25.66'], ['Kepler-1043 b', 'Transit', '2016', '0', '38.5053398', '2.55', '7.04', '0.2159', '0', '532', '21.69'], ['Kepler-1044 b', 'Transit', '2016', '0', '6.77408868', '2.67', '7.61', '0.0741', '0', '1058', '218.5'], ['Kepler-1045 b', 'Transit', '2016', '0', '26.41045478', '2.69', '7.7', '0.1616', '0', '512', '19.13'], ['Kepler-1046 b', 'Transit', '2016', '0', '14.37508035', '1.71', '3.57', '0.1167', '0', '786', '90.16'], ['Kepler-1048 b', 'Transit', '2016', '0', '6.92101021', '1.61', '3.22', '0.059', '0', '619', '96.98'], ['Kepler-1049 b', 'Transit', '2016', '0', '3.27346074', '0.95', '0.809', '0.0349', '0', '625', '50.43'], ['Kepler-1051 b', 'Transit', '2016', '0', '25.96200249', '3.4', '11.5', '0.1891', '0', '850', '87.46'], ['Kepler-1052 b', 'Transit', '2016', '0', '34.8538276', '2.93', '8.91', '0.2046', '0', '522', '20.98'], ['Kepler-1053 b', 'Transit', '2016', '0', '2.41435165', '0.98', '0.904', '0.0315', '0', '953', '139.82'], ['Kepler-1054 b', 'Transit', '2016', '0', '4.30655689', '2.63', '7.41', '0.054', '0', '1177', '760.52'], ['Kepler-1055 b', 'Transit', '2016', '0', '2.29503623', '1.23', '2.04', '0.0331', '0', '1304', '647.26'], ['Kepler-1056 b', 'Transit', '2016', '0', '27.495606', '3.01', '9.32', '0.1629', '0', '590', '56.91'], ['Kepler-1057 b', 'Transit', '2016', '0', '14.08827448', '3.36', '11.2', '0.1138', '0', '724', '69.21'], ['Kepler-1058 b', 'Transit', '2016', '0', '110.96546', '2.72', '7.85', '0.3679', '0', '239', '0.77'], ['Kepler-1059 b', 'Transit', '2016', '0', '3.76419105', '1.73', '3.64', '0.044', '0', '908', '174.07'], ['Kepler-1060 b', 'Transit', '2016', '0', '46.8779367', '2.38', '6.26', '0.2495', '0', '484', '17.42'], ['Kepler-1061 b', 'Transit', '2016', '0', '2.75798267', '1.98', '4.58', '0.0384', '0', '1332', '788.5'], ['Kepler-1062 b', 'Transit', '2016', '0', '9.30412078', '1.76', '3.75', '0.0748', '0', '583', '33.76'], ['Kepler-1063 b', 'Transit', '2016', '0', '14.07971466', '1.49', '2.83', '0.1176', '0', '931', '54.93'], ['Kepler-1064 b', 'Transit', '2016', '0', '16.54080322', '1.55', '3.02', '0.1183', '0', '570', '24.87'], ['Kepler-1066 b', 'Transit', '2016', '0', '1.93155984', '2.36', '6.17', '0.0299', '0', '1290', '710.02'], ['Kepler-1068 b', 'Transit', '2016', '0', '16.92344113', '3.63', '12.8', '0.1309', '0', '702', '55.93'], ['Kepler-1069 b', 'Transit', '2016', '0', '23.8990296', '1.6', '3.19', '0.1685', '0', '823', '78.17'], ['Kepler-1070 b', 'Transit', '2016', '0', '6.2216147', '1.73', '3.64', '0.0693', '0', '1101', '380.13'], ['Kepler-1071 b', 'Transit', '2016', '0', '6.1799844', '2.38', '6.26', '0.0615', '0', '814', '45.12'], ['Kepler-1072 b', 'Transit', '2016', '0', '1.5690665', '1.58', '3.12', '0.0269', '0', '1849', '2944'], ['Kepler-1074 b', 'Transit', '2016', '0', '5.94566534', '1.25', '2.1', '0.0536', '0', '568', '27.57'], ['Kepler-1075 b', 'Transit', '2016', '0', '1.52372816', '1.42', '2.6', '0.0208', '0', '818', '143.97'], ['Kepler-1076 b', 'Transit', '2016', '0', '6.14727918', '0.8', '0.437', '0.0611', '0', '770', '83.18'], ['Kepler-1077 b', 'Transit', '2016', '0', '34.3511874', '2.77', '8.1', '0.2101', '0', '576', '26.93'], ['Kepler-1078 b', 'Transit', '2016', '0', '3.00725242', '1.9', '4.27', '0.0388', '0', '1122', '373.99'], ['Kepler-1079 b', 'Transit', '2016', '0', '13.24503188', '1.63', '3.29', '0.1092', '0', '887', '195.35'], ['Kepler-1080 b', 'Transit', '2016', '0', '77.2548396', '3.28', '10.8', '0.3781', '0', '548', '55.45'], ['Kepler-1081 b', 'Transit', '2016', '0', '3.85691855', '1.01', '1.01', '0.0466', '0', '972', '225.22'], ['Kepler-1082 b', 'Transit', '2016', '0', '1.5432066', '1.12', '1.46', '0.0257', '0', '1827', '2949.56'], ['Kepler-1083 b', 'Transit', '2016', '0', '33.4177993', '3.36', '11.2', '0.1899', '0', '448', '10.15'], ['Kepler-1084 b', 'Transit', '2016', '0', '2.05333679', '1.11', '1.41', '0.0324', '0', '1737', '1766.59'], ['Kepler-1087 b', 'Transit', '2016', '0', '0.69384285', '0.61', '0.165', '0.0148', '0', '2161', '3496.49'], ['Kepler-1088 b', 'Transit', '2016', '0', '23.12748644', '1.42', '2.6', '0.1602', '0', '667', '44.89'], ['Kepler-1089 b', 'Transit', '2016', '0', '5.13248562', '1.83', '4.01', '0.0497', '0', '584', '26.27'], ['Kepler-1091 b', 'Transit', '2016', '0', '1.43474156', '1.46', '2.73', '0.0252', '0', '1664', '1740.86'], ['Kepler-1092 b', 'Transit', '2016', '0', '58.6017925', '2.07', '4.94', '0.2996', '0', '508', '17.02'], ['Kepler-1094 b', 'Transit', '2016', '0', '78.1000231', '3.18', '10.2', '0.3625', '0', '480', '10.34'], ['Kepler-1095 b', 'Transit', '2016', '0', '4.27103091', '1.21', '1.92', '0.0514', '0', '1108', '356.54'], ['Kepler-1096 b', 'Transit', '2016', '0', '2.89221751', '1.24', '2.07', '0.034', '0', '794', '124.87'], ['Kepler-1097 b', 'Transit', '2016', '0', '187.747029', '3.26', '10.7', '0.5791', '0', '267', '1.3'], ['Kepler-1098 b', 'Transit', '2016', '0', '2.54307286', '1.3', '2.24', '0.0358', '0', '1319', '995.67'], ['Kepler-1099 b', 'Transit', '2016', '0', '2.16845259', '2.83', '8.4', '0.0337', '0', '1558', '766.34'], ['Kepler-1100 b', 'Transit', '2016', '0', '6.42200058', '1.75', '3.71', '0.0684', '0', '1000', '238.51'], ['Kepler-1101 b', 'Transit', '2016', '0', '81.3151059', '2.47', '6.66', '0.3483', '0', '393', '3.58'], ['Kepler-1102 b', 'Transit', '2016', '0', '51.3285623', '2.66', '7.56', '0.2731', '0', '546', '22.98'], ['Kepler-1103 b', 'Transit', '2016', '0', '19.79191978', '2.27', '5.77', '0.1473', '0', '736', '160.28'], ['Kepler-1104 b', 'Transit', '2016', '0', '5.03728015', '1.23', '2.04', '0.0628', '0', '1321', '813.52'], ['Kepler-1105 b', 'Transit', '2016', '0', '4.42157218', '2.01', '4.7', '0.0471', '0', '729', '47.18'], ['Kepler-1106 b', 'Transit', '2016', '0', '1.25275217', '1.65', '3.36', '0.0239', '0', '2199', '2399.97'], ['Kepler-1107 b', 'Transit', '2016', '0', '0.57103852', '1.34', '2.36', '0.0126', '0', '1897', '2387.26'], ['Kepler-1108 b', 'Transit', '2016', '0', '4.51005748', '1.46', '2.73', '0.0511', '0', '1063', '206.41'], ['Kepler-1109 b', 'Transit', '2016', '0', '37.6467384', '2.19', '5.43', '0.2466', '0', '787', '11.38'], ['Kepler-1110 b', 'Transit', '2016', '0', '9.69312032', '2.66', '7.56', '0.0754', '0', '609', '43.14'], ['Kepler-1111 b', 'Transit', '2016', '0', '8.79617863', '2', '4.66', '0.0872', '0', '938', '118.52'], ['Kepler-1112 b', 'Transit', '2016', '0', '14.36267939', '3.02', '9.38', '0.1239', '0', '918', '254.96'], ['Kepler-1113 b', 'Transit', '2016', '0', '42.3004954', '2.81', '8.3', '0.2415', '0', '558', '22.85'], ['Kepler-1114 b', 'Transit', '2016', '0', '14.97435694', '1.35', '2.39', '0.1102', '0', '631', '39.32'], ['Kepler-1115 b', 'Transit', '2016', '0', '23.5540725', '1.7', '3.53', '0.2134', '0', '1381', '516.1'], ['Kepler-1116 b', 'Transit', '2016', '0', '41.6977827', '2.54', '6.99', '0.233', '0', '488', '15.79'], ['Kepler-1117 b', 'Transit', '2016', '0', '4.79028459', '1.11', '1.41', '0.0546', '0', '938', '194.98'], ['Kepler-1118 b', 'Transit', '2016', '0', '38.6715075', '2.74', '7.95', '0.2079', '0', '502', '20.01'], ['Kepler-1119 b', 'Transit', '2016', '0', '8.3265153', '1.92', '4.35', '0.0812', '0', '938', '182.69'], ['Kepler-1120 b', 'Transit', '2016', '0', '2.94902905', '1.38', '2.48', '0.0369', '0', '1027', '206.87'], ['Kepler-1121 b', 'Transit', '2016', '0', '13.15141081', '1.91', '4.31', '0.1187', '0', '1008', '205.27'], ['Kepler-1122 b', 'Transit', '2016', '0', '42.1917357', '2.04', '4.82', '0.2315', '0', '526', '23.26'], ['Kepler-1123 b', 'Transit', '2016', '0', '4.33946454', '1.67', '3.43', '0.0497', '0', '1061', '190.02'], ['Kepler-1124 b', 'Transit', '2016', '0', '2.85234897', '1.28', '2.18', '0.0305', '0', '621', '50.78'], ['Kepler-1125 b', 'Transit', '2016', '0', '17.6700642', '1.84', '4.04', '0.1348', '0', '778', '41.04'], ['Kepler-1126 b', 'Transit', '2016', '0', '108.593329', '1.73', '3.64', '0.4126', '0', '374', '4.55'], ['Kepler-1127 b', 'Transit', '2016', '0', '5.12330347', '1.96', '4.5', '0.0556', '0', '994', '160.76'], ['Kepler-1128 b', 'Transit', '2016', '0', '61.6178167', '3.65', '12.9', '0.302', '0', '424', '6.45'], ['Kepler-1131 b', 'Transit', '2016', '0', '3.53232449', '1.59', '3.15', '0.0459', '0', '1159', '453.14'], ['Kepler-1132 b', 'Transit', '2016', '0', '62.8916228', '2.35', '6.12', '0.2881', '0', '384', '4.55'], ['Kepler-1133 b', 'Transit', '2016', '0', '11.55562343', '1.97', '4.54', '0.0983', '0', '703', '55.76'], ['Kepler-1134 b', 'Transit', '2016', '0', '17.13263989', '2.64', '7.46', '0.1242', '0', '611', '29.86'], ['Kepler-1135 b', 'Transit', '2016', '0', '76.957857', '1.85', '4.08', '0.3436', '0', '451', '25.76'], ['Kepler-1136 b', 'Transit', '2016', '0', '2.36172433', '1.64', '3.33', '0.0299', '0', '922', '150.06'], ['Kepler-1137 b', 'Transit', '2016', '0', '23.9210791', '2.2', '5.48', '0.1871', '0', '1020', '197.85'], ['Kepler-1138 b', 'Transit', '2016', '0', '3.17060005', '1.7', '3.53', '0.0415', '0', '1080', '245.9'], ['Kepler-1139 b', 'Transit', '2016', '0', '0.81316672', '1.19', '1.81', '0.0165', '0', '1693', '1717.28'], ['Kepler-1140 b', 'Transit', '2016', '0', '24.0862707', '2.77', '8.1', '0.1478', '0', '500', '13.05'], ['Kepler-1141 b', 'Transit', '2016', '0', '2.34451194', '0.82', '0.477', '0.0345', '0', '1471', '1146.95'], ['Kepler-1142 b', 'Transit', '2016', '0', '18.3027248', '1.47', '2.76', '0.1343', '0', '902', '147.82'], ['Kepler-1144 b', 'Transit', '2016', '0', '17.14647302', '1.99', '4.62', '0.1291', '0', '811', '62.06'], ['Kepler-1145 b', 'Transit', '2016', '0', '3.97076766', '1.4', '2.54', '0.0443', '0', '958', '198.43'], ['Kepler-1146 b', 'Transit', '2016', '0', '2.3522658', '1.23', '2.04', '0.0325', '0', '1019', '227.96'], ['Kepler-1147 b', 'Transit', '2016', '0', '10.62784997', '2.61', '7.32', '0.0961', '0', '872', '206.56'], ['Kepler-1148 b', 'Transit', '2016', '0', '1.10446351', '1.69', '3.5', '0.0188', '0', '1397', '815.41'], ['Kepler-1149 b', 'Transit', '2016', '0', '3.73089898', '1.44', '2.67', '0.0473', '0', '1128', '653.83'], ['Kepler-1150 b', 'Transit', '2016', '0', '2.78786839', '1.02', '1.04', '0.0382', '0', '1432', '153.74'], ['Kepler-1151 b', 'Transit', '2016', '0', '65.6478424', '2.22', '5.56', '0.3197', '0', '485', '4.86'], ['Kepler-1152 b', 'Transit', '2016', '0', '1.64680191', '0.87', '0.59', '0.0223', '0', '806', '139.6'], ['Kepler-1153 b', 'Transit', '2016', '0', '1.75583533', '1.73', '3.64', '0.0277', '0', '1343', '761.81'], ['Kepler-1155 b', 'Transit', '2016', '0', '33.469743', '2.03', '4.78', '0.2006', '0', '609', '32.52'], ['Kepler-1156 b', 'Transit', '2016', '0', '11.89520511', '1.32', '2.3', '0.0994', '0', '787', '83.01'], ['Kepler-1157 b', 'Transit', '2016', '0', '4.45743164', '1.09', '1.32', '0.0448', '0', '732', '95.44'], ['Kepler-1158 b', 'Transit', '2016', '0', '13.5396293', '2.34', '6.08', '0.1246', '0', '1079', '449.7'], ['Kepler-1159 b', 'Transit', '2016', '0', '22.70816791', '2.37', '6.21', '0.1603', '0', '677', '80.98'], ['Kepler-1160 b', 'Transit', '2016', '0', '7.97034958', '2.14', '5.22', '0.0755', '0', '839', '93.31'], ['Kepler-1161 b', 'Transit', '2016', '0', '10.71252541', '2.13', '5.18', '0.0784', '0', '485', '26.23'], ['Kepler-1162 b', 'Transit', '2016', '0', '32.5637069', '2.21', '5.52', '0.19', '0', '490', '12.24'], ['Kepler-1163 b', 'Transit', '2016', '0', '6.11786898', '1.03', '1.08', '0.0685', '0', '1211', '511.76'], ['Kepler-1164 b', 'Transit', '2016', '0', '3.97599768', '1.12', '1.46', '0.0457', '0', '936', '181.21'], ['Kepler-1166 b', 'Transit', '2016', '0', '33.2406882', '1.69', '3.5', '0.1975', '0', '486', '14.19'], ['Kepler-1167 b', 'Transit', '2016', '0', '1.00393374', '1.71', '3.57', '0.0175', '0', '1419', '1039.7'], ['Kepler-1168 b', 'Transit', '2016', '0', '55.8226539', '2.5', '6.8', '0.2663', '0', '379', '4.11'], ['Kepler-1169 b', 'Transit', '2016', '0', '6.11009134', '0.94', '0.779', '0.0709', '0', '1125', '348.05'], ['Kepler-1170 b', 'Transit', '2016', '0', '9.98969327', '2.41', '6.39', '0.088', '0', '705', '69.54'], ['Kepler-1171 b', 'Transit', '2016', '0', '1.44259224', '2.56', '7.08', '0.0284', '0', '2700', '10171'], ['Kepler-1172 b', 'Transit', '2016', '0', '26.0204423', '3.2', '10.3', '0.168', '0', '675', '26.36'], ['Kepler-1173 b', 'Transit', '2016', '0', '0.7698536', '0.89', '0.64', '0.0157', '0', '1650', '1462.1'], ['Kepler-1174 b', 'Transit', '2016', '0', '6.89225223', '1.59', '3.15', '0.0732', '0', '1156', '641.81'], ['Kepler-1175 b', 'Transit', '2016', '0', '37.94563', '2.99', '9.22', '0.2181', '0', '515', '12.94'], ['Kepler-1176 b', 'Transit', '2016', '0', '24.1738579', '2.45', '6.57', '0.1589', '0', '595', '26.09'], ['Kepler-1177 b', 'Transit', '2016', '0', '106.247547', '1.9', '4.27', '0.4301', '0', '377', '11.86'], ['Kepler-1178 b', 'Transit', '2016', '0', '31.80634', '1.07', '1.24', '0.1596', '0', '378', '23.24'], ['Kepler-1179 b', 'Transit', '2016', '0', '2.68505749', '1.32', '2.3', '0.0346', '0', '1137', '288.57'], ['Kepler-1180 b', 'Transit', '2016', '0', '16.8601286', '1.99', '4.62', '0.1246', '0', '765', '175.85'], ['Kepler-1181 b', 'Transit', '2016', '0', '4.89337519', '1.57', '3.09', '0.0621', '0', '1374', '831.14'], ['Kepler-1182 b', 'Transit', '2016', '0', '11.17394617', '2.41', '6.39', '0.0981', '0', '796', '197.88'], ['Kepler-1183 b', 'Transit', '2016', '0', '28.5057189', '2.82', '8.35', '0.1793', '0', '555', '61.66'], ['Kepler-1184 b', 'Transit', '2016', '0', '53.5991044', '2.68', '7.65', '0.2863', '0', '529', '18.04'], ['Kepler-1185 b', 'Transit', '2016', '0', '104.3518976', '1.33', '2.33', '0.4297', '0', '355', '9.31'], ['Kepler-1186 b', 'Transit', '2016', '0', '16.07677615', '2.23', '5.6', '0.1281', '0', '724', '85.39'], ['Kepler-1187 b', 'Transit', '2016', '0', '18.87064068', '2.61', '7.32', '0.1401', '0', '701', '72.96'], ['Kepler-1188 b', 'Transit', '2016', '0', '17.1369543', '2.08', '4.98', '0.135', '0', '775', '165.57'], ['Kepler-1189 b', 'Transit', '2016', '0', '3.78858982', '1.77', '3.78', '0.0467', '0', '1158', '449.94'], ['Kepler-1190 b', 'Transit', '2016', '0', '10.45843441', '1.33', '2.33', '0.0845', '0', '609', '24.21'], ['Kepler-1191 b', 'Transit', '2016', '0', '5.60014851', '1.51', '2.89', '0.0587', '0', '952', '167.18'], ['Kepler-1192 b', 'Transit', '2016', '0', '25.2034787', '2.36', '6.17', '0.1693', '0', '600', '34.74'], ['Kepler-1193 b', 'Transit', '2016', '0', '2.83265213', '1.32', '2.3', '0.0403', '0', '1453', '1286.39'], ['Kepler-1194 b', 'Transit', '2016', '0', '16.22371307', '1.51', '2.89', '0.1212', '0', '676', '49.35'], ['Kepler-1195 b', 'Transit', '2016', '0', '8.49642241', '2.08', '4.98', '0.0726', '0', '702', '79.03'], ['Kepler-1196 b', 'Transit', '2016', '0', '66.1849031', '2.23', '5.6', '0.3179', '0', '436', '8.3'], ['Kepler-1197 b', 'Transit', '2016', '0', '2.03231845', '1.25', '2.1', '0.0283', '0', '1011', '267.14'], ['Kepler-1198 b', 'Transit', '2016', '0', '7.6847716', '1.47', '2.76', '0.0732', '0', '830', '108.07'], ['Kepler-1199 b', 'Transit', '2016', '0', '15.0447198', '1.15', '1.6', '0.1152', '0', '931', '92.58'], ['Kepler-12 b', 'Transit', '2011', '0', '4.4379629', '19.661', '137.30256', '0.0553', '0', '1480', '877.54'], ['Kepler-1200 b', 'Transit', '2016', '0', '1.11854972', '1.06', '1.2', '0.0188', '0', '1174', '544.53'], ['Kepler-1201 b', 'Transit', '2016', '0', '15.18725932', '2.29', '5.86', '0.1183', '0', '789', '89.43'], ['Kepler-1202 b', 'Transit', '2016', '0', '28.6851324', '2.94', '8.96', '0.179', '0', '547', '23.88'], ['Kepler-1203 b', 'Transit', '2016', '0', '0.58800076', '1.06', '1.2', '0.0114', '0', '1188', '723.81'], ['Kepler-1204 b', 'Transit', '2016', '0', '85.7350285', '3.05', '9.53', '0.3877', '0', '448', '7.02'], ['Kepler-1205 b', 'Transit', '2016', '0', '1.07839035', '1.41', '2.57', '0.0196', '0', '1667', '1038.49'], ['Kepler-1206 b', 'Transit', '2016', '0', '1.21699766', '1.64', '3.33', '0.0201', '0', '1314', '588.02'], ['Kepler-1207 b', 'Transit', '2016', '0', '13.68237119', '1.62', '3.26', '0.1156', '0', '802', '352.51'], ['Kepler-1208 b', 'Transit', '2016', '0', '11.08507637', '2.32', '5.99', '0.0901', '0', '665', '37.66'], ['Kepler-1209 b', 'Transit', '2016', '0', '25.369116', '1.51', '2.89', '0.18', '0', '755', '63.25'], ['Kepler-1210 b', 'Transit', '2016', '0', '8.07124073', '1.7', '3.53', '0.0753', '0', '856', '152.05'], ['Kepler-1211 b', 'Transit', '2016', '0', '11.01816836', '2.55', '7.04', '0.0985', '0', '840', '139.85'], ['Kepler-1212 b', 'Transit', '2016', '0', '12.94130146', '2.14', '5.22', '0.1082', '0', '795', '142.1'], ['Kepler-1213 b', 'Transit', '2016', '0', '5.34982412', '1.19', '1.81', '0.0635', '0', '1156', '595.42'], ['Kepler-1214 b', 'Transit', '2016', '0', '18.82634264', '2.36', '6.17', '0.128', '0', '591', '23.18'], ['Kepler-1215 b', 'Transit', '2016', '0', '4.76703963', '1.22', '1.98', '0.0528', '0', '1046', '253.96'], ['Kepler-1216 b', 'Transit', '2016', '0', '4.37034536', '1.39', '2.51', '0.0519', '0', '1191', '415.55'], ['Kepler-1217 b', 'Transit', '2016', '0', '2.03232507', '1.99', '4.62', '0.0326', '0', '1542', '1302.95'], ['Kepler-1218 b', 'Transit', '2016', '0', '22.9221266', '1.44', '2.67', '0.1564', '0', '684', '84.83'], ['Kepler-1219 b', 'Transit', '2016', '0', '16.10467749', '2.12', '5.14', '0.1418', '0', '1159', '430.69'], ['Kepler-1220 b', 'Transit', '2016', '0', '7.42693741', '1.52', '2.92', '0.0734', '0', '899', '177.84'], ['Kepler-1221 b', 'Transit', '2016', '0', '12.00096042', '1.88', '4.19', '0.0906', '0', '632', '37.81'], ['Kepler-1222 b', 'Transit', '2016', '0', '1.91694425', '0.79', '0.418', '0.0282', '0', '1246', '416.23'], ['Kepler-1223 b', 'Transit', '2016', '0', '16.301259', '1.22', '1.98', '0.1186', '0', '557', '20.51'], ['Kepler-1224 b', 'Transit', '2016', '0', '13.32351601', '1.33', '2.33', '0.1165', '0', '872', '132.66'], ['Kepler-1225 b', 'Transit', '2016', '0', '7.01075434', '1.82', '3.97', '0.0771', '0', '1453', '324.28'], ['Kepler-1226 b', 'Transit', '2016', '0', '17.2923453', '1.45', '2.7', '0.1361', '0', '809', '140.38'], ['Kepler-1227 b', 'Transit', '2016', '0', '94.2887577', '2.29', '5.86', '0.4092', '0', '369', '4.18'], ['Kepler-1228 b', 'Transit', '2016', '0', '0.57736958', '1.54', '2.99', '0.0125', '0', '1757', '1598.66'], ['Kepler-1229 b', 'Transit', '2016', '0', '86.828989', '1.4', '2.54', '0.3006', '0', '212', '0.52'], ['Kepler-1230 b', 'Transit', '2016', '0', '9.95661537', '2.71', '7.8', '0.0921', '0', '946', '153.93'], ['Kepler-1231 b', 'Transit', '2016', '0', '10.41725184', '1.42', '2.6', '0.0914', '0', '870', '117.52'], ['Kepler-1232 b', 'Transit', '2016', '0', '26.7839183', '1.93', '4.38', '0.1673', '0', '523', '14.6'], ['Kepler-1233 b', 'Transit', '2016', '0', '45.1263042', '2.6', '7.27', '0.263', '0', '604', '30.06'], ['Kepler-1234 b', 'Transit', '2016', '0', '11.94014029', '2.81', '8.3', '0.096', '0', '625', '40.12'], ['Kepler-1235 b', 'Transit', '2016', '0', '4.16055856', '0.79', '0.418', '0.0491', '0', '985', '265.32'], ['Kepler-1236 b', 'Transit', '2016', '0', '31.0571618', '2.14', '5.22', '0.1803', '0', '480', '13.57'], ['Kepler-1237 b', 'Transit', '2016', '0', '84.5733226', '2.86', '8.55', '0.3778', '0', '366', '4.04'], ['Kepler-1238 b', 'Transit', '2016', '0', '4.14787559', '1.93', '4.38', '0.0541', '0', '1389', '1195.2'], ['Kepler-1239 b', 'Transit', '2016', '0', '5.19104016', '2.9', '8.75', '0.0625', '0', '1183', '462.91'], ['Kepler-1240 b', 'Transit', '2016', '0', '4.8663815', '1.15', '1.6', '0.0557', '0', '1121', '539.13'], ['Kepler-1241 b', 'Transit', '2016', '0', '18.5525701', '2.63', '7.41', '0.1336', '0', '612', '31.46'], ['Kepler-1242 b', 'Transit', '2016', '0', '13.62798432', '2.26', '5.73', '0.1039', '0', '639', '29'], ['Kepler-1243 b', 'Transit', '2016', '0', '16.8320729', '1.75', '3.71', '0.1256', '0', '690', '36.16'], ['Kepler-1244 b', 'Transit', '2016', '0', '3.70428172', '1.35', '2.39', '0.0502', '0', '1839', '4756.32'], ['Kepler-1246 b', 'Transit', '2016', '0', '11.32271513', '1.36', '2.42', '0.0848', '0', '554', '26.45'], ['Kepler-1247 b', 'Transit', '2016', '0', '13.71220213', '2.33', '6.04', '0.1091', '0', '676', '41.47'], ['Kepler-1248 b', 'Transit', '2016', '0', '7.46725407', '1.18', '1.76', '0.0806', '0', '1035', '271.25'], ['Kepler-1249 b', 'Transit', '2016', '0', '24.3347127', '2.38', '6.26', '0.167', '0', '647', '98.34'], ['Kepler-1250 b', 'Transit', '2016', '0', '2.60754383', '1.92', '4.35', '0.0393', '0', '1431', '1866.19'], ['Kepler-1251 b', 'Transit', '2016', '0', '45.0904643', '1.84', '4.04', '0.2478', '0', '487', '13.78'], ['Kepler-1252 b', 'Transit', '2016', '0', '15.0540329', '1.67', '3.43', '0.1078', '0', '665', '57.58'], ['Kepler-1253 b', 'Transit', '2016', '0', '68.8861915', '1.33', '2.33', '0.3133', '0', '501', '21.62'], ['Kepler-1255 b', 'Transit', '2016', '0', '36.2919336', '2.32', '5.99', '0.2226', '0', '694', '39.67'], ['Kepler-1256 b', 'Transit', '2016', '0', '12.4127754', '1.49', '2.83', '0.1063', '0', '933', '211.55'], ['Kepler-1257 b', 'Transit', '2016', '0', '2.66831376', '1.52', '2.92', '0.0376', '0', '1252', '546.91'], ['Kepler-1258 b', 'Transit', '2016', '0', '0.98494017', '0.86', '0.566', '0.0201', '0', '2335', '2775'], ['Kepler-1259 b', 'Transit', '2016', '0', '0.66308526', '1.43', '2.63', '0.0141', '0', '1681', '2460.58'], ['Kepler-1260 b', 'Transit', '2016', '0', '19.1187753', '1.77', '3.78', '0.1444', '0', '823', '171.93'], ['Kepler-1261 b', 'Transit', '2016', '0', '48.4308991', '2.26', '5.73', '0.239', '0', '396', '4.74'], ['Kepler-1262 b', 'Transit', '2016', '0', '8.67900242', '1.82', '3.97', '0.083', '0', '949', '142.54'], ['Kepler-1263 b', 'Transit', '2016', '0', '4.55139967', '1.14', '1.55', '0.0499', '0', '907', '144.81'], ['Kepler-1264 b', 'Transit', '2016', '0', '0.96852602', '1.18', '1.76', '0.0191', '0', '1677', '2367.8'], ['Kepler-1265 b', 'Transit', '2016', '0', '6.49441289', '1.35', '2.39', '0.0612', '0', '732', '58.15'], ['Kepler-1267 b', 'Transit', '2016', '0', '13.0313945', '3.01', '9.32', '0.1057', '0', '774', '86.47'], ['Kepler-1268 b', 'Transit', '2016', '0', '40.9903986', '2.03', '4.78', '0.2383', '0', '627', '40.65'], ['Kepler-1269 b', 'Transit', '2016', '0', '37.3331536', '1.63', '3.29', '0.226', '0', '657', '69'], ['Kepler-1270 b', 'Transit', '2016', '0', '6.03356196', '3.32', '11', '0.0663', '0', '1598', '1217.39'], ['Kepler-1271 b', 'Transit', '2016', '0', '3.0255955', '1.48', '2.79', '0.0418', '0', '1484', '975.18'], ['Kepler-1272 b', 'Transit', '2016', '0', '51.1309704', '2.37', '6.21', '0.2705', '0', '542', '34.43'], ['Kepler-1273 b', 'Transit', '2016', '0', '28.625653', '2.49', '6.76', '0.1857', '0', '573', '14.88'], ['Kepler-1274 b', 'Transit', '2016', '0', '6.98152703', '1.42', '2.6', '0.0806', '0', '1384', '975.81'], ['Kepler-1275 b', 'Transit', '2016', '0', '3.65691115', '1.48', '2.79', '0.0488', '0', '1368', '822.48'], ['Kepler-1276 b', 'Transit', '2016', '0', '12.5720095', '1.19', '1.81', '0.1072', '0', '886', '139.77'], ['Kepler-1277 b', 'Transit', '2016', '0', '40.8365012', '1.6', '3.19', '0.2237', '0', '496', '12.11'], ['Kepler-1278 b', 'Transit', '2016', '0', '3.23941344', '1.01', '1.01', '0.0419', '0', '1213', '1314.67'], ['Kepler-1279 b', 'Transit', '2016', '0', '23.4774101', '1.75', '3.71', '0.1633', '0', '738', '190.85'], ['Kepler-1280 b', 'Transit', '2016', '0', '66.5579057', '1.87', '4.16', '0.38', '0', '757', '35.29'], ['Kepler-1281 b', 'Transit', '2016', '0', '3.11602791', '1.64', '3.33', '0.0415', '0', '1123', '375.55'], ['Kepler-1282 b', 'Transit', '2016', '0', '2.13194651', '1.55', '3.02', '0.0335', '0', '1418', '672.53'], ['Kepler-1283 b', 'Transit', '2016', '0', '12.9460978', '1.91', '4.31', '0.1062', '0', '764', '80.34'], ['Kepler-1284 b', 'Transit', '2016', '0', '0.66407381', '1.21', '1.92', '0.0143', '0', '1703', '2190.08'], ['Kepler-1285 b', 'Transit', '2016', '0', '14.7967458', '0.97', '0.871', '0.1268', '0', '874', '181.59'], ['Kepler-1286 b', 'Transit', '2016', '0', '11.25402929', '2.15', '5.27', '0.0991', '0', '888', '151.77'], ['Kepler-1287 b', 'Transit', '2016', '0', '11.47685909', '1.54', '2.99', '0.0976', '0', '796', '78.16'], ['Kepler-1288 b', 'Transit', '2016', '0', '2.76122421', '1.12', '1.46', '0.0435', '0', '2017', '3906.36'], ['Kepler-1289 b', 'Transit', '2016', '0', '7.99019627', '1.52', '2.92', '0.0785', '0', '1113', '223.44'], ['Kepler-1290 b', 'Transit', '2016', '0', '4.69500134', '1.42', '2.6', '0.0557', '0', '1098', '443.22'], ['Kepler-1291 b', 'Transit', '2016', '0', '8.63043276', '1.66', '3.39', '0.0779', '0', '739', '62.82'], ['Kepler-1292 b', 'Transit', '2016', '0', '3.27646405', '1.82', '3.97', '0.0443', '0', '1195', '521.1'], ['Kepler-1293 b', 'Transit', '2016', '0', '5.57654784', '0.97', '0.871', '0.0659', '0', '1183', '929.12'], ['Kepler-1294 b', 'Transit', '2016', '0', '115.6862258', '3.19', '10.3', '0.4684', '0', '401', '12.36'], ['Kepler-1295 b', 'Transit', '2016', '0', '3.81371974', '1.55', '3.02', '0.0464', '0', '1029', '279.94'], ['Kepler-1296 b', 'Transit', '2016', '0', '8.3839865', '0.91', '0.693', '0.0896', '0', '1285', '399.01'], ['Kepler-1297 b', 'Transit', '2016', '0', '1.68189002', '0.97', '0.871', '0.0283', '0', '1790', '2760.59'], ['Kepler-1298 b', 'Transit', '2016', '0', '7.12811928', '1.31', '2.27', '0.082', '0', '1373', '1003.03'], ['Kepler-1299 b', 'Transit', '2016', '0', '19.9400874', '2.98', '9.17', '0.1357', '0', '588', '45.15'], ['Kepler-1300 b', 'Transit', '2016', '0', '22.2419092', '1.37', '2.45', '0.1655', '0', '954', '149.41'], ['Kepler-1301 b', 'Transit', '2016', '0', '9.08237046', '1.4', '2.54', '0.0815', '0', '734', '76.14'], ['Kepler-1302 b', 'Transit', '2016', '0', '8.83922659', '1.43', '2.63', '0.0795', '0', '778', '58.34'], ['Kepler-1303 b', 'Transit', '2016', '0', '7.56127224', '1.42', '2.6', '0.0751', '0', '891', '182.38'], ['Kepler-1304 b', 'Transit', '2016', '0', '16.1288853', '2.29', '5.86', '0.1202', '0', '715', '61.87'], ['Kepler-1305 b', 'Transit', '2016', '0', '13.5630972', '1.88', '4.19', '0.1109', '0', '733', '103.51'], ['Kepler-1306 b', 'Transit', '2016', '0', '16.29595382', '1.91', '4.31', '0.123', '0', '678', '52.15'], ['Kepler-1307 b', 'Transit', '2016', '0', '18.01621096', '2.47', '6.66', '0.1369', '0', '768', '41.19'], ['Kepler-1308 b', 'Transit', '2016', '0', '2.10433812', '0.52', '0.0933', '0.025', '0', '662', '58.11'], ['Kepler-1309 b', 'Transit', '2016', '0', '28.8432647', '2.37', '6.21', '0.1679', '0', '491', '13.77'], ['Kepler-1310 b', 'Transit', '2016', '0', '0.67933627', '1.44', '2.67', '0.0148', '0', '1883', '2830.91'], ['Kepler-1313 b', 'Transit', '2016', '0', '3.83309118', '1.76', '3.75', '0.046', '0', '1012', '227.2'], ['Kepler-1314 b', 'Transit', '2016', '0', '5.42474928', '5.11', '22.9', '0.0504', '0', '625', '36.05'], ['Kepler-1316 b', 'Transit', '2016', '0', '87.9732136', '3.54', '12.3', '0.3859', '0', '446', '10.71'], ['Kepler-1317 b', 'Transit', '2016', '0', '0.56887443', '1.56', '3.05', '0.0128', '0', '1796', '2413.26'], ['Kepler-1318 b', 'Transit', '2016', '0', '213.257663', '3.11', '9.85', '0.6085', '0', '202', '0.49'], ['Kepler-1319 b', 'Transit', '2016', '0', '2.88676265', '1.34', '2.36', '0.0296', '0.33', '557', '38.45'], ['Kepler-1320 b', 'Transit', '2016', '0', '0.86838653', '1.7', '3.53', '0.0163', '0', '1389', '672.11'], ['Kepler-1323 b', 'Transit', '2016', '0', '0.92990668', '1.52', '2.92', '0.0191', '0', '2291', '5067.6'], ['Kepler-1324 b', 'Transit', '2016', '0', '4.11584468', '1.51', '2.89', '0.0466', '0', '895', '98.41'], ['Kepler-1325 b', 'Transit', '2016', '0', '33.8786838', '2.86', '8.55', '0.2004', '0', '564', '18.15'], ['Kepler-1326 b', 'Transit', '2016', '0', '42.3514267', '4.18', '16.3', '0.2743', '0', '938', '47.84'], ['Kepler-1327 b', 'Transit', '2016', '0', '14.88801098', '1.8', '3.89', '0.1186', '0', '831', '112.85'], ['Kepler-1328 b', 'Transit', '2016', '0', '4.52158888', '0.98', '0.904', '0.0529', '0', '1214', '545.67'], ['Kepler-1329 b', 'Transit', '2016', '0', '9.33646594', '2.17', '5.35', '0.0747', '0', '577', '26.64'], ['Kepler-1330 b', 'Transit', '2016', '0', '10.10769068', '1.65', '3.36', '0.0889', '0', '879', '322.4'], ['Kepler-1331 b', 'Transit', '2016', '0', '0.78916165', '1.05', '1.16', '0.0142', '0', '1244', '547.29'], ['Kepler-1332 b', 'Transit', '2016', '0', '11.87456832', '1.37', '2.45', '0.0986', '0', '728', '77.56'], ['Kepler-1333 b', 'Transit', '2016', '0', '109.6471842', '2.81', '8.3', '0.4382', '0', '428', '3.3'], ['Kepler-1334 b', 'Transit', '2016', '0', '15.64591713', '2.29', '5.86', '0.1229', '0', '710', '78.36'], ['Kepler-1335 b', 'Transit', '2016', '0', '6.26406846', '1.45', '2.7', '0.0615', '0', '809', '80.74'], ['Kepler-1337 b', 'Transit', '2016', '0', '24.4002549', '2.41', '6.39', '0.1441', '0', '437', '9.18'], ['Kepler-1338 b', 'Transit', '2016', '0', '0.93511806', '0.92', '0.721', '0.0193', '0', '2124', '4712.11'], ['Kepler-1339 b', 'Transit', '2016', '0', '1.34155513', '0.71', '0.285', '0.0234', '0', '1642', '3094.82'], ['Kepler-1340 b', 'Transit', '2016', '0', '0.66502692', '1.55', '3.02', '0.0153', '0', '2174', '4793'], ['Kepler-1341 b', 'Transit', '2016', '0', '132.9968322', '2.99', '9.22', '0.4498', '0', '241', '1.14'], ['Kepler-1342 b', 'Transit', '2016', '0', '2.21571036', '1.66', '3.39', '0.0313', '0', '1283', '559.27'], ['Kepler-1343 b', 'Transit', '2016', '0', '3.35183158', '1.93', '4.38', '0.0449', '0', '1294', '1021.9'], ['Kepler-1344 b', 'Transit', '2016', '0', '4.7683049', '1.84', '4.04', '0.0568', '0', '1219', '425.17'], ['Kepler-1345 b', 'Transit', '2016', '0', '44.6169557', '2.36', '6.17', '0.2638', '0', '693', '68.47'], ['Kepler-1346 b', 'Transit', '2016', '0', '3.40165668', '1.58', '3.12', '0.044', '0', '1236', '545.58'], ['Kepler-1347 b', 'Transit', '2016', '0', '14.00947528', '1.03', '1.08', '0.104', '0', '617', '34.32'], ['Kepler-1348 b', 'Transit', '2016', '0', '27.5722742', '1.94', '4.42', '0.1834', '0', '636', '49.66'], ['Kepler-1349 b', 'Transit', '2016', '0', '2.12823928', '0.7', '0.271', '0.0341', '0', '1668', '1862.33'], ['Kepler-1351 b', 'Transit', '2016', '0', '0.91614077', '0.65', '0.208', '0.0156', '0', '1212', '421.96'], ['Kepler-1352 b', 'Transit', '2016', '0', '1.87788275', '0.89', '0.64', '0.03', '0', '1701', '1892.59'], ['Kepler-1353 b', 'Transit', '2016', '0', '24.7543966', '1.8', '3.89', '0.153', '0', '491', '10.77'], ['Kepler-1354 b', 'Transit', '2016', '0', '76.613377', '2.97', '9.11', '0.3521', '0', '466', '18.86'], ['Kepler-1355 b', 'Transit', '2016', '0', '1.28958811', '1.46', '2.73', '0.0224', '0', '1448', '944.87'], ['Kepler-1356 b', 'Transit', '2016', '0', '0.63400294', '1.53', '2.96', '0.0136', '0', '1714', '1966.06'], ['Kepler-1357 b', 'Transit', '2016', '0', '3.0091324', '1.28', '2.18', '0.041', '0', '1177', '449.98'], ['Kepler-1358 b', 'Transit', '2016', '0', '7.06317341', '1.12', '1.46', '0.0656', '0', '827', '98.83'], ['Kepler-1359 b', 'Transit', '2016', '0', '59.4970952', '2.83', '8.4', '0.2769', '0', '369', '2.45'], ['Kepler-1360 b', 'Transit', '2016', '0', '40.5286413', '3.4', '11.5', '0.2866', '0', '933', '82.56'], ['Kepler-1361 b', 'Transit', '2016', '0', '3.57554956', '0.86', '0.566', '0.0431', '0', '1061', '186.07'], ['Kepler-1362 b', 'Transit', '2016', '0', '136.205626', '2.6', '7.27', '0.4626', '0', '248', '1.01'], ['Kepler-1363 b', 'Transit', '2016', '0', '2.94194094', '1.25', '2.1', '0.0363', '0', '988', '191.92'], ['Kepler-1364 b', 'Transit', '2016', '0', '13.32196237', '2.15', '5.27', '0.1284', '0', '1299', '672.06'], ['Kepler-1366 b', 'Transit', '2016', '0', '2.16457097', '1.43', '2.63', '0.0273', '0', '783', '134.98'], ['Kepler-1367 b', 'Transit', '2016', '0', '1.57409027', '0.92', '0.721', '0.0236', '0', '998', '225.23'], ['Kepler-1368 b', 'Transit', '2016', '0', '0.67564949', '1.65', '3.36', '0.0153', '0', '2085', '4849.26'], ['Kepler-1369 b', 'Transit', '2016', '0', '25.873148', '2.69', '7.7', '0.1741', '0', '667', '37.16'], ['Kepler-1372 b', 'Transit', '2016', '0', '1.31155557', '1.27', '2.15', '0.024', '0', '1655', '2176.36'], ['Kepler-1373 b', 'Transit', '2016', '0', '1.29123275', '1.16', '1.65', '0.0242', '0', '1887', '10436.6'], ['Kepler-1374 b', 'Transit', '2016', '0', '10.65276707', '2.29', '5.86', '0.0918', '0', '737', '59.79'], ['Kepler-1375 b', 'Transit', '2016', '0', '3.3004192', '1.74', '3.68', '0.0471', '0', '1543', '2948.36'], ['Kepler-1376 b', 'Transit', '2016', '0', '5.30880656', '1.05', '1.16', '0.0598', '0', '1042', '278.9'], ['Kepler-1377 b', 'Transit', '2016', '0', '0.74092842', '1.25', '2.1', '0.0153', '0', '1873', '2909.21'], ['Kepler-1378 b', 'Transit', '2016', '0', '11.95398936', '2.2', '5.48', '0.0885', '0', '525', '14.87'], ['Kepler-1379 b', 'Transit', '2016', '0', '0.88184115', '1.3', '2.24', '0.0171', '0', '1564', '1600.05'], ['Kepler-1380 b', 'Transit', '2016', '0', '10.3108245', '1.43', '2.63', '0.0917', '0', '786', '90.1'], ['Kepler-1381 b', 'Transit', '2016', '0', '25.3842686', '2.25', '5.69', '0.1728', '0', '649', '29.7'], ['Kepler-1382 b', 'Transit', '2016', '0', '16.3583055', '1.88', '4.19', '0.1404', '0', '959', '198.47'], ['Kepler-1383 b', 'Transit', '2016', '0', '13.9093583', '1.41', '2.57', '0.1179', '0', '928', '231.4'], ['Kepler-1384 b', 'Transit', '2016', '0', '15.36262753', '1.94', '4.42', '0.1126', '0', '608', '32.23'], ['Kepler-1385 b', 'Transit', '2016', '0', '2.88879862', '0.85', '0.543', '0.0415', '0', '1423', '1591.48'], ['Kepler-1386 b', 'Transit', '2016', '0', '6.73972381', '1.24', '2.07', '0.068', '0', '1011', '196.53'], ['Kepler-1387 b', 'Transit', '2016', '0', '2.27952666', '0.93', '0.749', '0.031', '0', '1123', '300.31'], ['Kepler-1389 b', 'Transit', '2016', '0', '99.2530951', '1.77', '3.78', '0.3869', '0', '300', '1.87'], ['Kepler-1390 b', 'Transit', '2016', '0', '6.48021673', '1.18', '1.76', '0.0662', '0', '934', '171.13'], ['Kepler-1391 b', 'Transit', '2016', '0', '54.4092333', '1.68', '3.46', '0.2768', '0', '513', '33.34'], ['Kepler-1392 b', 'Transit', '2016', '0', '15.1410397', '1.96', '4.5', '0.1189', '0', '714', '61.42'], ['Kepler-1393 b', 'Transit', '2016', '0', '2.44357812', '0.8', '0.437', '0.0337', '0', '1249', '574.37'], ['Kepler-1394 b', 'Transit', '2016', '0', '3.93766373', '1.39', '2.51', '0.0555', '0', '1947', '2023.01'], ['Kepler-1395 b', 'Transit', '2016', '0', '3.78470649', '0.8', '0.437', '0.0494', '0', '1311', '730.53'], ['Kepler-1396 b', 'Transit', '2016', '0', '18.2206421', '2.07', '4.94', '0.1406', '0', '786', '71.82'], ['Kepler-1397 b', 'Transit', '2016', '0', '47.449955', '1.72', '3.61', '0.2602', '0', '551', '58.1'], ['Kepler-1399 b', 'Transit', '2016', '0', '1.63865306', '1.25', '2.1', '0.0276', '0', '1610', '1707.25'], ['Kepler-14 b', 'Transit', '2011', '0', '6.790123', '12.733', '2669.66', '0.0771', '0.035', '1605', '1029.51'], ['Kepler-1400 b', 'Transit', '2016', '0', '9.06689421', '1.62', '3.26', '0.0771', '0', '725', '44.52'], ['Kepler-1401 b', 'Transit', '2016', '0', '11.20066445', '1.68', '3.46', '0.0975', '0', '808', '100.91'], ['Kepler-1402 b', 'Transit', '2016', '0', '2.03387914', '0.76', '0.363', '0.0322', '0', '1789', '2491.12'], ['Kepler-1403 b', 'Transit', '2016', '0', '5.19492202', '2.14', '5.22', '0.064', '0', '1238', '699.64'], ['Kepler-1404 b', 'Transit', '2016', '0', '15.9314739', '2.01', '4.7', '0.1143', '0', '596', '39'], ['Kepler-1405 b', 'Transit', '2016', '0', '28.2274184', '3.96', '14.9', '0.1778', '0', '565', '33.8'], ['Kepler-1406 b', 'Transit', '2016', '0', '11.62905828', '1.1', '1.37', '0.0987', '0', '854', '125.89'], ['Kepler-1407 b', 'Transit', '2016', '0', '20.0711504', '2.25', '5.69', '0.1502', '0', '826', '78.67'], ['Kepler-1408 b', 'Transit', '2016', '0', '2.99793191', '0.89', '0.64', '0.0425', '0', '1616', '1982.27'], ['Kepler-1409 b', 'Transit', '2016', '0', '0.76486493', '1.04', '1.12', '0.0152', '0', '1733', '1552.13'], ['Kepler-1410 b', 'Transit', '2016', '0', '60.866168', '1.78', '3.82', '0.2543', '0', '290', '1.06'], ['Kepler-1411 b', 'Transit', '2016', '0', '86.1150888', '2.82', '8.35', '0.4001', '0', '441', '8.93'], ['Kepler-1412 b', 'Transit', '2016', '0', '3.6146051', '0.83', '0.498', '0.0461', '0', '1397', '1087.78'], ['Kepler-1413 b', 'Transit', '2016', '0', '13.1829642', '1.82', '3.97', '0.1066', '0', '661', '42.83'], ['Kepler-1414 b', 'Transit', '2016', '0', '3.51576315', '1.23', '2.04', '0.0426', '0', '1033', '209.46'], ['Kepler-1415 b', 'Transit', '2016', '0', '0.63642408', '1.29', '2.21', '0.0144', '0', '1846', '2138.08'], ['Kepler-1416 b', 'Transit', '2016', '0', '1.49514952', '0.88', '0.615', '0.0257', '0', '1870', '2658.55'], ['Kepler-1417 b', 'Transit', '2016', '0', '20.3505213', '1', '0.972', '0.1431', '0', '695', '114.33'], ['Kepler-1418 b', 'Transit', '2016', '0', '22.4764425', '1.66', '3.39', '0.131', '0', '419', '7.29'], ['Kepler-1419 b', 'Transit', '2016', '0', '42.5215895', '2.86', '8.55', '0.2391', '0', '510', '21.24'], ['Kepler-1420 b', 'Transit', '2016', '0', '6.69960006', '1.28', '2.18', '0.0671', '0', '806', '131.53'], ['Kepler-1421 b', 'Transit', '2016', '0', '6.9131112', '0.93', '0.749', '0.0762', '0', '1209', '649.15'], ['Kepler-1422 b', 'Transit', '2016', '0', '18.6051942', '2.02', '4.74', '0.1499', '0', '833', '156.9'], ['Kepler-1423 b', 'Transit', '2016', '0', '23.955378', '1.06', '1.2', '0.1586', '0', '741', '71.16'], ['Kepler-1424 b', 'Transit', '2016', '0', '29.6091744', '1.16', '1.65', '0.1861', '0', '629', '37.12'], ['Kepler-1425 b', 'Transit', '2016', '0', '14.4541302', '0.94', '0.779', '0.1038', '0', '676', '216.41'], ['Kepler-1426 b', 'Transit', '2016', '0', '14.2563227', '1.56', '3.05', '0.1187', '0', '797', '95.22'], ['Kepler-1427 b', 'Transit', '2016', '0', '0.96897238', '1.1', '1.37', '0.0197', '0', '1844', '2730.51'], ['Kepler-1428 b', 'Transit', '2016', '0', '10.67607169', '1.64', '3.33', '0.1059', '0', '1049', '817.58'], ['Kepler-1429 b', 'Transit', '2016', '0', '4.48487493', '1.29', '2.21', '0.055', '0', '1199', '551.16'], ['Kepler-1430 b', 'Transit', '2016', '0', '2.46050993', '1.18', '1.76', '0.0304', '0', '969', '208.54'], ['Kepler-1431 b', 'Transit', '2016', '0', '5.86601526', '1.47', '2.76', '0.0648', '0', '1064', '469.82'], ['Kepler-1432 b', 'Transit', '2016', '0', '23.9109011', '2.22', '5.56', '0.1696', '0', '709', '119.24'], ['Kepler-1433 b', 'Transit', '2016', '0', '4.13592271', '1.56', '3.05', '0.0516', '0', '1226', '535.42'], ['Kepler-1434 b', 'Transit', '2016', '0', '8.05333618', '1.11', '1.41', '0.0894', '0', '1320', '925.29'], ['Kepler-1435 b', 'Transit', '2016', '0', '4.45343281', '0.86', '0.566', '0.0546', '0', '1331', '893.89'], ['Kepler-1436 b', 'Transit', '2016', '0', '9.705716', '1.31', '2.27', '0.0907', '0', '1001', '772.08'], ['Kepler-1437 b', 'Transit', '2016', '0', '10.9295461', '1.37', '2.45', '0.0951', '0', '770', '83.14'], ['Kepler-1438 b', 'Transit', '2016', '0', '2.31942009', '0.94', '0.779', '0.0346', '0', '1490', '561.12'], ['Kepler-1439 b', 'Transit', '2016', '0', '8.07392849', '1.46', '2.73', '0.0594', '0', '420', '9.08'], ['Kepler-1440 b', 'Transit', '2016', '0', '39.859484', '1.26', '2.13', '0.2274', '0', '597', '44.73'], ['Kepler-1441 b', 'Transit', '2016', '0', '39.4419839', '1.31', '2.27', '0.2346', '0', '682', '33.05'], ['Kepler-1442 b', 'Transit', '2016', '0', '81.4162941', '3.93', '14.7', '0.4039', '0', '522', '25.97'], ['Kepler-1443 b', 'Transit', '2016', '0', '2.41811321', '0.97', '0.871', '0.0368', '0', '1602', '2809.16'], ['Kepler-1444 b', 'Transit', '2016', '0', '33.42035034', '2.18', '5.39', '0.2015', '0', '581', '25.94'], ['Kepler-1445 b', 'Transit', '2016', '0', '10.60052251', '0.96', '0.84', '0.0948', '0', '987', '248.55'], ['Kepler-1446 b', 'Transit', '2016', '0', '0.68996783', '0.82', '0.477', '0.0141', '0', '1539', '1213.33'], ['Kepler-1447 b', 'Transit', '2016', '0', '56.6747285', '2.9', '8.75', '0.2836', '0', '522', '10.35'], ['Kepler-1448 b', 'Transit', '2016', '0', '12.27065865', '1.61', '3.22', '0.1058', '0', '811', '86.64'], ['Kepler-1449 b', 'Transit', '2016', '0', '13.2274528', '1.68', '3.46', '0.1176', '0', '867', '271.88'], ['Kepler-1450 b', 'Transit', '2016', '0', '54.5094166', '1.71', '3.57', '0.2401', '0', '308', '3.08'], ['Kepler-1451 b', 'Transit', '2016', '0', '35.622233', '3.35', '11.2', '0.2101', '0', '523', '18.75'], ['Kepler-1452 b', 'Transit', '2016', '0', '42.913751', '2.7', '7.75', '0.2697', '0', '810', '73.5'], ['Kepler-1453 b', 'Transit', '2016', '0', '47.1611696', '2.67', '7.61', '0.262', '0', '503', '11.89'], ['Kepler-1454 b', 'Transit', '2016', '0', '47.0319479', '1.88', '4.19', '0.2447', '0', '492', '9.08'], ['Kepler-1455 b', 'Transit', '2016', '0', '49.276764', '2.16', '5.31', '0.2149', '0', '298', '1.53'], ['Kepler-1456 b', 'Transit', '2016', '0', '18.1373829', '1.14', '1.55', '0.1132', '0', '433', '8.23'], ['Kepler-1457 b', 'Transit', '2016', '0', '51.1110243', '1.99', '4.62', '0.2668', '0', '478', '23.47'], ['Kepler-1458 b', 'Transit', '2016', '0', '47.9872764', '2.76', '8.05', '0.2495', '0', '493', '8.29'], ['Kepler-1459 b', 'Transit', '2016', '0', '62.8691611', '1.36', '2.42', '0.2829', '0', '349', '3.51'], ['Kepler-1460 b', 'Transit', '2016', '0', '29.9633247', '1.96', '4.5', '0.1614', '0', '391', '5.47'], ['Kepler-1461 b', 'Transit', '2016', '0', '29.3494775', '2.03', '4.78', '0.1715', '0', '451', '8.88'], ['Kepler-1462 b', 'Transit', '2016', '0', '65.6488341', '3.82', '14', '0.3094', '0', '390', '4.7'], ['Kepler-1463 b', 'Transit', '2016', '0', '25.15864', '1.86', '4.12', '0.1694', '0', '619', '57.63'], ['Kepler-1465 b', 'Transit', '2016', '0', '31.8277111', '1.77', '3.78', '0.1939', '0', '668', '6.25'], ['Kepler-1466 b', 'Transit', '2016', '0', '31.1750448', '1.55', '3.02', '0.1942', '0', '585', '21.88'], ['Kepler-1467 b', 'Transit', '2016', '0', '47.0569043', '3.3', '10.9', '0.2388', '0', '411', '7.92'], ['Kepler-1469 b', 'Transit', '2016', '0', '21.8635301', '2.8', '8.25', '0.1466', '0', '551', '24.9'], ['Kepler-1470 b', 'Transit', '2016', '0', '16.2950903', '1.07', '1.24', '0.116', '0', '574', '23.92'], ['Kepler-1471 b', 'Transit', '2016', '0', '3.63899398', '1.41', '2.57', '0.0453', '0', '1238', '314.23'], ['Kepler-1472 b', 'Transit', '2016', '0', '38.1312831', '1.9', '4.27', '0.2322', '0', '613', '57.08'], ['Kepler-1473 b', 'Transit', '2016', '0', '14.4273551', '1.19', '1.81', '0.116', '0', '783', '111.01'], ['Kepler-1474 b', 'Transit', '2016', '0', '36.4333452', '2.16', '5.31', '0.2108', '0', '561', '21.39'], ['Kepler-1475 b', 'Transit', '2016', '0', '82.177374', '2.92', '8.85', '0.373', '0', '441', '13.76'], ['Kepler-1476 b', 'Transit', '2016', '0', '10.35863224', '1.67', '3.43', '0.0932', '0', '860', '75.64'], ['Kepler-1477 b', 'Transit', '2016', '0', '11.55530021', '1.18', '1.76', '0.0911', '0', '674', '78.16'], ['Kepler-1478 b', 'Transit', '2016', '0', '26.0840594', '1.73', '3.64', '0.1681', '0', '598', '85.28'], ['Kepler-1479 b', 'Transit', '2016', '0', '14.53261362', '1.83', '4.01', '0.1173', '0', '746', '98.57'], ['Kepler-1480 b', 'Transit', '2016', '0', '22.12679948', '1.67', '3.43', '0.1525', '0', '721', '16.32'], ['Kepler-1481 b', 'Transit', '2016', '0', '5.94220998', '1.23', '2.04', '0.059', '0', '797', '71.94'], ['Kepler-1482 b', 'Transit', '2016', '0', '12.25383217', '1.01', '1.01', '0.1016', '0', '678', '86.5']]\n"
     ]
    }
   ],
   "source": [
    "print(planets_1_rows)"
   ]
  },
  {
   "cell_type": "markdown",
   "id": "0be36ba7",
   "metadata": {
    "deletable": false,
    "editable": false
   },
   "source": [
    "If you wish to **verify** that you have read the file and defined the variables correctly, you can check that `planets_header` has the value:\n",
    "\n",
    "```python\n",
    "['Planet Name', 'Discovery Method', 'Discovery Year', 'Controversial Flag', 'Orbital Period [days]',\n",
    " 'Planet Radius [Earth Radius]', 'Planet Mass [Earth Mass]', 'Orbit Semi-Major Axis [au]',\n",
    " 'Eccentricity', 'Equilibrium Temperature [K]', 'Insolation Flux [Earth Flux]']\n",
    "```\n",
    "\n",
    "and that `planets_1_rows` has **1551** rows of which the **first three** are:\n",
    "\n",
    "```python\n",
    "[['11 Com b', 'Radial Velocity', '2007', '0', '326.03', '12.1', '6165.6', '1.29', '0.231', '', ''],\n",
    " ['11 UMi b', 'Radial Velocity', '2009', '0', '516.21997', '12.3', '4684.8142', '1.53', '0.08', '', ''],\n",
    " ['14 And b', 'Radial Velocity', '2008', '0', '185.84', '12.9', '1525.5', '0.83', '0', '', '']]\n",
    "```"
   ]
  },
  {
   "cell_type": "markdown",
   "id": "8670a50a",
   "metadata": {
    "deletable": false,
    "editable": false
   },
   "source": [
    "Now, you are ready to read the data in `mapping_1.json`. Since this is a JSON file, you will need to copy/paste the `read_json` function Lab-P10, and use it to read the file."
   ]
  },
  {
   "cell_type": "code",
   "execution_count": 44,
   "id": "e55e27c2",
   "metadata": {
    "tags": []
   },
   "outputs": [],
   "source": [
    "# copy & paste the read_json file from Lab-P10\n",
    "def read_json(path):\n",
    "    with open(path, encoding=\"utf-8\") as f:\n",
    "        return json.load(f)"
   ]
  },
  {
   "cell_type": "code",
   "execution_count": 45,
   "id": "356b7eda",
   "metadata": {
    "tags": []
   },
   "outputs": [
    {
     "data": {
      "text/plain": [
       "{'11 Com b': '11 Com',\n",
       " '11 UMi b': '11 UMi',\n",
       " '14 And b': '14 And',\n",
       " '16 Cyg B b': '16 Cyg B',\n",
       " '17 Sco b': '17 Sco',\n",
       " '18 Del b': '18 Del',\n",
       " '1RXS J160929.1-210524 b': '1RXS J160929.1-210524',\n",
       " '24 Boo b': '24 Boo',\n",
       " '2M0437 b': '2MASS J04372171+2651014',\n",
       " '2MASS J01033563-5515561 AB b': '2MASS J01033563-5515561 A',\n",
       " '2MASS J01225093-2439505 b': '2MASS J01225093-2439505',\n",
       " '2MASS J02192210-3925225 b': '2MASS J02192210-3925225',\n",
       " '2MASS J04414489+2301513 b': '2MASS J04414489+2301513',\n",
       " '2MASS J12073346-3932539 b': '2MASS J12073346-3932539',\n",
       " '2MASS J22362452+4751425 b': '2MASS J22362452+4751425',\n",
       " '30 Ari B b': '30 Ari B',\n",
       " '4 UMa b': '4 UMa',\n",
       " '42 Dra b': '42 Dra',\n",
       " '51 Eri b': '51 Eri',\n",
       " '51 Peg b': '51 Peg',\n",
       " '6 Lyn b': '6 Lyn',\n",
       " '70 Vir b': '70 Vir',\n",
       " '75 Cet b': '75 Cet',\n",
       " '8 UMi b': '8 UMi',\n",
       " '81 Cet b': '81 Cet',\n",
       " '91 Aqr b': '91 Aqr',\n",
       " 'AB Aur b': 'AB Aur',\n",
       " 'AB Pic b': 'AB Pic',\n",
       " 'AF Lep b': 'AF Lep',\n",
       " 'BD+03 2562 b': 'BD+03 2562',\n",
       " 'BD+14 4559 b': 'BD+14 4559',\n",
       " 'BD+15 2375 b': 'BD+15 2375',\n",
       " 'BD+15 2940 b': 'BD+15 2940',\n",
       " 'BD+20 274 b': 'BD+20 274',\n",
       " 'BD+20 594 b': 'BD+20 594',\n",
       " 'BD+45 564 b': 'BD+45 564',\n",
       " 'BD+48 738 b': 'BD+48 738',\n",
       " 'BD+48 740 b': 'BD+48 740',\n",
       " 'BD+49 828 b': 'BD+49 828',\n",
       " 'BD+55 362 b': 'BD+55 362',\n",
       " 'BD+60 1417 b': 'BD+60 1417',\n",
       " 'BD+63 1405 b': 'BD+63 1405',\n",
       " 'BD-00 4475 b': 'BD-00 4475',\n",
       " 'BD-10 3166 b': 'BD-10 3166',\n",
       " 'BD-13 2130 b': 'BD-13 2130',\n",
       " 'BD-17 63 b': 'BD-17 63',\n",
       " 'CD Cet b': 'CD Cet',\n",
       " 'CFBDSIR J145829+101343 b': 'CFBDSIR J145829+101343',\n",
       " 'CFHTWIR-Oph 98 b': 'CFHTWIR-Oph 98 A',\n",
       " 'CHXR 73 b': 'CHXR 73',\n",
       " 'CI Tau b': 'CI Tau',\n",
       " 'COCONUTS-2 b': 'COCONUTS-2 A',\n",
       " 'CT Cha b': 'CT Cha',\n",
       " 'CoRoT-1 b': 'CoRoT-1',\n",
       " 'CoRoT-10 b': 'CoRoT-10',\n",
       " 'CoRoT-11 b': 'CoRoT-11',\n",
       " 'CoRoT-12 b': 'CoRoT-12',\n",
       " 'CoRoT-13 b': 'CoRoT-13',\n",
       " 'CoRoT-14 b': 'CoRoT-14',\n",
       " 'CoRoT-16 b': 'CoRoT-16',\n",
       " 'CoRoT-17 b': 'CoRoT-17',\n",
       " 'CoRoT-18 b': 'CoRoT-18',\n",
       " 'CoRoT-19 b': 'CoRoT-19',\n",
       " 'CoRoT-2 b': 'CoRoT-2',\n",
       " 'CoRoT-21 b': 'CoRoT-21',\n",
       " 'CoRoT-22 b': 'CoRoT-22',\n",
       " 'CoRoT-23 b': 'CoRoT-23',\n",
       " 'CoRoT-25 b': 'CoRoT-25',\n",
       " 'CoRoT-26 b': 'CoRoT-26',\n",
       " 'CoRoT-27 b': 'CoRoT-27',\n",
       " 'CoRoT-28 b': 'CoRoT-28',\n",
       " 'CoRoT-29 b': 'CoRoT-29',\n",
       " 'CoRoT-3 b': 'CoRoT-3',\n",
       " 'CoRoT-30 b': 'CoRoT-30',\n",
       " 'CoRoT-31 b': 'CoRoT-31',\n",
       " 'CoRoT-35 b': 'CoRoT-35',\n",
       " 'CoRoT-36 b': 'CoRoT-36',\n",
       " 'CoRoT-4 b': 'CoRoT-4',\n",
       " 'CoRoT-5 b': 'CoRoT-5',\n",
       " 'CoRoT-6 b': 'CoRoT-6',\n",
       " 'CoRoT-8 b': 'CoRoT-8',\n",
       " 'CoRoT-9 b': 'CoRoT-9',\n",
       " 'CoRoTID 223977153 b': 'CoRoTID 223977153',\n",
       " 'DE CVn b': 'DE CVn',\n",
       " 'DENIS-P J082303.1-491201 b': 'DENIS-P J082303.1-491201',\n",
       " 'DH Tau b': 'DH Tau',\n",
       " 'DMPP-2 b': 'DMPP-2',\n",
       " 'DMPP-3 A b': 'DMPP-3 A',\n",
       " 'DP Leo b': 'DP Leo',\n",
       " 'DS Tuc A b': 'DS Tuc A',\n",
       " 'EPIC 201170410.02': 'EPIC 201170410',\n",
       " 'EPIC 201238110 b': 'EPIC 201238110',\n",
       " 'EPIC 201427007 b': 'EPIC 201427007',\n",
       " 'EPIC 201497682 b': 'EPIC 201497682',\n",
       " 'EPIC 201595106 b': 'EPIC 201595106',\n",
       " 'EPIC 201757695.02': 'EPIC 201757695',\n",
       " 'EPIC 201841433 b': 'EPIC 201841433',\n",
       " 'EPIC 206032309 b': 'EPIC 206032309',\n",
       " 'EPIC 206215704 b': 'EPIC 206215704',\n",
       " 'EPIC 211822797 b': 'EPIC 211822797',\n",
       " 'EPIC 211945201 b': 'EPIC 211945201',\n",
       " 'EPIC 212424622 b': 'EPIC 212424622',\n",
       " 'EPIC 212499991 b': 'EPIC 212499991',\n",
       " 'EPIC 220492298 b': 'EPIC 220492298',\n",
       " 'EPIC 228836835 b': 'EPIC 228836835',\n",
       " 'EPIC 246851721 b': 'EPIC 246851721',\n",
       " 'EPIC 248847494 b': 'EPIC 248847494',\n",
       " 'FU Tau b': 'FU Tau',\n",
       " 'G 9-40 b': 'G 9-40',\n",
       " 'GJ 1151 c': 'GJ 1151',\n",
       " 'GJ 1214 b': 'GJ 1214',\n",
       " 'GJ 1252 b': 'GJ 1252',\n",
       " 'GJ 1265 b': 'GJ 1265',\n",
       " 'GJ 160.2 b': 'GJ 160.2',\n",
       " 'GJ 179 b': 'GJ 179',\n",
       " 'GJ 2056 b': 'GJ 2056',\n",
       " 'GJ 251 b': 'GJ 251',\n",
       " 'GJ 27.1 b': 'GJ 27.1',\n",
       " 'GJ 3021 b': 'GJ 3021',\n",
       " 'GJ 3082 b': 'GJ 3082',\n",
       " 'GJ 3090 b': 'GJ 3090',\n",
       " 'GJ 3222 b': 'GJ 3222',\n",
       " 'GJ 328 b': 'GJ 328',\n",
       " 'GJ 3341 b': 'GJ 3341',\n",
       " 'GJ 338 B b': 'GJ 338 B',\n",
       " 'GJ 3470 b': 'GJ 3470',\n",
       " 'GJ 3634 b': 'GJ 3634',\n",
       " 'GJ 367 b': 'GJ 367',\n",
       " 'GJ 3779 b': 'GJ 3779',\n",
       " 'GJ 393 b': 'GJ 393',\n",
       " 'GJ 3942 b': 'GJ 3942',\n",
       " 'GJ 422 b': 'GJ 422',\n",
       " 'GJ 4276 b': 'GJ 4276',\n",
       " 'GJ 436 b': 'GJ 436',\n",
       " 'GJ 463 b': 'GJ 463',\n",
       " 'GJ 480 b': 'GJ 480',\n",
       " 'GJ 486 b': 'GJ 486',\n",
       " 'GJ 504 b': 'GJ 504',\n",
       " 'GJ 514 b': 'GJ 514',\n",
       " 'GJ 536 b': 'GJ 536',\n",
       " 'GJ 625 b': 'GJ 625',\n",
       " 'GJ 649 b': 'GJ 649',\n",
       " 'GJ 674 b': 'GJ 674',\n",
       " 'GJ 680 b': 'GJ 680',\n",
       " 'GJ 685 b': 'GJ 685',\n",
       " 'GJ 720 A b': 'GJ 720 A',\n",
       " 'GJ 740 b': 'GJ 740',\n",
       " 'GJ 832 b': 'GJ 832',\n",
       " 'GJ 86 b': 'GJ 86',\n",
       " 'GJ 896 A b': 'GJ 896 A',\n",
       " 'GJ 9066 c': 'GJ 9066',\n",
       " 'GJ 96 b': 'GJ 96',\n",
       " 'GJ 9689 b': 'GJ 9689',\n",
       " 'GJ 9714 b': 'GJ 9714',\n",
       " 'GPX-1 b': 'GPX-1',\n",
       " 'GQ Lup b': 'GQ Lup',\n",
       " 'GSC 06214-00210 b': 'GSC 06214-00210',\n",
       " 'GU Psc b': 'GU Psc',\n",
       " 'Gaia-1 b': 'Gaia-1',\n",
       " 'Gaia-2 b': 'Gaia-2',\n",
       " 'Gl 378 b': 'Gl 378',\n",
       " 'Gl 49 b': 'Gl 49',\n",
       " 'Gl 686 b': 'Gl 686',\n",
       " 'HAT-P-1 b': 'HAT-P-1',\n",
       " 'HAT-P-12 b': 'HAT-P-12',\n",
       " 'HAT-P-14 b': 'HAT-P-14',\n",
       " 'HAT-P-15 b': 'HAT-P-15',\n",
       " 'HAT-P-16 b': 'HAT-P-16',\n",
       " 'HAT-P-18 b': 'HAT-P-18',\n",
       " 'HAT-P-19 b': 'HAT-P-19',\n",
       " 'HAT-P-2 b': 'HAT-P-2',\n",
       " 'HAT-P-20 b': 'HAT-P-20',\n",
       " 'HAT-P-21 b': 'HAT-P-21',\n",
       " 'HAT-P-22 b': 'HAT-P-22',\n",
       " 'HAT-P-23 b': 'HAT-P-23',\n",
       " 'HAT-P-24 b': 'HAT-P-24',\n",
       " 'HAT-P-25 b': 'HAT-P-25',\n",
       " 'HAT-P-26 b': 'HAT-P-26',\n",
       " 'HAT-P-27 b': 'HAT-P-27',\n",
       " 'HAT-P-28 b': 'HAT-P-28',\n",
       " 'HAT-P-29 b': 'HAT-P-29',\n",
       " 'HAT-P-3 b': 'HAT-P-3',\n",
       " 'HAT-P-30 b': 'HAT-P-30',\n",
       " 'HAT-P-31 b': 'HAT-P-31',\n",
       " 'HAT-P-32 b': 'HAT-P-32',\n",
       " 'HAT-P-33 b': 'HAT-P-33',\n",
       " 'HAT-P-34 b': 'HAT-P-34',\n",
       " 'HAT-P-35 b': 'HAT-P-35',\n",
       " 'HAT-P-36 b': 'HAT-P-36',\n",
       " 'HAT-P-37 b': 'HAT-P-37',\n",
       " 'HAT-P-38 b': 'HAT-P-38',\n",
       " 'HAT-P-39 b': 'HAT-P-39',\n",
       " 'HAT-P-4 b': 'HAT-P-4',\n",
       " 'HAT-P-40 b': 'HAT-P-40',\n",
       " 'HAT-P-41 b': 'HAT-P-41',\n",
       " 'HAT-P-42 b': 'HAT-P-42',\n",
       " 'HAT-P-43 b': 'HAT-P-43',\n",
       " 'HAT-P-45 b': 'HAT-P-45',\n",
       " 'HAT-P-46 b': 'HAT-P-46',\n",
       " 'HAT-P-49 b': 'HAT-P-49',\n",
       " 'HAT-P-5 b': 'HAT-P-5',\n",
       " 'HAT-P-50 b': 'HAT-P-50',\n",
       " 'HAT-P-51 b': 'HAT-P-51',\n",
       " 'HAT-P-52 b': 'HAT-P-52',\n",
       " 'HAT-P-53 b': 'HAT-P-53',\n",
       " 'HAT-P-54 b': 'HAT-P-54',\n",
       " 'HAT-P-55 b': 'HAT-P-55',\n",
       " 'HAT-P-56 b': 'HAT-P-56',\n",
       " 'HAT-P-57 b': 'HAT-P-57',\n",
       " 'HAT-P-58 b': 'HAT-P-58',\n",
       " 'HAT-P-59 b': 'HAT-P-59',\n",
       " 'HAT-P-6 b': 'HAT-P-6',\n",
       " 'HAT-P-60 b': 'HAT-P-60',\n",
       " 'HAT-P-61 b': 'HAT-P-61',\n",
       " 'HAT-P-62 b': 'HAT-P-62',\n",
       " 'HAT-P-63 b': 'HAT-P-63',\n",
       " 'HAT-P-64 b': 'HAT-P-64',\n",
       " 'HAT-P-65 b': 'HAT-P-65',\n",
       " 'HAT-P-66 b': 'HAT-P-66',\n",
       " 'HAT-P-67 b': 'HAT-P-67',\n",
       " 'HAT-P-68 b': 'HAT-P-68',\n",
       " 'HAT-P-69 b': 'HAT-P-69',\n",
       " 'HAT-P-7 b': 'HAT-P-7',\n",
       " 'HAT-P-70 b': 'HAT-P-70',\n",
       " 'HAT-P-8 b': 'HAT-P-8',\n",
       " 'HAT-P-9 b': 'HAT-P-9',\n",
       " 'HATS-1 b': 'HATS-1',\n",
       " 'HATS-10 b': 'HATS-10',\n",
       " 'HATS-11 b': 'HATS-11',\n",
       " 'HATS-12 b': 'HATS-12',\n",
       " 'HATS-13 b': 'HATS-13',\n",
       " 'HATS-14 b': 'HATS-14',\n",
       " 'HATS-15 b': 'HATS-15',\n",
       " 'HATS-16 b': 'HATS-16',\n",
       " 'HATS-17 b': 'HATS-17',\n",
       " 'HATS-18 b': 'HATS-18',\n",
       " 'HATS-2 b': 'HATS-2',\n",
       " 'HATS-22 b': 'HATS-22',\n",
       " 'HATS-23 b': 'HATS-23',\n",
       " 'HATS-24 b': 'HATS-24',\n",
       " 'HATS-25 b': 'HATS-25',\n",
       " 'HATS-26 b': 'HATS-26',\n",
       " 'HATS-27 b': 'HATS-27',\n",
       " 'HATS-28 b': 'HATS-28',\n",
       " 'HATS-29 b': 'HATS-29',\n",
       " 'HATS-3 b': 'HATS-3',\n",
       " 'HATS-30 b': 'HATS-30',\n",
       " 'HATS-31 b': 'HATS-31',\n",
       " 'HATS-32 b': 'HATS-32',\n",
       " 'HATS-33 b': 'HATS-33',\n",
       " 'HATS-34 b': 'HATS-34',\n",
       " 'HATS-35 b': 'HATS-35',\n",
       " 'HATS-36 b': 'HATS-36',\n",
       " 'HATS-37 A b': 'HATS-37 A',\n",
       " 'HATS-38 b': 'HATS-38',\n",
       " 'HATS-39 b': 'HATS-39',\n",
       " 'HATS-4 b': 'HATS-4',\n",
       " 'HATS-40 b': 'HATS-40',\n",
       " 'HATS-41 b': 'HATS-41',\n",
       " 'HATS-42 b': 'HATS-42',\n",
       " 'HATS-43 b': 'HATS-43',\n",
       " 'HATS-44 b': 'HATS-44',\n",
       " 'HATS-45 b': 'HATS-45',\n",
       " 'HATS-46 b': 'HATS-46',\n",
       " 'HATS-47 b': 'HATS-47',\n",
       " 'HATS-48 A b': 'HATS-48 A',\n",
       " 'HATS-49 b': 'HATS-49',\n",
       " 'HATS-5 b': 'HATS-5',\n",
       " 'HATS-50 b': 'HATS-50',\n",
       " 'HATS-51 b': 'HATS-51',\n",
       " 'HATS-52 b': 'HATS-52',\n",
       " 'HATS-53 b': 'HATS-53',\n",
       " 'HATS-54 b': 'HATS-54',\n",
       " 'HATS-55 b': 'HATS-55',\n",
       " 'HATS-56 b': 'HATS-56',\n",
       " 'HATS-57 b': 'HATS-57',\n",
       " 'HATS-58 A b': 'HATS-58 A',\n",
       " 'HATS-6 b': 'HATS-6',\n",
       " 'HATS-60 b': 'HATS-60',\n",
       " 'HATS-61 b': 'HATS-61',\n",
       " 'HATS-62 b': 'HATS-62',\n",
       " 'HATS-63 b': 'HATS-63',\n",
       " 'HATS-64 b': 'HATS-64',\n",
       " 'HATS-65 b': 'HATS-65',\n",
       " 'HATS-66 b': 'HATS-66',\n",
       " 'HATS-67 b': 'HATS-67',\n",
       " 'HATS-68 b': 'HATS-68',\n",
       " 'HATS-69 b': 'HATS-69',\n",
       " 'HATS-7 b': 'HATS-7',\n",
       " 'HATS-70 b': 'HATS-70',\n",
       " 'HATS-71 b': 'HATS-71',\n",
       " 'HATS-72 b': 'HATS-72',\n",
       " 'HATS-74 A b': 'HATS-74 A',\n",
       " 'HATS-75 b': 'HATS-75',\n",
       " 'HATS-76 b': 'HATS-76',\n",
       " 'HATS-77 b': 'HATS-77',\n",
       " 'HATS-8 b': 'HATS-8',\n",
       " 'HATS-9 b': 'HATS-9',\n",
       " 'HD 100546 b': 'HD 100546',\n",
       " 'HD 100655 b': 'HD 100655',\n",
       " 'HD 100777 b': 'HD 100777',\n",
       " 'HD 101930 b': 'HD 101930',\n",
       " 'HD 102117 b': 'HD 102117',\n",
       " 'HD 102195 b': 'HD 102195',\n",
       " 'HD 102272 b': 'HD 102272',\n",
       " 'HD 102365 b': 'HD 102365',\n",
       " 'HD 102843 b': 'HD 102843',\n",
       " 'HD 102956 b': 'HD 102956',\n",
       " 'HD 103197 b': 'HD 103197',\n",
       " 'HD 103720 b': 'HD 103720',\n",
       " 'HD 103774 b': 'HD 103774',\n",
       " 'HD 103891 b': 'HD 103891',\n",
       " 'HD 103949 b': 'HD 103949',\n",
       " 'HD 104067 b': 'HD 104067',\n",
       " 'HD 10442 b': 'HD 10442',\n",
       " 'HD 104985 b': 'HD 104985',\n",
       " 'HD 105779 b': 'HD 105779',\n",
       " 'HD 106252 b': 'HD 106252',\n",
       " 'HD 106270 b': 'HD 106270',\n",
       " 'HD 10647 b': 'HD 10647',\n",
       " 'HD 106515 A b': 'HD 106515 A',\n",
       " 'HD 106906 b': 'HD 106906',\n",
       " 'HD 10697 b': 'HD 10697',\n",
       " 'HD 108147 b': 'HD 108147',\n",
       " 'HD 108341 b': 'HD 108341',\n",
       " 'HD 108863 b': 'HD 108863',\n",
       " 'HD 109246 b': 'HD 109246',\n",
       " 'HD 109286 b': 'HD 109286',\n",
       " 'HD 109749 b': 'HD 109749',\n",
       " 'HD 10975 b': 'HD 10975',\n",
       " 'HD 109988 b': 'HD 109988',\n",
       " 'HD 110014 b': 'HD 110014',\n",
       " 'HD 110082 b': 'HD 110082',\n",
       " 'HD 110537 b': 'HD 110537',\n",
       " 'HD 11112 b': 'HD 11112',\n",
       " 'HD 111591 b': 'HD 111591',\n",
       " 'HD 111998 b': 'HD 111998',\n",
       " 'HD 112640 b': 'HD 112640',\n",
       " 'HD 113996 b': 'HD 113996',\n",
       " 'HD 114082 b': 'HD 114082',\n",
       " 'HD 114386 b': 'HD 114386',\n",
       " 'HD 114613 b': 'HD 114613',\n",
       " 'HD 114729 b': 'HD 114729',\n",
       " 'HD 11505 b': 'HD 11505',\n",
       " 'HD 115954 b': 'HD 115954',\n",
       " 'HD 117207 b': 'HD 117207',\n",
       " 'HD 11755 b': 'HD 11755',\n",
       " 'HD 117618 b': 'HD 117618',\n",
       " 'HD 118203 b': 'HD 118203',\n",
       " 'HD 11977 b': 'HD 11977',\n",
       " 'HD 120084 b': 'HD 120084',\n",
       " 'HD 121504 b': 'HD 121504',\n",
       " 'HD 122562 c': 'HD 122562',\n",
       " 'HD 124330 b': 'HD 124330',\n",
       " 'HD 12484 b': 'HD 12484',\n",
       " 'HD 125271 b': 'HD 125271',\n",
       " 'HD 125390 b': 'HD 125390',\n",
       " 'HD 125595 b': 'HD 125595',\n",
       " 'HD 12648 b': 'HD 12648',\n",
       " 'HD 126525 b': 'HD 126525',\n",
       " 'HD 126614 b': 'HD 126614',\n",
       " 'HD 127506 b': 'HD 127506',\n",
       " 'HD 128356 b': 'HD 128356',\n",
       " 'HD 129445 b': 'HD 129445',\n",
       " 'HD 130322 b': 'HD 130322',\n",
       " 'HD 131496 b': 'HD 131496',\n",
       " 'HD 13167 b': 'HD 13167',\n",
       " 'HD 13189 b': 'HD 13189',\n",
       " 'HD 132406 b': 'HD 132406',\n",
       " 'HD 132563 b': 'HD 132563',\n",
       " 'HD 133131 B b': 'HD 133131 B',\n",
       " 'HD 135872 b': 'HD 135872',\n",
       " 'HD 136118 b': 'HD 136118',\n",
       " 'HD 136418 b': 'HD 136418',\n",
       " 'HD 136925 b': 'HD 136925',\n",
       " 'HD 13724 c': 'HD 13724',\n",
       " 'HD 137388 b': 'HD 137388',\n",
       " 'HD 13931 b': 'HD 13931',\n",
       " 'HD 139357 b': 'HD 139357',\n",
       " 'HD 1397 b': 'HD 1397',\n",
       " 'HD 14067 b': 'HD 14067',\n",
       " 'HD 141004 b': 'HD 141004',\n",
       " 'HD 141937 b': 'HD 141937',\n",
       " 'HD 142022 A b': 'HD 142022 A',\n",
       " 'HD 142245 b': 'HD 142245',\n",
       " 'HD 142415 b': 'HD 142415',\n",
       " 'HD 143105 b': 'HD 143105',\n",
       " 'HD 143361 b': 'HD 143361',\n",
       " 'HD 144899 b': 'HD 144899',\n",
       " 'HD 145377 b': 'HD 145377',\n",
       " 'HD 145457 b': 'HD 145457',\n",
       " 'HD 145934 b': 'HD 145934',\n",
       " 'HD 147379 b': 'HD 147379',\n",
       " 'HD 147513 b': 'HD 147513',\n",
       " 'HD 14787 b': 'HD 14787',\n",
       " 'HD 148156 b': 'HD 148156',\n",
       " 'HD 148427 b': 'HD 148427',\n",
       " 'HD 149026 b': 'HD 149026',\n",
       " 'HD 149143 b': 'HD 149143',\n",
       " 'HD 149806 b': 'HD 149806',\n",
       " 'HD 150010 b': 'HD 150010',\n",
       " 'HD 1502 b': 'HD 1502',\n",
       " 'HD 150706 b': 'HD 150706',\n",
       " 'HD 152079 b': 'HD 152079',\n",
       " 'HD 152581 b': 'HD 152581',\n",
       " 'HD 153950 b': 'HD 153950',\n",
       " 'HD 154088 b': 'HD 154088',\n",
       " 'HD 154345 b': 'HD 154345',\n",
       " 'HD 154672 b': 'HD 154672',\n",
       " 'HD 155193 b': 'HD 155193',\n",
       " 'HD 155233 b': 'HD 155233',\n",
       " 'HD 156411 b': 'HD 156411',\n",
       " 'HD 156846 b': 'HD 156846',\n",
       " 'HD 158038 b': 'HD 158038',\n",
       " 'HD 158996 b': 'HD 158996',\n",
       " 'HD 161178 b': 'HD 161178',\n",
       " 'HD 16141 b': 'HD 16141',\n",
       " 'HD 16175 b': 'HD 16175',\n",
       " 'HD 162020 b': 'HD 162020',\n",
       " 'HD 16417 b': 'HD 16417',\n",
       " 'HD 164509 b': 'HD 164509',\n",
       " 'HD 164595 b': 'HD 164595',\n",
       " 'HD 164604 b': 'HD 164604',\n",
       " 'HD 165155 b': 'HD 165155',\n",
       " 'HD 1666 b': 'HD 1666',\n",
       " 'HD 166724 b': 'HD 166724',\n",
       " 'HD 167042 b': 'HD 167042',\n",
       " 'HD 167768 b': 'HD 167768',\n",
       " 'HD 168009 b': 'HD 168009',\n",
       " 'HD 168746 b': 'HD 168746',\n",
       " 'HD 168863 b': 'HD 168863',\n",
       " 'HD 1690 b': 'HD 1690',\n",
       " 'HD 16905 b': 'HD 16905',\n",
       " 'HD 169142 b': 'HD 169142',\n",
       " 'HD 170469 b': 'HD 170469',\n",
       " 'HD 17092 b': 'HD 17092',\n",
       " 'HD 171028 b': 'HD 171028',\n",
       " 'HD 171238 b': 'HD 171238',\n",
       " 'HD 17156 b': 'HD 17156',\n",
       " 'HD 173416 b': 'HD 173416',\n",
       " 'HD 174205 b': 'HD 174205',\n",
       " 'HD 175167 b': 'HD 175167',\n",
       " 'HD 175541 b': 'HD 175541',\n",
       " 'HD 175607 b': 'HD 175607',\n",
       " 'HD 17674 b': 'HD 17674',\n",
       " 'HD 177565 b': 'HD 177565',\n",
       " 'HD 178911 B b': 'HD 178911 B',\n",
       " 'HD 179079 b': 'HD 179079',\n",
       " 'HD 179949 b': 'HD 179949',\n",
       " 'HD 180053 b': 'HD 180053',\n",
       " 'HD 18015 b': 'HD 18015',\n",
       " 'HD 180314 b': 'HD 180314',\n",
       " 'HD 180617 b': 'HD 180617',\n",
       " 'HD 180902 b': 'HD 180902',\n",
       " 'HD 181234 b': 'HD 181234',\n",
       " 'HD 181342 b': 'HD 181342',\n",
       " 'HD 181720 b': 'HD 181720',\n",
       " 'HD 183579 b': 'HD 183579',\n",
       " 'HD 185269 b': 'HD 185269',\n",
       " 'HD 18599 b': 'HD 18599',\n",
       " 'HD 187085 b': 'HD 187085',\n",
       " 'HD 18742 b': 'HD 18742',\n",
       " 'HD 188015 b': 'HD 188015',\n",
       " 'HD 188641 b': 'HD 188641',\n",
       " 'HD 189733 b': 'HD 189733',\n",
       " 'HD 190007 b': 'HD 190007',\n",
       " 'HD 190228 b': 'HD 190228',\n",
       " 'HD 190647 b': 'HD 190647',\n",
       " 'HD 190984 b': 'HD 190984',\n",
       " 'HD 191806 b': 'HD 191806',\n",
       " 'HD 192263 b': 'HD 192263',\n",
       " 'HD 192699 b': 'HD 192699',\n",
       " 'HD 194490 b': 'HD 194490',\n",
       " 'HD 195019 b': 'HD 195019',\n",
       " 'HD 196050 b': 'HD 196050',\n",
       " 'HD 196067 b': 'HD 196067',\n",
       " 'HD 19615 b': 'HD 19615',\n",
       " 'HD 196885 A b': 'HD 196885 A',\n",
       " 'HD 197037 b': 'HD 197037',\n",
       " 'HD 199509 b': 'HD 199509',\n",
       " 'HD 19994 b': 'HD 19994',\n",
       " 'HD 202206 c': 'HD 202206',\n",
       " 'HD 202772 A b': 'HD 202772 A',\n",
       " 'HD 203030 b': 'HD 203030',\n",
       " 'HD 20329 b': 'HD 20329',\n",
       " 'HD 203473 b': 'HD 203473',\n",
       " 'HD 2039 b': 'HD 2039',\n",
       " 'HD 204941 b': 'HD 204941',\n",
       " 'HD 205158 b': 'HD 205158',\n",
       " 'HD 205739 b': 'HD 205739',\n",
       " 'HD 206255 b': 'HD 206255',\n",
       " 'HD 206610 b': 'HD 206610',\n",
       " 'HD 20782 b': 'HD 20782',\n",
       " 'HD 207897 b': 'HD 207897',\n",
       " 'HD 208487 b': 'HD 208487',\n",
       " 'HD 208527 b': 'HD 208527',\n",
       " 'HD 20868 b': 'HD 20868',\n",
       " 'HD 208897 b': 'HD 208897',\n",
       " 'HD 209458 b': 'HD 209458',\n",
       " 'HD 210193 b': 'HD 210193',\n",
       " 'HD 210277 b': 'HD 210277',\n",
       " 'HD 210702 b': 'HD 210702',\n",
       " 'HD 211403 b': 'HD 211403',\n",
       " 'HD 211810 b': 'HD 211810',\n",
       " 'HD 211970 b': 'HD 211970',\n",
       " 'HD 212301 b': 'HD 212301',\n",
       " 'HD 212771 b': 'HD 212771',\n",
       " 'HD 213240 b': 'HD 213240',\n",
       " 'HD 213472 b': 'HD 213472',\n",
       " 'HD 213519 b': 'HD 213519',\n",
       " 'HD 21411 b': 'HD 21411',\n",
       " 'HD 214823 b': 'HD 214823',\n",
       " 'HD 216435 b': 'HD 216435',\n",
       " 'HD 216437 b': 'HD 216437',\n",
       " 'HD 216536 b': 'HD 216536',\n",
       " 'HD 216770 b': 'HD 216770',\n",
       " 'HD 217850 b': 'HD 217850',\n",
       " 'HD 217958 b': 'HD 217958',\n",
       " 'HD 218566 b': 'HD 218566',\n",
       " 'HD 219077 b': 'HD 219077',\n",
       " 'HD 219139 b': 'HD 219139',\n",
       " 'HD 219415 b': 'HD 219415',\n",
       " 'HD 219666 b': 'HD 219666',\n",
       " 'HD 220074 b': 'HD 220074',\n",
       " 'HD 220197 b': 'HD 220197',\n",
       " 'HD 220689 b': 'HD 220689',\n",
       " 'HD 220773 b': 'HD 220773',\n",
       " 'HD 220842 b': 'HD 220842',\n",
       " 'HD 221287 b': 'HD 221287',\n",
       " 'HD 221416 b': 'HD 221416',\n",
       " 'HD 221420 b': 'HD 221420',\n",
       " 'HD 221585 b': 'HD 221585',\n",
       " 'HD 222076 b': 'HD 222076',\n",
       " 'HD 222155 b': 'HD 222155',\n",
       " 'HD 222582 b': 'HD 222582',\n",
       " 'HD 224538 b': 'HD 224538',\n",
       " 'HD 224693 b': 'HD 224693',\n",
       " 'HD 22496 b': 'HD 22496',\n",
       " 'HD 22532 b': 'HD 22532',\n",
       " 'HD 22781 b': 'HD 22781',\n",
       " 'HD 23079 b': 'HD 23079',\n",
       " 'HD 23127 b': 'HD 23127',\n",
       " 'HD 231701 b': 'HD 231701',\n",
       " 'HD 233604 b': 'HD 233604',\n",
       " 'HD 233832 b': 'HD 233832',\n",
       " 'HD 23596 b': 'HD 23596',\n",
       " 'HD 238090 b': 'HD 238090',\n",
       " 'HD 238914 b': 'HD 238914',\n",
       " 'HD 240210 b': 'HD 240210',\n",
       " 'HD 240237 b': 'HD 240237',\n",
       " 'HD 24064 b': 'HD 24064',\n",
       " 'HD 24085 b': 'HD 24085',\n",
       " 'HD 25015 b': 'HD 25015',\n",
       " 'HD 25171 b': 'HD 25171',\n",
       " 'HD 25723 b': 'HD 25723',\n",
       " 'HD 26161 b': 'HD 26161',\n",
       " 'HD 2638 b': 'HD 2638',\n",
       " 'HD 2685 b': 'HD 2685',\n",
       " 'HD 26965 b': 'HD 26965',\n",
       " 'HD 27442 b': 'HD 27442',\n",
       " 'HD 27631 b': 'HD 27631',\n",
       " 'HD 27969 b': 'HD 27969',\n",
       " 'HD 28192 b': 'HD 28192',\n",
       " 'HD 28254 b': 'HD 28254',\n",
       " 'HD 285507 b': 'HD 285507',\n",
       " 'HD 285968 b': 'HD 285968',\n",
       " 'HD 28678 b': 'HD 28678',\n",
       " 'HD 29021 b': 'HD 29021',\n",
       " 'HD 290327 b': 'HD 290327',\n",
       " 'HD 29399 b': 'HD 29399',\n",
       " 'HD 2952 b': 'HD 2952',\n",
       " 'HD 29985 b': 'HD 29985',\n",
       " 'HD 30562 b': 'HD 30562',\n",
       " 'HD 30669 b': 'HD 30669',\n",
       " 'HD 30856 b': 'HD 30856',\n",
       " 'HD 31253 b': 'HD 31253',\n",
       " 'HD 32518 b': 'HD 32518',\n",
       " 'HD 32963 b': 'HD 32963',\n",
       " 'HD 330075 b': 'HD 330075',\n",
       " 'HD 331093 b': 'HD 331093',\n",
       " 'HD 332231 b': 'HD 332231',\n",
       " 'HD 33283 b': 'HD 33283',\n",
       " 'HD 33564 b': 'HD 33564',\n",
       " 'HD 35759 b': 'HD 35759',\n",
       " 'HD 360 b': 'HD 360',\n",
       " 'HD 3651 b': 'HD 3651',\n",
       " 'HD 3765 b': 'HD 3765',\n",
       " 'HD 38283 b': 'HD 38283',\n",
       " 'HD 38801 b': 'HD 38801',\n",
       " 'HD 39855 b': 'HD 39855',\n",
       " 'HD 40956 b': 'HD 40956',\n",
       " 'HD 40979 b': 'HD 40979',\n",
       " 'HD 41004 A b': 'HD 41004 A',\n",
       " 'HD 41004 B b': 'HD 41004 B',\n",
       " 'HD 4113 b': 'HD 4113',\n",
       " 'HD 42012 b': 'HD 42012',\n",
       " 'HD 4208 b': 'HD 4208',\n",
       " 'HD 42618 b': 'HD 42618',\n",
       " 'HD 4308 b': 'HD 4308',\n",
       " 'HD 4313 b': 'HD 4313',\n",
       " 'HD 43691 b': 'HD 43691',\n",
       " 'HD 44219 b': 'HD 44219',\n",
       " 'HD 45350 b': 'HD 45350',\n",
       " 'HD 45652 b': 'HD 45652',\n",
       " 'HD 457 b': 'HD 457',\n",
       " 'HD 46375 b': 'HD 46375',\n",
       " 'HD 47536 b': 'HD 47536',\n",
       " 'HD 4760 b': 'HD 4760',\n",
       " 'HD 48265 b': 'HD 48265',\n",
       " 'HD 4917 b': 'HD 4917',\n",
       " 'HD 49674 b': 'HD 49674',\n",
       " 'HD 50554 b': 'HD 50554',\n",
       " 'HD 52265 b': 'HD 52265',\n",
       " 'HD 55696 b': 'HD 55696',\n",
       " 'HD 5583 b': 'HD 5583',\n",
       " 'HD 5608 b': 'HD 5608',\n",
       " 'HD 564 b': 'HD 564',\n",
       " 'HD 56414 b': 'HD 56414',\n",
       " 'HD 56957 b': 'HD 56957',\n",
       " 'HD 5891 b': 'HD 5891',\n",
       " 'HD 59686 A b': 'HD 59686 A',\n",
       " 'HD 60292 b': 'HD 60292',\n",
       " 'HD 62509 b': 'HD 62509',\n",
       " 'HD 62549 b': 'HD 62549',\n",
       " 'HD 63454 b': 'HD 63454',\n",
       " 'HD 63765 b': 'HD 63765',\n",
       " 'HD 64114 b': 'HD 64114',\n",
       " 'HD 64121 b': 'HD 64121',\n",
       " 'HD 6434 b': 'HD 6434',\n",
       " 'HD 66141 b': 'HD 66141',\n",
       " 'HD 6718 b': 'HD 6718',\n",
       " 'HD 68402 b': 'HD 68402',\n",
       " 'HD 69123 b': 'HD 69123',\n",
       " 'HD 70573 b': 'HD 70573',\n",
       " 'HD 70642 b': 'HD 70642',\n",
       " 'HD 7199 b': 'HD 7199',\n",
       " 'HD 72490 b': 'HD 72490',\n",
       " 'HD 72892 b': 'HD 72892',\n",
       " 'HD 73534 b': 'HD 73534',\n",
       " 'HD 7449 b': 'HD 7449',\n",
       " 'HD 75289 b': 'HD 75289',\n",
       " 'HD 75898 b': 'HD 75898',\n",
       " 'HD 76700 b': 'HD 76700',\n",
       " 'HD 76920 b': 'HD 76920',\n",
       " 'HD 77338 b': 'HD 77338',\n",
       " 'HD 79181 b': 'HD 79181',\n",
       " 'HD 79498 b': 'HD 79498',\n",
       " 'HD 80606 b': 'HD 80606',\n",
       " 'HD 80653 b': 'HD 80653',\n",
       " 'HD 80869 b': 'HD 80869',\n",
       " 'HD 80883 b': 'HD 80883',\n",
       " 'HD 80913 b': 'HD 80913',\n",
       " 'HD 81040 b': 'HD 81040',\n",
       " 'HD 81688 b': 'HD 81688',\n",
       " 'HD 82886 b': 'HD 82886',\n",
       " 'HD 8326 b': 'HD 8326',\n",
       " 'HD 8535 b': 'HD 8535',\n",
       " 'HD 85390 b': 'HD 85390',\n",
       " 'HD 85512 b': 'HD 85512',\n",
       " 'HD 8574 b': 'HD 8574',\n",
       " 'HD 86065 b': 'HD 86065',\n",
       " 'HD 86081 b': 'HD 86081',\n",
       " 'HD 86264 b': 'HD 86264',\n",
       " 'HD 8673 b': 'HD 8673',\n",
       " 'HD 86950 b': 'HD 86950',\n",
       " 'HD 87646 b': 'HD 87646',\n",
       " 'HD 87883 b': 'HD 87883',\n",
       " 'HD 88072 b': 'HD 88072',\n",
       " 'HD 88133 b': 'HD 88133',\n",
       " 'HD 89307 b': 'HD 89307',\n",
       " 'HD 89345 b': 'HD 89345',\n",
       " 'HD 89744 b': 'HD 89744',\n",
       " 'HD 90156 b': 'HD 90156',\n",
       " 'HD 9174 b': 'HD 9174',\n",
       " 'HD 93083 b': 'HD 93083',\n",
       " 'HD 94834 b': 'HD 94834',\n",
       " 'HD 95086 b': 'HD 95086',\n",
       " 'HD 95127 b': 'HD 95127',\n",
       " 'HD 95338 b': 'HD 95338',\n",
       " 'HD 95544 b': 'HD 95544',\n",
       " 'HD 95872 b': 'HD 95872',\n",
       " 'HD 96063 b': 'HD 96063',\n",
       " 'HD 96127 b': 'HD 96127',\n",
       " 'HD 96167 b': 'HD 96167',\n",
       " 'HD 96992 b': 'HD 96992',\n",
       " 'HD 97037 b': 'HD 97037',\n",
       " 'HD 97048 b': 'HD 97048',\n",
       " 'HD 97658 b': 'HD 97658',\n",
       " 'HD 98219 b': 'HD 98219',\n",
       " 'HD 98649 b': 'HD 98649',\n",
       " 'HD 98736 b': 'HD 98736',\n",
       " 'HD 99109 b': 'HD 99109',\n",
       " 'HD 99283 b': 'HD 99283',\n",
       " 'HD 99492 b': 'HD 99492',\n",
       " 'HIP 105854 b': 'HIP 105854',\n",
       " 'HIP 107772 b': 'HIP 107772',\n",
       " 'HIP 107773 b': 'HIP 107773',\n",
       " 'HIP 109384 b': 'HIP 109384',\n",
       " 'HIP 109600 b': 'HIP 109600',\n",
       " 'HIP 114933 b': 'HIP 114933',\n",
       " 'HIP 116454 b': 'HIP 116454',\n",
       " 'HIP 12961 b': 'HIP 12961',\n",
       " 'HIP 21152 b': 'HIP 21152',\n",
       " 'HIP 34222 b': 'HIP 34222',\n",
       " 'HIP 35173 b': 'HIP 35173',\n",
       " 'HIP 35965 b': 'HIP 35965',\n",
       " 'HIP 4845 b': 'HIP 4845',\n",
       " 'HIP 48714 b': 'HIP 48714',\n",
       " 'HIP 55507 b': 'HIP 55507',\n",
       " 'HIP 56640 b': 'HIP 56640',\n",
       " 'HIP 5763 b': 'HIP 5763',\n",
       " 'HIP 63242 b': 'HIP 63242',\n",
       " 'HIP 65 A b': 'HIP 65 A',\n",
       " 'HIP 65426 b': 'HIP 65426',\n",
       " 'HIP 65891 b': 'HIP 65891',\n",
       " 'HIP 67522 b': 'HIP 67522',\n",
       " 'HIP 67537 b': 'HIP 67537',\n",
       " 'HIP 70849 b': 'HIP 70849',\n",
       " 'HIP 71135 b': 'HIP 71135',\n",
       " 'HIP 74890 b': 'HIP 74890',\n",
       " 'HIP 75056 A b': 'HIP 75056 A',\n",
       " 'HIP 75092 b': 'HIP 75092',\n",
       " 'HIP 78530 b': 'HIP 78530',\n",
       " 'HIP 79098 AB b': 'HIP 79098 AB',\n",
       " 'HIP 79431 b': 'HIP 79431',\n",
       " 'HIP 86221 b': 'HIP 86221',\n",
       " 'HIP 90988 b': 'HIP 90988',\n",
       " 'HIP 91258 b': 'HIP 91258',\n",
       " 'HIP 94235 b': 'HIP 94235',\n",
       " 'HIP 948 b': 'HIP 948',\n",
       " 'HIP 97233 b': 'HIP 97233',\n",
       " 'HN Peg b': 'HN Peg',\n",
       " 'HR 2562 b': 'HR 2562',\n",
       " 'HR 5183 b': 'HR 5183',\n",
       " 'HR 810 b': 'HR 810',\n",
       " 'IC 4651 9122 b': 'IC 4651 9122',\n",
       " 'K2-10 b': 'K2-10',\n",
       " 'K2-100 b': 'K2-100',\n",
       " 'K2-101 b': 'K2-101',\n",
       " 'K2-102 b': 'K2-102',\n",
       " 'K2-104 b': 'K2-104',\n",
       " 'K2-105 b': 'K2-105',\n",
       " 'K2-107 b': 'K2-107',\n",
       " 'K2-108 b': 'K2-108',\n",
       " 'K2-11 b': 'K2-11',\n",
       " 'K2-110 b': 'K2-110',\n",
       " 'K2-113 b': 'K2-113',\n",
       " 'K2-114 b': 'K2-114',\n",
       " 'K2-115 b': 'K2-115',\n",
       " 'K2-116 b': 'K2-116',\n",
       " 'K2-118 b': 'K2-118',\n",
       " 'K2-119 b': 'K2-119',\n",
       " 'K2-12 b': 'K2-12',\n",
       " 'K2-120 b': 'K2-120',\n",
       " 'K2-121 b': 'K2-121',\n",
       " 'K2-122 b': 'K2-122',\n",
       " 'K2-123 b': 'K2-123',\n",
       " 'K2-124 b': 'K2-124',\n",
       " 'K2-125 b': 'K2-125',\n",
       " 'K2-126 b': 'K2-126',\n",
       " 'K2-127 b': 'K2-127',\n",
       " 'K2-128 b': 'K2-128',\n",
       " 'K2-129 b': 'K2-129',\n",
       " 'K2-13 b': 'K2-13',\n",
       " 'K2-130 b': 'K2-130',\n",
       " 'K2-131 b': 'K2-131',\n",
       " 'K2-132 b': 'K2-132',\n",
       " 'K2-137 b': 'K2-137',\n",
       " 'K2-139 b': 'K2-139',\n",
       " 'K2-14 b': 'K2-14',\n",
       " 'K2-140 b': 'K2-140',\n",
       " 'K2-147 b': 'K2-147',\n",
       " 'K2-149 b': 'K2-149',\n",
       " 'K2-15 b': 'K2-15',\n",
       " 'K2-150 b': 'K2-150',\n",
       " 'K2-151 b': 'K2-151',\n",
       " 'K2-152 b': 'K2-152',\n",
       " 'K2-153 b': 'K2-153',\n",
       " 'K2-156 b': 'K2-156',\n",
       " 'K2-157 b': 'K2-157',\n",
       " 'K2-159 b': 'K2-159',\n",
       " 'K2-160 b': 'K2-160',\n",
       " 'K2-161 b': 'K2-161',\n",
       " 'K2-162 b': 'K2-162',\n",
       " 'K2-163 b': 'K2-163',\n",
       " 'K2-164 b': 'K2-164',\n",
       " 'K2-167 b': 'K2-167',\n",
       " 'K2-169 b': 'K2-169',\n",
       " 'K2-17 b': 'K2-17',\n",
       " 'K2-171 b': 'K2-171',\n",
       " 'K2-173 b': 'K2-173',\n",
       " 'K2-174 b': 'K2-174',\n",
       " 'K2-175 b': 'K2-175',\n",
       " 'K2-176 b': 'K2-176',\n",
       " 'K2-177 b': 'K2-177',\n",
       " 'K2-178 b': 'K2-178',\n",
       " 'K2-179 b': 'K2-179',\n",
       " 'K2-180 b': 'K2-180',\n",
       " 'K2-181 b': 'K2-181',\n",
       " 'K2-182 b': 'K2-182',\n",
       " 'K2-184 b': 'K2-184',\n",
       " 'K2-186 b': 'K2-186',\n",
       " 'K2-191 b': 'K2-191',\n",
       " 'K2-192 b': 'K2-192',\n",
       " 'K2-193 b': 'K2-193',\n",
       " 'K2-194 b': 'K2-194',\n",
       " 'K2-196 b': 'K2-196',\n",
       " 'K2-197 b': 'K2-197',\n",
       " 'K2-200 b': 'K2-200',\n",
       " 'K2-202 b': 'K2-202',\n",
       " 'K2-203 b': 'K2-203',\n",
       " 'K2-204 b': 'K2-204',\n",
       " 'K2-205 b': 'K2-205',\n",
       " 'K2-206 b': 'K2-206',\n",
       " 'K2-207 b': 'K2-207',\n",
       " 'K2-208 b': 'K2-208',\n",
       " 'K2-209 b': 'K2-209',\n",
       " 'K2-210 b': 'K2-210',\n",
       " 'K2-211 b': 'K2-211',\n",
       " 'K2-212 b': 'K2-212',\n",
       " 'K2-213 b': 'K2-213',\n",
       " 'K2-214 b': 'K2-214',\n",
       " 'K2-215 b': 'K2-215',\n",
       " 'K2-216 b': 'K2-216',\n",
       " 'K2-217 b': 'K2-217',\n",
       " 'K2-218 b': 'K2-218',\n",
       " 'K2-22 b': 'K2-22',\n",
       " 'K2-220 b': 'K2-220',\n",
       " 'K2-221 b': 'K2-221',\n",
       " 'K2-222 b': 'K2-222',\n",
       " 'K2-225 b': 'K2-225',\n",
       " 'K2-226 b': 'K2-226',\n",
       " 'K2-227 b': 'K2-227',\n",
       " 'K2-228 b': 'K2-228',\n",
       " 'K2-230 b': 'K2-230',\n",
       " 'K2-231 b': 'K2-231',\n",
       " 'K2-232 b': 'K2-232',\n",
       " 'K2-237 b': 'K2-237',\n",
       " 'K2-238 b': 'K2-238',\n",
       " 'K2-241 b': 'K2-241',\n",
       " 'K2-242 b': 'K2-242',\n",
       " 'K2-244 b': 'K2-244',\n",
       " 'K2-245 b': 'K2-245',\n",
       " 'K2-246 b': 'K2-246',\n",
       " 'K2-248 b': 'K2-248',\n",
       " 'K2-249 b': 'K2-249',\n",
       " 'K2-25 b': 'K2-25',\n",
       " 'K2-250 b': 'K2-250',\n",
       " 'K2-251 b': 'K2-251',\n",
       " 'K2-252 b': 'K2-252',\n",
       " 'K2-253 b': 'K2-253',\n",
       " 'K2-255 b': 'K2-255',\n",
       " 'K2-256 b': 'K2-256',\n",
       " 'K2-257 b': 'K2-257',\n",
       " 'K2-258 b': 'K2-258',\n",
       " 'K2-259 b': 'K2-259',\n",
       " 'K2-26 b': 'K2-26',\n",
       " 'K2-260 b': 'K2-260',\n",
       " 'K2-261 b': 'K2-261',\n",
       " 'K2-263 b': 'K2-263',\n",
       " 'K2-265 b': 'K2-265',\n",
       " 'K2-269 b': 'K2-269',\n",
       " 'K2-27 b': 'K2-27',\n",
       " 'K2-271 b': 'K2-271',\n",
       " 'K2-272 b': 'K2-272',\n",
       " 'K2-273 b': 'K2-273',\n",
       " 'K2-274 b': 'K2-274',\n",
       " 'K2-276 b': 'K2-276',\n",
       " 'K2-277 b': 'K2-277',\n",
       " 'K2-278 b': 'K2-278',\n",
       " 'K2-279 b': 'K2-279',\n",
       " 'K2-28 b': 'K2-28',\n",
       " 'K2-280 b': 'K2-280',\n",
       " 'K2-281 b': 'K2-281',\n",
       " 'K2-283 b': 'K2-283',\n",
       " 'K2-284 b': 'K2-284',\n",
       " 'K2-286 b': 'K2-286',\n",
       " 'K2-287 b': 'K2-287',\n",
       " 'K2-288 B b': 'K2-288 B',\n",
       " 'K2-289 b': 'K2-289',\n",
       " 'K2-29 b': 'K2-29',\n",
       " 'K2-291 b': 'K2-291',\n",
       " 'K2-292 b': 'K2-292',\n",
       " 'K2-293 b': 'K2-293',\n",
       " 'K2-294 b': 'K2-294',\n",
       " 'K2-295 b': 'K2-295',\n",
       " 'K2-30 b': 'K2-30',\n",
       " 'K2-308 b': 'K2-308',\n",
       " 'K2-31 b': 'K2-31',\n",
       " 'K2-315 b': 'K2-315',\n",
       " 'K2-317 b': 'K2-317',\n",
       " 'K2-318 b': 'K2-318',\n",
       " 'K2-319 b': 'K2-319',\n",
       " 'K2-320 b': 'K2-320',\n",
       " 'K2-321 b': 'K2-321',\n",
       " 'K2-322 b': 'K2-322',\n",
       " 'K2-323 b': 'K2-323',\n",
       " 'K2-324 b': 'K2-324',\n",
       " 'K2-325 b': 'K2-325',\n",
       " 'K2-326 b': 'K2-326',\n",
       " 'K2-329 b': 'K2-329',\n",
       " 'K2-33 b': 'K2-33',\n",
       " 'K2-330 b': 'K2-330',\n",
       " 'K2-332 b': 'K2-332',\n",
       " 'K2-333 b': 'K2-333',\n",
       " 'K2-334 b': 'K2-334',\n",
       " 'K2-335 b': 'K2-335',\n",
       " 'K2-336 b': 'K2-336',\n",
       " 'K2-337 b': 'K2-337',\n",
       " 'K2-338 b': 'K2-338',\n",
       " 'K2-339 b': 'K2-339',\n",
       " 'K2-34 b': 'K2-34',\n",
       " 'K2-340 b': 'K2-340',\n",
       " 'K2-341 b': 'K2-341',\n",
       " 'K2-342 b': 'K2-342',\n",
       " 'K2-344 b': 'K2-344',\n",
       " 'K2-345 b': 'K2-345',\n",
       " 'K2-346 b': 'K2-346',\n",
       " 'K2-347 b': 'K2-347',\n",
       " 'K2-349 b': 'K2-349',\n",
       " 'K2-351 b': 'K2-351',\n",
       " 'K2-353 b': 'K2-353',\n",
       " 'K2-354 b': 'K2-354',\n",
       " 'K2-355 b': 'K2-355',\n",
       " 'K2-356 b': 'K2-356',\n",
       " 'K2-357 b': 'K2-357',\n",
       " 'K2-358 b': 'K2-358',\n",
       " 'K2-365 b': 'K2-365',\n",
       " 'K2-366 b': 'K2-366',\n",
       " 'K2-367 b': 'K2-367',\n",
       " 'K2-369 b': 'K2-369',\n",
       " 'K2-370 b': 'K2-370',\n",
       " 'K2-371 b': 'K2-371',\n",
       " 'K2-372 b': 'K2-372',\n",
       " 'K2-373 b': 'K2-373',\n",
       " 'K2-375 b': 'K2-375',\n",
       " 'K2-376 b': 'K2-376',\n",
       " 'K2-377 b': 'K2-377',\n",
       " 'K2-378 b': 'K2-378',\n",
       " 'K2-379 b': 'K2-379',\n",
       " 'K2-380 b': 'K2-380',\n",
       " 'K2-382 b': 'K2-382',\n",
       " 'K2-383 b': 'K2-383',\n",
       " 'K2-385 b': 'K2-385',\n",
       " 'K2-386 b': 'K2-386',\n",
       " 'K2-387 b': 'K2-387',\n",
       " 'K2-388 b': 'K2-388',\n",
       " 'K2-39 b': 'K2-39',\n",
       " 'K2-390 b': 'K2-390',\n",
       " 'K2-391 b': 'K2-391',\n",
       " 'K2-392 b': 'K2-392',\n",
       " 'K2-393 b': 'K2-393',\n",
       " 'K2-394 b': 'K2-394',\n",
       " 'K2-397 b': 'K2-397',\n",
       " 'K2-399 b': 'K2-399',\n",
       " 'K2-4 b': 'K2-4',\n",
       " 'K2-400 b': 'K2-400',\n",
       " 'K2-401 b': 'K2-401',\n",
       " 'K2-402 b': 'K2-402',\n",
       " 'K2-403 b': 'K2-403',\n",
       " 'K2-404 b': 'K2-404',\n",
       " 'K2-405 b': 'K2-405',\n",
       " 'K2-406 b': 'K2-406',\n",
       " 'K2-408 b': 'K2-408',\n",
       " 'K2-409 b': 'K2-409',\n",
       " 'K2-411 b': 'K2-411',\n",
       " 'K2-412 b': 'K2-412',\n",
       " 'K2-42 b': 'K2-42',\n",
       " 'K2-44 b': 'K2-44',\n",
       " 'K2-45 b': 'K2-45',\n",
       " 'K2-46 b': 'K2-46',\n",
       " 'K2-47 b': 'K2-47',\n",
       " 'K2-48 b': 'K2-48',\n",
       " 'K2-49 b': 'K2-49',\n",
       " 'K2-52 b': 'K2-52',\n",
       " 'K2-53 b': 'K2-53',\n",
       " 'K2-54 b': 'K2-54',\n",
       " 'K2-55 b': 'K2-55',\n",
       " 'K2-57 b': 'K2-57',\n",
       " 'K2-6 b': 'K2-6',\n",
       " 'K2-60 b': 'K2-60',\n",
       " 'K2-61 b': 'K2-61',\n",
       " 'K2-64 b': 'K2-64',\n",
       " 'K2-65 b': 'K2-65',\n",
       " 'K2-66 b': 'K2-66',\n",
       " 'K2-68 b': 'K2-68',\n",
       " 'K2-69 b': 'K2-69',\n",
       " 'K2-7 b': 'K2-7',\n",
       " 'K2-70 b': 'K2-70',\n",
       " 'K2-71 b': 'K2-71',\n",
       " 'K2-73 b': 'K2-73',\n",
       " 'K2-74 b': 'K2-74',\n",
       " 'K2-77 b': 'K2-77',\n",
       " 'K2-79 b': 'K2-79',\n",
       " 'K2-81 b': 'K2-81',\n",
       " 'K2-85 b': 'K2-85',\n",
       " 'K2-86 b': 'K2-86',\n",
       " 'K2-87 b': 'K2-87',\n",
       " 'K2-88 b': 'K2-88',\n",
       " 'K2-89 b': 'K2-89',\n",
       " ...}"
      ]
     },
     "execution_count": 45,
     "metadata": {},
     "output_type": "execute_result"
    }
   ],
   "source": [
    "# now use the read_json function to read 'mapping_1.json'\n",
    "\n",
    "mapping_1_json = read_json(os.path.join(\"data\", \"mapping_1.json\"))\n",
    "\n",
    "mapping_1_json"
   ]
  },
  {
   "cell_type": "markdown",
   "id": "d75f4b45",
   "metadata": {
    "deletable": false,
    "editable": false
   },
   "source": [
    "If you wish to **verify** that you have read the file correctly, you can check that `mapping_1_json` has the value:\n",
    "\n",
    "```python\n",
    "{'11 Com b': '11 Com',\n",
    " '11 UMi b': '11 UMi',\n",
    " '14 And b': '14 And',\n",
    " ...\n",
    " }\n",
    "```\n",
    "\n",
    "Now that we have read `planets_1.csv` and `mapping_1.json`, we are now ready to combine these two files to create `Planet` objects."
   ]
  },
  {
   "cell_type": "markdown",
   "id": "be3275c3",
   "metadata": {
    "deletable": false,
    "editable": false
   },
   "source": [
    "### Function 3: `planet_cell(row_idx, col_name, planets_rows, header=planets_header)`\n",
    "\n",
    "This function **must** read the **list** of **lists** `planets_rows`, and extract the value at **row** index `row_idx` and **column** index `col_idx`. The function **must** typecast the value based on `col_name`. If the value in `planets_rows` is **missing** (i.e., it is `''`), then the value returned **must** be `None`.\n",
    "\n",
    "The **column** of `planets_rows` where the value should be obtained from, and the correct **data type** for the value are listed in the table below:\n",
    "\n",
    "|Column of `planets_rows`|Data Type|\n",
    "|------|---------|\n",
    "|Planet Name|**string**|\n",
    "|Discovery Year|**int**|\n",
    "|Discovery Method|**string**|\n",
    "|Controversial Flag|**bool**|\n",
    "|Orbital Period [days]|**float**|\n",
    "|Planet Radius [Earth Radius]|**float**|\n",
    "|Planet Mass [Earth Mass]|**float**|\n",
    "|Orbit Semi-Major Axis [au]|**float**|\n",
    "|Eccentricity|**float**|\n",
    "|Equilibrium Temperature [K]|**float**|\n",
    "|Insolation Flux [Earth Flux]|**float**|\n",
    "\n",
    "**Important Hint:** While computing the value of the attribute `controversial_flag`, note that the `Controversial Flag` column of `planets_1.csv` represents `True` with `'1'` and `False` with `'0'`. You **must** be careful with typecasting **strings** to **booleans**."
   ]
  },
  {
   "cell_type": "code",
   "execution_count": 46,
   "id": "3aacd13c",
   "metadata": {
    "tags": []
   },
   "outputs": [],
   "source": [
    "# define the function 'planet_cell' here\n",
    "def planet_cell(row_idx, col_name, planets_rows, header=planets_header):\n",
    "    col_idx = header.index(col_name)\n",
    "    val = planets_rows[row_idx][col_idx]\n",
    "    if val == \"\":\n",
    "        return None\n",
    "    if col_name in [\"Controversial Flag\"]:\n",
    "        if val == \"1\":\n",
    "            return True\n",
    "        else:\n",
    "            return False\n",
    "    elif col_name in [\"Planet Name\", \"Discovery Method\"]:\n",
    "        val = str(val)\n",
    "    elif col_name == \"Discovery Year\":\n",
    "        val = int(val)\n",
    "    else:\n",
    "        val = float(val)\n",
    "    return val\n"
   ]
  },
  {
   "cell_type": "markdown",
   "id": "5019620d",
   "metadata": {
    "deletable": false,
    "editable": false
   },
   "source": [
    "**Question 12:** Create a `Planet` object for the **fifth** planet in the `planets_1.csv` file.\n",
    "\n",
    "You **must** access the values in `planets_1.csv` using the `planet_cell` function. Note that the fifth planet would be at **index** 4.\n",
    "\n",
    "The **attribute** of the `Planet` namedtuple object, the corresponding **column** of the `planets_1.csv` file where the value should be obtained from, and the correct **data type** for the value are listed in the table below:\n",
    "\n",
    "|Attribute of `Planet` object|Column of `planets_1.csv`|Data Type|\n",
    "|---------|------|---------|\n",
    "|`planet_name`|Planet Name|**string**|\n",
    "|`host_name`| - |**string**|\n",
    "|`discovery_method`|Discovery Method|**string**|\n",
    "|`discovery_year`|Discovery Year|**int**|\n",
    "|`controversial_flag`|Controversial Flag|**bool**|\n",
    "|`orbital_period`|Orbital Period [days]|**float**|\n",
    "|`planet_radius`|Planet Radius [Earth Radius]|**float**|\n",
    "|`planet_mass`|Planet Mass [Earth Mass]|**float**|\n",
    "|`semi_major_radius`|Orbit Semi-Major Axis [au]|**float**|\n",
    "|`eccentricity`|Eccentricity|**float**|\n",
    "|`equilibrium_temperature`|Equilibrium Temperature [K]|**float**|\n",
    "|`insolation_flux`|Insolation Flux [Earth Flux]|**float**|\n",
    "\n",
    "\n",
    "The value of the `host_name` attribute is found in `mapping_1.json`."
   ]
  },
  {
   "cell_type": "code",
   "execution_count": 47,
   "id": "f53440f3",
   "metadata": {
    "tags": []
   },
   "outputs": [
    {
     "data": {
      "text/plain": [
       "Planet(planet_name='17 Sco b', host_name='17 Sco', discovery_method='Radial Velocity', discovery_year=2020, controversial_flag=False, orbital_period=578.38, planet_radius=12.9, planet_mass=1373.01872, semi_major_radius=1.45, eccentricity=0.06, equilibrium_temperature=None, insolation_flux=None)"
      ]
     },
     "execution_count": 47,
     "metadata": {},
     "output_type": "execute_result"
    }
   ],
   "source": [
    "# compute and store the answer in the variable 'fifth_planet', then display it\n",
    "row_idx = 4 \n",
    "\n",
    "planet_name = planet_cell(row_idx, 'Planet Name', planets_1_rows)\n",
    "host_name = mapping_1_json[planet_name]\n",
    "discovery_method = planet_cell(row_idx, \"Discovery Method\", planets_1_rows)\n",
    "discovery_year = planet_cell(row_idx, \"Discovery Year\", planets_1_rows)\n",
    "controversial_flag = planet_cell(row_idx, \"Controversial Flag\", planets_1_rows)\n",
    "orbital_period = planet_cell(row_idx, \"Orbital Period [days]\", planets_1_rows)\n",
    "planet_radius = planet_cell(row_idx, \"Planet Radius [Earth Radius]\", planets_1_rows)\n",
    "planet_mass = planet_cell(row_idx, \"Planet Mass [Earth Mass]\", planets_1_rows)\n",
    "semi_major_radius = planet_cell(row_idx, \"Orbit Semi-Major Axis [au]\", planets_1_rows)\n",
    "eccentricity = planet_cell(row_idx, \"Eccentricity\", planets_1_rows)\n",
    "equilibrium_temperature = planet_cell(row_idx, \"Equilibrium Temperature [K]\", planets_1_rows)\n",
    "insolation_flux = planet_cell(row_idx, \"Insolation Flux [Earth Flux]\", planets_1_rows)\n",
    "\n",
    "fifth_planet = Planet(planet_name, host_name, discovery_method, discovery_year, controversial_flag,\n",
    "                     orbital_period, planet_radius, planet_mass, semi_major_radius, eccentricity, equilibrium_temperature,\n",
    "                     insolation_flux)\n",
    "fifth_planet\n"
   ]
  },
  {
   "cell_type": "code",
   "execution_count": 48,
   "id": "b6306f29",
   "metadata": {
    "deletable": false,
    "editable": false
   },
   "outputs": [
    {
     "data": {
      "text/html": [
       "<p><strong><pre style='display: inline;'>q12</pre></strong> passed! 🍀</p>"
      ],
      "text/plain": [
       "q12 results: All test cases passed!"
      ]
     },
     "execution_count": 48,
     "metadata": {},
     "output_type": "execute_result"
    }
   ],
   "source": [
    "grader.check(\"q12\")"
   ]
  },
  {
   "cell_type": "markdown",
   "id": "4dcb41e7",
   "metadata": {
    "deletable": false,
    "editable": false
   },
   "source": [
    "### Function 4: `get_planets(planet_file, mapping_file)`: \n",
    "\n",
    "This function **must** take in as its input, a CSV file `planet_file` which contains data on planets in the same format as `planets_1.csv`, as well as a JSON file `mapping_file` which maps planets in `planet_file` to their host star in the same format as `mapping_1.json`. This function **must** return a **list** of `Planet` objects by combining the data in these two files. The `Planet` objects **must** appear in the same order as they do in `planet_file`.\n",
    "\n",
    "You **must** access the values in `planets_file` using the `planet_cell` function.\n",
    "\n",
    "You **must not** hardcode the name of the directory `data` into the `get_planets` function. Instead, you must pass it as a part of the arguments `get_planets` and `mapping_file`.\n",
    "\n",
    "Once again, as a reminder, the attributes of the `Planet` objects should be obtained from the **rows** of `planet_file` and from `mapping_file` and stored as follows:\n",
    "\n",
    "|Attribute of `Planet` object|Column of `planets_1.csv`|Data Type|\n",
    "|---------|------|---------|\n",
    "|`planet_name`|Planet Name|**string**|\n",
    "|`host_name`| - |**string**|\n",
    "|`discovery_method`|Discovery Method|**string**|\n",
    "|`discovery_year`|Discovery Year|**int**|\n",
    "|`controversial_flag`|Controversial Flag|**bool**|\n",
    "|`orbital_period`|Orbital Period [days]|**float**|\n",
    "|`planet_radius`|Planet Radius [Earth Radius]|**float**|\n",
    "|`planet_mass`|Planet Mass [Earth Mass]|**float**|\n",
    "|`semi_major_radius`|Orbit Semi-Major Axis [au]|**float**|\n",
    "|`eccentricity`|Eccentricity|**float**|\n",
    "|`equilibrium_temperature`|Equilibrium Temperature [K]|**float**|\n",
    "|`insolation_flux`|Insolation Flux [Earth Flux]|**float**|\n",
    "\n",
    "The value of the `host_name` attribute is found in `mapping_file`.\n",
    "\n",
    "In case any data in `planet_file` is **missing**, the corresponding value should be `None`.\n",
    "\n",
    "For example, when this function is called with the file `planets_1.csv` and `mapping_1.json` as the input, the **list** returned should look like:\n",
    "\n",
    "```python\n",
    "[ Planet(planet_name='11 Com b', host_name='11 Com', discovery_method='Radial Velocity', discovery_year=2007, controversial_flag=False, orbital_period=326.03, planet_radius=12.1, planet_mass=6165.6, semi_major_radius=1.29, eccentricity=0.231, equilibrium_temperature=None, insolation_flux=None), \n",
    "  Planet(planet_name='11 UMi b', host_name='11 UMi', discovery_method='Radial Velocity', discovery_year=2009, controversial_flag=False, orbital_period=516.21997, planet_radius=12.3, planet_mass=4684.8142, semi_major_radius=1.53, eccentricity=0.08, equilibrium_temperature=None, insolation_flux=None),\n",
    " ....]\n",
    "```"
   ]
  },
  {
   "cell_type": "code",
   "execution_count": null,
   "id": "09111d6a",
   "metadata": {},
   "outputs": [],
   "source": []
  },
  {
   "cell_type": "code",
   "execution_count": 49,
   "id": "2ba7c70e",
   "metadata": {
    "lines_to_next_cell": 0,
    "tags": []
   },
   "outputs": [],
   "source": [
    "def get_planets(planet_file, mapping_file):\n",
    "    planets_list = []\n",
    "    data = process_csv(os.path.join('data', planet_file))\n",
    "    header = data[0]\n",
    "    rows = data[1:]\n",
    "    try:\n",
    "        mapping_dictionary = read_json(os.path.join('data', mapping_file))\n",
    "    except JSONDecodeError:\n",
    "        return []\n",
    "    for row_idx in range(len(rows)):\n",
    "        try: \n",
    "            planet_name = planet_cell(row_idx, \"Planet Name\", rows)\n",
    "            host_name = mapping_dictionary[planet_name]\n",
    "            discovery_method = planet_cell(row_idx, 'Discovery Method', rows)\n",
    "            discovery_year = planet_cell(row_idx, 'Discovery Year', rows)\n",
    "            controversial_flag = planet_cell(row_idx, \"Controversial Flag\", rows)\n",
    "            orbital_period = planet_cell(row_idx, \"Orbital Period [days]\", rows)\n",
    "            planet_radius = planet_cell(row_idx, \"Planet Radius [Earth Radius]\", rows)\n",
    "            planet_mass = planet_cell(row_idx, \"Planet Mass [Earth Mass]\", rows)\n",
    "            semi_major_radius = planet_cell(row_idx, \"Orbit Semi-Major Axis [au]\", rows)\n",
    "            eccentricity = planet_cell(row_idx, \"Eccentricity\", rows)\n",
    "            equilibrium_temperature = planet_cell(row_idx, \"Equilibrium Temperature [K]\", rows)\n",
    "            insolation_flux = planet_cell(row_idx, \"Insolation Flux [Earth Flux]\", rows)\n",
    "            \n",
    "            planet = Planet(planet_name, host_name, discovery_method, discovery_year, controversial_flag,\n",
    "                     orbital_period, planet_radius, planet_mass, semi_major_radius, eccentricity, equilibrium_temperature,\n",
    "                     insolation_flux)\n",
    "            \n",
    "            planets_list.append(planet)\n",
    "            \n",
    "        except (ValueError, IndexError, KeyError):\n",
    "            continue \n",
    "            \n",
    "    return planets_list"
   ]
  },
  {
   "cell_type": "markdown",
   "id": "a5f7e17e",
   "metadata": {
    "deletable": false,
    "editable": false
   },
   "source": [
    "**Question 13:** What are the **last five** `Planet` objects in the **list** returned by `get_planets` when `planet_file` is `planets_1.csv` and `mapping_file` is `mapping_1.json`?\n",
    "\n",
    "Your output **must** be a **list** of `Planet` objects.\n",
    "\n",
    "**Hint:** First, you **must** use the `get_planets` function to parse the data in `planets_1.csv` and `mapping_1.json` and create a **list** of `Planet` objects. Then, you may slice this **list** to get the last five `Planet` objects."
   ]
  },
  {
   "cell_type": "code",
   "execution_count": 50,
   "id": "abe8205f",
   "metadata": {
    "tags": []
   },
   "outputs": [
    {
     "data": {
      "text/plain": [
       "[Planet(planet_name='Kepler-1478 b', host_name='Kepler-1478', discovery_method='Transit', discovery_year=2016, controversial_flag=False, orbital_period=26.0840594, planet_radius=1.73, planet_mass=3.64, semi_major_radius=0.1681, eccentricity=0.0, equilibrium_temperature=598.0, insolation_flux=85.28),\n",
       " Planet(planet_name='Kepler-1479 b', host_name='Kepler-1479', discovery_method='Transit', discovery_year=2016, controversial_flag=False, orbital_period=14.53261362, planet_radius=1.83, planet_mass=4.01, semi_major_radius=0.1173, eccentricity=0.0, equilibrium_temperature=746.0, insolation_flux=98.57),\n",
       " Planet(planet_name='Kepler-1480 b', host_name='Kepler-1480', discovery_method='Transit', discovery_year=2016, controversial_flag=False, orbital_period=22.12679948, planet_radius=1.67, planet_mass=3.43, semi_major_radius=0.1525, eccentricity=0.0, equilibrium_temperature=721.0, insolation_flux=16.32),\n",
       " Planet(planet_name='Kepler-1481 b', host_name='Kepler-1481', discovery_method='Transit', discovery_year=2016, controversial_flag=False, orbital_period=5.94220998, planet_radius=1.23, planet_mass=2.04, semi_major_radius=0.059, eccentricity=0.0, equilibrium_temperature=797.0, insolation_flux=71.94),\n",
       " Planet(planet_name='Kepler-1482 b', host_name='Kepler-1482', discovery_method='Transit', discovery_year=2016, controversial_flag=False, orbital_period=12.25383217, planet_radius=1.01, planet_mass=1.01, semi_major_radius=0.1016, eccentricity=0.0, equilibrium_temperature=678.0, insolation_flux=86.5)]"
      ]
     },
     "execution_count": 50,
     "metadata": {},
     "output_type": "execute_result"
    }
   ],
   "source": [
    "# compute and store the answer in the variable 'last_five_planets_1', then display it\n",
    "last_five_planets_1 = get_planets('planets_1.csv', 'mapping_1.json')[-5:]\n",
    "last_five_planets_1"
   ]
  },
  {
   "cell_type": "code",
   "execution_count": 51,
   "id": "5d8b46e1",
   "metadata": {
    "deletable": false,
    "editable": false
   },
   "outputs": [
    {
     "data": {
      "text/html": [
       "<p><strong><pre style='display: inline;'>q13</pre></strong> passed! 🙌</p>"
      ],
      "text/plain": [
       "q13 results: All test cases passed!"
      ]
     },
     "execution_count": 51,
     "metadata": {},
     "output_type": "execute_result"
    }
   ],
   "source": [
    "grader.check(\"q13\")"
   ]
  },
  {
   "cell_type": "markdown",
   "id": "0c59b28b",
   "metadata": {
    "deletable": false,
    "editable": false
   },
   "source": [
    "**Question 14:** What are the `Planet` objects whose `controversial_flag` attribute is `True` in the **list** returned by `get_planets` when `planet_file` is `planets_2.csv` and `mapping_file` is `mapping_2.json`?\n",
    "\n",
    "Your output **must** be a **list** of `Planet` objects."
   ]
  },
  {
   "cell_type": "code",
   "execution_count": 52,
   "id": "b5688f2d",
   "metadata": {
    "lines_to_next_cell": 0,
    "tags": []
   },
   "outputs": [
    {
     "data": {
      "text/plain": [
       "[Planet(planet_name='Kepler-452 b', host_name='Kepler-452', discovery_method='Transit', discovery_year=2015, controversial_flag=True, orbital_period=384.843, planet_radius=1.63, planet_mass=3.29, semi_major_radius=1.046, eccentricity=0.0, equilibrium_temperature=265.0, insolation_flux=1.1),\n",
       " Planet(planet_name='Kepler-747 b', host_name='Kepler-747', discovery_method='Transit', discovery_year=2016, controversial_flag=True, orbital_period=35.61760587, planet_radius=5.27, planet_mass=24.1, semi_major_radius=0.1916, eccentricity=0.0, equilibrium_temperature=456.0, insolation_flux=10.19),\n",
       " Planet(planet_name='V830 Tau b', host_name='V830 Tau', discovery_method='Radial Velocity', discovery_year=2016, controversial_flag=True, orbital_period=4.927, planet_radius=14.0, planet_mass=222.481, semi_major_radius=0.057, eccentricity=0.0, equilibrium_temperature=None, insolation_flux=None),\n",
       " Planet(planet_name='nu Oct A b', host_name='nu Oct A', discovery_method='Radial Velocity', discovery_year=2016, controversial_flag=True, orbital_period=417.0, planet_radius=13.3, planet_mass=762.78818, semi_major_radius=1.25, eccentricity=0.11, equilibrium_temperature=None, insolation_flux=None)]"
      ]
     },
     "execution_count": 52,
     "metadata": {},
     "output_type": "execute_result"
    }
   ],
   "source": [
    "# compute and store the answer in the variable 'controversial_planets', then display it\n",
    "controversial_planets = []\n",
    "\n",
    "for planet in get_planets(\"planets_2.csv\", \"mapping_2.json\"):\n",
    "    if planet.controversial_flag == True:\n",
    "        controversial_planets.append(planet)\n",
    "\n",
    "controversial_planets"
   ]
  },
  {
   "cell_type": "code",
   "execution_count": 53,
   "id": "8074ff1d",
   "metadata": {
    "deletable": false,
    "editable": false
   },
   "outputs": [
    {
     "data": {
      "text/html": [
       "<p><strong><pre style='display: inline;'>q14</pre></strong> passed! ✨</p>"
      ],
      "text/plain": [
       "q14 results: All test cases passed!"
      ]
     },
     "execution_count": 53,
     "metadata": {},
     "output_type": "execute_result"
    }
   ],
   "source": [
    "grader.check(\"q14\")"
   ]
  },
  {
   "cell_type": "markdown",
   "id": "4384e90b",
   "metadata": {
    "deletable": false,
    "editable": false
   },
   "source": [
    "### Data Cleaning 1: Broken CSV rows\n",
    "\n",
    "Our function `get_planets` works very well so far. However, it is likely that it will not work on all the files in the `data` directory. For example, if you use the function `get_planets` to read the data in `planets_4.csv` and `mapping_4.json`, you will most likely run into an error. **Try it yourself to verify!**\n",
    "\n",
    "The reason your code likely crashed is because there the file `planets_4.csv` is **broken**. For some reason, several rows in `planets_4.csv` have their data jumbled up. For example, in the **566**th row of `planets_4.csv`, we come across this row:\n",
    "\n",
    "|Planet Name|Discovery Method|Discovery Year|Controversial Flag|Orbital Period [days]|Planet Radius [Earth Radius]|Planet Mass [Earth Mass]|Orbit Semi-Major Axis [au]|Eccentricity|Equilibrium Temperature [K]|Insolation Flux [Earth Flux]|\n",
    "|-----------|----------------|--------------|------------------|---------------------|----------------------------|------------------------|---------------------------|------------|---------------------------|----------------------------|\n",
    "|pi Men c|pi Men|Transit|2018|0|6.26790772|2.060|3.63000|0.068647|0.076939|1170|\n",
    "\n",
    "We can see that for some reason, the value under the column `Discovery Method` is the name of the planet's host star. This causes the value under the column `Discovery Year` to be a **string** instead of a number.\n",
    "\n",
    "We will call such a **row** in a CSV file where the values under a column do not match the expected format to be a **broken row**. While it is possible to sometimes extract useful data from broken rows, in this project, we will simply **skip** broken rows.\n",
    "\n",
    "You **must** now go back to your definition of `get_planets` and edit it, so that any **broken rows get skipped**.\n",
    "\n",
    "**Hints:**\n",
    "\n",
    "1. The simplest way to recognize if a row is broken is if you run into any **RunTime Errors** when you call the `get_planets` function. So, one simple way to skip bad rows would be to use `try/except` blocks to avoid processing any rows that cause the code to crash; remember **not** to use *bare* `try/except` blocks.\n",
    "2. There are only **5** broken rows in `planets_4.csv`, and they are all bunched up at the very end. You can manually **inspect** these rows, and figure out why these rows are broken.\n",
    "\n",
    "**Important Warning:** You are **not** allowed to **hardcode** the indices of the broken rows. You may inspect `planets_4.csv` to identify how to tell a **broken row** apart. Therefore, to use the example of the **broken row** above, you **may not** hardcode to skip the **566**th row of `planets_4.csv`. However, it is **acceptable** to make your function **skip** any row for which the value under the `Discovery Year` is not numeric, by observing that this is the reason why the row is broken."
   ]
  },
  {
   "cell_type": "markdown",
   "id": "c8151f63",
   "metadata": {
    "deletable": false,
    "editable": false
   },
   "source": [
    "**Question 15:** What are the **last five** `Planet` objects produced by `get_planets` when `planet_file` is `planets_4.csv` and `mapping_file` is `mapping_4.json`?\n",
    "\n",
    "Your output **must** be a **list** of `Planet` objects."
   ]
  },
  {
   "cell_type": "code",
   "execution_count": 54,
   "id": "1298328f",
   "metadata": {
    "lines_to_next_cell": 0,
    "tags": []
   },
   "outputs": [
    {
     "data": {
      "text/plain": [
       "[Planet(planet_name='Wolf 1061 c', host_name='Wolf 1061', discovery_method='Radial Velocity', discovery_year=2015, controversial_flag=False, orbital_period=17.8719, planet_radius=1.66, planet_mass=3.41, semi_major_radius=0.089, eccentricity=0.11, equilibrium_temperature=None, insolation_flux=1.3),\n",
       " Planet(planet_name='Wolf 1061 d', host_name='Wolf 1061', discovery_method='Radial Velocity', discovery_year=2015, controversial_flag=False, orbital_period=217.21, planet_radius=2.69, planet_mass=7.7, semi_major_radius=0.47, eccentricity=0.55, equilibrium_temperature=None, insolation_flux=0.06),\n",
       " Planet(planet_name='YZ Cet b', host_name='YZ Cet', discovery_method='Radial Velocity', discovery_year=2017, controversial_flag=False, orbital_period=2.02087, planet_radius=0.913, planet_mass=0.7, semi_major_radius=0.01634, eccentricity=0.06, equilibrium_temperature=471.0, insolation_flux=8.21),\n",
       " Planet(planet_name='YZ Cet c', host_name='YZ Cet', discovery_method='Radial Velocity', discovery_year=2017, controversial_flag=False, orbital_period=3.05989, planet_radius=1.05, planet_mass=1.14, semi_major_radius=0.02156, eccentricity=0.0, equilibrium_temperature=410.0, insolation_flux=4.72),\n",
       " Planet(planet_name='YZ Cet d', host_name='YZ Cet', discovery_method='Radial Velocity', discovery_year=2017, controversial_flag=False, orbital_period=4.65626, planet_radius=1.03, planet_mass=1.09, semi_major_radius=0.02851, eccentricity=0.07, equilibrium_temperature=357.0, insolation_flux=2.7)]"
      ]
     },
     "execution_count": 54,
     "metadata": {},
     "output_type": "execute_result"
    }
   ],
   "source": [
    "# compute and store the answer in the variable 'last_five_planets_4', then display it\n",
    "last_five_planets_4 = get_planets('planets_4.csv', 'mapping_4.json')[-5:]\n",
    "last_five_planets_4"
   ]
  },
  {
   "cell_type": "code",
   "execution_count": 55,
   "id": "3ab83a97",
   "metadata": {
    "deletable": false,
    "editable": false
   },
   "outputs": [
    {
     "data": {
      "text/html": [
       "<p><strong><pre style='display: inline;'>q15</pre></strong> passed! 🌟</p>"
      ],
      "text/plain": [
       "q15 results: All test cases passed!"
      ]
     },
     "execution_count": 55,
     "metadata": {},
     "output_type": "execute_result"
    }
   ],
   "source": [
    "grader.check(\"q15\")"
   ]
  },
  {
   "cell_type": "markdown",
   "id": "fe90a14d",
   "metadata": {
    "deletable": false,
    "editable": false
   },
   "source": [
    "### Data Cleaning 2: Broken JSON files\n",
    "\n",
    "We are now ready to read **all** the files in the `data` directory and create a **list** of `Planet` objects for all the planets in the directory. However, if you try to use `get_planets` on all the planet CSV files and mapping JSON files, you will likely run into another error. **Try it for yourself by calling `get_planets` on all the files in `data`!**\n",
    "\n",
    "It is likely that your code crashed when you tried to read the data in `planets_5.csv` and `mapping_5.json`. This is because the file `mapping_5.json` is **broken**. Unlike **broken** CSV files, where we only had to skip the **broken rows**, it is much harder to parse **broken JSON files**. When a JSON file is **broken**, we often have no choice but to **skip the file entirely**.\n",
    "\n",
    "You **must** now go back to your definition of `get_planets` and edit it, so that if the JSON file is **broken**, then the file is completely skipped, and only an **empty list** is returned.\n",
    "\n",
    "**Important Warning:** You are **not** allowed to **hardcode** the name of the files to be skipped. You **must** use `try/except` blocks to determine whether the JSON file is **broken** and skip the file if it is.\n",
    "\n",
    "**Hint:** You might also want to review the **Project Requirements** at the start of this project, before you use `try/except`."
   ]
  },
  {
   "cell_type": "markdown",
   "id": "51d5afdc",
   "metadata": {
    "deletable": false,
    "editable": false
   },
   "source": [
    "### Data Structure 4: `planets_list`\n",
    "\n",
    "You are now ready to read all the data about the planets stored in the `data` directory. You **must** now create a **list** containing `Planet` objects by parsing the data inside the files `planets_1.csv`, ..., `planets_5.csv` and `mapping_1.json`, ..., `mapping_5.json`.\n",
    "\n",
    "You **must** skip any **broken rows** in the CSV file, and also completely skip any **broken JSON files**. However, you are **not** allowed to **hardcode** the file you need to skip. You **must** call `get_planet` on **all** 5 pairs of files to answer this question.\n",
    "\n",
    "You **must** use the `get_planets` function on each of the five pairs of files in the `data` directory to create `planets_list`.\n",
    "\n",
    "**Warning:** Recall that the ordering of the files returned by the `os.listdir` function **depends on the operating system**. So, you need to be careful if your code relies on the ordering of the **list** returned by this function. One way to avoid any issues here would be to **sort** the **list** first, so that the ordering is identical across all operating systems."
   ]
  },
  {
   "cell_type": "code",
   "execution_count": 56,
   "id": "70cd736e",
   "metadata": {},
   "outputs": [
    {
     "data": {
      "text/plain": [
       "['data/mapping_5.json',\n",
       " 'data/mapping_4.json',\n",
       " 'data/mapping_3.json',\n",
       " 'data/mapping_2.json',\n",
       " 'data/mapping_1.json']"
      ]
     },
     "execution_count": 56,
     "metadata": {},
     "output_type": "execute_result"
    }
   ],
   "source": [
    "json_file_paths = []\n",
    "for file in files_in_data:\n",
    "    if file[-4:] == \"json\":\n",
    "        json_file_paths.append(os.path.join(\"data\", file))\n",
    "sorted(csv_file_paths)\n",
    "json_file_paths"
   ]
  },
  {
   "cell_type": "code",
   "execution_count": 2,
   "id": "903fcc99",
   "metadata": {
    "tags": []
   },
   "outputs": [
    {
     "ename": "NameError",
     "evalue": "name 'files_in_data' is not defined",
     "output_type": "error",
     "traceback": [
      "\u001b[0;31m---------------------------------------------------------------------------\u001b[0m",
      "\u001b[0;31mNameError\u001b[0m                                 Traceback (most recent call last)",
      "\u001b[0;32m/var/folders/rs/5vk5p3yn3dvdmytpngxxrt100000gn/T/ipykernel_8677/4027680311.py\u001b[0m in \u001b[0;36m<module>\u001b[0;34m\u001b[0m\n\u001b[1;32m      2\u001b[0m \u001b[0;31m# but do NOT display the variable at the end\u001b[0m\u001b[0;34m\u001b[0m\u001b[0;34m\u001b[0m\u001b[0m\n\u001b[1;32m      3\u001b[0m \u001b[0mplanets_files\u001b[0m \u001b[0;34m=\u001b[0m \u001b[0;34m[\u001b[0m\u001b[0;34m]\u001b[0m\u001b[0;34m\u001b[0m\u001b[0;34m\u001b[0m\u001b[0m\n\u001b[0;32m----> 4\u001b[0;31m \u001b[0;32mfor\u001b[0m \u001b[0mfile\u001b[0m \u001b[0;32min\u001b[0m \u001b[0mfiles_in_data\u001b[0m\u001b[0;34m:\u001b[0m\u001b[0;34m\u001b[0m\u001b[0;34m\u001b[0m\u001b[0m\n\u001b[0m\u001b[1;32m      5\u001b[0m     \u001b[0;32mif\u001b[0m \u001b[0mfile\u001b[0m\u001b[0;34m[\u001b[0m\u001b[0;34m:\u001b[0m\u001b[0;36m7\u001b[0m\u001b[0;34m]\u001b[0m \u001b[0;34m==\u001b[0m \u001b[0;34m'planets'\u001b[0m\u001b[0;34m:\u001b[0m\u001b[0;34m\u001b[0m\u001b[0;34m\u001b[0m\u001b[0m\n\u001b[1;32m      6\u001b[0m         \u001b[0mplanets_files\u001b[0m\u001b[0;34m.\u001b[0m\u001b[0mappend\u001b[0m\u001b[0;34m(\u001b[0m\u001b[0mfile\u001b[0m\u001b[0;34m)\u001b[0m\u001b[0;34m\u001b[0m\u001b[0;34m\u001b[0m\u001b[0m\n",
      "\u001b[0;31mNameError\u001b[0m: name 'files_in_data' is not defined"
     ]
    }
   ],
   "source": [
    "# define the variable 'planets_list' here,\n",
    "# but do NOT display the variable at the end\n",
    "planets_files = []\n",
    "for file in files_in_data:\n",
    "    if file[:7] == 'planets':\n",
    "        planets_files.append(file)\n",
    "\n",
    "planets_list = []\n",
    "\n",
    "for planet_file in planets_files:\n",
    "    for file_path in json_file_paths:\n",
    "        if planets_files.index(planet_file) == json_file_paths.index(file_path):\n",
    "            planets_list.extend(get_planets(planet_file, file_path[-14:]))"
   ]
  },
  {
   "cell_type": "code",
   "execution_count": 3,
   "id": "de17aaa7",
   "metadata": {},
   "outputs": [
    {
     "ename": "NameError",
     "evalue": "name 'planets_list' is not defined",
     "output_type": "error",
     "traceback": [
      "\u001b[0;31m---------------------------------------------------------------------------\u001b[0m",
      "\u001b[0;31mNameError\u001b[0m                                 Traceback (most recent call last)",
      "\u001b[0;32m/var/folders/rs/5vk5p3yn3dvdmytpngxxrt100000gn/T/ipykernel_8677/737085369.py\u001b[0m in \u001b[0;36m<module>\u001b[0;34m\u001b[0m\n\u001b[0;32m----> 1\u001b[0;31m \u001b[0mlen\u001b[0m\u001b[0;34m(\u001b[0m\u001b[0mplanets_list\u001b[0m\u001b[0;34m)\u001b[0m\u001b[0;34m\u001b[0m\u001b[0;34m\u001b[0m\u001b[0m\n\u001b[0m",
      "\u001b[0;31mNameError\u001b[0m: name 'planets_list' is not defined"
     ]
    }
   ],
   "source": [
    "len(planets_list)"
   ]
  },
  {
   "cell_type": "markdown",
   "id": "c957b1e2",
   "metadata": {
    "deletable": false,
    "editable": false
   },
   "source": [
    "If you wish to **verify** that you have read the files and defined `planets_list` correctly, you can check that `planets_list` has **4828** `Planet` objects in it. If it contains fewer or a greater number of planets, it is possible that you have accidentally parsed a broken CSV row in `planets_4.csv`, or accidentally parsed data from the broken JSON file `mapping_5.json`."
   ]
  },
  {
   "cell_type": "markdown",
   "id": "72aa173e",
   "metadata": {
    "deletable": false,
    "editable": false
   },
   "source": [
    "**Question 16:** What is the output of `planets_list[4520:4525]`?\n",
    "\n",
    "Your output **must** be a **list** of `Planet` objects.\n",
    "\n",
    "**Hint:** If you did not get the right answer here, it is possible that you did not read the files in the correct **order**. In `planets_list`, the planets from `planets_1.csv` should appear first (in the order that they appear in the dataset), followed by the planets from `planets_2.csv`, `planets_3.csv`, `planets_4.csv`, and `planets_5.csv`."
   ]
  },
  {
   "cell_type": "code",
   "execution_count": 61,
   "id": "17012db1",
   "metadata": {
    "lines_to_next_cell": 0,
    "tags": []
   },
   "outputs": [
    {
     "data": {
      "text/plain": [
       "[Planet(planet_name='Kepler-1159 b', host_name='Kepler-1159', discovery_method='Transit', discovery_year=2016, controversial_flag=False, orbital_period=22.70816791, planet_radius=2.37, planet_mass=6.21, semi_major_radius=0.1603, eccentricity=0.0, equilibrium_temperature=677.0, insolation_flux=80.98),\n",
       " Planet(planet_name='Kepler-1160 b', host_name='Kepler-1160', discovery_method='Transit', discovery_year=2016, controversial_flag=False, orbital_period=7.97034958, planet_radius=2.14, planet_mass=5.22, semi_major_radius=0.0755, eccentricity=0.0, equilibrium_temperature=839.0, insolation_flux=93.31),\n",
       " Planet(planet_name='Kepler-1161 b', host_name='Kepler-1161', discovery_method='Transit', discovery_year=2016, controversial_flag=False, orbital_period=10.71252541, planet_radius=2.13, planet_mass=5.18, semi_major_radius=0.0784, eccentricity=0.0, equilibrium_temperature=485.0, insolation_flux=26.23),\n",
       " Planet(planet_name='Kepler-1162 b', host_name='Kepler-1162', discovery_method='Transit', discovery_year=2016, controversial_flag=False, orbital_period=32.5637069, planet_radius=2.21, planet_mass=5.52, semi_major_radius=0.19, eccentricity=0.0, equilibrium_temperature=490.0, insolation_flux=12.24),\n",
       " Planet(planet_name='Kepler-1163 b', host_name='Kepler-1163', discovery_method='Transit', discovery_year=2016, controversial_flag=False, orbital_period=6.11786898, planet_radius=1.03, planet_mass=1.08, semi_major_radius=0.0685, eccentricity=0.0, equilibrium_temperature=1211.0, insolation_flux=511.76)]"
      ]
     },
     "execution_count": 61,
     "metadata": {},
     "output_type": "execute_result"
    }
   ],
   "source": [
    "# compute and store the answer in the variable 'planets_4520_4525', then display it\n",
    "planets_4520_4525 = planets_list[4520:4525]\n",
    "planets_4520_4525"
   ]
  },
  {
   "cell_type": "code",
   "execution_count": 62,
   "id": "d5a637fd",
   "metadata": {
    "deletable": false,
    "editable": false
   },
   "outputs": [
    {
     "data": {
      "text/html": [
       "<p><strong style='color: red;'><pre style='display: inline;'>q16</pre> results:</strong></p><p><strong><pre style='display: inline;'>q16 - 1</pre> result:</strong></p><pre>    ❌ Test case failed\n",
       "    Trying:\n",
       "        p10_test.check(\"q16\", planets_4520_4525)\n",
       "    Expecting:\n",
       "        True\n",
       "    **********************************************************************\n",
       "    Line 1, in q16 0\n",
       "    Failed example:\n",
       "        p10_test.check(\"q16\", planets_4520_4525)\n",
       "    Expected:\n",
       "        True\n",
       "    Got:\n",
       "        <b style='color: red;'>ERROR:</b> at index 0 of the list, at attribute planet_name of namedtuple Planet, expected 'Kepler-19 c' but found 'Kepler-1159 b'\n",
       "</pre>"
      ],
      "text/plain": [
       "q16 results:\n",
       "    q16 - 1 result:\n",
       "        ❌ Test case failed\n",
       "        Trying:\n",
       "            p10_test.check(\"q16\", planets_4520_4525)\n",
       "        Expecting:\n",
       "            True\n",
       "        **********************************************************************\n",
       "        Line 1, in q16 0\n",
       "        Failed example:\n",
       "            p10_test.check(\"q16\", planets_4520_4525)\n",
       "        Expected:\n",
       "            True\n",
       "        Got:\n",
       "            <b style='color: red;'>ERROR:</b> at index 0 of the list, at attribute planet_name of namedtuple Planet, expected 'Kepler-19 c' but found 'Kepler-1159 b'"
      ]
     },
     "execution_count": 62,
     "metadata": {},
     "output_type": "execute_result"
    }
   ],
   "source": [
    "grader.check(\"q16\")"
   ]
  },
  {
   "cell_type": "markdown",
   "id": "1f7d9e45",
   "metadata": {
    "deletable": false,
    "editable": false
   },
   "source": [
    "**Question 17:** How many planets in `planets_list` were discovered in the year *2022*?\n",
    "\n",
    "Your output **must** be an **integer**."
   ]
  },
  {
   "cell_type": "code",
   "execution_count": 292,
   "id": "744d1e21",
   "metadata": {
    "lines_to_next_cell": 0,
    "tags": []
   },
   "outputs": [
    {
     "data": {
      "text/plain": [
       "325"
      ]
     },
     "execution_count": 292,
     "metadata": {},
     "output_type": "execute_result"
    }
   ],
   "source": [
    "# compute and store the answer in the variable 'planets_disc_2022', then display it\n",
    "count = 0\n",
    "for planet in planets_list:\n",
    "    if planet.discovery_year == 2022:\n",
    "        count += 1\n",
    "planets_disc_2022 = count\n",
    "planets_disc_2022"
   ]
  },
  {
   "cell_type": "code",
   "execution_count": 293,
   "id": "ad0634ca",
   "metadata": {
    "deletable": false,
    "editable": false
   },
   "outputs": [
    {
     "data": {
      "text/html": [
       "<p><strong><pre style='display: inline;'>q17</pre></strong> passed! 🍀</p>"
      ],
      "text/plain": [
       "q17 results: All test cases passed!"
      ]
     },
     "execution_count": 293,
     "metadata": {},
     "output_type": "execute_result"
    }
   ],
   "source": [
    "grader.check(\"q17\")"
   ]
  },
  {
   "cell_type": "markdown",
   "id": "6fbe2141",
   "metadata": {
    "deletable": false,
    "editable": false
   },
   "source": [
    "**Question 18**: Find the `Star` object around which the `Planet` named *TOI-2202 c* orbits.\n",
    "\n",
    "Your output **must** be a `Star` object.\n",
    "\n",
    "**Hint:** You **must** first find the `Planet` object with the `planet_name` *TOI-2202 c* and then use the `host_name` attribute to identify the name of the star around which the planet orbits. Then, you can get the `Star` object using the `stars_dict` **dictionary** defined above.\n",
    "\n",
    "You **must** exit the loop once you find the first planet with the target name."
   ]
  },
  {
   "cell_type": "code",
   "execution_count": 295,
   "id": "9fd23c1e",
   "metadata": {
    "lines_to_next_cell": 0,
    "tags": []
   },
   "outputs": [
    {
     "data": {
      "text/plain": [
       "Star(spectral_type='K8 V', stellar_effective_temperature=5144.0, stellar_radius=0.79, stellar_mass=0.82, stellar_luminosity=-0.401, stellar_surface_gravity=4.55, stellar_age=7.48)"
      ]
     },
     "execution_count": 295,
     "metadata": {},
     "output_type": "execute_result"
    }
   ],
   "source": [
    "# compute and store the answer in the variable 'toi_2022_c_star', then display it\n",
    "for planet in planets_list:\n",
    "    if planet.planet_name == 'TOI-2202 c':\n",
    "        host_name = planet.host_name\n",
    "toi_2022_c_star = stars_dict[host_name]\n",
    "toi_2022_c_star"
   ]
  },
  {
   "cell_type": "code",
   "execution_count": 296,
   "id": "343f6c12",
   "metadata": {
    "deletable": false,
    "editable": false
   },
   "outputs": [
    {
     "data": {
      "text/html": [
       "<p><strong><pre style='display: inline;'>q18</pre></strong> passed! 🌟</p>"
      ],
      "text/plain": [
       "q18 results: All test cases passed!"
      ]
     },
     "execution_count": 296,
     "metadata": {},
     "output_type": "execute_result"
    }
   ],
   "source": [
    "grader.check(\"q18\")"
   ]
  },
  {
   "cell_type": "markdown",
   "id": "3228985b",
   "metadata": {
    "deletable": false,
    "editable": false
   },
   "source": [
    "**Question 19:** Find the **average** `planet_radius` (in units of the radius of the Earth) of the planets that orbit stars with `stellar_radius` more than *10* (i.e. more than *10* times the radius of the Sun).\n",
    "\n",
    "Your output **must** be a **float**. You **must** skip any `Planet` objects with **missing** `planet_radius` data and any `Star` objects with **missing** `stellar_radius` data."
   ]
  },
  {
   "cell_type": "code",
   "execution_count": 299,
   "id": "a4f3a348",
   "metadata": {
    "lines_to_next_cell": 0,
    "tags": []
   },
   "outputs": [
    {
     "data": {
      "text/plain": [
       "12.879166666666665"
      ]
     },
     "execution_count": 299,
     "metadata": {},
     "output_type": "execute_result"
    }
   ],
   "source": [
    "# compute and store the answer in the variable 'avg_planet_radius_big_stars', then display it\n",
    "total_radius = 0\n",
    "count = 0 \n",
    "for planet in planets_list:\n",
    "    host_name = planet.host_name\n",
    "    if planet.planet_radius != None and stars_dict[host_name].stellar_radius != None and stars_dict[host_name].stellar_radius >10:\n",
    "        total_radius += planet.planet_radius\n",
    "        count += 1\n",
    "avg_planet_radius_big_stars = total_radius / count\n",
    "avg_planet_radius_big_stars"
   ]
  },
  {
   "cell_type": "code",
   "execution_count": 300,
   "id": "8402220f",
   "metadata": {
    "deletable": false,
    "editable": false
   },
   "outputs": [
    {
     "data": {
      "text/html": [
       "<p><strong><pre style='display: inline;'>q19</pre></strong> passed! 🍀</p>"
      ],
      "text/plain": [
       "q19 results: All test cases passed!"
      ]
     },
     "execution_count": 300,
     "metadata": {},
     "output_type": "execute_result"
    }
   ],
   "source": [
    "grader.check(\"q19\")"
   ]
  },
  {
   "cell_type": "markdown",
   "id": "eabf4315",
   "metadata": {
    "deletable": false,
    "editable": false
   },
   "source": [
    "**Question 20**: Find all the `Planet` objects that orbit the **youngest** `Star` object.\n",
    "\n",
    "Your output **must** be a **list** of `Planet` objects (even if there is **only one** `Planet` in the list). The age of a `Star` can be found from its `stellar_age` column. You do **not** have to worry about any ties. There is a **unique** `Star` in the dataset which is the youngest star."
   ]
  },
  {
   "cell_type": "code",
   "execution_count": 306,
   "id": "60db3bcc",
   "metadata": {
    "lines_to_next_cell": 0,
    "tags": []
   },
   "outputs": [
    {
     "data": {
      "text/plain": [
       "[Planet(planet_name='Kepler-1663 b', host_name='Kepler-1663', discovery_method='Transit', discovery_year=2020, controversial_flag=False, orbital_period=17.6046, planet_radius=3.304, planet_mass=10.9, semi_major_radius=0.1072, eccentricity=0.0, equilibrium_temperature=362.0, insolation_flux=4.07)]"
      ]
     },
     "execution_count": 306,
     "metadata": {},
     "output_type": "execute_result"
    }
   ],
   "source": [
    "# compute and store the answer in the variable 'youngest_star_planets', then display it\n",
    "youngest_stellar_age = None\n",
    "for star in stars_dict:\n",
    "    stellar_age = stars_dict[star].stellar_age\n",
    "    if stellar_age == None:\n",
    "        continue\n",
    "    if youngest_stellar_age == None or stellar_age < youngest_stellar_age:\n",
    "        youngest_stellar_age = stellar_age\n",
    "        youngest_star = star\n",
    "\n",
    "youngest_star_planets = []\n",
    "\n",
    "for planet in planets_list:\n",
    "    host_name = planet.host_name\n",
    "    if host_name == youngest_star:\n",
    "        youngest_star_planets.append(planet)\n",
    "        \n",
    "youngest_star_planets"
   ]
  },
  {
   "cell_type": "code",
   "execution_count": 307,
   "id": "80bd5bf1",
   "metadata": {
    "deletable": false,
    "editable": false
   },
   "outputs": [
    {
     "data": {
      "text/html": [
       "<p><strong><pre style='display: inline;'>q20</pre></strong> passed! 🎉</p>"
      ],
      "text/plain": [
       "q20 results: All test cases passed!"
      ]
     },
     "execution_count": 307,
     "metadata": {},
     "output_type": "execute_result"
    }
   ],
   "source": [
    "grader.check(\"q20\")"
   ]
  },
  {
   "cell_type": "markdown",
   "id": "f9312153",
   "metadata": {
    "deletable": false,
    "editable": false
   },
   "source": [
    "## Submission\n",
    "Make sure you have run all cells in your notebook in order before running the following cells, so that all images/graphs appear in the output. The following cells will generate a zip file for you to submit.\n",
    "\n",
    "**SUBMISSION INSTRUCTIONS**:\n",
    "1. **Upload** the zipfile to Gradescope.\n",
    "2. Check **Gradescope otter** results as soon as the auto-grader execution gets completed. Don't worry about the score showing up as -/100.0. You only need to check that the test cases passed."
   ]
  },
  {
   "cell_type": "code",
   "execution_count": 316,
   "id": "f81183d4",
   "metadata": {
    "cell_type": "code",
    "deletable": false,
    "editable": false
   },
   "outputs": [
    {
     "data": {
      "application/javascript": [
       "IPython.notebook.save_checkpoint();"
      ],
      "text/plain": [
       "<IPython.core.display.Javascript object>"
      ]
     },
     "metadata": {},
     "output_type": "display_data"
    }
   ],
   "source": [
    "from IPython.display import display, Javascript\n",
    "display(Javascript('IPython.notebook.save_checkpoint();'))"
   ]
  },
  {
   "cell_type": "code",
   "execution_count": 317,
   "id": "603cb1d0",
   "metadata": {
    "cell_type": "code",
    "deletable": false,
    "editable": false
   },
   "outputs": [
    {
     "name": "stdout",
     "output_type": "stream",
     "text": [
      "[jupytext] Reading p10.ipynb in format ipynb\n",
      "[jupytext] Writing p10.py\n"
     ]
    }
   ],
   "source": [
    "!jupytext --to py p10.ipynb"
   ]
  },
  {
   "cell_type": "code",
   "execution_count": 321,
   "id": "b713ce0a",
   "metadata": {
    "cell_type": "code",
    "deletable": false,
    "editable": false
   },
   "outputs": [
    {
     "name": "stdout",
     "output_type": "stream",
     "text": [
      "Running your submission against local test cases...\n",
      "\n",
      "\n",
      "\n",
      "Your submission received the following results when run against available test cases:\n",
      "\n",
      "    q1 results: All test cases passed!\n",
      "\n",
      "    q2 results: All test cases passed!\n",
      "\n",
      "    q3 results: All test cases passed!\n",
      "\n",
      "    q4 results: All test cases passed!\n",
      "\n",
      "    star_object results: All test cases passed!\n",
      "\n",
      "    q5 results: All test cases passed!\n",
      "\n",
      "    q6 results: All test cases passed!\n",
      "\n",
      "    q7 results: All test cases passed!\n",
      "\n",
      "    q8 results: All test cases passed!\n",
      "\n",
      "    q9 results: All test cases passed!\n",
      "\n",
      "    q10 results: All test cases passed!\n",
      "\n",
      "    q11 results: All test cases passed!\n",
      "\n",
      "    planet_object results: All test cases passed!\n",
      "\n",
      "    q12 results: All test cases passed!\n",
      "\n",
      "    q13 results: All test cases passed!\n",
      "\n",
      "    q14 results: All test cases passed!\n",
      "\n",
      "    q15 results: All test cases passed!\n",
      "\n",
      "    q16 results:\n",
      "        q16 - 1 result:\n",
      "            ❌ Test case failed\n",
      "            Trying:\n",
      "                p10_test.check(\"q16\", planets_4520_4525)\n",
      "            Expecting:\n",
      "                True\n",
      "            **********************************************************************\n",
      "            Line 1, in q16 0\n",
      "            Failed example:\n",
      "                p10_test.check(\"q16\", planets_4520_4525)\n",
      "            Expected:\n",
      "                True\n",
      "            Got:\n",
      "                <b style='color: red;'>ERROR:</b> at index 0 of the list, at attribute planet_name of namedtuple Planet, expected 'Kepler-19 c' but found 'Kepler-1159 b'\n",
      "\n",
      "    q17 results: All test cases passed!\n",
      "\n",
      "    q18 results: All test cases passed!\n",
      "\n",
      "    q19 results: All test cases passed!\n",
      "\n",
      "    q20 results: All test cases passed!\n"
     ]
    },
    {
     "data": {
      "text/html": [
       "\n",
       "            <p>Your submission has been exported. Click <a href=\"p10_2023_04_14T10_05_54_365346.zip\" download=\"p10_2023_04_14T10_05_54_365346.zip\" target=\"_blank\">here</a>\n",
       "            to download the zip file.</p>\n",
       "            "
      ],
      "text/plain": [
       "<IPython.core.display.HTML object>"
      ]
     },
     "metadata": {},
     "output_type": "display_data"
    }
   ],
   "source": [
    "grader.export(pdf=False, run_tests=True, files=[py_filename])"
   ]
  },
  {
   "cell_type": "markdown",
   "id": "280d3a82",
   "metadata": {
    "deletable": false,
    "editable": false
   },
   "source": [
    " "
   ]
  }
 ],
 "metadata": {
  "jupytext": {
   "cell_metadata_filter": "-all",
   "encoding": "# coding: utf-8",
   "executable": "/usr/bin/env python",
   "notebook_metadata_filter": "-all"
  },
  "kernelspec": {
   "display_name": "Python 3 (ipykernel)",
   "language": "python",
   "name": "python3"
  },
  "language_info": {
   "codemirror_mode": {
    "name": "ipython",
    "version": 3
   },
   "file_extension": ".py",
   "mimetype": "text/x-python",
   "name": "python",
   "nbconvert_exporter": "python",
   "pygments_lexer": "ipython3",
   "version": "3.9.13"
  },
  "otter": {
   "OK_FORMAT": true,
   "tests": {
    "planet_object": {
     "name": "planet_object",
     "points": 0,
     "suites": [
      {
       "cases": [
        {
         "code": ">>> p10_test.check(\"qplanet_object\", jupiter)\nTrue",
         "hidden": false,
         "locked": false
        }
       ],
       "scored": true,
       "setup": "",
       "teardown": "",
       "type": "doctest"
      }
     ]
    },
    "q1": {
     "name": "q1",
     "points": 0,
     "suites": [
      {
       "cases": [
        {
         "code": ">>> p10_test.check(\"q1\", files_in_data)\nTrue",
         "hidden": false,
         "locked": false
        }
       ],
       "scored": true,
       "setup": "",
       "teardown": "",
       "type": "doctest"
      }
     ]
    },
    "q10": {
     "name": "q10",
     "points": 0,
     "suites": [
      {
       "cases": [
        {
         "code": ">>> p10_test.check(\"q10\", biggest_star)\nTrue",
         "hidden": false,
         "locked": false
        }
       ],
       "scored": true,
       "setup": "",
       "teardown": "",
       "type": "doctest"
      }
     ]
    },
    "q11": {
     "name": "q11",
     "points": 0,
     "suites": [
      {
       "cases": [
        {
         "code": ">>> p10_test.check(\"q11\", avg_age_kepler)\nTrue",
         "hidden": false,
         "locked": false
        }
       ],
       "scored": true,
       "setup": "",
       "teardown": "",
       "type": "doctest"
      }
     ]
    },
    "q12": {
     "name": "q12",
     "points": 0,
     "suites": [
      {
       "cases": [
        {
         "code": ">>> p10_test.check(\"q12\", fifth_planet)\nTrue",
         "hidden": false,
         "locked": false
        }
       ],
       "scored": true,
       "setup": "",
       "teardown": "",
       "type": "doctest"
      }
     ]
    },
    "q13": {
     "name": "q13",
     "points": 0,
     "suites": [
      {
       "cases": [
        {
         "code": ">>> p10_test.check(\"q13\", last_five_planets_1)\nTrue",
         "hidden": false,
         "locked": false
        }
       ],
       "scored": true,
       "setup": "",
       "teardown": "",
       "type": "doctest"
      }
     ]
    },
    "q14": {
     "name": "q14",
     "points": 0,
     "suites": [
      {
       "cases": [
        {
         "code": ">>> p10_test.check(\"q14\", controversial_planets)\nTrue",
         "hidden": false,
         "locked": false
        }
       ],
       "scored": true,
       "setup": "",
       "teardown": "",
       "type": "doctest"
      }
     ]
    },
    "q15": {
     "name": "q15",
     "points": 0,
     "suites": [
      {
       "cases": [
        {
         "code": ">>> p10_test.check(\"q15\", last_five_planets_4)\nTrue",
         "hidden": false,
         "locked": false
        }
       ],
       "scored": true,
       "setup": "",
       "teardown": "",
       "type": "doctest"
      }
     ]
    },
    "q16": {
     "name": "q16",
     "points": 0,
     "suites": [
      {
       "cases": [
        {
         "code": ">>> p10_test.check(\"q16\", planets_4520_4525)\nTrue",
         "hidden": false,
         "locked": false
        }
       ],
       "scored": true,
       "setup": "",
       "teardown": "",
       "type": "doctest"
      }
     ]
    },
    "q17": {
     "name": "q17",
     "points": 0,
     "suites": [
      {
       "cases": [
        {
         "code": ">>> p10_test.check(\"q17\", planets_disc_2022)\nTrue",
         "hidden": false,
         "locked": false
        }
       ],
       "scored": true,
       "setup": "",
       "teardown": "",
       "type": "doctest"
      }
     ]
    },
    "q18": {
     "name": "q18",
     "points": 0,
     "suites": [
      {
       "cases": [
        {
         "code": ">>> p10_test.check(\"q18\", toi_2022_c_star)\nTrue",
         "hidden": false,
         "locked": false
        }
       ],
       "scored": true,
       "setup": "",
       "teardown": "",
       "type": "doctest"
      }
     ]
    },
    "q19": {
     "name": "q19",
     "points": 0,
     "suites": [
      {
       "cases": [
        {
         "code": ">>> p10_test.check(\"q19\", avg_planet_radius_big_stars)\nTrue",
         "hidden": false,
         "locked": false
        }
       ],
       "scored": true,
       "setup": "",
       "teardown": "",
       "type": "doctest"
      }
     ]
    },
    "q2": {
     "name": "q2",
     "points": 0,
     "suites": [
      {
       "cases": [
        {
         "code": ">>> p10_test.check(\"q2\", file_paths)\nTrue",
         "hidden": false,
         "locked": false
        }
       ],
       "scored": true,
       "setup": "",
       "teardown": "",
       "type": "doctest"
      }
     ]
    },
    "q20": {
     "name": "q20",
     "points": 0,
     "suites": [
      {
       "cases": [
        {
         "code": ">>> p10_test.check(\"q20\", youngest_star_planets)\nTrue",
         "hidden": false,
         "locked": false
        }
       ],
       "scored": true,
       "setup": "",
       "teardown": "",
       "type": "doctest"
      }
     ]
    },
    "q3": {
     "name": "q3",
     "points": 0,
     "suites": [
      {
       "cases": [
        {
         "code": ">>> p10_test.check(\"q3\", csv_file_paths)\nTrue",
         "hidden": false,
         "locked": false
        }
       ],
       "scored": true,
       "setup": "",
       "teardown": "",
       "type": "doctest"
      }
     ]
    },
    "q4": {
     "name": "q4",
     "points": 0,
     "suites": [
      {
       "cases": [
        {
         "code": ">>> p10_test.check(\"q4\", stars_paths)\nTrue",
         "hidden": false,
         "locked": false
        }
       ],
       "scored": true,
       "setup": "",
       "teardown": "",
       "type": "doctest"
      }
     ]
    },
    "q5": {
     "name": "q5",
     "points": 0,
     "suites": [
      {
       "cases": [
        {
         "code": ">>> p10_test.check(\"q5\", third_star)\nTrue",
         "hidden": false,
         "locked": false
        }
       ],
       "scored": true,
       "setup": "",
       "teardown": "",
       "type": "doctest"
      }
     ]
    },
    "q6": {
     "name": "q6",
     "points": 0,
     "suites": [
      {
       "cases": [
        {
         "code": ">>> p10_test.check(\"q6\", dp_leo)\nTrue",
         "hidden": false,
         "locked": false
        }
       ],
       "scored": true,
       "setup": "",
       "teardown": "",
       "type": "doctest"
      }
     ]
    },
    "q7": {
     "name": "q7",
     "points": 0,
     "suites": [
      {
       "cases": [
        {
         "code": ">>> p10_test.check(\"q7\", avg_lum_stars_1)\nTrue",
         "hidden": false,
         "locked": false
        }
       ],
       "scored": true,
       "setup": "",
       "teardown": "",
       "type": "doctest"
      }
     ]
    },
    "q8": {
     "name": "q8",
     "points": 0,
     "suites": [
      {
       "cases": [
        {
         "code": ">>> p10_test.check(\"q8\", avg_age_stars_2)\nTrue",
         "hidden": false,
         "locked": false
        }
       ],
       "scored": true,
       "setup": "",
       "teardown": "",
       "type": "doctest"
      }
     ]
    },
    "q9": {
     "name": "q9",
     "points": 0,
     "suites": [
      {
       "cases": [
        {
         "code": ">>> p10_test.check(\"q9\", kepler_220_temp)\nTrue",
         "hidden": false,
         "locked": false
        }
       ],
       "scored": true,
       "setup": "",
       "teardown": "",
       "type": "doctest"
      }
     ]
    },
    "star_object": {
     "name": "star_object",
     "points": 0,
     "suites": [
      {
       "cases": [
        {
         "code": ">>> p10_test.check(\"qstar_object\", sun)\nTrue",
         "hidden": false,
         "locked": false
        }
       ],
       "scored": true,
       "setup": "",
       "teardown": "",
       "type": "doctest"
      }
     ]
    }
   }
  }
 },
 "nbformat": 4,
 "nbformat_minor": 5
}
